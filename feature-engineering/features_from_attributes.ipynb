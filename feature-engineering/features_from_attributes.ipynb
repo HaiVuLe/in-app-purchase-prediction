{
 "cells": [
  {
   "cell_type": "code",
   "execution_count": 31,
   "metadata": {
    "ExecuteTime": {
     "end_time": "2019-03-06T18:11:16.765807Z",
     "start_time": "2019-03-06T18:11:16.760226Z"
    }
   },
   "outputs": [],
   "source": [
    "import pandas as pd\n",
    "import numpy as np\n",
    "import feather\n",
    "\n",
    "import time"
   ]
  },
  {
   "cell_type": "code",
   "execution_count": 1,
   "metadata": {
    "ExecuteTime": {
     "end_time": "2019-03-06T17:25:12.192118Z",
     "start_time": "2019-03-06T17:25:12.187744Z"
    }
   },
   "outputs": [],
   "source": [
    "path = './Data/'"
   ]
  },
  {
   "cell_type": "markdown",
   "metadata": {},
   "source": [
    "# Reading data in"
   ]
  },
  {
   "cell_type": "markdown",
   "metadata": {},
   "source": [
    "Run this in the first time:"
   ]
  },
  {
   "cell_type": "code",
   "execution_count": 5,
   "metadata": {
    "ExecuteTime": {
     "end_time": "2019-03-06T17:45:00.214721Z",
     "start_time": "2019-03-06T17:26:53.451328Z"
    }
   },
   "outputs": [],
   "source": [
    "attrib_types = {'session_id':np.uint64, 'attribute': 'category', \n",
    "                'attribute_value':'object', 'user_id_hash':'category'}\n",
    "attributes = pd.read_csv('./Data/attributes.csv', usecols=attrib_types.keys(), dtype=attrib_types)"
   ]
  },
  {
   "cell_type": "code",
   "execution_count": 6,
   "metadata": {
    "ExecuteTime": {
     "end_time": "2019-03-06T17:48:43.532647Z",
     "start_time": "2019-03-06T17:48:13.388251Z"
    }
   },
   "outputs": [],
   "source": [
    "attributes = attributes.sort_values(by='user_id_hash', kind='mergesort')"
   ]
  },
  {
   "cell_type": "code",
   "execution_count": 10,
   "metadata": {
    "ExecuteTime": {
     "end_time": "2019-03-06T17:49:40.865697Z",
     "start_time": "2019-03-06T17:49:26.348554Z"
    }
   },
   "outputs": [],
   "source": [
    "feather.write_dataframe(attributes, './Data/attributes_good.feather')"
   ]
  },
  {
   "cell_type": "markdown",
   "metadata": {},
   "source": [
    "Then pick up from here:"
   ]
  },
  {
   "cell_type": "code",
   "execution_count": 15,
   "metadata": {
    "ExecuteTime": {
     "end_time": "2019-03-06T17:57:49.851702Z",
     "start_time": "2019-03-06T17:57:49.848773Z"
    }
   },
   "outputs": [],
   "source": [
    "attributes = feather.read_dataframe('./Data/attributes_good.feather')"
   ]
  },
  {
   "cell_type": "code",
   "execution_count": 11,
   "metadata": {
    "ExecuteTime": {
     "end_time": "2019-02-27T21:34:35.377660Z",
     "start_time": "2019-02-27T21:34:35.360553Z"
    }
   },
   "outputs": [],
   "source": [
    "labels = pd.read_csv('../labels.csv')\n",
    "labels = labels.set_index('user_id_hash')"
   ]
  },
  {
   "cell_type": "code",
   "execution_count": 16,
   "metadata": {
    "ExecuteTime": {
     "end_time": "2019-03-06T17:58:05.532181Z",
     "start_time": "2019-03-06T17:57:55.901342Z"
    }
   },
   "outputs": [],
   "source": [
    "attributes = attributes.set_index('user_id_hash')"
   ]
  },
  {
   "cell_type": "code",
   "execution_count": 13,
   "metadata": {
    "ExecuteTime": {
     "end_time": "2019-02-27T21:36:59.967966Z",
     "start_time": "2019-02-27T21:35:15.263255Z"
    }
   },
   "outputs": [],
   "source": [
    "# df = attributes.join(labels)"
   ]
  },
  {
   "cell_type": "markdown",
   "metadata": {},
   "source": [
    "# EDA"
   ]
  },
  {
   "cell_type": "code",
   "execution_count": 18,
   "metadata": {
    "ExecuteTime": {
     "end_time": "2019-03-06T17:58:43.101601Z",
     "start_time": "2019-03-06T17:58:26.279423Z"
    }
   },
   "outputs": [
    {
     "data": {
      "text/plain": [
       "30"
      ]
     },
     "execution_count": 18,
     "metadata": {},
     "output_type": "execute_result"
    }
   ],
   "source": [
    "len(attributes['attribute'].unique())"
   ]
  },
  {
   "cell_type": "code",
   "execution_count": 19,
   "metadata": {
    "ExecuteTime": {
     "end_time": "2019-03-06T17:58:55.371259Z",
     "start_time": "2019-03-06T17:58:53.700737Z"
    }
   },
   "outputs": [
    {
     "data": {
      "text/plain": [
       "4     6776351\n",
       "3     6776351\n",
       "1     6776351\n",
       "10    6776351\n",
       "11    6776351\n",
       "13    6776351\n",
       "14    6776351\n",
       "15    6776351\n",
       "16    6776351\n",
       "17    6776351\n",
       "18    6776351\n",
       "19    6776351\n",
       "20    6776351\n",
       "21    6776351\n",
       "0     6776351\n",
       "5     6776351\n",
       "52    6776351\n",
       "6     6776351\n",
       "7     6776351\n",
       "8     6776351\n",
       "9     6776351\n",
       "75    6776297\n",
       "76    6776297\n",
       "77    6776297\n",
       "78    6685459\n",
       "66    6614104\n",
       "48    6183014\n",
       "67    3395545\n",
       "96      79643\n",
       "49         65\n",
       "Name: attribute, dtype: int64"
      ]
     },
     "execution_count": 19,
     "metadata": {},
     "output_type": "execute_result"
    }
   ],
   "source": [
    "attributes['attribute'].value_counts()"
   ]
  },
  {
   "cell_type": "code",
   "execution_count": 20,
   "metadata": {
    "ExecuteTime": {
     "end_time": "2019-03-06T17:59:14.057774Z",
     "start_time": "2019-03-06T17:59:14.045292Z"
    }
   },
   "outputs": [
    {
     "data": {
      "text/plain": [
       "(185590092, 3)"
      ]
     },
     "execution_count": 20,
     "metadata": {},
     "output_type": "execute_result"
    }
   ],
   "source": [
    "attributes.shape"
   ]
  },
  {
   "cell_type": "markdown",
   "metadata": {},
   "source": [
    "### Att 5"
   ]
  },
  {
   "cell_type": "code",
   "execution_count": 77,
   "metadata": {
    "ExecuteTime": {
     "end_time": "2019-02-27T23:25:00.537066Z",
     "start_time": "2019-02-27T23:24:37.394935Z"
    }
   },
   "outputs": [
    {
     "data": {
      "text/plain": [
       "array(['romance_big_sky_country_01:2',\n",
       "       'fantasy_the_crown_and_the_flame_01:9',\n",
       "       'romance_desire_and_decorum_01:11',\n",
       "       'romance_rules_of_engagement_01:2', 'romance_perfect_match_02:6',\n",
       "       'fantasy_the_crown_and_the_flame_02:2',\n",
       "       'romance_desire_and_decorum_01:4', 'romance_big_sky_country_01:3',\n",
       "       'romance_perfect_match_02:9', 'romance_perfect_match_02:5',\n",
       "       'fantasy_the_crown_and_the_flame_01:11',\n",
       "       'romance_perfect_match_02:4', 'romance_rules_of_engagement_01:1',\n",
       "       'romance_desire_and_decorum_01:15', 'romance_perfect_match_02:3',\n",
       "       'romance_desire_and_decorum_01:16',\n",
       "       'fantasy_the_crown_and_the_flame_02:1',\n",
       "       'romance_the_royal_romance_01:1', 'romance_perfect_match_02:8',\n",
       "       'romance_rules_of_engagement_01:8', 'romance_perfect_match_01:2',\n",
       "       'romance_perfect_match_02:12', 'romance_desire_and_decorum_01:2',\n",
       "       'romance_desire_and_decorum_01:12',\n",
       "       'romance_rules_of_engagement_01:5', 'romance_perfect_match_01:15',\n",
       "       'fantasy_the_crown_and_the_flame_01:1',\n",
       "       'fantasy_the_crown_and_the_flame_01:5',\n",
       "       'romance_rules_of_engagement_01:19', 'romance_perfect_match_02:2',\n",
       "       'romance_desire_and_decorum_01:6',\n",
       "       'romance_desire_and_decorum_01:9', 'romance_big_sky_country_01:1',\n",
       "       'romance_rules_of_engagement_01:10',\n",
       "       'romance_the_royal_romance_01:2', 'romance_perfect_match_01:10',\n",
       "       'romance_the_royal_romance_01:3',\n",
       "       'fantasy_the_crown_and_the_flame_01:4',\n",
       "       'romance_rules_of_engagement_01:14',\n",
       "       'fantasy_the_crown_and_the_flame_01:6',\n",
       "       'fantasy_the_crown_and_the_flame_01:2',\n",
       "       'romance_the_royal_romance_01:4',\n",
       "       'fantasy_the_crown_and_the_flame_01:18',\n",
       "       'romance_perfect_match_01:14', 'romance_perfect_match_02:1',\n",
       "       'romance_rules_of_engagement_01:9', 'romance_perfect_match_01:13',\n",
       "       'romance_perfect_match_01:8',\n",
       "       'fantasy_the_crown_and_the_flame_01:3',\n",
       "       'romance_desire_and_decorum_01:14', 'romance_perfect_match_01:16',\n",
       "       'romance_the_royal_romance_01:13',\n",
       "       'romance_the_royal_romance_01:7',\n",
       "       'romance_the_royal_romance_01:10',\n",
       "       'romance_the_royal_romance_01:8', 'romance_the_royal_romance_01:5',\n",
       "       'romance_the_royal_romance_01:11',\n",
       "       'romance_the_royal_romance_01:12',\n",
       "       'romance_the_royal_romance_01:6', nan,\n",
       "       'romance_the_royal_romance_01:16',\n",
       "       'romance_the_royal_romance_01:9', 'romance_the_royal_romance_02:2',\n",
       "       'romance_the_royal_romance_01:14',\n",
       "       'romance_the_royal_romance_01:17',\n",
       "       'romance_the_royal_romance_01:19',\n",
       "       'romance_the_royal_romance_01:18',\n",
       "       'romance_high_school_story_01:2', 'romance_high_school_story_01:1',\n",
       "       'romance_rules_of_engagement_01:7',\n",
       "       'romance_rules_of_engagement_01:3',\n",
       "       'romance_rules_of_engagement_01:4',\n",
       "       'romance_rules_of_engagement_01:6',\n",
       "       'romance_americas_most_eligible_01:2',\n",
       "       'romance_americas_most_eligible_01:9',\n",
       "       'romance_americas_most_eligible_01:4',\n",
       "       'romance_americas_most_eligible_01:6',\n",
       "       'romance_americas_most_eligible_01:8',\n",
       "       'horror_it_lives_in_the_woods_02:1',\n",
       "       'romance_high_school_story_01:11', 'romance_the_freshman_01:1',\n",
       "       'romance_high_school_story_01:4', 'romance_high_school_story_01:3',\n",
       "       'romance_high_school_story_01:9', 'romance_high_school_story_02:1',\n",
       "       'romance_high_school_story_01:14',\n",
       "       'romance_high_school_story_01:10',\n",
       "       'romance_high_school_story_01:7', 'romance_high_school_story_01:6',\n",
       "       'romance_high_school_story_01:12',\n",
       "       'romance_high_school_story_01:5', 'romance_the_freshman_04:2',\n",
       "       'romance_the_freshman_04:1', 'horror_it_lives_in_the_woods_01:1',\n",
       "       'romance_the_royal_romance_02:4', 'romance_the_royal_romance_02:7',\n",
       "       'romance_the_royal_romance_02:5', 'romance_big_sky_country_01:6',\n",
       "       'romance_the_royal_romance_03:4', 'romance_big_sky_country_01:9',\n",
       "       'romance_big_sky_country_01:5', 'romance_big_sky_country_01:7',\n",
       "       'romance_home_for_the_holidays_01:6',\n",
       "       'romance_the_royal_romance_02:10',\n",
       "       'romance_home_for_the_holidays_01:8',\n",
       "       'romance_home_for_the_holidays_01:1',\n",
       "       'romance_home_for_the_holidays_01:3',\n",
       "       'romance_the_royal_romance_03:2', 'romance_the_royal_romance_02:1',\n",
       "       'romance_home_for_the_holidays_01:5',\n",
       "       'romance_the_royal_romance_02:13',\n",
       "       'romance_the_royal_romance_02:12',\n",
       "       'romance_the_royal_romance_02:3', 'romance_the_royal_romance_03:1',\n",
       "       'romance_the_royal_romance_03:3',\n",
       "       'romance_the_royal_romance_02:11', 'romance_big_sky_country_01:4',\n",
       "       'romance_home_for_the_holidays_01:10',\n",
       "       'romance_the_royal_romance_02:16',\n",
       "       'romance_the_royal_romance_02:14',\n",
       "       'romance_the_royal_romance_02:18',\n",
       "       'romance_the_royal_romance_02:17',\n",
       "       'romance_the_royal_romance_01:15',\n",
       "       'romance_the_royal_romance_02:8',\n",
       "       'horror_the_haunting_of_braidwood_manor_01:2',\n",
       "       'horror_bloodbound_01:1', 'romance_perfect_match_01:1',\n",
       "       'romance_high_school_story_01:8', 'romance_the_freshman_03:3',\n",
       "       'romance_the_sophomore_02:2', 'romance_the_freshman_03:4',\n",
       "       'romance_the_freshman_01:4', 'romance_the_freshman_01:7',\n",
       "       'romance_high_school_story_02:13',\n",
       "       'romance_high_school_story_03:11',\n",
       "       'romance_high_school_story_02:11', 'romance_the_sophomore_01:8',\n",
       "       'romance_high_school_story_03:8', 'romance_the_sophomore_01:14',\n",
       "       'romance_the_freshman_02:9', 'romance_the_freshman_01:15',\n",
       "       'romance_high_school_story_03:7', 'romance_the_freshman_02:6',\n",
       "       'romance_the_freshman_02:3', 'romance_the_freshman_01:10',\n",
       "       'romance_the_freshman_03:12', 'romance_the_sophomore_01:16',\n",
       "       'romance_the_freshman_01:8', 'romance_the_freshman_02:10',\n",
       "       'romance_the_freshman_01:5', 'romance_big_sky_country_01:12',\n",
       "       'romance_the_sophomore_01:4', 'romance_the_freshman_03:5',\n",
       "       'romance_the_freshman_02:11', 'romance_high_school_story_02:2',\n",
       "       'romance_the_freshman_02:13', 'romance_the_freshman_02:12',\n",
       "       'romance_the_freshman_01:2', 'romance_the_freshman_03:17',\n",
       "       'romance_high_school_story_03:9', 'romance_the_freshman_03:1',\n",
       "       'romance_the_freshman_03:14', 'romance_the_sophomore_01:10',\n",
       "       'romance_the_freshman_03:16', 'romance_the_freshman_01:12',\n",
       "       'romance_big_sky_country_01:10', 'romance_the_freshman_03:9',\n",
       "       'romance_the_freshman_03:13', 'romance_the_sophomore_01:2',\n",
       "       'romance_high_school_story_02:15', 'romance_the_freshman_01:9',\n",
       "       'romance_high_school_story_02:9', 'romance_the_sophomore_01:11',\n",
       "       'romance_the_freshman_03:6', 'romance_the_freshman_04:6',\n",
       "       'romance_the_freshman_03:8', 'romance_the_freshman_02:5',\n",
       "       'romance_the_freshman_01:14', 'romance_high_school_story_03:6',\n",
       "       'romance_the_freshman_03_side_valentines_special_01:2',\n",
       "       'romance_the_freshman_04:5', 'romance_high_school_story_03:10',\n",
       "       'romance_the_freshman_01:13', 'romance_the_freshman_03:11',\n",
       "       'romance_the_sophomore_01:9', 'romance_the_freshman_03:10',\n",
       "       'romance_the_freshman_02:2', 'romance_the_freshman_04:8',\n",
       "       'romance_the_freshman_04:7', 'romance_the_sophomore_01:3',\n",
       "       'romance_the_freshman_01:3', 'romance_high_school_story_02:14',\n",
       "       'romance_the_freshman_04:3', 'romance_high_school_story_03:3',\n",
       "       'romance_the_freshman_02:1', 'romance_high_school_story_03:5',\n",
       "       'romance_the_freshman_01:16', 'romance_high_school_story_02:5',\n",
       "       'romance_high_school_story_02:7', 'romance_the_sophomore_01:6',\n",
       "       'romance_big_sky_country_01:8', 'romance_the_freshman_03:7',\n",
       "       'romance_high_school_story_02:12', 'romance_big_sky_country_01:11',\n",
       "       'romance_the_freshman_02:8',\n",
       "       'romance_the_freshman_03_side_valentines_special_01:1',\n",
       "       'romance_the_sophomore_01:17',\n",
       "       'romance_americas_most_eligible_01:1',\n",
       "       'romance_the_freshman_02_side_halloween_01:1',\n",
       "       'fantasy_the_elementalists_01:5', 'crime_the_heist_01:1',\n",
       "       'horror_bloodbound_01:12', 'fantasy_the_elementalists_01:7',\n",
       "       'horror_bloodbound_01:8', 'horror_bloodbound_01:13',\n",
       "       'horror_bloodbound_01:6', 'romance_desire_and_decorum_01:1',\n",
       "       'horror_bloodbound_01:10', 'fantasy_the_elementalists_01:2',\n",
       "       'horror_bloodbound_01:4', 'horror_bloodbound_01:5',\n",
       "       'fantasy_the_elementalists_01:6', 'romance_perfect_match_01:3',\n",
       "       'romance_big_sky_country_01:13', 'horror_bloodbound_01:2',\n",
       "       'horror_bloodbound_01:3', 'fantasy_the_elementalists_01:1',\n",
       "       'horror_bloodbound_01:11', 'fantasy_the_elementalists_01:3',\n",
       "       'fantasy_the_elementalists_01:4', 'horror_bloodbound_01:14',\n",
       "       'romance_the_freshman_01:6', 'romance_high_school_story_02:4',\n",
       "       'crime_most_wanted_01:1', 'romance_high_school_story_01:13',\n",
       "       'romance_high_school_story_01:15',\n",
       "       'romance_rules_of_engagement_03:9',\n",
       "       'romance_rules_of_engagement_03:11',\n",
       "       'romance_rules_of_engagement_03:6',\n",
       "       'romance_rules_of_engagement_03:5',\n",
       "       'romance_rules_of_engagement_02:8',\n",
       "       'romance_rules_of_engagement_02:7',\n",
       "       'romance_red_carpet_diaries_01:5',\n",
       "       'romance_high_school_story_02:3',\n",
       "       'romance_red_carpet_diaries_01:4', 'adventure_hero_01:8',\n",
       "       'romance_rules_of_engagement_01:12', 'romance_the_freshman_03:2',\n",
       "       'romance_rules_of_engagement_01:16',\n",
       "       'romance_rules_of_engagement_01:17',\n",
       "       'romance_rules_of_engagement_01:18', 'romance_the_freshman_01:11',\n",
       "       'romance_rules_of_engagement_02:12',\n",
       "       'romance_rules_of_engagement_03:3',\n",
       "       'romance_rules_of_engagement_02:9',\n",
       "       'romance_rules_of_engagement_02:1',\n",
       "       'romance_rules_of_engagement_02:4',\n",
       "       'romance_rules_of_engagement_02:2',\n",
       "       'romance_rules_of_engagement_02:13',\n",
       "       'romance_home_for_the_holidays_01:4',\n",
       "       'romance_rules_of_engagement_02:10',\n",
       "       'horror_it_lives_in_the_woods_01:2',\n",
       "       'romance_rules_of_engagement_02:17', 'adventure_hero_01:3',\n",
       "       'romance_rules_of_engagement_04:2',\n",
       "       'romance_rules_of_engagement_02:15', 'adventure_hero_01:5',\n",
       "       'romance_the_freshman_02:14', 'romance_rules_of_engagement_04:5',\n",
       "       'romance_red_carpet_diaries_01:3',\n",
       "       'romance_rules_of_engagement_03:15',\n",
       "       'romance_rules_of_engagement_03:13',\n",
       "       'romance_rules_of_engagement_02:14',\n",
       "       'romance_rules_of_engagement_02:19',\n",
       "       'romance_rules_of_engagement_02:6',\n",
       "       'romance_red_carpet_diaries_01:2',\n",
       "       'romance_rules_of_engagement_03:12',\n",
       "       'romance_high_school_story_02:8',\n",
       "       'romance_home_for_the_holidays_01:2', 'romance_the_freshman_03:15',\n",
       "       'romance_the_freshman_02:7', 'romance_rules_of_engagement_02:11',\n",
       "       'romance_rules_of_engagement_02:3',\n",
       "       'romance_high_school_story_03:2',\n",
       "       'romance_rules_of_engagement_02:16',\n",
       "       'romance_high_school_story_02:6',\n",
       "       'romance_rules_of_engagement_03:18', 'romance_the_freshman_01:17',\n",
       "       'romance_rules_of_engagement_03:2',\n",
       "       'romance_rules_of_engagement_04:4',\n",
       "       'romance_rules_of_engagement_01:13',\n",
       "       'romance_rules_of_engagement_03:4', 'romance_the_freshman_02:15',\n",
       "       'romance_rules_of_engagement_04:3',\n",
       "       'romance_rules_of_engagement_03:7', 'adventure_hero_01:4',\n",
       "       'romance_rules_of_engagement_01:11', 'adventure_hero_01:7',\n",
       "       'romance_rules_of_engagement_02:18',\n",
       "       'romance_rules_of_engagement_04:1', 'adventure_hero_01:6',\n",
       "       'romance_rules_of_engagement_03:14',\n",
       "       'romance_rules_of_engagement_03:10',\n",
       "       'romance_red_carpet_diaries_01:6',\n",
       "       'romance_rules_of_engagement_02:21',\n",
       "       'romance_rules_of_engagement_03:17',\n",
       "       'romance_rules_of_engagement_02:20',\n",
       "       'romance_rules_of_engagement_03:1',\n",
       "       'adventure_endless_summer_01:1', 'adventure_endless_summer_01:8',\n",
       "       'adventure_endless_summer_01:9', 'adventure_endless_summer_01:5',\n",
       "       'adventure_endless_summer_01:10', 'adventure_endless_summer_01:2',\n",
       "       'adventure_endless_summer_01:7', 'adventure_endless_summer_01:6',\n",
       "       'adventure_endless_summer_01:3', 'romance_the_royal_romance_03:7',\n",
       "       'romance_the_royal_romance_03:18',\n",
       "       'romance_the_royal_romance_03:17',\n",
       "       'romance_the_royal_romance_03:10',\n",
       "       'romance_americas_most_eligible_01:3',\n",
       "       'romance_americas_most_eligible_01:5',\n",
       "       'romance_the_royal_romance_03:14',\n",
       "       'romance_americas_most_eligible_01:14', 'horror_bloodbound_01:7',\n",
       "       'romance_the_royal_romance_03:13',\n",
       "       'romance_americas_most_eligible_01:16',\n",
       "       'romance_the_royal_romance_03:21',\n",
       "       'romance_the_royal_romance_03:15',\n",
       "       'romance_americas_most_eligible_01:13',\n",
       "       'romance_the_royal_romance_03:22',\n",
       "       'romance_the_royal_romance_03:8',\n",
       "       'romance_the_royal_romance_03:12',\n",
       "       'romance_the_royal_romance_03:9',\n",
       "       'romance_red_carpet_diaries_01:1',\n",
       "       'romance_americas_most_eligible_01:12',\n",
       "       'romance_americas_most_eligible_01:20',\n",
       "       'romance_americas_most_eligible_01:15', 'horror_bloodbound_01:15',\n",
       "       'romance_americas_most_eligible_01:18',\n",
       "       'romance_the_royal_romance_02:9',\n",
       "       'romance_the_royal_romance_02:15',\n",
       "       'romance_the_royal_romance_03:20',\n",
       "       'romance_the_royal_romance_02:19', 'horror_bloodbound_01:9',\n",
       "       'romance_the_royal_romance_03:19',\n",
       "       'romance_americas_most_eligible_01:17',\n",
       "       'romance_the_royal_romance_03:5',\n",
       "       'romance_americas_most_eligible_01:10',\n",
       "       'romance_americas_most_eligible_01:7', 'romance_the_junior_01:13',\n",
       "       'horror_it_lives_in_the_woods_01:3',\n",
       "       'horror_it_lives_in_the_woods_02:5',\n",
       "       'horror_it_lives_in_the_woods_02:2',\n",
       "       'horror_it_lives_in_the_woods_01:4',\n",
       "       'horror_it_lives_in_the_woods_02:3',\n",
       "       'horror_the_haunting_of_braidwood_manor_01:1',\n",
       "       'horror_it_lives_in_the_woods_01:5',\n",
       "       'horror_it_lives_in_the_woods_02:4',\n",
       "       'romance_americas_most_eligible_01:11',\n",
       "       'romance_americas_most_eligible_01:19', 'romance_lovehacks_01:1',\n",
       "       'romance_lovehacks_02:1', 'romance_the_freshman_02:4',\n",
       "       'romance_high_school_story_03:1', 'romance_high_school_story_04:3',\n",
       "       'romance_high_school_story_03:16',\n",
       "       'romance_high_school_story_03:12',\n",
       "       'romance_high_school_story_03:4', 'romance_high_school_story_04:4',\n",
       "       'romance_high_school_story_04:5',\n",
       "       'romance_high_school_story_03:15',\n",
       "       'romance_high_school_story_04:2', 'romance_high_school_story_04:1',\n",
       "       'romance_high_school_story_03:14',\n",
       "       'romance_the_royal_romance_02:6',\n",
       "       'romance_home_for_the_holidays_01:9',\n",
       "       'romance_the_freshman_02_side_holiday_special_01:1',\n",
       "       'romance_the_sophomore_01:1', 'romance_the_senior_01:1',\n",
       "       'adventure_hero_01:2', 'scifi_across_the_void_01:1',\n",
       "       'romance_lovehacks_01:2', 'adventure_endless_summer_01:12',\n",
       "       'adventure_endless_summer_01:4', 'romance_the_royal_romance_03:16',\n",
       "       'adventure_endless_summer_01:11', 'romance_the_royal_romance_03:6',\n",
       "       'romance_desire_and_decorum_02:1',\n",
       "       'romance_the_freshman_02_side_halloween_01:2',\n",
       "       'fantasy_the_crown_and_the_flame_01:10',\n",
       "       'fantasy_the_crown_and_the_flame_01:15',\n",
       "       'fantasy_the_crown_and_the_flame_01:16',\n",
       "       'fantasy_the_crown_and_the_flame_01:14',\n",
       "       'fantasy_the_crown_and_the_flame_02:5',\n",
       "       'fantasy_the_crown_and_the_flame_02:7',\n",
       "       'fantasy_the_crown_and_the_flame_02:4',\n",
       "       'fantasy_the_crown_and_the_flame_01:7',\n",
       "       'fantasy_the_crown_and_the_flame_01:12',\n",
       "       'fantasy_the_crown_and_the_flame_02:3',\n",
       "       'romance_courtesan_of_rome_01:1', 'mystery_veil_of_secrets_01:1',\n",
       "       'crime_the_heist_01:2', 'adventure_hero_01:1',\n",
       "       'horror_bloodbound_01:16', 'romance_rules_of_engagement_01:15',\n",
       "       'romance_rules_of_engagement_02:5', 'mystery_veil_of_secrets_01:4',\n",
       "       'horror_the_haunting_of_braidwood_manor_01:4',\n",
       "       'horror_the_haunting_of_braidwood_manor_01:6',\n",
       "       'mystery_veil_of_secrets_01:2', 'romance_red_carpet_diaries_02:11',\n",
       "       'romance_red_carpet_diaries_02:4',\n",
       "       'romance_red_carpet_diaries_02:14',\n",
       "       'romance_red_carpet_diaries_02:13',\n",
       "       'romance_red_carpet_diaries_02:2',\n",
       "       'romance_red_carpet_diaries_01:16',\n",
       "       'romance_red_carpet_diaries_01:12',\n",
       "       'romance_red_carpet_diaries_01:15',\n",
       "       'romance_red_carpet_diaries_01:11',\n",
       "       'romance_red_carpet_diaries_02:12',\n",
       "       'romance_red_carpet_diaries_02:15',\n",
       "       'romance_red_carpet_diaries_01:13',\n",
       "       'romance_red_carpet_diaries_02:9',\n",
       "       'romance_red_carpet_diaries_02:16',\n",
       "       'romance_red_carpet_diaries_02:6',\n",
       "       'romance_red_carpet_diaries_01:10',\n",
       "       'romance_red_carpet_diaries_01:9',\n",
       "       'romance_red_carpet_diaries_02:8',\n",
       "       'romance_red_carpet_diaries_02:3',\n",
       "       'romance_the_royal_romance_03:11', 'romance_perfect_match_01:5',\n",
       "       'romance_perfect_match_01:4', 'romance_high_school_story_04:9',\n",
       "       'romance_high_school_story_04:7', 'romance_high_school_story_04:6',\n",
       "       'romance_desire_and_decorum_01:7',\n",
       "       'romance_high_school_story_02:10', 'romance_the_junior_01:1',\n",
       "       'scifi_across_the_void_01:3', 'horror_it_lives_in_the_woods_01:7',\n",
       "       'horror_it_lives_in_the_woods_01:6',\n",
       "       'horror_it_lives_in_the_woods_01:13', 'scifi_across_the_void_01:2',\n",
       "       'horror_it_lives_in_the_woods_01:16',\n",
       "       'horror_it_lives_in_the_woods_01:11',\n",
       "       'horror_it_lives_in_the_woods_01:15',\n",
       "       'horror_it_lives_in_the_woods_01:14',\n",
       "       'horror_it_lives_in_the_woods_01:10', 'scifi_across_the_void_01:4',\n",
       "       'horror_it_lives_in_the_woods_01:8',\n",
       "       'horror_the_haunting_of_braidwood_manor_01:3',\n",
       "       'horror_the_haunting_of_braidwood_manor_01:5',\n",
       "       'romance_courtesan_of_rome_01:4', 'romance_perfect_match_02:7',\n",
       "       'romance_perfect_match_01:11', 'romance_perfect_match_02:11',\n",
       "       'romance_perfect_match_01:6', 'romance_courtesan_of_rome_01:5',\n",
       "       'romance_lovehacks_01:3', 'romance_red_carpet_diaries_01:7',\n",
       "       'romance_lovehacks_02:12', 'romance_lovehacks_02:13',\n",
       "       'romance_lovehacks_02:5', 'romance_lovehacks_02:7',\n",
       "       'romance_lovehacks_02:9', 'fantasy_the_elementalists_01:8',\n",
       "       'romance_courtesan_of_rome_01:6', 'romance_courtesan_of_rome_01:2',\n",
       "       'fantasy_the_elementalists_01:9', 'romance_lovehacks_02:8',\n",
       "       'romance_lovehacks_01:5', 'romance_lovehacks_01:18',\n",
       "       'romance_lovehacks_01:14', 'romance_red_carpet_diaries_02:7',\n",
       "       'romance_lovehacks_01:9', 'romance_lovehacks_01:7',\n",
       "       'romance_lovehacks_01:17', 'romance_lovehacks_02:3',\n",
       "       'romance_lovehacks_02:11', 'romance_red_carpet_diaries_02:5',\n",
       "       'romance_desire_and_decorum_01:13',\n",
       "       'romance_desire_and_decorum_01:5',\n",
       "       'romance_red_carpet_diaries_02:10',\n",
       "       'romance_desire_and_decorum_01:8', 'romance_lovehacks_02:10',\n",
       "       'romance_red_carpet_diaries_01:14', 'romance_lovehacks_01:12',\n",
       "       'romance_lovehacks_01:6', 'mystery_veil_of_secrets_01:3',\n",
       "       'romance_courtesan_of_rome_01:3',\n",
       "       'romance_home_for_the_holidays_01:7', 'romance_lovehacks_01:11',\n",
       "       'romance_lovehacks_01:4', 'romance_lovehacks_01:16',\n",
       "       'romance_lovehacks_01:13', 'romance_lovehacks_01:15',\n",
       "       'romance_lovehacks_01:8', 'romance_lovehacks_01:10',\n",
       "       'romance_the_senior_01:2', 'mystery_veil_of_secrets_01:5',\n",
       "       'mystery_veil_of_secrets_01:16', 'scifi_across_the_void_01:10',\n",
       "       'romance_high_school_story_03:13', 'mystery_veil_of_secrets_01:10',\n",
       "       'mystery_veil_of_secrets_01:11', 'mystery_veil_of_secrets_01:6',\n",
       "       'scifi_across_the_void_01:6', 'scifi_across_the_void_01:8',\n",
       "       'mystery_veil_of_secrets_01:15', 'scifi_across_the_void_01:9',\n",
       "       'scifi_across_the_void_01:11', 'scifi_across_the_void_01:12',\n",
       "       'mystery_veil_of_secrets_01:12', 'mystery_veil_of_secrets_01:8',\n",
       "       'scifi_across_the_void_01:7', 'mystery_veil_of_secrets_01:14',\n",
       "       'romance_red_carpet_diaries_02:1', 'romance_lovehacks_02:2',\n",
       "       'romance_the_freshman_02_side_holiday_special_01:2',\n",
       "       'romance_the_sophomore_01_side_halloween_01:2',\n",
       "       'romance_desire_and_decorum_01:3', 'romance_perfect_match_01:7',\n",
       "       'romance_the_senior_01:4', 'romance_desire_and_decorum_01:10',\n",
       "       'romance_big_sky_country_01:14', 'romance_lovehacks_02:6',\n",
       "       'romance_high_school_story_04:11', 'crime_the_heist_01:3',\n",
       "       'horror_it_lives_in_the_woods_02:6',\n",
       "       'romance_high_school_story_04:8',\n",
       "       'romance_high_school_story_04:10',\n",
       "       'horror_it_lives_in_the_woods_02:9',\n",
       "       'horror_it_lives_in_the_woods_01:12',\n",
       "       'horror_it_lives_in_the_woods_02:7',\n",
       "       'adventure_endless_summer_03:4', 'adventure_endless_summer_03:3',\n",
       "       'adventure_endless_summer_03:1',\n",
       "       'romance_the_freshman_01_side_kaitlyn_01:1',\n",
       "       'romance_the_freshman_01_side_chris_01:1',\n",
       "       'romance_lovehacks_02:18', 'romance_rules_of_engagement_03:16',\n",
       "       'adventure_hero_01:13', 'romance_perfect_match_01:9',\n",
       "       'adventure_hero_01:15', 'romance_lovehacks_02:4',\n",
       "       'romance_lovehacks_02:14', 'romance_the_sophomore_01:5',\n",
       "       'romance_red_carpet_diaries_01:8', 'romance_the_freshman_04:4',\n",
       "       'romance_the_senior_01:9', 'romance_the_senior_01:7',\n",
       "       'romance_the_senior_01:8', 'romance_the_senior_01:5',\n",
       "       'romance_the_senior_01:6', 'romance_the_junior_01:2',\n",
       "       'romance_desire_and_decorum_02:2',\n",
       "       'romance_rules_of_engagement_03:8',\n",
       "       'fantasy_the_crown_and_the_flame_02:12',\n",
       "       'fantasy_the_crown_and_the_flame_02:9',\n",
       "       'fantasy_the_crown_and_the_flame_01:8',\n",
       "       'fantasy_the_crown_and_the_flame_02:10',\n",
       "       'fantasy_the_crown_and_the_flame_02:6',\n",
       "       'fantasy_the_crown_and_the_flame_02:8',\n",
       "       'romance_perfect_match_01:12', 'romance_perfect_match_02:10',\n",
       "       'crime_most_wanted_01:8', 'crime_most_wanted_01:9',\n",
       "       'crime_most_wanted_01:10', 'crime_most_wanted_01:12',\n",
       "       'crime_most_wanted_01:7', 'crime_most_wanted_01:13',\n",
       "       'crime_most_wanted_01:3', 'crime_most_wanted_01:4',\n",
       "       'crime_most_wanted_01:5', 'crime_most_wanted_01:15',\n",
       "       'crime_most_wanted_01:2', 'crime_most_wanted_01:14',\n",
       "       'crime_most_wanted_01:6',\n",
       "       'romance_the_sophomore_01_side_halloween_01:1',\n",
       "       'romance_big_sky_country_01:15', 'romance_the_sophomore_02:7',\n",
       "       'romance_high_school_story_04:12', 'crime_the_heist_01:4',\n",
       "       'romance_lovehacks_02:17', 'romance_lovehacks_02:16',\n",
       "       'romance_lovehacks_02:15', 'romance_the_senior_01:14',\n",
       "       'romance_the_senior_01:11', 'romance_the_sophomore_02:12',\n",
       "       'romance_the_junior_01:8', 'romance_the_sophomore_02:8',\n",
       "       'romance_the_sophomore_01:12', 'romance_the_sophomore_02:5',\n",
       "       'romance_the_senior_01:13', 'romance_the_junior_01:7',\n",
       "       'romance_the_junior_01:9', 'romance_the_sophomore_02:14',\n",
       "       'romance_the_junior_01:5', 'romance_the_sophomore_01:15',\n",
       "       'romance_the_sophomore_02:3', 'romance_the_sophomore_02:1',\n",
       "       'romance_the_junior_01:3', 'romance_the_junior_01:11',\n",
       "       'romance_the_sophomore_02:9', 'romance_the_sophomore_02:13',\n",
       "       'horror_it_lives_in_the_woods_01:9',\n",
       "       'fantasy_the_crown_and_the_flame_03:1',\n",
       "       'horror_it_lives_in_the_woods_02:11',\n",
       "       'romance_perfect_match_02:14', 'horror_it_lives_in_the_woods_02:8',\n",
       "       'horror_it_lives_in_the_woods_02:10',\n",
       "       'romance_perfect_match_02:15', 'romance_perfect_match_02:13',\n",
       "       'adventure_hero_01:9', 'adventure_hero_01:11',\n",
       "       'adventure_hero_01:10', 'romance_the_senior_01:3',\n",
       "       'romance_the_sophomore_02:6', 'adventure_endless_summer_02:1',\n",
       "       'romance_big_sky_country_01:16', 'mystery_veil_of_secrets_01:7',\n",
       "       'adventure_endless_summer_02:3', 'adventure_endless_summer_02:8',\n",
       "       'adventure_endless_summer_02:5', 'adventure_endless_summer_02:9',\n",
       "       'adventure_endless_summer_02:2', 'adventure_endless_summer_01:13',\n",
       "       'adventure_endless_summer_02:7', 'adventure_endless_summer_02:6',\n",
       "       'adventure_hero_01:14', 'adventure_endless_summer_01:15',\n",
       "       'adventure_hero_01:12', 'adventure_endless_summer_02:10',\n",
       "       'adventure_endless_summer_02:4', 'adventure_endless_summer_01:14',\n",
       "       'romance_courtesan_of_rome_01:7',\n",
       "       'romance_desire_and_decorum_02:3',\n",
       "       'adventure_endless_summer_01:16', 'adventure_endless_summer_02:11',\n",
       "       'adventure_endless_summer_02:12', 'adventure_endless_summer_03:2',\n",
       "       'adventure_endless_summer_03:6', 'adventure_endless_summer_02:13',\n",
       "       'mystery_veil_of_secrets_01:9', 'adventure_endless_summer_03:12',\n",
       "       'adventure_endless_summer_03:8', 'adventure_endless_summer_03:5',\n",
       "       'adventure_endless_summer_02:15', 'mystery_veil_of_secrets_01:13',\n",
       "       'adventure_endless_summer_03:9', 'adventure_endless_summer_03:10',\n",
       "       'adventure_endless_summer_03:11', 'romance_the_sophomore_01:13',\n",
       "       'adventure_endless_summer_03:7', 'romance_the_senior_01:10',\n",
       "       'romance_the_junior_01:10', 'romance_the_senior_01:12',\n",
       "       'romance_the_junior_01:4', 'romance_the_sophomore_02:10',\n",
       "       'romance_the_junior_01:6', 'romance_the_sophomore_02:11',\n",
       "       'romance_the_junior_01:12', 'romance_the_sophomore_01:7',\n",
       "       'adventure_endless_summer_02:14', 'romance_the_sophomore_02:15',\n",
       "       'romance_the_freshman_01_side_james_01:1',\n",
       "       'test_final_chapter_replay:4', 'crime_most_wanted_01:11',\n",
       "       'horror_it_lives_in_the_woods_02:12', 'romance_the_sophomore_02:4',\n",
       "       'fantasy_the_elementalists_01:10',\n",
       "       'fantasy_the_elementalists_01:11', 'scifi_across_the_void_01:13',\n",
       "       'scifi_across_the_void_01:5',\n",
       "       'fantasy_the_crown_and_the_flame_02:11',\n",
       "       'fantasy_the_crown_and_the_flame_03:10',\n",
       "       'fantasy_the_crown_and_the_flame_03:4',\n",
       "       'fantasy_the_crown_and_the_flame_02:13',\n",
       "       'fantasy_the_crown_and_the_flame_03:16',\n",
       "       'fantasy_the_crown_and_the_flame_03:9',\n",
       "       'fantasy_the_crown_and_the_flame_03:17',\n",
       "       'fantasy_the_crown_and_the_flame_01:13',\n",
       "       'fantasy_the_crown_and_the_flame_03:7',\n",
       "       'fantasy_the_crown_and_the_flame_03:2',\n",
       "       'fantasy_the_crown_and_the_flame_03:3',\n",
       "       'fantasy_the_crown_and_the_flame_03:8',\n",
       "       'fantasy_the_crown_and_the_flame_03:15',\n",
       "       'fantasy_the_crown_and_the_flame_03:6',\n",
       "       'fantasy_the_crown_and_the_flame_01:17',\n",
       "       'romance_courtesan_of_rome_01:8', 'romance_the_senior_01:15',\n",
       "       'test_scripts_190:1', 'romance_high_school_story_04:13',\n",
       "       'fantasy_the_crown_and_the_flame_01:0',\n",
       "       'fantasy_the_crown_and_the_flame_02:14',\n",
       "       'fantasy_the_crown_and_the_flame_02:16',\n",
       "       'fantasy_the_crown_and_the_flame_02:15',\n",
       "       'fantasy_the_crown_and_the_flame_03:5',\n",
       "       'fantasy_the_crown_and_the_flame_03:14',\n",
       "       'fantasy_the_crown_and_the_flame_03:13',\n",
       "       'fantasy_the_crown_and_the_flame_03:11',\n",
       "       'fantasy_the_crown_and_the_flame_03:12', 'crime_the_heist_01:5',\n",
       "       'test_import_helper_code_01:2', 'test_theme_all:1',\n",
       "       'test_chat_ariel_001:1', 'chat_romance_kiss_and_tell_02:1',\n",
       "       'crime_most_wanted_01:0', 'test_chapter_replay:1',\n",
       "       'test_chapter_replay:2', 'test_final_chapter_replay:3',\n",
       "       'test_final_chapter_replay:2', 'test_final_chapter_replay:1',\n",
       "       'test_series_01:1', 'test_scripts_190_2:1', 'test_scripts_240:2',\n",
       "       'test_chat_andrew_001:1', 'test_scripts_240:1',\n",
       "       'test_diamond_locked:1', 'chat_romance_texts_from_hss_01:1',\n",
       "       'romance_rules_of_engagement_01:0', 'romance_rideordie_01:1',\n",
       "       'test_scripts_237:1', 'test_series_01:2', 'test_chapter_replay:4',\n",
       "       'test_chapter_replay:3', 'test_scripts_200:2',\n",
       "       'test_scripts_200:3', 'test_scripts_200:4',\n",
       "       'romance_the_freshman_02:0', 'test_scripts_230:1',\n",
       "       'test_scripts_230:2', 'test_import_helper_code_02:1',\n",
       "       'test_scripts_170:2'], dtype=object)"
      ]
     },
     "execution_count": 77,
     "metadata": {},
     "output_type": "execute_result"
    }
   ],
   "source": [
    "\n",
    "df[df['attribute']=='5']['attribute_value'].unique()"
   ]
  },
  {
   "cell_type": "code",
   "execution_count": 21,
   "metadata": {
    "ExecuteTime": {
     "end_time": "2019-03-06T18:00:26.712439Z",
     "start_time": "2019-03-06T17:59:54.880520Z"
    }
   },
   "outputs": [
    {
     "data": {
      "text/plain": [
       "array(['0.06', '0.03', '0.00', '0.01', '0.14', '0.17', '0.12', '0.26',\n",
       "       '0.27', '0.30', '0.05', '0.10', '0.31', '0.32', '0.18', '0.08',\n",
       "       '0.23', '0.04', '0.22', '0.19', '0.13', '0.09', '0.56', '0.53',\n",
       "       '0.57', '0.29', '0.52', '0.48', '0.16', '0.51', '0.40', '0.38',\n",
       "       '0.39', '0.45', '0.36', '0.47', '0.34', '0.35', '0.21', '1.08',\n",
       "       '0.58', '0.07', '0.33', '0.65', '0.42', '0.60', '0.69', '0.68',\n",
       "       '0.64', '0.66', '0.61', '0.49', '0.62', '0.25', '0.43', '0.44',\n",
       "       '1.65', '2.15', '1.53', '1.90', '0.88', '1.22', '1.56', '1.91',\n",
       "       '0.91', '0.71', '2.35', '1.18', '1.55', '2.33', '2.77', '2.28',\n",
       "       '1.50', '1.89', '1.11', '2.26', '2.51', '2.54', '2.18', '2.20',\n",
       "       '0.95', '1.78', '2.05', '1.31', '2.68', '1.27', '2.55', '1.85',\n",
       "       '1.38', '1.25', '2.46', '1.73', '2.30', '0.96', '1.07', '1.51',\n",
       "       '2.50', '2.42', '2.61', '2.81', '2.16', '0.94', '2.08', '2.80',\n",
       "       '1.46', '2.76', '2.74', '1.14', '1.12', '2.02', '2.39', '1.99',\n",
       "       '1.57', '0.75', '2.07', '2.13', '1.37', '1.94', '1.39', '1.87',\n",
       "       '1.00', '2.00', '1.64', '2.29', '0.92', '2.09', '2.12', '0.83',\n",
       "       '2.37', '1.43', '1.42', '1.44', '1.69', '1.68', '1.34', '2.69',\n",
       "       '2.70', '1.98', '0.81', '1.72', '1.60', '1.76', '1.82', '1.92',\n",
       "       '1.13', '0.98', '0.85', '2.48', '1.29', '1.05', '0.74', '0.77',\n",
       "       '2.17', '1.48', '2.64', '1.63', '0.87', '2.11', '1.77', '1.66',\n",
       "       '1.47', '1.70', '1.79', '1.86', '1.96', '1.40', '0.55', '1.26',\n",
       "       '0.79', '2.22', '2.31', '1.74', '0.86', '0.02', '2.01', '0.90',\n",
       "       '1.09', '1.16', '0.70', '1.20', '1.21', '1.03', '0.82', '1.24',\n",
       "       '1.01', '0.78', '0.99', '1.04', '0.73', '1.06', '0.46', '1.33',\n",
       "       '1.17', '3.00', '1.58', '2.95', '7.77', '2.03', '1.35', '2.82',\n",
       "       '2.25', '2.63', '3.39', '3.17', '2.21', '2.91', '3.13', '3.52',\n",
       "       '3.11', '3.38', '3.12', '2.24', '3.26', '3.65', '2.96', '2.89',\n",
       "       '3.70', '2.94', '3.35', '3.20', '3.54', '2.90', '3.33', '2.67',\n",
       "       '3.47', '3.60', '1.95', '3.05', '3.04', '3.15', '1.52', '2.73',\n",
       "       '2.87', '3.44', '3.67', '2.41', '3.18', '1.59', '3.69', '3.56',\n",
       "       '3.64', '3.30', '3.68', '3.51', '1.30', '3.76', '3.61', '3.77',\n",
       "       '3.83', '2.34', '3.55', '3.22', '2.86', '3.16', '3.29', '3.80',\n",
       "       '2.57', '1.61', '2.47', '3.31', '3.81', '2.98', '3.86', '3.74',\n",
       "       '3.82', '3.02', '3.34', '2.99', '2.83', '3.24', '2.56', '2.60',\n",
       "       '3.59', '2.44', '3.48', '2.66', '1.80', '0.11', '2.04', '0.20',\n",
       "       '0.72', '0.41', '0.84', '3.09', '1.83', '2.78', '3.21', '3.03',\n",
       "       '2.72', '3.08', '2.38', '2.59', '2.85', '3.07', '2.43', '1.81',\n",
       "       '0.15', '2.65', '3.28', '2.52', '2.93', '6.77', '6.72', '4.26',\n",
       "       '4.21', '4.63', '3.42', '3.46', '3.57', '3.50', '3.25', '3.37',\n",
       "       '3.73', '3.63', '3.72', '3.43', '0.50', '0.28', '1.41', '3.88',\n",
       "       '1.02', '5.77', '5.89', '2.45', '0.89', '1.54', '5.34', '1.45',\n",
       "       '1.93', '5.05', '4.34', '4.30', '3.41', '4.80', '4.78', '4.82',\n",
       "       '5.04', '3.87', '4.20', '3.89', '5.19', '5.25', '4.93', '3.91',\n",
       "       '4.60', '4.43', '4.67', '5.29', '4.71', '4.42', '4.38', '4.72',\n",
       "       '4.51', '4.50', '4.95', '4.59', '4.56', '4.08', '5.11', '5.00',\n",
       "       '4.13', '4.39', '4.11', '3.96', '4.09', '4.12', '4.74', '4.15',\n",
       "       '4.32', '5.15', '4.16', '5.28', '5.26', '4.17', '3.93', '5.03',\n",
       "       '4.29', '4.25', '4.06', '5.24', '4.19', '5.12', '4.85', '4.94',\n",
       "       '3.78', '4.64', '4.58', '4.54', '4.02', '4.28', '5.17', '4.91',\n",
       "       '3.94', '4.46', '3.95', '5.16', '5.20', '3.99', '4.04', '4.84',\n",
       "       '4.47', '4.48', '4.73', '4.03', '2.14', '1.23', '5.52', '0.67',\n",
       "       '5.49', '2.79', '5.94', '0.54', '0.24', '5.68', '5.55', '0.37',\n",
       "       '2.71', '6.53', '12.22', '11.15', '1.10', '2.88', '0.76', '1.49',\n",
       "       '3.62', '3.90', '3.85', '3.98', '4.07', '4.18', '2.36', '0.97',\n",
       "       '1.62', '0.63', '2.49', '2.06', '1.84', '1.88', '5.82', '5.85',\n",
       "       '1.36', '4.10', '5.33', '4.00', '0.59', '2.40', '4.40', '1.19',\n",
       "       '9.40', '5.60', '9.11', '4.77', '6.27', '3.06', '3.45', '4.23',\n",
       "       '4.24', '12.10', '0.93', '6.28', '6.29', '4.90', '4.35', '3.10',\n",
       "       '9.46', '1.67', '0.80', '3.01', '3.40', '5.86', '4.33', '4.45',\n",
       "       '4.52', '4.55', '4.22', '4.37', '4.41', '2.10', '4.44', '5.39',\n",
       "       '6.56', '5.36', '4.70', '1.32', '13.01', '6.30', '5.10', '2.23',\n",
       "       '3.36', '8.74', '2.75', '6.46', '6.55', '5.37', '5.75', '3.14',\n",
       "       '6.99', '3.84', '6.60', '1.15', '4.99', '4.53', '9.85', '5.43',\n",
       "       '7.18', '4.05', '4.31', '7.01', '12.56', '4.01', '5.81', '6.81',\n",
       "       '1.71', '3.23', '3.79', '1.97', '4.61', '7.38', '12.41', '12.48',\n",
       "       '12.44', '12.47', '13.00', '3.97', '6.42', '5.07', '5.02', '4.65',\n",
       "       '4.68', '4.86', '5.06', '5.13', '4.87', '4.81', '4.89', '5.08',\n",
       "       '1.28', '5.93', '2.32', '2.97', '7.30', '4.27', '11.65', '7.35',\n",
       "       '13.67', '7.21', '6.62', '5.87', '1.75', '4.76', '5.92', '6.75',\n",
       "       '6.09', '5.01', '4.69', '4.97', '7.39', '5.80', '8.63', '4.96',\n",
       "       '16.21', '3.92', '4.57', '2.58', '8.03', '2.92', '5.72', '4.14',\n",
       "       '9.93', '5.51', '2.27', '4.83', '5.30', '3.66', '10.41', '5.21',\n",
       "       '4.98', '4.66', '4.62', '11.61', '7.29', '6.63', '4.36', '5.23',\n",
       "       '5.32', '5.65', '7.23', '9.64', '7.16', '3.49', '8.15', '8.17',\n",
       "       '6.04', '3.58', '11.27', '7.32', '7.33', '2.84', '5.66', '7.28',\n",
       "       '10.24', '5.50', '5.62', '5.47', '5.38', '6.03', '5.91', '5.98',\n",
       "       '5.67', '5.64', '5.97', '5.42', '5.99', '5.95', '5.56', '5.59',\n",
       "       '5.88', '5.69', '6.01', '5.41', '5.46', '2.19', '3.75', '9.88',\n",
       "       '6.36', '7.83', '12.85', '5.09', '3.32', '2.62', '12.21', '12.20',\n",
       "       '12.19', '2.53', '5.40', '4.92', '7.99', '6.00', '5.45', '12.84',\n",
       "       '6.47', '6.69', '5.83', '5.27', '3.27', '8.89', '6.33', '4.79',\n",
       "       '8.78', '7.46', '11.43', '4.49', '6.06', '5.63', '5.90', '6.10',\n",
       "       '6.38', '6.37', '6.59', '6.34', '6.24', '6.45', '5.84', '5.78',\n",
       "       '6.76', '6.49', '6.68', '6.21', '6.11', '6.43', '5.54', '6.58',\n",
       "       '6.16', '6.23', '6.79', '6.25', '6.32', '6.08', '6.19', '6.15',\n",
       "       '6.14', '6.20', '4.88', '11.79', '10.40', '10.58', '5.14', '5.35',\n",
       "       '4.75', '7.19', '11.62', '10.37', '3.19', '6.64', '9.36', '7.05',\n",
       "       '5.31', '7.76', '7.45', '7.92', '8.75', '8.90', '7.51', '15.35',\n",
       "       '8.16', '8.07', '10.57', '12.00', '11.98', '11.97', '8.91', '6.74',\n",
       "       '8.08', '5.58', '6.86', '9.06', '12.58', '9.90', '3.71', '6.67',\n",
       "       '5.44', '9.80', '9.89', '9.79', '9.96', '9.83', '7.75', '10.46',\n",
       "       '6.35', '8.06', '6.52', '10.99', '10.68', '8.94', '8.32', '7.31',\n",
       "       '10.07', '7.24', '12.07', '12.87', '11.00', '5.18', '8.20', '8.19',\n",
       "       '6.50', '12.26', '12.24', '10.15', '8.57', '7.60', '12.69', '9.57',\n",
       "       '12.82', '9.14', '7.40', '7.36', '5.76', '5.71', '9.45', '6.12',\n",
       "       '5.73', '6.07', '7.57', '7.20', '7.95', '14.92', '7.72', '7.64',\n",
       "       '6.97', '7.34', '7.11', '6.89', '6.80', '6.66', '6.93', '7.02',\n",
       "       '7.06', '6.92', '6.40', '7.54', '7.62', '7.59', '7.07', '7.58',\n",
       "       '7.67', '7.14', '6.88', '7.71', '7.66', '6.90', '7.47', '6.41',\n",
       "       '6.54', '7.50', '7.25', '6.98', '6.94', '6.82', '6.51', '6.71',\n",
       "       '7.53', '7.08', '6.73', '7.68', '7.37', '6.17', '6.85', '7.15',\n",
       "       '7.55', '7.49', '14.70', '6.96', '8.02', '7.78', '12.67', '8.36',\n",
       "       '8.43', '7.26', '11.19', '11.26', '11.21', '11.70', '7.10', '9.27',\n",
       "       '7.69', '5.57', '8.67', '8.34', '15.66', '7.61', '9.81', '8.13',\n",
       "       '9.66', '6.31', '7.13', '7.63', '8.65', '7.03', '7.87', '8.04',\n",
       "       '11.88', '7.85', '7.56', '6.61', '8.12', '11.54', '9.56', '9.92',\n",
       "       '10.03', '3.53', '5.48', '7.00', '7.89', '5.96', '8.53', '5.22',\n",
       "       '10.79', '8.44', '12.25', '12.60', '9.59', '10.45', '10.75',\n",
       "       '10.52', '10.06', '11.04', '10.98', '10.49', '10.82', '9.68',\n",
       "       '11.56', '12.91', '11.02', '11.01', '10.02', '10.97', '12.78',\n",
       "       '10.30', '11.30', '10.89', '10.67', '10.71', '10.72', '10.88',\n",
       "       '12.61', '10.70', '12.75', '12.39', '11.50', '12.81', '11.82',\n",
       "       '10.83', '10.14', '11.92', '10.13', '11.37', '11.74', '9.70',\n",
       "       '10.62', '12.17', '10.18', '12.51', '11.71', '10.48', '11.63',\n",
       "       '12.99', '9.76', '11.06', '12.64', '10.93', '11.09', '10.61',\n",
       "       '10.54', '12.05', '12.53', '10.19', '10.85', '10.43', '12.08',\n",
       "       '12.86', '11.52', '10.65', '11.87', '10.04', '12.02', '10.28',\n",
       "       '10.32', '11.44', '11.91', '8.87', '6.95', '10.55', '9.73'],\n",
       "      dtype=object)"
      ]
     },
     "execution_count": 21,
     "metadata": {},
     "output_type": "execute_result"
    }
   ],
   "source": [
    "attributes[attributes['attribute']=='4']['attribute_value'].unique()"
   ]
  },
  {
   "cell_type": "markdown",
   "metadata": {},
   "source": [
    "### Att 7"
   ]
  },
  {
   "cell_type": "code",
   "execution_count": 24,
   "metadata": {
    "ExecuteTime": {
     "end_time": "2019-02-27T21:41:08.263806Z",
     "start_time": "2019-02-27T21:41:01.575544Z"
    }
   },
   "outputs": [
    {
     "data": {
      "text/plain": [
       "array(['romance_big_sky_country_01:1',\n",
       "       'fantasy_the_crown_and_the_flame_01:9',\n",
       "       'romance_desire_and_decorum_01:11',\n",
       "       'romance_rules_of_engagement_01:1', 'romance_perfect_match_02:5',\n",
       "       'romance_desire_and_decorum_01:16',\n",
       "       'romance_desire_and_decorum_01:3', 'romance_big_sky_country_01:2',\n",
       "       'romance_perfect_match_02:8', 'romance_perfect_match_02:4',\n",
       "       'fantasy_the_crown_and_the_flame_01:11',\n",
       "       'romance_perfect_match_02:3',\n",
       "       'fantasy_the_crown_and_the_flame_02:2',\n",
       "       'romance_desire_and_decorum_01:14', 'romance_perfect_match_02:2',\n",
       "       'romance_desire_and_decorum_01:15',\n",
       "       'fantasy_the_crown_and_the_flame_02:1',\n",
       "       'romance_the_royal_romance_01:1', 'romance_perfect_match_02:7',\n",
       "       'romance_rules_of_engagement_01:7', 'romance_perfect_match_01:1',\n",
       "       'romance_perfect_match_02:11', 'romance_desire_and_decorum_01:1',\n",
       "       'romance_rules_of_engagement_01:4', nan,\n",
       "       'romance_perfect_match_01:14', 'romance_the_royal_romance_01:4',\n",
       "       'fantasy_the_crown_and_the_flame_01:5',\n",
       "       'romance_rules_of_engagement_01:18', 'romance_perfect_match_02:1',\n",
       "       'romance_desire_and_decorum_01:5',\n",
       "       'romance_desire_and_decorum_01:8',\n",
       "       'romance_rules_of_engagement_01:19',\n",
       "       'romance_rules_of_engagement_01:9',\n",
       "       'romance_the_royal_romance_01:2',\n",
       "       'fantasy_the_crown_and_the_flame_01:18',\n",
       "       'romance_perfect_match_01:9', 'romance_the_royal_romance_01:3',\n",
       "       'fantasy_the_crown_and_the_flame_01:4',\n",
       "       'romance_rules_of_engagement_01:13',\n",
       "       'fantasy_the_crown_and_the_flame_01:6',\n",
       "       'fantasy_the_crown_and_the_flame_01:1',\n",
       "       'romance_perfect_match_01:16', 'romance_perfect_match_01:15',\n",
       "       'romance_rules_of_engagement_01:8', 'romance_perfect_match_01:12',\n",
       "       'romance_perfect_match_01:7',\n",
       "       'fantasy_the_crown_and_the_flame_01:3',\n",
       "       'romance_desire_and_decorum_01:13',\n",
       "       'romance_the_royal_romance_01:12',\n",
       "       'romance_the_royal_romance_01:7',\n",
       "       'romance_the_royal_romance_01:10',\n",
       "       'romance_the_royal_romance_01:8',\n",
       "       'romance_the_royal_romance_01:11',\n",
       "       'romance_the_royal_romance_01:6', 'romance_the_royal_romance_01:5',\n",
       "       'romance_the_royal_romance_01:15',\n",
       "       'romance_the_royal_romance_01:9',\n",
       "       'romance_the_royal_romance_01:19',\n",
       "       'romance_the_royal_romance_01:14',\n",
       "       'romance_the_royal_romance_01:17',\n",
       "       'romance_the_royal_romance_01:13',\n",
       "       'romance_the_royal_romance_01:18',\n",
       "       'romance_high_school_story_01:1',\n",
       "       'romance_rules_of_engagement_01:6',\n",
       "       'romance_rules_of_engagement_01:3',\n",
       "       'romance_rules_of_engagement_01:5',\n",
       "       'romance_americas_most_eligible_01:2',\n",
       "       'romance_americas_most_eligible_01:8',\n",
       "       'romance_americas_most_eligible_01:3',\n",
       "       'romance_americas_most_eligible_01:4',\n",
       "       'romance_americas_most_eligible_01:5',\n",
       "       'romance_americas_most_eligible_01:1',\n",
       "       'romance_americas_most_eligible_01:6',\n",
       "       'romance_high_school_story_01:10',\n",
       "       'romance_high_school_story_04:3', 'romance_high_school_story_01:3',\n",
       "       'romance_high_school_story_01:9', 'romance_high_school_story_02:1',\n",
       "       'romance_high_school_story_01:13',\n",
       "       'romance_high_school_story_01:7',\n",
       "       'romance_high_school_story_01:14',\n",
       "       'romance_high_school_story_01:6',\n",
       "       'romance_high_school_story_01:12',\n",
       "       'romance_high_school_story_01:5',\n",
       "       'romance_high_school_story_01:11', 'romance_the_freshman_04:1',\n",
       "       'romance_high_school_story_04:1', 'romance_big_sky_country_01:10',\n",
       "       'romance_the_royal_romance_02:6', 'romance_the_royal_romance_02:4',\n",
       "       'romance_big_sky_country_01:6', 'romance_big_sky_country_01:8',\n",
       "       'romance_the_royal_romance_03:4', 'romance_the_royal_romance_02:2',\n",
       "       'romance_big_sky_country_01:7',\n",
       "       'romance_home_for_the_holidays_01:6',\n",
       "       'romance_the_royal_romance_02:9',\n",
       "       'romance_home_for_the_holidays_01:7',\n",
       "       'romance_the_royal_romance_03:3',\n",
       "       'romance_home_for_the_holidays_01:2',\n",
       "       'romance_the_royal_romance_03:1', 'romance_the_royal_romance_02:1',\n",
       "       'romance_home_for_the_holidays_01:5',\n",
       "       'romance_the_royal_romance_02:12',\n",
       "       'romance_the_royal_romance_02:11',\n",
       "       'romance_the_royal_romance_02:3',\n",
       "       'romance_the_royal_romance_02:19', 'romance_big_sky_country_01:3',\n",
       "       'romance_the_royal_romance_03:2',\n",
       "       'romance_the_royal_romance_02:10',\n",
       "       'romance_home_for_the_holidays_01:10',\n",
       "       'romance_big_sky_country_01:4',\n",
       "       'romance_home_for_the_holidays_01:9',\n",
       "       'romance_the_royal_romance_02:15',\n",
       "       'romance_home_for_the_holidays_01:4',\n",
       "       'romance_the_royal_romance_02:13',\n",
       "       'romance_the_royal_romance_02:17',\n",
       "       'romance_the_royal_romance_02:16',\n",
       "       'romance_rules_of_engagement_01:2',\n",
       "       'romance_the_royal_romance_02:7',\n",
       "       'horror_the_haunting_of_braidwood_manor_01:1',\n",
       "       'romance_high_school_story_01:4', 'romance_high_school_story_01:2',\n",
       "       'romance_the_freshman_03:3', 'romance_the_sophomore_02:2',\n",
       "       'romance_the_freshman_03:4', 'romance_the_freshman_01:4',\n",
       "       'romance_the_freshman_01:7', 'romance_high_school_story_02:13',\n",
       "       'romance_high_school_story_03:11',\n",
       "       'romance_high_school_story_02:11', 'romance_the_sophomore_01:8',\n",
       "       'romance_high_school_story_03:8', 'romance_the_freshman_01:2',\n",
       "       'romance_the_freshman_02:9', 'romance_the_freshman_01:15',\n",
       "       'romance_high_school_story_03:7', 'romance_the_freshman_02:6',\n",
       "       'romance_the_freshman_02:2', 'romance_the_freshman_01:10',\n",
       "       'romance_the_freshman_03:12', 'romance_the_sophomore_01:16',\n",
       "       'romance_the_freshman_01:8', 'romance_the_freshman_01:5',\n",
       "       'romance_big_sky_country_01:12', 'romance_the_sophomore_01:4',\n",
       "       'romance_the_freshman_03:5', 'romance_the_freshman_04:2',\n",
       "       'romance_the_freshman_02:11', 'romance_high_school_story_02:2',\n",
       "       'romance_high_school_story_03:10', 'romance_the_freshman_02:13',\n",
       "       'romance_the_freshman_02:12', 'romance_the_freshman_03:17',\n",
       "       'romance_the_freshman_03:1', 'romance_the_freshman_03:13',\n",
       "       'romance_the_sophomore_01:10', 'romance_the_freshman_03:16',\n",
       "       'romance_the_freshman_01:11', 'romance_big_sky_country_01:5',\n",
       "       'romance_the_freshman_03:9', 'romance_the_freshman_01:1',\n",
       "       'romance_the_sophomore_01:1', 'romance_high_school_story_02:15',\n",
       "       'romance_the_freshman_01:9', 'romance_high_school_story_02:8',\n",
       "       'romance_the_freshman_02:15', 'romance_the_sophomore_01:11',\n",
       "       'romance_the_freshman_03:6', 'romance_the_freshman_04:6',\n",
       "       'romance_the_sophomore_02:1', 'romance_the_sophomore_01:13',\n",
       "       'romance_the_freshman_03:8', 'romance_the_freshman_02:5',\n",
       "       'romance_the_freshman_01:14', 'romance_high_school_story_03:6',\n",
       "       'romance_the_freshman_04:5', 'romance_the_freshman_01:13',\n",
       "       'romance_the_freshman_03:11', 'romance_big_sky_country_01:9',\n",
       "       'romance_the_sophomore_01:9', 'romance_the_freshman_01:12',\n",
       "       'romance_high_school_story_02:12', 'romance_the_freshman_03:10',\n",
       "       'romance_the_freshman_04:8', 'romance_the_freshman_04:7',\n",
       "       'romance_the_sophomore_01:3', 'romance_the_freshman_01:3',\n",
       "       'romance_high_school_story_02:14',\n",
       "       'romance_high_school_story_03:3', 'romance_high_school_story_01:8',\n",
       "       'romance_the_freshman_02:1', 'romance_the_freshman_02:10',\n",
       "       'romance_the_freshman_01:16', 'romance_high_school_story_02:5',\n",
       "       'romance_high_school_story_02:7', 'romance_the_sophomore_01:5',\n",
       "       'romance_the_freshman_03:7', 'romance_big_sky_country_01:11',\n",
       "       'romance_the_freshman_02:7',\n",
       "       'romance_the_freshman_03_side_valentines_special_01:1',\n",
       "       'fantasy_the_elementalists_01:4',\n",
       "       'romance_desire_and_decorum_02:1', 'horror_bloodbound_01:11',\n",
       "       'romance_perfect_match_01:3', 'horror_bloodbound_01:8',\n",
       "       'horror_bloodbound_01:13', 'horror_bloodbound_01:5',\n",
       "       'horror_bloodbound_01:16', 'horror_bloodbound_01:9',\n",
       "       'horror_bloodbound_01:12', 'fantasy_the_elementalists_01:2',\n",
       "       'horror_bloodbound_01:4', 'fantasy_the_elementalists_01:5',\n",
       "       'horror_bloodbound_01:1', 'horror_bloodbound_01:2',\n",
       "       'romance_courtesan_of_rome_01:1', 'fantasy_the_elementalists_01:7',\n",
       "       'horror_bloodbound_01:14', 'romance_the_royal_romance_01:16',\n",
       "       'romance_the_freshman_01:6',\n",
       "       'romance_the_sophomore_01_side_halloween_01:1',\n",
       "       'romance_high_school_story_02:4',\n",
       "       'romance_high_school_story_01:15',\n",
       "       'romance_rules_of_engagement_03:8',\n",
       "       'romance_rules_of_engagement_03:10',\n",
       "       'romance_rules_of_engagement_03:5',\n",
       "       'romance_rules_of_engagement_02:7', 'adventure_hero_01:7',\n",
       "       'romance_red_carpet_diaries_01:4', 'adventure_hero_01:8',\n",
       "       'romance_rules_of_engagement_01:10',\n",
       "       'romance_high_school_story_03:2',\n",
       "       'romance_rules_of_engagement_01:11', 'romance_the_freshman_03:2',\n",
       "       'romance_rules_of_engagement_01:16',\n",
       "       'romance_rules_of_engagement_01:12',\n",
       "       'romance_rules_of_engagement_01:17', 'romance_the_freshman_02:8',\n",
       "       'romance_rules_of_engagement_03:1',\n",
       "       'romance_rules_of_engagement_01:14',\n",
       "       'romance_rules_of_engagement_02:12',\n",
       "       'romance_rules_of_engagement_03:3',\n",
       "       'romance_rules_of_engagement_02:8',\n",
       "       'romance_rules_of_engagement_02:2', 'horror_bloodbound_01:3',\n",
       "       'romance_rules_of_engagement_02:13', 'romance_the_freshman_02:3',\n",
       "       'romance_rules_of_engagement_02:4',\n",
       "       'romance_rules_of_engagement_02:10',\n",
       "       'horror_it_lives_in_the_woods_01:2',\n",
       "       'romance_rules_of_engagement_02:18',\n",
       "       'romance_rules_of_engagement_02:6',\n",
       "       'romance_rules_of_engagement_04:2',\n",
       "       'romance_rules_of_engagement_02:14',\n",
       "       'romance_home_for_the_holidays_01:1', 'adventure_hero_01:4',\n",
       "       'romance_the_freshman_02:14', 'romance_rules_of_engagement_04:5',\n",
       "       'romance_the_freshman_03_side_valentines_special_01:2',\n",
       "       'romance_red_carpet_diaries_01:3',\n",
       "       'romance_red_carpet_diaries_01:2',\n",
       "       'romance_red_carpet_diaries_01:1',\n",
       "       'romance_rules_of_engagement_03:12',\n",
       "       'romance_rules_of_engagement_02:1',\n",
       "       'romance_rules_of_engagement_04:4',\n",
       "       'romance_rules_of_engagement_02:9',\n",
       "       'horror_it_lives_in_the_woods_01:1', 'romance_the_freshman_03:15',\n",
       "       'romance_the_freshman_03:14', 'romance_the_freshman_02:4',\n",
       "       'horror_bloodbound_01:6', 'romance_rules_of_engagement_02:16',\n",
       "       'romance_rules_of_engagement_02:11',\n",
       "       'romance_rules_of_engagement_02:3',\n",
       "       'romance_rules_of_engagement_02:15',\n",
       "       'romance_high_school_story_02:6', 'adventure_hero_01:1',\n",
       "       'romance_rules_of_engagement_02:21',\n",
       "       'romance_rules_of_engagement_04:3',\n",
       "       'romance_rules_of_engagement_03:6',\n",
       "       'romance_rules_of_engagement_03:4', 'adventure_hero_01:5',\n",
       "       'adventure_hero_01:6', 'romance_rules_of_engagement_03:18',\n",
       "       'romance_rules_of_engagement_03:2',\n",
       "       'romance_rules_of_engagement_03:14',\n",
       "       'romance_rules_of_engagement_02:5',\n",
       "       'romance_rules_of_engagement_03:9',\n",
       "       'romance_red_carpet_diaries_01:5',\n",
       "       'romance_high_school_story_02:3',\n",
       "       'romance_home_for_the_holidays_01:3',\n",
       "       'romance_rules_of_engagement_02:20',\n",
       "       'romance_rules_of_engagement_03:17',\n",
       "       'romance_rules_of_engagement_03:13',\n",
       "       'romance_rules_of_engagement_02:19',\n",
       "       'adventure_endless_summer_01:9', 'adventure_endless_summer_01:7',\n",
       "       'adventure_endless_summer_01:4', 'adventure_endless_summer_01:2',\n",
       "       'adventure_endless_summer_01:6', 'adventure_endless_summer_01:5',\n",
       "       'adventure_endless_summer_01:1', 'adventure_endless_summer_01:3',\n",
       "       'romance_the_royal_romance_03:7',\n",
       "       'romance_the_royal_romance_03:18',\n",
       "       'romance_the_royal_romance_03:17',\n",
       "       'romance_the_royal_romance_02:8', 'romance_the_royal_romance_03:9',\n",
       "       'romance_the_royal_romance_03:10',\n",
       "       'romance_the_royal_romance_03:14',\n",
       "       'romance_americas_most_eligible_01:14',\n",
       "       'romance_the_royal_romance_02:18',\n",
       "       'romance_americas_most_eligible_01:18',\n",
       "       'romance_the_royal_romance_03:13',\n",
       "       'romance_americas_most_eligible_01:15',\n",
       "       'romance_the_royal_romance_03:20',\n",
       "       'romance_the_royal_romance_03:15',\n",
       "       'romance_americas_most_eligible_01:13',\n",
       "       'romance_the_royal_romance_03:21',\n",
       "       'romance_americas_most_eligible_01:7',\n",
       "       'romance_the_royal_romance_03:8',\n",
       "       'romance_the_royal_romance_03:12',\n",
       "       'romance_americas_most_eligible_01:12',\n",
       "       'romance_americas_most_eligible_01:20', 'horror_bloodbound_01:15',\n",
       "       'horror_bloodbound_01:10', 'romance_the_royal_romance_03:19',\n",
       "       'romance_americas_most_eligible_01:17',\n",
       "       'romance_the_royal_romance_03:5',\n",
       "       'romance_americas_most_eligible_01:10', 'romance_the_junior_01:12',\n",
       "       'horror_it_lives_in_the_woods_01:3',\n",
       "       'horror_it_lives_in_the_woods_02:1',\n",
       "       'horror_it_lives_in_the_woods_01:4',\n",
       "       'horror_it_lives_in_the_woods_02:2',\n",
       "       'horror_it_lives_in_the_woods_02:3',\n",
       "       'horror_it_lives_in_the_woods_02:4',\n",
       "       'romance_americas_most_eligible_01:19',\n",
       "       'romance_americas_most_eligible_01:11',\n",
       "       'romance_high_school_story_03:4', 'romance_high_school_story_04:2',\n",
       "       'romance_high_school_story_03:15',\n",
       "       'romance_high_school_story_03:12',\n",
       "       'romance_high_school_story_02:9', 'romance_high_school_story_03:9',\n",
       "       'romance_high_school_story_04:5',\n",
       "       'romance_high_school_story_03:16',\n",
       "       'romance_high_school_story_03:1', 'romance_the_freshman_01:17',\n",
       "       'romance_high_school_story_03:14',\n",
       "       'romance_high_school_story_04:4',\n",
       "       'romance_high_school_story_03:13',\n",
       "       'romance_the_royal_romance_02:5',\n",
       "       'romance_home_for_the_holidays_01:8',\n",
       "       'romance_the_freshman_02_side_halloween_01:1',\n",
       "       'romance_the_freshman_02_side_holiday_special_01:1',\n",
       "       'romance_lovehacks_01:1', 'romance_the_senior_01:1',\n",
       "       'adventure_hero_01:2', 'fantasy_the_elementalists_01:1',\n",
       "       'romance_the_royal_romance_03:11', 'romance_lovehacks_01:2',\n",
       "       'romance_the_royal_romance_03:6', 'adventure_endless_summer_01:11',\n",
       "       'romance_the_royal_romance_03:16',\n",
       "       'adventure_endless_summer_01:12', 'crime_the_heist_01:1',\n",
       "       'adventure_endless_summer_01:8', 'romance_the_royal_romance_02:14',\n",
       "       'adventure_endless_summer_01:10',\n",
       "       'romance_the_freshman_02_side_halloween_01:2',\n",
       "       'fantasy_the_crown_and_the_flame_01:10',\n",
       "       'fantasy_the_crown_and_the_flame_02:5',\n",
       "       'fantasy_the_crown_and_the_flame_01:15',\n",
       "       'fantasy_the_crown_and_the_flame_01:16',\n",
       "       'fantasy_the_crown_and_the_flame_01:14',\n",
       "       'fantasy_the_crown_and_the_flame_02:4',\n",
       "       'fantasy_the_crown_and_the_flame_02:6',\n",
       "       'fantasy_the_crown_and_the_flame_02:3',\n",
       "       'fantasy_the_crown_and_the_flame_01:7',\n",
       "       'fantasy_the_crown_and_the_flame_01:12',\n",
       "       'fantasy_the_crown_and_the_flame_01:2', 'horror_bloodbound_01:7',\n",
       "       'romance_rules_of_engagement_04:1',\n",
       "       'romance_americas_most_eligible_01:9',\n",
       "       'romance_perfect_match_01:2', 'romance_lovehacks_02:1',\n",
       "       'romance_rules_of_engagement_01:15',\n",
       "       'horror_the_haunting_of_braidwood_manor_01:2',\n",
       "       'mystery_veil_of_secrets_01:4',\n",
       "       'horror_the_haunting_of_braidwood_manor_01:4',\n",
       "       'horror_the_haunting_of_braidwood_manor_01:6',\n",
       "       'mystery_veil_of_secrets_01:1', 'fantasy_the_elementalists_01:6',\n",
       "       'fantasy_the_elementalists_01:3',\n",
       "       'romance_red_carpet_diaries_02:10',\n",
       "       'romance_red_carpet_diaries_02:3',\n",
       "       'romance_red_carpet_diaries_02:16',\n",
       "       'romance_red_carpet_diaries_02:14',\n",
       "       'romance_red_carpet_diaries_02:12',\n",
       "       'romance_red_carpet_diaries_02:1',\n",
       "       'romance_red_carpet_diaries_01:16',\n",
       "       'romance_red_carpet_diaries_01:11',\n",
       "       'romance_red_carpet_diaries_01:14',\n",
       "       'romance_red_carpet_diaries_01:15',\n",
       "       'romance_red_carpet_diaries_01:10',\n",
       "       'romance_red_carpet_diaries_02:11',\n",
       "       'romance_red_carpet_diaries_01:13',\n",
       "       'romance_red_carpet_diaries_02:8',\n",
       "       'romance_red_carpet_diaries_02:5',\n",
       "       'romance_red_carpet_diaries_01:9',\n",
       "       'romance_red_carpet_diaries_02:2',\n",
       "       'romance_the_royal_romance_03:22',\n",
       "       'romance_high_school_story_03:5',\n",
       "       'romance_high_school_story_02:10', 'romance_the_senior_01:2',\n",
       "       'romance_high_school_story_04:9', 'romance_high_school_story_04:7',\n",
       "       'romance_high_school_story_04:6', 'scifi_across_the_void_01:2',\n",
       "       'horror_it_lives_in_the_woods_01:6',\n",
       "       'horror_it_lives_in_the_woods_01:5',\n",
       "       'horror_it_lives_in_the_woods_01:15',\n",
       "       'horror_it_lives_in_the_woods_01:13', 'scifi_across_the_void_01:1',\n",
       "       'horror_it_lives_in_the_woods_01:11',\n",
       "       'horror_it_lives_in_the_woods_01:10', 'scifi_across_the_void_01:3',\n",
       "       'horror_it_lives_in_the_woods_01:7',\n",
       "       'horror_the_haunting_of_braidwood_manor_01:3',\n",
       "       'romance_perfect_match_02:6', 'romance_perfect_match_01:13',\n",
       "       'romance_perfect_match_01:4', 'romance_perfect_match_01:10',\n",
       "       'romance_perfect_match_02:9', 'romance_perfect_match_01:6',\n",
       "       'romance_courtesan_of_rome_01:5',\n",
       "       'romance_americas_most_eligible_01:16', 'romance_lovehacks_01:3',\n",
       "       'romance_red_carpet_diaries_01:6',\n",
       "       'romance_courtesan_of_rome_01:6', 'romance_lovehacks_02:5',\n",
       "       'romance_lovehacks_01:4', 'romance_lovehacks_01:17',\n",
       "       'romance_lovehacks_01:13', 'fantasy_the_elementalists_01:9',\n",
       "       'romance_red_carpet_diaries_02:6', 'romance_lovehacks_01:9',\n",
       "       'romance_lovehacks_01:6', 'romance_lovehacks_01:16',\n",
       "       'romance_lovehacks_02:3', 'romance_red_carpet_diaries_02:7',\n",
       "       'romance_desire_and_decorum_01:10',\n",
       "       'romance_desire_and_decorum_01:12',\n",
       "       'romance_desire_and_decorum_01:4',\n",
       "       'romance_red_carpet_diaries_02:9',\n",
       "       'romance_desire_and_decorum_01:7', 'romance_lovehacks_02:7',\n",
       "       'romance_lovehacks_01:11', 'romance_lovehacks_01:5',\n",
       "       'romance_big_sky_country_01:13', 'romance_lovehacks_01:12',\n",
       "       'romance_lovehacks_01:15', 'romance_lovehacks_01:8',\n",
       "       'romance_lovehacks_01:10', 'mystery_veil_of_secrets_01:5',\n",
       "       'mystery_veil_of_secrets_01:16', 'scifi_across_the_void_01:10',\n",
       "       'scifi_across_the_void_01:4', 'mystery_veil_of_secrets_01:3',\n",
       "       'mystery_veil_of_secrets_01:9', 'mystery_veil_of_secrets_01:11',\n",
       "       'scifi_across_the_void_01:12', 'mystery_veil_of_secrets_01:6',\n",
       "       'scifi_across_the_void_01:6', 'scifi_across_the_void_01:8',\n",
       "       'mystery_veil_of_secrets_01:14', 'scifi_across_the_void_01:11',\n",
       "       'scifi_across_the_void_01:9', 'mystery_veil_of_secrets_01:12',\n",
       "       'mystery_veil_of_secrets_01:7', 'mystery_veil_of_secrets_01:13',\n",
       "       'romance_lovehacks_02:2', 'romance_courtesan_of_rome_01:3',\n",
       "       'romance_the_freshman_02_side_holiday_special_01:2',\n",
       "       'romance_lovehacks_01:14',\n",
       "       'romance_the_sophomore_01_side_halloween_01:2',\n",
       "       'romance_desire_and_decorum_01:2', 'romance_perfect_match_01:11',\n",
       "       'romance_perfect_match_01:8', 'romance_the_senior_01:4',\n",
       "       'crime_most_wanted_01:1', 'romance_red_carpet_diaries_01:7',\n",
       "       'horror_the_haunting_of_braidwood_manor_01:5',\n",
       "       'romance_courtesan_of_rome_01:2', 'mystery_veil_of_secrets_01:2',\n",
       "       'romance_desire_and_decorum_01:6', 'romance_the_senior_01:5',\n",
       "       'romance_the_senior_01:3', 'romance_high_school_story_04:11',\n",
       "       'romance_high_school_story_04:10',\n",
       "       'horror_it_lives_in_the_woods_01:14',\n",
       "       'horror_it_lives_in_the_woods_02:6', 'crime_the_heist_01:2',\n",
       "       'romance_high_school_story_04:8',\n",
       "       'horror_it_lives_in_the_woods_02:9',\n",
       "       'horror_it_lives_in_the_woods_01:9',\n",
       "       'horror_it_lives_in_the_woods_02:5',\n",
       "       'horror_it_lives_in_the_woods_01:16',\n",
       "       'horror_it_lives_in_the_woods_01:12', 'romance_lovehacks_01:18',\n",
       "       'romance_lovehacks_01:7', 'adventure_endless_summer_03:3',\n",
       "       'adventure_hero_01:3', 'romance_lovehacks_02:18',\n",
       "       'romance_lovehacks_02:9', 'romance_the_sophomore_01:2',\n",
       "       'adventure_hero_01:9', 'romance_lovehacks_02:10',\n",
       "       'romance_lovehacks_02:13', 'adventure_hero_01:15',\n",
       "       'romance_rules_of_engagement_02:17', 'adventure_hero_01:10',\n",
       "       'romance_red_carpet_diaries_02:15', 'romance_the_freshman_04:4',\n",
       "       'romance_the_senior_01:8', 'romance_the_senior_01:6',\n",
       "       'romance_the_junior_01:1', 'romance_desire_and_decorum_02:2',\n",
       "       'romance_rules_of_engagement_03:16',\n",
       "       'fantasy_the_crown_and_the_flame_02:11',\n",
       "       'fantasy_the_crown_and_the_flame_02:9',\n",
       "       'fantasy_the_crown_and_the_flame_01:8',\n",
       "       'fantasy_the_crown_and_the_flame_02:10',\n",
       "       'fantasy_the_crown_and_the_flame_01:13',\n",
       "       'fantasy_the_crown_and_the_flame_02:8',\n",
       "       'romance_rules_of_engagement_03:7', 'romance_perfect_match_01:5',\n",
       "       'romance_perfect_match_02:10', 'romance_perfect_match_02:12',\n",
       "       'crime_most_wanted_01:8', 'crime_most_wanted_01:9',\n",
       "       'crime_most_wanted_01:12', 'romance_lovehacks_02:8',\n",
       "       'crime_most_wanted_01:7', 'fantasy_the_elementalists_01:8',\n",
       "       'crime_most_wanted_01:13', 'crime_most_wanted_01:3',\n",
       "       'crime_most_wanted_01:5', 'crime_most_wanted_01:15',\n",
       "       'romance_lovehacks_02:4', 'crime_most_wanted_01:14',\n",
       "       'crime_most_wanted_01:6', 'romance_big_sky_country_01:15',\n",
       "       'romance_big_sky_country_01:14', 'romance_the_sophomore_02:7',\n",
       "       'horror_it_lives_in_the_woods_02:7', 'crime_the_heist_01:3',\n",
       "       'crime_the_heist_01:4', 'romance_high_school_story_04:12',\n",
       "       'romance_lovehacks_02:6', 'romance_lovehacks_02:12',\n",
       "       'romance_lovehacks_02:17', 'romance_lovehacks_02:16',\n",
       "       'romance_lovehacks_02:11', 'romance_lovehacks_02:14',\n",
       "       'romance_lovehacks_02:15', 'romance_the_senior_01:13',\n",
       "       'romance_the_sophomore_01:17', 'romance_the_senior_01:11',\n",
       "       'romance_the_sophomore_02:12', 'romance_the_sophomore_01:6',\n",
       "       'romance_the_junior_01:7', 'romance_the_sophomore_02:8',\n",
       "       'romance_the_sophomore_01:12', 'romance_the_sophomore_02:5',\n",
       "       'romance_the_junior_01:8', 'romance_the_sophomore_02:14',\n",
       "       'romance_the_sophomore_02:13', 'romance_the_junior_01:5',\n",
       "       'romance_the_sophomore_01:15', 'romance_the_sophomore_02:10',\n",
       "       'romance_the_sophomore_02:3', 'romance_the_junior_01:3',\n",
       "       'romance_the_junior_01:11', 'romance_the_sophomore_01:14',\n",
       "       'romance_the_senior_01:7', 'romance_the_sophomore_02:9',\n",
       "       'romance_the_sophomore_02:11', 'crime_most_wanted_01:2',\n",
       "       'horror_it_lives_in_the_woods_02:10',\n",
       "       'romance_perfect_match_02:13',\n",
       "       'horror_it_lives_in_the_woods_02:12',\n",
       "       'horror_it_lives_in_the_woods_01:8', 'romance_perfect_match_02:15',\n",
       "       'romance_perfect_match_02:14', 'adventure_hero_01:11',\n",
       "       'adventure_hero_01:12', 'adventure_hero_01:14',\n",
       "       'adventure_hero_01:13', 'romance_red_carpet_diaries_02:4',\n",
       "       'romance_courtesan_of_rome_01:4',\n",
       "       'romance_red_carpet_diaries_01:12',\n",
       "       'romance_desire_and_decorum_01:9',\n",
       "       'romance_courtesan_of_rome_01:8',\n",
       "       'romance_rules_of_engagement_03:15',\n",
       "       'romance_rules_of_engagement_03:11', 'romance_the_sophomore_02:6',\n",
       "       'romance_the_junior_01:2', 'romance_big_sky_country_01:16',\n",
       "       'crime_most_wanted_01:11', 'adventure_endless_summer_02:3',\n",
       "       'adventure_endless_summer_02:8', 'adventure_endless_summer_02:5',\n",
       "       'adventure_endless_summer_01:16', 'adventure_endless_summer_02:1',\n",
       "       'adventure_endless_summer_01:13', 'adventure_endless_summer_02:6',\n",
       "       'adventure_endless_summer_02:7', 'adventure_endless_summer_01:14',\n",
       "       'adventure_endless_summer_02:10', 'adventure_endless_summer_02:4',\n",
       "       'horror_it_lives_in_the_woods_02:8', 'scifi_across_the_void_01:5',\n",
       "       'adventure_endless_summer_01:15', 'adventure_endless_summer_02:2',\n",
       "       'adventure_endless_summer_02:11', 'adventure_endless_summer_03:1',\n",
       "       'mystery_veil_of_secrets_01:15', 'adventure_endless_summer_03:6',\n",
       "       'adventure_endless_summer_02:13', 'adventure_endless_summer_03:12',\n",
       "       'adventure_endless_summer_03:8', 'adventure_endless_summer_03:7',\n",
       "       'adventure_endless_summer_03:2', 'adventure_endless_summer_03:4',\n",
       "       'adventure_endless_summer_02:15', 'adventure_endless_summer_02:9',\n",
       "       'adventure_endless_summer_03:5', 'adventure_endless_summer_03:9',\n",
       "       'adventure_endless_summer_03:11', 'adventure_endless_summer_02:12',\n",
       "       'romance_the_freshman_01_side_chris_01:1',\n",
       "       'romance_the_senior_01:10', 'romance_the_junior_01:4',\n",
       "       'romance_the_junior_01:9', 'adventure_endless_summer_03:10',\n",
       "       'adventure_endless_summer_02:14', 'romance_the_freshman_04:3',\n",
       "       'romance_the_sophomore_02:4', 'romance_the_sophomore_01:7',\n",
       "       'romance_the_senior_01:9', 'mystery_veil_of_secrets_01:8',\n",
       "       'romance_the_freshman_01_side_james_01:1',\n",
       "       'test_final_chapter_replay:4', 'crime_most_wanted_01:10',\n",
       "       'mystery_veil_of_secrets_01:10', 'crime_most_wanted_01:4',\n",
       "       'horror_it_lives_in_the_woods_02:11',\n",
       "       'fantasy_the_elementalists_01:10',\n",
       "       'fantasy_the_elementalists_01:11', 'scifi_across_the_void_01:7',\n",
       "       'romance_the_freshman_01_side_kaitlyn_01:1',\n",
       "       'romance_red_carpet_diaries_02:13',\n",
       "       'romance_red_carpet_diaries_01:8',\n",
       "       'romance_courtesan_of_rome_01:7',\n",
       "       'fantasy_the_crown_and_the_flame_03:10',\n",
       "       'fantasy_the_crown_and_the_flame_03:4',\n",
       "       'fantasy_the_crown_and_the_flame_02:12',\n",
       "       'fantasy_the_crown_and_the_flame_02:13',\n",
       "       'fantasy_the_crown_and_the_flame_03:16',\n",
       "       'fantasy_the_crown_and_the_flame_02:7',\n",
       "       'fantasy_the_crown_and_the_flame_03:9',\n",
       "       'fantasy_the_crown_and_the_flame_03:17',\n",
       "       'fantasy_the_crown_and_the_flame_03:1',\n",
       "       'fantasy_the_crown_and_the_flame_03:7',\n",
       "       'fantasy_the_crown_and_the_flame_03:2',\n",
       "       'fantasy_the_crown_and_the_flame_03:3',\n",
       "       'fantasy_the_crown_and_the_flame_03:8',\n",
       "       'fantasy_the_crown_and_the_flame_03:15',\n",
       "       'fantasy_the_crown_and_the_flame_03:6',\n",
       "       'fantasy_the_crown_and_the_flame_01:17',\n",
       "       'romance_the_junior_01:10', 'romance_the_junior_01:13',\n",
       "       'romance_the_senior_01:14', 'romance_the_senior_01:15',\n",
       "       'romance_the_senior_01:12', 'romance_the_sophomore_02:15',\n",
       "       'romance_the_junior_01:6', 'scifi_across_the_void_01:13',\n",
       "       'test_scripts_190:1', 'romance_high_school_story_04:13',\n",
       "       'fantasy_the_crown_and_the_flame_02:15',\n",
       "       'fantasy_the_crown_and_the_flame_02:16',\n",
       "       'fantasy_the_crown_and_the_flame_03:5',\n",
       "       'fantasy_the_crown_and_the_flame_03:13',\n",
       "       'fantasy_the_crown_and_the_flame_02:14',\n",
       "       'fantasy_the_crown_and_the_flame_03:14',\n",
       "       'fantasy_the_crown_and_the_flame_03:12',\n",
       "       'fantasy_the_crown_and_the_flame_03:11',\n",
       "       'romance_desire_and_decorum_02:3', 'crime_the_heist_01:5',\n",
       "       'romance_the_freshman_01:0',\n",
       "       'fantasy_the_crown_and_the_flame_02:0',\n",
       "       'test_import_helper_code_01:2', 'test_theme_all:1',\n",
       "       'test_final_chapter_replay:2',\n",
       "       'fantasy_the_crown_and_the_flame_01:0', 'crime_most_wanted_01:0',\n",
       "       'chat_romance_kiss_and_tell_02:1', 'test_chapter_replay:1',\n",
       "       'test_chapter_replay:3', 'test_chapter_replay:2',\n",
       "       'test_final_chapter_replay:3', 'test_final_chapter_replay:1',\n",
       "       'test_series_01:1', 'romance_the_freshman_02:0',\n",
       "       'test_scripts_240:1', 'test_chat_andrew_001:1',\n",
       "       'test_scripts_237:1', 'test_series_01:2', 'test_chapter_replay:4',\n",
       "       'test_scripts_200:2', 'test_scripts_200:3', 'test_scripts_200:4',\n",
       "       'test_scripts_230:1', 'romance_rules_of_engagement_01:0',\n",
       "       'test_import_helper_code_02:1', 'test_scripts_240:2',\n",
       "       'test_scripts_170:2', 'test_diamond_locked:1'], dtype=object)"
      ]
     },
     "execution_count": 24,
     "metadata": {},
     "output_type": "execute_result"
    }
   ],
   "source": [
    "# attribute 7 is the troublesome one\n",
    "df[df['attribute']=='7']['attribute_value'].unique()"
   ]
  },
  {
   "cell_type": "markdown",
   "metadata": {},
   "source": [
    "### Att 8"
   ]
  },
  {
   "cell_type": "code",
   "execution_count": 22,
   "metadata": {
    "ExecuteTime": {
     "end_time": "2019-03-06T18:01:29.752413Z",
     "start_time": "2019-03-06T18:01:11.731691Z"
    }
   },
   "outputs": [
    {
     "data": {
      "text/plain": [
       "array(['1', '4', '8', '9', '10', '2', '12', '5', '7', '0', '3', '6', '13',\n",
       "       '11', '22', '19', '18', '28', '16', '14', '15', '17', '21', '20',\n",
       "       '39', '29', '30', '25', '32', '26', '27', '33', '31', '23', '24',\n",
       "       '48', '34', '44', '47', '40', '36', '38', '37', '35', '41', '46',\n",
       "       '43', '42', '51', '50', '49', '45', '56', '54', '62', '61', '52',\n",
       "       '60', '53', '58', '55'], dtype=object)"
      ]
     },
     "execution_count": 22,
     "metadata": {},
     "output_type": "execute_result"
    }
   ],
   "source": [
    "attributes[attributes['attribute']=='8']['attribute_value'].unique()"
   ]
  },
  {
   "cell_type": "markdown",
   "metadata": {},
   "source": [
    "### Att 75"
   ]
  },
  {
   "cell_type": "code",
   "execution_count": 23,
   "metadata": {
    "ExecuteTime": {
     "end_time": "2019-03-06T18:02:14.036363Z",
     "start_time": "2019-03-06T18:01:55.432086Z"
    }
   },
   "outputs": [
    {
     "data": {
      "text/plain": [
       "array(['5', '2', '0', '1', '4', '3', '11', '13', '9', '20', '22', '24',\n",
       "       '8', '25', '26', '14', '6', '18', '17', '15', '45', '42', '46',\n",
       "       '40', '12', '41', '16', '34', '23', '44', '32', '21', '33', '38',\n",
       "       '31', '28', '39', '29', '30', '7', '10', '19', '27', '47', '50',\n",
       "       '37', '49', '36', '48', '43', '35', '114', '162', '116', '145',\n",
       "       '69', '92', '118', '146', '70', '56', '177', '89', '117', '175',\n",
       "       '208', '172', '113', '144', '83', '81', '171', '188', '190', '165',\n",
       "       '166', '73', '135', '156', '99', '51', '201', '96', '191', '141',\n",
       "       '103', '94', '184', '131', '174', '74', '80', '187', '181', '196',\n",
       "       '211', '163', '72', '157', '210', '110', '207', '206', '86', '84',\n",
       "       '153', '179', '152', '119', '59', '161', '102', '148', '104',\n",
       "       '143', '75', '124', '173', '71', '159', '160', '65', '178', '107',\n",
       "       '106', '109', '128', '127', '100', '202', '203', '53', '151', '68',\n",
       "       '63', '130', '121', '133', '139', '147', '85', '66', '186', '97',\n",
       "       '79', '58', '60', '112', '198', '123', '67', '154', '134', '125',\n",
       "       '111', '129', '136', '142', '150', '105', '95', '62', '168', '132',\n",
       "       '88', '55', '77', '52', '90', '91', '57', '64', '61', '54', '93',\n",
       "       '76', '82', '87', '78', '158', '204', '98', '232', '244', '217',\n",
       "       '216', '189', '284', '264', '230', '240', '259', '227', '294',\n",
       "       '254', '257', '185', '274', '310', '245', '122', '238', '315',\n",
       "       '149', '243', '197', '282', '266', '297', '242', '239', '279',\n",
       "       '220', '290', '183', '182', '180', '305', '250', '249', '261',\n",
       "       '256', '225', '223', '237', '288', '306', '312', '120', '169',\n",
       "       '199', '296', '255', '265', '314', '280', '298', '300', '309',\n",
       "       '277', '273', '313', '293', '108', '319', '307', '320', '325',\n",
       "       '194', '299', '269', '236', '263', '276', '260', '322', '212',\n",
       "       '155', '221', '200', '233', '278', '323', '270', '328', '228',\n",
       "       '318', '231', '324', '247', '281', '234', '271', '138', '214',\n",
       "       '137', '304', '303', '291', '101', '126', '115', '164', '176',\n",
       "       '170', '193', '205', '195', '248', '167', '226', '258', '140',\n",
       "       '466', '462', '218', '192', '235', '213', '241', '224', '222',\n",
       "       '209', '246', '219', '229', '253', '215', '262', '272', '267',\n",
       "       '275', '251', '423', '289', '369', '311', '365', '287', '404',\n",
       "       '252', '301', '302', '403', '406', '357', '356', '329', '286',\n",
       "       '434', '439', '414', '331', '389', '376', '394', '442', '397',\n",
       "       '375', '317', '316', '372', '398', '382', '381', '416', '388',\n",
       "       '386', '345', '428', '420', '349', '373', '327', '347', '336',\n",
       "       '346', '348', '400', '351', '366', '431', '295', '353', '441',\n",
       "       '440', '354', '335', '332', '422', '361', '364', '360', '343',\n",
       "       '438', '355', '429', '408', '415', '321', '392', '387', '384',\n",
       "       '340', '363', '350', '433', '413', '333', '378', '292', '334',\n",
       "       '432', '435', '352', '338', '342', '407', '379', '380', '399',\n",
       "       '341', '268', '283', '285', '425', '417', '869', '795', '395',\n",
       "       '473', '922', '542', '326', '339', '308', '337', '330', '588',\n",
       "       '646', '485', '393', '577', '474', '574', '367', '377', '362',\n",
       "       '391', '390', '368', '383', '699', '745', '490', '344', '358',\n",
       "       '359', '371', '665', '697', '385', '739', '374', '827', '418',\n",
       "       '410', '401', '412', '402', '396', '370', '411', '682', '421',\n",
       "       '430', '427', '405', '444', '526', '921', '746', '920', '658',\n",
       "       '649', '671', '834', '445', '409', '443', '446', '448', '837',\n",
       "       '463', '754', '506', '829', '735', '636', '572', '755', '544',\n",
       "       '514', '553', '551', '686', '469', '660', '503', '732', '733',\n",
       "       '731', '761', '743', '786', '848', '661', '721', '543', '798',\n",
       "       '719', '558', '587', '603', '568', '722', '504', '583', '720',\n",
       "       '586', '820', '533', '527', '477', '497', '505', '488', '472',\n",
       "       '465', '456', '475', '455', '481', '484', '419', '519', '457',\n",
       "       '525', '523', '522', '437', '529', '479', '426', '535', '452',\n",
       "       '471', '509', '447', '436', '532', '528', '450', '496', '516',\n",
       "       '449', '498', '478', '494', '495', '512', '424', '476', '480',\n",
       "       '467', '464', '500', '458', '518', '502', '508', '486', '460',\n",
       "       '530', '517', '507', '492', '459', '513', '493', '501', '491',\n",
       "       '520', '515', '524', '483', '816', '595', '582', '632', '818',\n",
       "       '881', '702', '690', '843', '451', '683', '624', '698', '769',\n",
       "       '866', '887', '835', '748', '765', '752', '796', '778', '776',\n",
       "       '750', '768', '727', '817', '897', '858', '777', '775', '892',\n",
       "       '742', '772', '762', '763', '771', '767', '787', '891', '875',\n",
       "       '811', '893', '737', '845', '740', '736', '802', '850', '831',\n",
       "       '729', '790', '758', '861', '883', '749', '823', '901', '780',\n",
       "       '791', '783', '757', '854', '885', '856', '895', '813', '760',\n",
       "       '841', '852', '744', '741', '894', '725', '807', '844', '545',\n",
       "       '657', '556', '453', '696'], dtype=object)"
      ]
     },
     "execution_count": 23,
     "metadata": {},
     "output_type": "execute_result"
    }
   ],
   "source": [
    "attributes[attributes['attribute']=='75']['attribute_value'].unique()"
   ]
  },
  {
   "cell_type": "markdown",
   "metadata": {},
   "source": [
    "### Att 18"
   ]
  },
  {
   "cell_type": "code",
   "execution_count": 24,
   "metadata": {
    "ExecuteTime": {
     "end_time": "2019-03-06T18:03:10.962705Z",
     "start_time": "2019-03-06T18:02:53.230006Z"
    }
   },
   "outputs": [
    {
     "data": {
      "text/plain": [
       "array(['0', '26', '45', '65', '13', '23', '1', '8', '10', '50', '33',\n",
       "       '17', '3', '53', '15', '11', '28', '12', '30', '6', '18', '25',\n",
       "       '35', '38', '5', '2', '14', '27', '36', '16', '40', '21', '20',\n",
       "       '48', '34', '29', '9', '47', '7', '4', '19', '22', '46', '37',\n",
       "       '41', '31', '24', '32', '49', '39', '43', '55', '42', '51', '63',\n",
       "       '9999', '999999', '58', '999'], dtype=object)"
      ]
     },
     "execution_count": 24,
     "metadata": {},
     "output_type": "execute_result"
    }
   ],
   "source": [
    "attributes[attributes['attribute']=='18']['attribute_value'].unique()"
   ]
  },
  {
   "cell_type": "markdown",
   "metadata": {},
   "source": [
    "### Att 10"
   ]
  },
  {
   "cell_type": "code",
   "execution_count": 25,
   "metadata": {
    "ExecuteTime": {
     "end_time": "2019-03-06T18:03:56.231634Z",
     "start_time": "2019-03-06T18:03:37.866339Z"
    }
   },
   "outputs": [
    {
     "data": {
      "text/plain": [
       "array(['romance_the_royal_romance_01:1', nan,\n",
       "       'romance_high_school_story_01:1',\n",
       "       'fantasy_the_crown_and_the_flame_01:1', 'romance_the_junior_01:1',\n",
       "       'horror_bloodbound_01:1', 'romance_big_sky_country_01:1',\n",
       "       'romance_desire_and_decorum_01:1',\n",
       "       'romance_americas_most_eligible_01:1',\n",
       "       'fantasy_the_elementalists_01:1', 'romance_the_freshman_01:1',\n",
       "       'romance_the_freshman_03:1', 'romance_rules_of_engagement_01:1',\n",
       "       'romance_the_freshman_02:1', 'adventure_endless_summer_01:1',\n",
       "       'romance_high_school_story_04:1', 'crime_most_wanted_01:1',\n",
       "       'horror_it_lives_in_the_woods_01:1',\n",
       "       'romance_rules_of_engagement_04:1',\n",
       "       'romance_the_freshman_02_side_holiday_special_01:1',\n",
       "       'romance_perfect_match_01:1', 'horror_it_lives_in_the_woods_02:1',\n",
       "       'romance_the_freshman_01_side_chris_01:1',\n",
       "       'romance_courtesan_of_rome_01:1', 'mystery_veil_of_secrets_01:1',\n",
       "       'romance_lovehacks_01:1', 'romance_high_school_story_03:1',\n",
       "       'romance_the_royal_romance_03:1',\n",
       "       'fantasy_the_crown_and_the_flame_02:1',\n",
       "       'scifi_across_the_void_01:1', 'romance_the_senior_01:1',\n",
       "       'romance_rules_of_engagement_01:0',\n",
       "       'romance_red_carpet_diaries_01:1',\n",
       "       'romance_rules_of_engagement_03:1', 'romance_the_freshman_01:0',\n",
       "       'horror_the_haunting_of_braidwood_manor_01:1',\n",
       "       'adventure_hero_01:1', 'romance_home_for_the_holidays_01:1',\n",
       "       'romance_the_freshman_03_side_valentines_special_01:1',\n",
       "       'romance_lovehacks_02:1', 'fantasy_the_crown_and_the_flame_01:0',\n",
       "       'romance_the_freshman_02_side_halloween_01:1',\n",
       "       'romance_the_freshman_04:1', 'adventure_endless_summer_03:1',\n",
       "       'romance_the_royal_romance_02:1',\n",
       "       'romance_the_freshman_01_side_kaitlyn_01:1',\n",
       "       'romance_rules_of_engagement_02:1', 'crime_most_wanted_01:0',\n",
       "       'romance_perfect_match_02:1',\n",
       "       'romance_the_freshman_01_side_james_01:1',\n",
       "       'romance_the_sophomore_01:1', 'romance_the_sophomore_02:1',\n",
       "       'romance_high_school_story_02:1',\n",
       "       'romance_the_sophomore_01_side_halloween_01:1',\n",
       "       'romance_red_carpet_diaries_02:1', 'adventure_endless_summer_02:1',\n",
       "       'fantasy_the_crown_and_the_flame_03:1', 'crime_the_heist_01:1',\n",
       "       'test_import_helper_code_01:1', 'test_chapter_replay:1',\n",
       "       'test_final_chapter_replay:1', 'romance_the_freshman_02:0',\n",
       "       'romance_desire_and_decorum_02:1',\n",
       "       'romance_rules_of_engagement_01:19', 'romance_the_freshman_01:4',\n",
       "       'romance_the_freshman_01:7', 'romance_lovehacks_01:18',\n",
       "       'test_series_01:1', 'test_scripts_200:1', 'test_theme_all:1',\n",
       "       'romance_the_royal_romance_01:19',\n",
       "       'romance_desire_and_decorum_01:16', 'test_chat_andrew_001:1',\n",
       "       'test_tobecontinued_final:1', 'test_scripts_230:1',\n",
       "       'test_scripts_190:1', 'kLoadingFlagBlockOnAsyncCall',\n",
       "       'test_ticket_locked:1'], dtype=object)"
      ]
     },
     "execution_count": 25,
     "metadata": {},
     "output_type": "execute_result"
    }
   ],
   "source": [
    "attributes[attributes['attribute']=='10']['attribute_value'].unique()"
   ]
  },
  {
   "cell_type": "markdown",
   "metadata": {},
   "source": [
    "### Att 11"
   ]
  },
  {
   "cell_type": "code",
   "execution_count": 26,
   "metadata": {
    "ExecuteTime": {
     "end_time": "2019-03-06T18:04:56.981473Z",
     "start_time": "2019-03-06T18:04:38.422387Z"
    }
   },
   "outputs": [
    {
     "data": {
      "text/plain": [
       "array(['0', '132', '73', '1', '11', '6', '41', '20', '17', '2', '178',\n",
       "       '56', '16', '136', '10', '196', '49', '114', '3', '4', '47', '40',\n",
       "       '43', '32', '604', '65', '134', '151', '22', '155', '7', '37',\n",
       "       '303', '191', '55', '12', '77', '23', '9', '51', '103', '39',\n",
       "       '327', '14', '18', '5', '25', '36', '29', '59', '254', '27', '316',\n",
       "       '305', '380', '33', '135', '123', '30', '52', '167', '105', '97',\n",
       "       '90', '62', '35', '46', '112', '19', '8', '26', '48', '53', '15',\n",
       "       '91', '21', '169', '13', '117', '150', '204', '156', '442', '187',\n",
       "       '111', '168', '171', '113', '31', '568', '44', '125', '325', '107',\n",
       "       '54', '139', '69', '24', '206', '267', '154', '100', '418', '347',\n",
       "       '84', '232', '104', '50', '28', '429', '80', '67', '148', '106',\n",
       "       '78', '118', '71', '280', '338', '430', '236', '42', '99', '256',\n",
       "       '361', '409', '92', '314', '482', '149', '364', '45', '82', '489',\n",
       "       '75', '63', '159', '98', '58', '93', '174', '72', '137', '89',\n",
       "       '290', '127', '121', '162', '312', '101', '102', '355', '271',\n",
       "       '34', '94', '366', '164', '74', '95', '170', '86', '142', '126',\n",
       "       '138', '257', '261', '288', '68', '96', '499', '402', '144', '79',\n",
       "       '414', '502', '200', '124', '210', '57', '235', '382', '252',\n",
       "       '268', '182', '297', '362', '721', '340', '408', '215', '208',\n",
       "       '247', '606', '464', '110', '189', '300', '379', '318', '129',\n",
       "       '692', '64', '209', '83', '61', '240', '374', '38', '691', '241',\n",
       "       '251', '192', '354', '197', '222', '618', '60', '211', '378',\n",
       "       '115', '109', '205', '234', '276', '468', '116', '108', '301',\n",
       "       '120', '262', '76', '161', '140', '308', '270', '133', '193',\n",
       "       '363', '227', '320', '70', '390', '360', '153', '237', '172',\n",
       "       '263', '472', '226', '218', '350', '223', '85', '243', '344',\n",
       "       '219', '66', '180', '497', '273', '157', '203', '351', '119',\n",
       "       '128', '445', '81', '141', '87', '239', '173', '324', '422', '199',\n",
       "       '279', '385', '298', '419', '447', '291', '158', '437', '443',\n",
       "       '185', '388', '348', '529', '190', '242', '181', '480', '404',\n",
       "       '145', '491', '266', '516', '265', '146', '412', '284', '201',\n",
       "       '194', '368', '221', '346', '644', '292', '160', '542', '289',\n",
       "       '461', '283', '322', '166', '195', '88', '359', '454', '245',\n",
       "       '294', '152', '411', '392', '421', '476', '383', '212', '416',\n",
       "       '258', '307', '287', '413', '431', '228', '369', '343', '505',\n",
       "       '479', '488', '415', '286', '349', '371', '186', '504', '393',\n",
       "       '554', '481', '130', '281', '326', '165', '278', '184', '217',\n",
       "       '131', '353', '377', '334', '438', '274', '264', '620', '406',\n",
       "       '494', '332', '375', '424', '463', '163', '295', '376', '214',\n",
       "       '272', '365', '345', '220', '793', '561', '246', '177', '401',\n",
       "       '309', '306', '198', '1004', '175', '216', '925', '202', '143',\n",
       "       '277', '282', '231', '319', '207', '399', '321', '311', '229',\n",
       "       '250', '213', '188', '716', '183', '582', '293', '446', '275',\n",
       "       '147', '370', '122', '407', '339', '518', '328', '450', '285',\n",
       "       '584', '381', '304', '342', '372', '465', '485', '299', '225',\n",
       "       '269', '633', '176', '425', '230', '403', '253', '323', '260',\n",
       "       '543', '600', '336', '539', '244', '521', '495', '453', '496',\n",
       "       '331', '477', '556', '179', '391', '433', '547', '809', '525',\n",
       "       '470', '330', '420', '397', '357', '503', '498', '373', '248',\n",
       "       '629', '400', '436', '398', '302', '523', '387', '335', '451',\n",
       "       '806', '623', '493', '456', '780', '255', '333', '631', '224',\n",
       "       '774', '585', '352', '589', '457', '564', '667', '689', '315',\n",
       "       '514', '394', '555', '238', '550', '386', '622', '417', '869',\n",
       "       '310', '259', '296', '770', '367', '410', '520', '595', '747',\n",
       "       '569', '717', '449', '434', '405', '396', '908', '452', '439',\n",
       "       '613', '512', '233', '329', '317', '682', '1066', '492', '395',\n",
       "       '515', '594', '519', '427', '313', '548', '540', '435', '487',\n",
       "       '654', '670', '471', '557', '775', '358', '534', '662', '574',\n",
       "       '531', '455', '423', '341', '546', '337', '783', '511', '538',\n",
       "       '720', '532', '459', '356', '545', '460', '473', '533', '249',\n",
       "       '607', '876', '501', '474', '500', '617', '432', '384', '509',\n",
       "       '729', '588', '469', '458', '541', '753', '638', '484'],\n",
       "      dtype=object)"
      ]
     },
     "execution_count": 26,
     "metadata": {},
     "output_type": "execute_result"
    }
   ],
   "source": [
    "attributes[attributes['attribute']=='11']['attribute_value'].unique()"
   ]
  },
  {
   "cell_type": "markdown",
   "metadata": {},
   "source": [
    "### Att 13"
   ]
  },
  {
   "cell_type": "code",
   "execution_count": 27,
   "metadata": {
    "ExecuteTime": {
     "end_time": "2019-03-06T18:05:50.045522Z",
     "start_time": "2019-03-06T18:05:30.953351Z"
    }
   },
   "outputs": [
    {
     "data": {
      "text/plain": [
       "array(['0.06', '0.03', '0.00', ..., '270.50', '288.66', '130.43'],\n",
       "      dtype=object)"
      ]
     },
     "execution_count": 27,
     "metadata": {},
     "output_type": "execute_result"
    }
   ],
   "source": [
    "attributes[attributes['attribute']=='13']['attribute_value'].unique()"
   ]
  },
  {
   "cell_type": "markdown",
   "metadata": {},
   "source": [
    "### Att 14"
   ]
  },
  {
   "cell_type": "code",
   "execution_count": 28,
   "metadata": {
    "ExecuteTime": {
     "end_time": "2019-03-06T18:06:09.735862Z",
     "start_time": "2019-03-06T18:05:50.048468Z"
    }
   },
   "outputs": [
    {
     "data": {
      "text/plain": [
       "array(['0.00', '178.21', '169.83', ..., '268.98', '270.37', '288.53'],\n",
       "      dtype=object)"
      ]
     },
     "execution_count": 28,
     "metadata": {},
     "output_type": "execute_result"
    }
   ],
   "source": [
    "attributes[attributes['attribute']=='14']['attribute_value'].unique()"
   ]
  },
  {
   "cell_type": "markdown",
   "metadata": {},
   "source": [
    "### Att 15"
   ]
  },
  {
   "cell_type": "code",
   "execution_count": 29,
   "metadata": {
    "ExecuteTime": {
     "end_time": "2019-03-06T18:06:28.825193Z",
     "start_time": "2019-03-06T18:06:09.738487Z"
    }
   },
   "outputs": [
    {
     "data": {
      "text/plain": [
       "array(['0', '41', '38', '42', '45', '17', '20', '19', '47', '21', '36',\n",
       "       '44', '10', '11', '9', '13', '32', '6', '31', '16', '28', '8',\n",
       "       '30', '12', '34', '25', '48', '35', '7', '49', '39', '46', '33',\n",
       "       '2', '26', '15', '24', '23', '22', '5', '1', '3', '149', '4', '18',\n",
       "       '14', '195', '27', '86', '54', '87', '68', '51', '69', '52', '78',\n",
       "       '65', '64', '85', '53', '76', '79', '71', '82', '50', '60', '58',\n",
       "       '29', '59', '62', '63', '43', '40', '37', '56', '55', '57', '73',\n",
       "       '70', '77', '74', '61', '66', '67', '92', '84', '80', '75', '88',\n",
       "       '89', '90', '96', '72', '95', '91', '93', '83', '446', '166',\n",
       "       '137', '102', '100', '127', '121', '119', '128', '106', '108',\n",
       "       '126', '122', '118', '125', '123', '113', '116', '109', '81',\n",
       "       '103', '731', '713', '112', '98', '107', '94', '99', '480', '232',\n",
       "       '111', '124', '129', '104', '97', '157', '132', '185', '154',\n",
       "       '150', '110', '134', '117', '101', '131', '133', '142', '140',\n",
       "       '178', '180', '173', '153', '182', '177', '169', '176', '148',\n",
       "       '151', '130', '181', '147', '155', '146', '187', '141', '165',\n",
       "       '145', '188', '136', '144', '174', '120', '192', '115', '189',\n",
       "       '158', '190', '193', '161', '105', '135', '260', '175', '194',\n",
       "       '252', '186', '233', '205', '253', '298', '254', '268', '284',\n",
       "       '203', '143', '163', '259', '170', '183', '250', '248', '256',\n",
       "       '198', '199', '272', '202', '279', '236', '237', '234', '235',\n",
       "       '244', '221', '251', '283', '297', '215', '226', '280', '219',\n",
       "       '228', '211', '217', '294', '289', '230', '162', '231', '207',\n",
       "       '288', '265', '301', '171', '306', '208', '308', '309', '303',\n",
       "       '307', '287', '266', '164', '262', '257', '210', '214', '172',\n",
       "       '263', '191', '258', '167', '264', '139', '304', '114', '168',\n",
       "       '209', '276', '156', '377', '160', '206', '152', '223', '197',\n",
       "       '222', '201', '225', '212', '224', '216', '218', '184', '200',\n",
       "       '196', '204', '179', '271', '138', '245', '229', '239', '241',\n",
       "       '277', '699', '725', '213', '269', '227', '292', '275', '291',\n",
       "       '281', '238', '293', '273', '278', '286', '282', '285', '319',\n",
       "       '159', '1101', '746', '369', '744', '242', '350', '703', '505',\n",
       "       '247', '255', '249', '243', '311', '310', '527', '220', '358',\n",
       "       '295', '360', '711', '321', '341', '357', '270', '845', '344',\n",
       "       '326', '348', '339', '340', '347', '320', '329', '313', '300',\n",
       "       '342', '274', '359', '356', '526', '666', '325', '856', '694',\n",
       "       '693', '316', '240', '267', '389', '726', '362', '246', '355',\n",
       "       '692', '410', '381', '443', '317', '305', '290', '434', '431',\n",
       "       '425', '447', '445', '296', '439', '415', '371', '453', '424',\n",
       "       '444', '394', '413', '399', '331', '380', '451', '388', '376',\n",
       "       '449', '450', '383', '416', '400', '398', '330', '417', '332',\n",
       "       '333'], dtype=object)"
      ]
     },
     "execution_count": 29,
     "metadata": {},
     "output_type": "execute_result"
    }
   ],
   "source": [
    "attributes[attributes['attribute']=='15']['attribute_value'].unique()"
   ]
  },
  {
   "cell_type": "code",
   "execution_count": 17,
   "metadata": {
    "ExecuteTime": {
     "end_time": "2019-02-27T21:38:30.716066Z",
     "start_time": "2019-02-27T21:38:29.175024Z"
    }
   },
   "outputs": [
    {
     "data": {
      "text/plain": [
       "(8635008, 5)"
      ]
     },
     "execution_count": 17,
     "metadata": {},
     "output_type": "execute_result"
    }
   ],
   "source": [
    "# df[(df['label_7']==1) & (df['attribute']=='4')]"
   ]
  },
  {
   "cell_type": "code",
   "execution_count": 37,
   "metadata": {
    "ExecuteTime": {
     "end_time": "2019-02-27T21:49:54.352622Z",
     "start_time": "2019-02-27T21:49:47.635745Z"
    }
   },
   "outputs": [],
   "source": [
    "## Plot the correlation matrix for the numerical values\n",
    "selectedDF = df[df['attribute']=='4'][['attribute_value', 'label_7']]\n",
    "selectedDF['attribute_value'] = selectedDF['attribute_value'].astype(float)"
   ]
  },
  {
   "cell_type": "code",
   "execution_count": 38,
   "metadata": {
    "ExecuteTime": {
     "end_time": "2019-02-27T21:49:55.617635Z",
     "start_time": "2019-02-27T21:49:55.178772Z"
    }
   },
   "outputs": [
    {
     "data": {
      "text/plain": [
       "<matplotlib.axes._subplots.AxesSubplot at 0x1c9c6e198>"
      ]
     },
     "execution_count": 38,
     "metadata": {},
     "output_type": "execute_result"
    },
    {
     "data": {
      "image/png": "[encoded data removed]",
      "text/plain": [
       "<Figure size 432x288 with 2 Axes>"
      ]
     },
     "metadata": {
      "needs_background": "light"
     },
     "output_type": "display_data"
    }
   ],
   "source": [
    "import seaborn as sns\n",
    "sns.heatmap(selectedDF.corr(),\n",
    "       xticklabels=selectedDF.corr().columns,\n",
    "       yticklabels=selectedDF.corr().columns,\n",
    "          cmap=\"Blues\",\n",
    "          fmt='d')"
   ]
  },
  {
   "cell_type": "markdown",
   "metadata": {},
   "source": [
    "### Att 1"
   ]
  },
  {
   "cell_type": "code",
   "execution_count": 34,
   "metadata": {
    "ExecuteTime": {
     "end_time": "2019-02-27T21:48:16.073050Z",
     "start_time": "2019-02-27T21:48:10.360149Z"
    }
   },
   "outputs": [
    {
     "data": {
      "text/plain": [
       "array(['7', '3', '58', ..., '696', '1642', '1567'], dtype=object)"
      ]
     },
     "execution_count": 34,
     "metadata": {},
     "output_type": "execute_result"
    }
   ],
   "source": [
    "# attribute 1 is continuous\n",
    "df[df['attribute']=='1']['attribute_value'].unique()"
   ]
  },
  {
   "cell_type": "code",
   "execution_count": 36,
   "metadata": {
    "ExecuteTime": {
     "end_time": "2019-02-27T21:49:29.582260Z",
     "start_time": "2019-02-27T21:49:24.135381Z"
    }
   },
   "outputs": [
    {
     "data": {
      "text/plain": [
       "<matplotlib.axes._subplots.AxesSubplot at 0x1d08ee7b8>"
      ]
     },
     "execution_count": 36,
     "metadata": {},
     "output_type": "execute_result"
    },
    {
     "data": {
      "image/png": "[encoded data removed]",
      "text/plain": [
       "<Figure size 432x288 with 2 Axes>"
      ]
     },
     "metadata": {
      "needs_background": "light"
     },
     "output_type": "display_data"
    }
   ],
   "source": [
    "## Plot the correlation matrix for the numerical values\n",
    "selectedDF = df[df['attribute']=='1'][['attribute_value', 'label_7']]\n",
    "selectedDF['attribute_value'] = selectedDF['attribute_value'].astype(float)\n",
    "\n",
    "sns.heatmap(selectedDF.corr(),\n",
    "       xticklabels=selectedDF.corr().columns,\n",
    "       yticklabels=selectedDF.corr().columns,\n",
    "          cmap=\"Blues\",\n",
    "          fmt='d')"
   ]
  },
  {
   "cell_type": "markdown",
   "metadata": {},
   "source": [
    "### Att 3"
   ]
  },
  {
   "cell_type": "code",
   "execution_count": 39,
   "metadata": {
    "ExecuteTime": {
     "end_time": "2019-02-27T21:50:23.419419Z",
     "start_time": "2019-02-27T21:50:18.462579Z"
    }
   },
   "outputs": [
    {
     "data": {
      "text/plain": [
       "array(['0', '24', '17', '18', '22', '20', '19', '15', '11', '14', '23',\n",
       "       '1', '29', '26', '9', '6', '30', '5', '28', '2', '10', '3', '8',\n",
       "       '21', '4', '7', '27', '134', '137', '138', '139', '121', '135',\n",
       "       '128', '127', '116', '118', '119', '140', '122', '148', '117',\n",
       "       '147', '142', '133', '120', '146', '149', '144', '145', '143',\n",
       "       '16', '12', '25', '13', '136', '131', '35', '32', '31', '33',\n",
       "       '132', '47', '45', '103', '52', '62', '59', '76', '81', '93', '73',\n",
       "       '66', '44', '82', '111', '54', '107', '70', '68', '108', '57',\n",
       "       '123', '65', '125', '61', '72', '56', '91', '129', '115', '92',\n",
       "       '102', '78', '55', '84', '109', '77', '89', '38', '100', '96',\n",
       "       '86', '85', '36', '83', '69', '41', '53', '34', '80', '58', '105',\n",
       "       '141', '40', '113', '50', '112', '106', '104', '114', '94', '97',\n",
       "       '150', '37', '43', '51', '39', '49', '46', '48', '42', '124', '71',\n",
       "       '67', '101', '98', '126', '95', '63', '99', '75', '166', '165',\n",
       "       '60', '87', '88', '64', '130', '90', '151', '110', '79', '155',\n",
       "       '158', '152', '161', '319', '324', '173', '171', '178', '325',\n",
       "       '323', '321', '172', '174', '320', '316', '317', '176', '175',\n",
       "       '159', '163', '157', '156', '169', '154', '153', '179', '74',\n",
       "       '164', '170', '168', '160', '359', '185', '177', '623', '275',\n",
       "       '167', '181', '193', '180', '182', '190', '189', '183', '285',\n",
       "       '283', '287', '291', '282', '286', '284', '289', '214', '223',\n",
       "       '225', '188', '196', '205', '233', '229', '206', '209', '235',\n",
       "       '227', '215', '186', '226', '222', '201', '195', '213', '191',\n",
       "       '224', '162', '184', '192', '194', '203', '204', '198', '202',\n",
       "       '207', '208', '210', '218', '221', '197', '270', '268', '267',\n",
       "       '232', '281', '295', '294', '241', '211', '230', '239', '238',\n",
       "       '298', '219', '299', '256', '296', '245', '261', '260', '272',\n",
       "       '300', '259', '249', '365', '262', '264', '234', '187'],\n",
       "      dtype=object)"
      ]
     },
     "execution_count": 39,
     "metadata": {},
     "output_type": "execute_result"
    }
   ],
   "source": [
    "\n",
    "df[df['attribute']=='3']['attribute_value'].unique()"
   ]
  },
  {
   "cell_type": "code",
   "execution_count": null,
   "metadata": {},
   "outputs": [],
   "source": [
    "attr_codes = attributes['attribute'].unique()"
   ]
  },
  {
   "cell_type": "code",
   "execution_count": null,
   "metadata": {},
   "outputs": [],
   "source": [
    "float_col = []\n",
    "for attr_code in attr_codes:\n",
    "    # attribute 1 is continuous\n",
    "    df[df['attribute']=='3']['attribute_value'].unique()"
   ]
  },
  {
   "cell_type": "code",
   "execution_count": 40,
   "metadata": {
    "ExecuteTime": {
     "end_time": "2019-02-27T21:51:05.911548Z",
     "start_time": "2019-02-27T21:51:00.653018Z"
    }
   },
   "outputs": [
    {
     "data": {
      "text/plain": [
       "<matplotlib.axes._subplots.AxesSubplot at 0x1c39b19e8>"
      ]
     },
     "execution_count": 40,
     "metadata": {},
     "output_type": "execute_result"
    },
    {
     "data": {
      "image/png": "[encoded data removed]",
      "text/plain": [
       "<Figure size 432x288 with 2 Axes>"
      ]
     },
     "metadata": {
      "needs_background": "light"
     },
     "output_type": "display_data"
    }
   ],
   "source": [
    "## Plot the correlation matrix for the numerical values\n",
    "selectedDF = df[df['attribute']=='3'][['attribute_value', 'label_7']]\n",
    "selectedDF['attribute_value'] = selectedDF['attribute_value'].astype(float)\n",
    "\n",
    "sns.heatmap(selectedDF.corr(),\n",
    "       xticklabels=selectedDF.corr().columns,\n",
    "       yticklabels=selectedDF.corr().columns,\n",
    "          cmap=\"Blues\",\n",
    "          fmt='d')"
   ]
  },
  {
   "cell_type": "markdown",
   "metadata": {},
   "source": [
    "### Att 6"
   ]
  },
  {
   "cell_type": "code",
   "execution_count": 78,
   "metadata": {
    "ExecuteTime": {
     "end_time": "2019-02-27T23:26:41.347379Z",
     "start_time": "2019-02-27T23:26:33.331104Z"
    }
   },
   "outputs": [
    {
     "data": {
      "text/plain": [
       "array(['87', '13', '61', '68', '44', '66', '53', '88', '47', '43', '15',\n",
       "       '42', '67', '64', '41', '65', '23', '1', '46', '74', '24', '50',\n",
       "       '51', '71', '0', '37', '4', '9', '85', '40', '55', '58', '86',\n",
       "       '76', '2', '22', '32', '3', '8', '80', '10', '5', '39', '38', '75',\n",
       "       '35', '30', '7', '63', '12', '11', '18', '17', '20', '16', '21',\n",
       "       '6', '14', '19', '26', '57', '59', '34', '62', '33', '36', '54',\n",
       "       '56', '45', '25', '29', '48', '52', '131', '119', '124', '96',\n",
       "       '127', '129', '115', '89', '103', '69', '70', '73', '72', '101',\n",
       "       '97', '121', '100', '93', '81', '111', '122', '90', '107', '130',\n",
       "       '82', '92', '78', '106', '49', '95', '84', '120', '94', '109',\n",
       "       '108', '114', '126', '31', '116', '128', '83', '91', '113', '60',\n",
       "       '27', '28', '112', '104', '158', '136', '162', '178', '98', '160',\n",
       "       '141', '165', '150', '163', '139', '135', '137', '171', '157',\n",
       "       '155', '110', '77', '168', '142', '176', '175', '177', '123',\n",
       "       '144', '140', '147', '173', '118', '174', '133', '161', '169',\n",
       "       '138', '99', '117', '159', '102', '146', '79', '156', '143', '151',\n",
       "       '166', '164', '154', '152', '335', '105', '324', '552', '167',\n",
       "       '202', '206', '214', '187', '190', '193', '220', '201', '208',\n",
       "       '181', '145', '153', '215', '203', '170', '180', '185', '198',\n",
       "       '209', '132', '189', '266', '326', '134', '125', '284', '270',\n",
       "       '294', '200', '259', '250', '280', '276', '218', '261', '194',\n",
       "       '252', '277', '296', '240', '230', '228', '287', '229', '172',\n",
       "       '148', '204', '225', '258', '186', '183', '199', '248', '257',\n",
       "       '191', '236', '244', '246', '245', '211', '295', '233', '221',\n",
       "       '292', '279', '290', '289', '263', '274', '226', '224', '268',\n",
       "       '530', '402', '149', '618', '617', '423', '592', '405', '184',\n",
       "       '188', '182', '196', '195', '205', '415', '192', '197', '422',\n",
       "       '690', '179', '321', '492', '391', '417', '418', '231', '227',\n",
       "       '238', '239', '247', '210', '219', '212', '251', '253', '254',\n",
       "       '222', '237', '207', '642', '465', '487', '425', '306', '300',\n",
       "       '282', '299', '308', '307', '256', '281', '242', '278', '241',\n",
       "       '275', '243', '311', '249', '285', '291', '271', '234', '217',\n",
       "       '267', '309', '310', '304', '303', '302', '216', '264', '213',\n",
       "       '265', '255', '232', '235', '223', '260', '593', '543', '542',\n",
       "       '385', '328', '548', '312', '352', '333', '399', '394', '403',\n",
       "       '416', '269', '407', '356', '273', '340', '400', '298', '315',\n",
       "       '373', '313', '370', '286', '411', '413', '330', '404', '351',\n",
       "       '363', '343', '369', '372', '364', '366', '338', '388', '387',\n",
       "       '345', '348', '421', '355', '398', '354', '390', '341', '375',\n",
       "       '377', '379', '397', '362', '320', '392', '316', '314', '358',\n",
       "       '337', '360', '357', '301', '359', '408', '419', '293', '350',\n",
       "       '420', '332', '381', '382', '319', '393', '283', '272', '262',\n",
       "       '590', '646', '432', '434', '573', '395', '655', '346', '327',\n",
       "       '336', '344', '325', '323', '339', '347', '331', '322', '288',\n",
       "       '349', '305', '334', '329', '297', '317', '342', '318', '463',\n",
       "       '406', '456', '613', '439', '436', '470', '509', '471', '506',\n",
       "       '380', '494', '508', '468', '428', '513', '514', '389', '503',\n",
       "       '454', '409', '510', '512', '441', '376', '481', '501', '464',\n",
       "       '430', '477', '515', '396', '479', '488', '480', '384', '482',\n",
       "       '486', '483', '500', '458', '475', '473', '490', '462', '461',\n",
       "       '451', '489', '478', '368', '498', '414', '438', '485', '466',\n",
       "       '447', '472', '443', '383', '467', '496', '435', '446', '449',\n",
       "       '502', '599', '588', '534', '626', '566', '580', '564', '574',\n",
       "       '427', '484', '635', '367', '644', '648', '595', '594', '647',\n",
       "       '629', '634', '619', '572', '611', '652', '605', '632', '628',\n",
       "       '638', '622', '563', '621', '537', '521', '442', '493', '361',\n",
       "       '374', '353', '491', '371', '469', '457', '386', '437', '520',\n",
       "       '517', '365', '410', '412', '433', '516', '426', '522', '431',\n",
       "       '519', '460', '504', '511', '453', '450', '444', '476', '455',\n",
       "       '518', '459', '401', '440', '448', '474', '631', '497', '499',\n",
       "       '495', '584', '575', '553', '625', '576', '577', '752', '535',\n",
       "       '529', '505', '587', '378', '641', '603', '598', '536', '586',\n",
       "       '560', '559', '549', '429', '545', '546', '539', '541', '532',\n",
       "       '452', '568', '547', '565', '538', '591', '567', '445', '579',\n",
       "       '585', '524', '562', '561', '551', '550', '525', '557', '571',\n",
       "       '558', '555', '589', '544', '556', '507', '533', '523', '540',\n",
       "       '569', '570', '528', '582', '554', '583', '531', '578', '609',\n",
       "       '608', '610', '424', '645', '604', '600', '602', '616', '615',\n",
       "       '637', '612', '657', '640', '527', '624', '650', '658', '606',\n",
       "       '620', '623', '526', '607', '614', '597', '581', '601', '596',\n",
       "       '630', '639', '687', '686', '688', '654', '627', '653', '649',\n",
       "       '662', '659', '692', '633', '643', '651', '672', '656', '636',\n",
       "       '660', '709', '663', '685', '695', '679', '691', '693', '681',\n",
       "       '680', '682', '674', '671', '666', '689', '694', '667', '696',\n",
       "       '678', '670', '676', '665', '661', '722', '745', '677', '673',\n",
       "       '664', '675', '668'], dtype=object)"
      ]
     },
     "execution_count": 78,
     "metadata": {},
     "output_type": "execute_result"
    }
   ],
   "source": [
    "\n",
    "df[df['attribute']=='6']['attribute_value'].unique()"
   ]
  },
  {
   "cell_type": "markdown",
   "metadata": {},
   "source": [
    "### Att 0"
   ]
  },
  {
   "cell_type": "code",
   "execution_count": 79,
   "metadata": {
    "ExecuteTime": {
     "end_time": "2019-02-27T23:26:55.556464Z",
     "start_time": "2019-02-27T23:26:50.638629Z"
    }
   },
   "outputs": [
    {
     "data": {
      "text/plain": [
       "array(['4', '0', '2', '3', '1', '8', '7', '5', '6', '9', '10', '11', '20',\n",
       "       '19', '37', '14', '15', '12', '13', '17', '23', '21', '18', '16',\n",
       "       '22', '27', '41', '28', '39', '29', '107', '48', '26', '30', '40',\n",
       "       '46', '24', '35', '25', '31', '42', '44', '36', '71', '32', '54',\n",
       "       '45', '91', '49', '105', '60', '47', '43', '34', '33', '50', '165',\n",
       "       '38', '73', '74', '53', '66', '69', '62', '52', '85', '170', '59',\n",
       "       '61', '51', '64', '55', '70', '81', '93', '56', '101', '57', '76',\n",
       "       '86', '160', '92', '65', '97', '78', '63', '178', '83', '72', '90',\n",
       "       '88', '187', '117', '58', '100', '67', '167', '94', '68', '87',\n",
       "       '77', '126', '79', '108', '109', '154', '179', '177', '114', '195',\n",
       "       '161', '89', '137', '82', '75', '182', '80', '84', '155', '131',\n",
       "       '166', '181', '112', '102'], dtype=object)"
      ]
     },
     "execution_count": 79,
     "metadata": {},
     "output_type": "execute_result"
    }
   ],
   "source": [
    "\n",
    "df[df['attribute']=='0']['attribute_value'].unique()"
   ]
  },
  {
   "cell_type": "markdown",
   "metadata": {},
   "source": [
    "### Att 8"
   ]
  },
  {
   "cell_type": "code",
   "execution_count": 81,
   "metadata": {
    "ExecuteTime": {
     "end_time": "2019-02-27T23:29:19.755211Z",
     "start_time": "2019-02-27T23:29:11.249111Z"
    }
   },
   "outputs": [
    {
     "data": {
      "text/plain": [
       "array(['8', '2', '6', '7', '5', '3', '1', '4', '0', '9', '11', '10', '12',\n",
       "       '18', '13', '15', '19', '16', '14', '17', '31', '35', '20', '23',\n",
       "       '50', '25', '24', '26', '27', '28', '21', '32', '22', '34', '47',\n",
       "       '30', '29', '37', '33', '48', '44', '36', '43', '45', '62', '41',\n",
       "       '49', '46', '42', '40', '38', '39', '53', '52', '51', '60', '54',\n",
       "       '61', '56', '58', '55'], dtype=object)"
      ]
     },
     "execution_count": 81,
     "metadata": {},
     "output_type": "execute_result"
    }
   ],
   "source": [
    "\n",
    "df[df['attribute']=='8']['attribute_value'].unique()"
   ]
  },
  {
   "cell_type": "code",
   "execution_count": 114,
   "metadata": {
    "ExecuteTime": {
     "end_time": "2019-02-27T23:40:07.633968Z",
     "start_time": "2019-02-27T23:40:01.604791Z"
    }
   },
   "outputs": [
    {
     "data": {
      "text/plain": [
       "user_id_hash                                                      attribute_value\n",
       "00000db35682058bb7916cb90f85709f54c1a0f7a3b6de247d94b1bc20c36b97  0                  12\n",
       "                                                                  1                   3\n",
       "000059859ec188af6035870faf885c3038cedda05b3a5480a8223649629d951e  0                  12\n",
       "000062e9be78f3da274fec338e78f89d12000e781967f23e248af3904cb5b3b7  0                  17\n",
       "                                                                  1                   3\n",
       "00006ad44c0d33a2a526caf75514643639b7b7070dfffd6d5abdb9e4f8099108  0                   8\n",
       "000081a7d841b0f953bdba6c185fd5cc335fd6015a30c3035fbf5496aab9be7c  0                   4\n",
       "0000a464ad921c3288e73a3a788b5f113cabf84251a74b269e32da9110e8bca3  0                   2\n",
       "0000bc4e8bfc829d327fa69bdc426dd8a789c52550ed87611492c62e2e6a9540  0                   9\n",
       "0000c5de50d243cc39f6ac4268d7511705585ca3f2a20f14d21730961e7e5bc9  0                   3\n",
       "0000c91fb9908357cc11974d0fc67a260ddb46508055f23de76dae9a733c803d  0                  40\n",
       "0000e2a3c14887640e2ccf2902b23e6b627856fab9efd6237d01cdd2adca00a9  0                   2\n",
       "00014a336be98fc4e18e07bd2eb460fa59ac9c19545d8c0761ea943056ab215e  0                   1\n",
       "000161848e5ccdcd4d3b0c7be9ec844730c39e6bcbc2a770a23a570a79754bb8  0                   2\n",
       "000176d36d165ecbd4aee7cd8f21e836d8fa374f0885a4c14b693041031d488d  0                   3\n",
       "0001826f2557818e6253eff29ef61ccec43cbd0139b80bad1b64eb09f424b071  0                   2\n",
       "00019c00abc35927aefa1470979a546446c6e44f24c7e69c2b85043483df8098  0                   3\n",
       "0001c46321a0e86298a5842463975ab449bfe55e764bb58db6c4ebaa2a13b5a5  0                   2\n",
       "0001d3714e6b84e6d0ed33687c71b0b5ed0369d634259debd4d4ed1c663e6c1d  0                   2\n",
       "0001d9d78d70b3301aa8b7d4900299311f708cc3f2acffbe800af3d1095e2320  0                   2\n",
       "00020102f66f89759868c843ae9fe634870f132f9e3d7990ca9c794a564477be  0                   2\n",
       "00020327619fc1b341fccdeb2516829b50421d6bc221f395df3ee7bbb20c5faf  0                   1\n",
       "00022a204a0220b0e0ff944212bea0c12df2a6fadf4d5fa79318a795f2a6bc67  0                   2\n",
       "00025136f0d130dc36256f0b034253ecb71e73c2758b1e846d1a0839a686570c  0                   2\n",
       "0002519419e9c245877a8c032b8ad9a36e31fd53e97ae5194fef20094b02426c  0                   1\n",
       "0002519bee76a3d1e1726b19b996f06e4b7f01118031194defb1f2e9f185d232  0                   1\n",
       "000258b6a7a05a216acbb83af1eecd0067501fc5f451e5e7fd713f6a995f6e45  0                   3\n",
       "00026e5050a70ef12d421f75c6a5c80d0f62d37acab8bd38e5990898285c9036  0                   3\n",
       "00029593bb423a937afc5c802d0d152bb8ae928f2cc970367dc137c3dd8be1d6  0                   3\n",
       "0002a76650166088d16a07052daa5e3355325923e438cd4b8cb31af4ea7322b7  0                   2\n",
       "                                                                                     ..\n",
       "fffdb3fdf921294adb7e5db84d846ed79dd2395bcf006f0f1b127161c2fa9902  0                  21\n",
       "                                                                  1                  20\n",
       "                                                                  2                  18\n",
       "                                                                  3                   8\n",
       "fffdf57e4a7fdebb4cb023319581e789da5e61af8322b79368d85cb32f49870a  0                  17\n",
       "fffe592fc03723bccb939b901e910b2d75ea6b7b5a051b97567b053e8831e4aa  0                   2\n",
       "fffe7499d068cc35475a4cf5bf9e08669f6234c0d98d3caf2c3b27eb1f42ad7f  0                   4\n",
       "fffe9b5522b7345439212f9cf646fe87ff826795a1f7a0ec98dda931a646b8a3  0                   2\n",
       "fffebe0c6f6539b1a7b5cd2ac21745659a1414e8520457deae2b2dd504139dd2  0                  11\n",
       "fffec707449ba18930e7111aaeb9b51a0d6875dded5cf18eed416cb10e6ac0a8  0                   2\n",
       "fffed32bc4aba06377660340a0456d8eda46fa63c373079f03363e2d0312460b  0                   8\n",
       "fffedddd8a94ceb254a7a4e74d0a1a7c20c9f0f884e639cda66149f3f61da5a3  0                   3\n",
       "fffedfc526d94d73ef34bdf5fe2d14dca4b49a3cd529610901e98bea4b0d3a7f  0                   2\n",
       "ffff0782e2d331e04a2efb8b91b2d663ce03df3c9b6d613d8fdbe7f9f72f09cc  0                   2\n",
       "ffff29b42a055c3191b229b41f47dfefaea63c84775fd5ff4ddca674f5878f8e  0                   5\n",
       "ffff381faf4dfe5b167efdf133fa279e8e09d47d96c70ca0431b5503c8658339  0                   4\n",
       "ffff3dd871ed4dd89b31f541673687841b2fdfe0e4d9841bf8320c478c6ee37b  0                   2\n",
       "ffff42651584905f7c57fdd58ebd33d4de9011e3bd7dbfe2bb727790e971883c  0                   5\n",
       "ffff54b12522f4d8b83f6f5d1495f523a6721b681cf149b12d07a0f81999fad6  0                   2\n",
       "ffff7c07b9827bd0a2e914e8113cd841f73a630c2d3a201eff436ddef8c21f7c  0                   1\n",
       "ffff852f96c2fabb3833fafba3074dd1487613fa48ab93879320e4dfb947541e  0                   2\n",
       "ffff9076149fe3a379a13267a888a82a7a8301b6ffc92928a5fd02617454ff10  0                   3\n",
       "ffffa1ee52cf01d3954d944a21ac7b0749360b6f277813b7e10f4f832eed84ae  0                   2\n",
       "ffffcc392f6f5cdadd553070c7125aceb7ff55f341ebf2caa81f5e3df49ab817  0                   3\n",
       "ffffd2399a74d7b74f4d8e0f1e01234ac1bea34297ce8d79792b9c77b27e68be  0                   1\n",
       "ffffd9f4b3ee8635e4f33fcd76ce7da1aae1b79c079044cecc6fc34faa63c099  0                   9\n",
       "fffffe948ca733c16b7d0c0743e66f8f23c7ea2e2a4a8a4a15e1e3be98c2cd11  2                  28\n",
       "                                                                  0                  17\n",
       "                                                                  3                  17\n",
       "                                                                  1                  15\n",
       "Name: attribute_value, Length: 746832, dtype: int64"
      ]
     },
     "execution_count": 114,
     "metadata": {},
     "output_type": "execute_result"
    }
   ],
   "source": [
    "attr_b_7[attr_b_7['attribute']=='0'].groupby('user_id_hash')['attribute_value'].value_counts()"
   ]
  },
  {
   "cell_type": "code",
   "execution_count": 54,
   "metadata": {
    "ExecuteTime": {
     "end_time": "2019-02-27T22:01:32.203359Z",
     "start_time": "2019-02-27T22:01:32.197081Z"
    }
   },
   "outputs": [
    {
     "data": {
      "text/plain": [
       "(185590092, 5)"
      ]
     },
     "execution_count": 54,
     "metadata": {},
     "output_type": "execute_result"
    }
   ],
   "source": [
    "df.shape"
   ]
  },
  {
   "cell_type": "markdown",
   "metadata": {},
   "source": [
    "# Batch 1: attributes 1, 3, 4, 6, 0, 8"
   ]
  },
  {
   "cell_type": "markdown",
   "metadata": {},
   "source": [
    "## Extract features for before 7"
   ]
  },
  {
   "cell_type": "code",
   "execution_count": 65,
   "metadata": {
    "ExecuteTime": {
     "end_time": "2019-02-27T22:54:24.739459Z",
     "start_time": "2019-02-27T22:52:15.676961Z"
    }
   },
   "outputs": [],
   "source": [
    "selected_session = pd.read_csv('../Data/events_before_7_good.csv', \n",
    "                               usecols=['user_id_hash', 'session_id']).drop_duplicates()\n"
   ]
  },
  {
   "cell_type": "code",
   "execution_count": 66,
   "metadata": {
    "ExecuteTime": {
     "end_time": "2019-02-27T23:09:15.704749Z",
     "start_time": "2019-02-27T23:09:15.699979Z"
    }
   },
   "outputs": [
    {
     "data": {
      "text/plain": [
       "(4741260, 2)"
      ]
     },
     "execution_count": 66,
     "metadata": {},
     "output_type": "execute_result"
    }
   ],
   "source": [
    "selected_session.shape"
   ]
  },
  {
   "cell_type": "code",
   "execution_count": 70,
   "metadata": {
    "ExecuteTime": {
     "end_time": "2019-02-27T23:13:19.677543Z",
     "start_time": "2019-02-27T23:11:13.889446Z"
    }
   },
   "outputs": [
    {
     "data": {
      "text/plain": [
       "(131372650, 4)"
      ]
     },
     "execution_count": 70,
     "metadata": {},
     "output_type": "execute_result"
    }
   ],
   "source": [
    "attr_b_7 = attributes.reset_index().merge(selected_session, how='inner', on=['user_id_hash', 'session_id'])\n",
    "attr_b_7.shape"
   ]
  },
  {
   "cell_type": "code",
   "execution_count": 71,
   "metadata": {
    "ExecuteTime": {
     "end_time": "2019-02-27T23:15:16.329289Z",
     "start_time": "2019-02-27T23:15:16.316498Z"
    }
   },
   "outputs": [],
   "source": [
    "df_clean_7 = pd.DataFrame()"
   ]
  },
  {
   "cell_type": "code",
   "execution_count": 72,
   "metadata": {
    "ExecuteTime": {
     "end_time": "2019-02-27T23:18:59.837261Z",
     "start_time": "2019-02-27T23:16:39.816054Z"
    }
   },
   "outputs": [],
   "source": [
    "df_clean_7['attribute_1'] = attr_b_7[attr_b_7['attribute']=='1']\\\n",
    "                                 .groupby('user_id_hash')['attribute_value']\\\n",
    "                                 .apply(lambda x: x.astype(float).mean())"
   ]
  },
  {
   "cell_type": "code",
   "execution_count": 75,
   "metadata": {
    "ExecuteTime": {
     "end_time": "2019-02-27T23:22:29.789734Z",
     "start_time": "2019-02-27T23:20:27.360032Z"
    }
   },
   "outputs": [],
   "source": [
    "df_clean_7['attribute_3'] = attr_b_7[attr_b_7['attribute']=='3']\\\n",
    "                                 .groupby('user_id_hash')['attribute_value']\\\n",
    "                                 .apply(lambda x: x.astype(float).mean())"
   ]
  },
  {
   "cell_type": "code",
   "execution_count": 76,
   "metadata": {
    "ExecuteTime": {
     "end_time": "2019-02-27T23:24:37.391514Z",
     "start_time": "2019-02-27T23:22:29.796395Z"
    }
   },
   "outputs": [],
   "source": [
    "df_clean_7['attribute_4'] = attr_b_7[attr_b_7['attribute']=='4']\\\n",
    "                                 .groupby('user_id_hash')['attribute_value']\\\n",
    "                                 .apply(lambda x: x.astype(float).mean())"
   ]
  },
  {
   "cell_type": "code",
   "execution_count": 80,
   "metadata": {
    "ExecuteTime": {
     "end_time": "2019-02-27T23:29:11.246146Z",
     "start_time": "2019-02-27T23:27:00.864967Z"
    }
   },
   "outputs": [],
   "source": [
    "df_clean_7['attribute_6'] = attr_b_7[attr_b_7['attribute']=='6']\\\n",
    "                                 .groupby('user_id_hash')['attribute_value']\\\n",
    "                                 .apply(lambda x: x.astype(float).mean())"
   ]
  },
  {
   "cell_type": "code",
   "execution_count": 115,
   "metadata": {
    "ExecuteTime": {
     "end_time": "2019-02-27T23:43:25.203235Z",
     "start_time": "2019-02-27T23:41:22.064086Z"
    }
   },
   "outputs": [],
   "source": [
    "df_clean_7['attribute_0'] = attr_b_7[attr_b_7['attribute']=='0']\\\n",
    "                                 .groupby('user_id_hash')['attribute_value']\\\n",
    "                                 .apply(lambda x: x.astype(float).mean())"
   ]
  },
  {
   "cell_type": "code",
   "execution_count": 116,
   "metadata": {
    "ExecuteTime": {
     "end_time": "2019-02-27T23:45:51.301667Z",
     "start_time": "2019-02-27T23:43:52.265106Z"
    }
   },
   "outputs": [],
   "source": [
    "df_clean_7['attribute_8'] = attr_b_7[attr_b_7['attribute']=='8']\\\n",
    "                                 .groupby('user_id_hash')['attribute_value']\\\n",
    "                                 .apply(lambda x: x.astype(float).mean())"
   ]
  },
  {
   "cell_type": "code",
   "execution_count": 117,
   "metadata": {
    "ExecuteTime": {
     "end_time": "2019-02-27T23:46:23.664565Z",
     "start_time": "2019-02-27T23:46:23.645774Z"
    }
   },
   "outputs": [
    {
     "data": {
      "text/html": [
       "<div>\n",
       "<style scoped>\n",
       "    .dataframe tbody tr th:only-of-type {\n",
       "        vertical-align: middle;\n",
       "    }\n",
       "\n",
       "    .dataframe tbody tr th {\n",
       "        vertical-align: top;\n",
       "    }\n",
       "\n",
       "    .dataframe thead th {\n",
       "        text-align: right;\n",
       "    }\n",
       "</style>\n",
       "<table border=\"1\" class=\"dataframe\">\n",
       "  <thead>\n",
       "    <tr style=\"text-align: right;\">\n",
       "      <th></th>\n",
       "      <th>attribute_1</th>\n",
       "      <th>attribute_3</th>\n",
       "      <th>attribute_4</th>\n",
       "      <th>attribute_6</th>\n",
       "      <th>attribute_0</th>\n",
       "      <th>attribute_8</th>\n",
       "    </tr>\n",
       "    <tr>\n",
       "      <th>user_id_hash</th>\n",
       "      <th></th>\n",
       "      <th></th>\n",
       "      <th></th>\n",
       "      <th></th>\n",
       "      <th></th>\n",
       "      <th></th>\n",
       "    </tr>\n",
       "  </thead>\n",
       "  <tbody>\n",
       "    <tr>\n",
       "      <th>00000db35682058bb7916cb90f85709f54c1a0f7a3b6de247d94b1bc20c36b97</th>\n",
       "      <td>14.733333</td>\n",
       "      <td>11.866667</td>\n",
       "      <td>0.101333</td>\n",
       "      <td>9.666667</td>\n",
       "      <td>0.20</td>\n",
       "      <td>1.866667</td>\n",
       "    </tr>\n",
       "    <tr>\n",
       "      <th>000059859ec188af6035870faf885c3038cedda05b3a5480a8223649629d951e</th>\n",
       "      <td>0.000000</td>\n",
       "      <td>0.166667</td>\n",
       "      <td>0.023333</td>\n",
       "      <td>7.833333</td>\n",
       "      <td>0.00</td>\n",
       "      <td>1.000000</td>\n",
       "    </tr>\n",
       "    <tr>\n",
       "      <th>000062e9be78f3da274fec338e78f89d12000e781967f23e248af3904cb5b3b7</th>\n",
       "      <td>0.000000</td>\n",
       "      <td>0.000000</td>\n",
       "      <td>0.099000</td>\n",
       "      <td>12.200000</td>\n",
       "      <td>0.15</td>\n",
       "      <td>3.050000</td>\n",
       "    </tr>\n",
       "    <tr>\n",
       "      <th>00006ad44c0d33a2a526caf75514643639b7b7070dfffd6d5abdb9e4f8099108</th>\n",
       "      <td>0.000000</td>\n",
       "      <td>0.000000</td>\n",
       "      <td>0.056250</td>\n",
       "      <td>5.375000</td>\n",
       "      <td>0.00</td>\n",
       "      <td>1.000000</td>\n",
       "    </tr>\n",
       "    <tr>\n",
       "      <th>000081a7d841b0f953bdba6c185fd5cc335fd6015a30c3035fbf5496aab9be7c</th>\n",
       "      <td>0.000000</td>\n",
       "      <td>0.000000</td>\n",
       "      <td>0.000000</td>\n",
       "      <td>0.500000</td>\n",
       "      <td>0.00</td>\n",
       "      <td>1.000000</td>\n",
       "    </tr>\n",
       "  </tbody>\n",
       "</table>\n",
       "</div>"
      ],
      "text/plain": [
       "                                                    attribute_1  attribute_3  \\\n",
       "user_id_hash                                                                   \n",
       "00000db35682058bb7916cb90f85709f54c1a0f7a3b6de2...    14.733333    11.866667   \n",
       "000059859ec188af6035870faf885c3038cedda05b3a548...     0.000000     0.166667   \n",
       "000062e9be78f3da274fec338e78f89d12000e781967f23...     0.000000     0.000000   \n",
       "00006ad44c0d33a2a526caf75514643639b7b7070dfffd6...     0.000000     0.000000   \n",
       "000081a7d841b0f953bdba6c185fd5cc335fd6015a30c30...     0.000000     0.000000   \n",
       "\n",
       "                                                    attribute_4  attribute_6  \\\n",
       "user_id_hash                                                                   \n",
       "00000db35682058bb7916cb90f85709f54c1a0f7a3b6de2...     0.101333     9.666667   \n",
       "000059859ec188af6035870faf885c3038cedda05b3a548...     0.023333     7.833333   \n",
       "000062e9be78f3da274fec338e78f89d12000e781967f23...     0.099000    12.200000   \n",
       "00006ad44c0d33a2a526caf75514643639b7b7070dfffd6...     0.056250     5.375000   \n",
       "000081a7d841b0f953bdba6c185fd5cc335fd6015a30c30...     0.000000     0.500000   \n",
       "\n",
       "                                                    attribute_0  attribute_8  \n",
       "user_id_hash                                                                  \n",
       "00000db35682058bb7916cb90f85709f54c1a0f7a3b6de2...         0.20     1.866667  \n",
       "000059859ec188af6035870faf885c3038cedda05b3a548...         0.00     1.000000  \n",
       "000062e9be78f3da274fec338e78f89d12000e781967f23...         0.15     3.050000  \n",
       "00006ad44c0d33a2a526caf75514643639b7b7070dfffd6...         0.00     1.000000  \n",
       "000081a7d841b0f953bdba6c185fd5cc335fd6015a30c30...         0.00     1.000000  "
      ]
     },
     "execution_count": 117,
     "metadata": {},
     "output_type": "execute_result"
    }
   ],
   "source": [
    "df_clean_7.head()"
   ]
  },
  {
   "cell_type": "code",
   "execution_count": 118,
   "metadata": {
    "ExecuteTime": {
     "end_time": "2019-02-27T23:47:17.375985Z",
     "start_time": "2019-02-27T23:47:14.323896Z"
    }
   },
   "outputs": [],
   "source": [
    "features_7 = feather.read_dataframe('../Data/features_before_7_v5.feather').set_index('user_id_hash')\n",
    "features_7 = features_7.join(df_clean_7)"
   ]
  },
  {
   "cell_type": "code",
   "execution_count": 120,
   "metadata": {
    "ExecuteTime": {
     "end_time": "2019-02-27T23:47:49.705853Z",
     "start_time": "2019-02-27T23:47:48.606047Z"
    }
   },
   "outputs": [],
   "source": [
    "feather.write_dataframe(features_7.reset_index(), '../Data/features_before_7_v6.feather')"
   ]
  },
  {
   "cell_type": "code",
   "execution_count": 61,
   "metadata": {
    "ExecuteTime": {
     "end_time": "2019-03-06T19:58:17.842962Z",
     "start_time": "2019-03-06T19:58:15.353444Z"
    }
   },
   "outputs": [],
   "source": [
    "f_b_7 = feather.read_dataframe('./Data/features_before_7_v6.feather')"
   ]
  },
  {
   "cell_type": "code",
   "execution_count": 62,
   "metadata": {
    "ExecuteTime": {
     "end_time": "2019-03-06T19:58:23.107836Z",
     "start_time": "2019-03-06T19:58:22.395262Z"
    }
   },
   "outputs": [
    {
     "data": {
      "text/plain": [
       "user_id_hash                 0\n",
       "num_session                  0\n",
       "last_active                  0\n",
       "receive_message              0\n",
       "accept_message               0\n",
       "life_time_value              0\n",
       "num_purchase                 0\n",
       "avg_purchase                 0\n",
       "num_event                    0\n",
       "event_per_session            0\n",
       "did_purchase_binary          0\n",
       "last_purchase                0\n",
       "last_date_event_0            0\n",
       "last_date_event_1            0\n",
       "last_date_event_10           0\n",
       "last_date_event_11           0\n",
       "last_date_event_14           0\n",
       "last_date_event_3            0\n",
       "last_date_event_32           0\n",
       "last_date_event_4            0\n",
       "last_date_event_40           0\n",
       "last_date_event_41           0\n",
       "last_date_event_42           0\n",
       "last_date_event_43           0\n",
       "last_date_event_44           0\n",
       "last_date_event_45           0\n",
       "last_date_event_47           0\n",
       "last_date_event_48           0\n",
       "last_date_event_49           0\n",
       "last_date_event_5            0\n",
       "                          ... \n",
       "last_date_event_51           0\n",
       "last_date_event_52           0\n",
       "last_date_event_54           0\n",
       "last_date_event_55           0\n",
       "last_date_event_56           0\n",
       "last_date_event_57           0\n",
       "last_date_event_58           0\n",
       "last_date_event_59           0\n",
       "last_date_event_6            0\n",
       "last_date_event_60           0\n",
       "last_date_event_61           0\n",
       "last_date_event_62           0\n",
       "last_date_event_63           0\n",
       "last_date_event_64           0\n",
       "last_date_event_7            0\n",
       "last_date_event_9            0\n",
       "num_devices                  0\n",
       "app_age                      0\n",
       "num_event_per_day            0\n",
       "num_session_per_day          0\n",
       "receive_message_per_day      0\n",
       "accept_message_per_day       0\n",
       "num_purchase_per_day         0\n",
       "life_time_value_per_day      0\n",
       "attribute_1                294\n",
       "attribute_3                294\n",
       "attribute_4                294\n",
       "attribute_6                294\n",
       "attribute_0                294\n",
       "attribute_8                294\n",
       "Length: 61, dtype: int64"
      ]
     },
     "execution_count": 62,
     "metadata": {},
     "output_type": "execute_result"
    }
   ],
   "source": [
    "f_b_7.isnull().sum()"
   ]
  },
  {
   "cell_type": "markdown",
   "metadata": {
    "ExecuteTime": {
     "end_time": "2019-02-27T23:48:14.356752Z",
     "start_time": "2019-02-27T23:48:13.519115Z"
    }
   },
   "source": [
    "## Extract similar features for before 14"
   ]
  },
  {
   "cell_type": "code",
   "execution_count": 123,
   "metadata": {
    "ExecuteTime": {
     "end_time": "2019-02-27T23:54:30.480478Z",
     "start_time": "2019-02-27T23:49:58.589846Z"
    }
   },
   "outputs": [],
   "source": [
    "selected_session = pd.read_csv('./Data/events_before_14_good.csv', \n",
    "                               usecols=['user_id_hash', 'session_id']).drop_duplicates()\n",
    "\n",
    "\n",
    "attr_b_14 = attributes.reset_index().merge(selected_session, how='inner', on=['user_id_hash', 'session_id'])"
   ]
  },
  {
   "cell_type": "code",
   "execution_count": 124,
   "metadata": {
    "ExecuteTime": {
     "end_time": "2019-02-28T00:06:43.225619Z",
     "start_time": "2019-02-27T23:54:30.491597Z"
    }
   },
   "outputs": [],
   "source": [
    "df_clean_14 = pd.DataFrame()\n",
    "\n",
    "for event in ['1', '3', '4', '6', '0', '8']:\n",
    "    df_clean_14['attribute_'+event] = attr_b_14[attr_b_14['attribute']==event]\\\n",
    "                                 .groupby('user_id_hash')['attribute_value']\\\n",
    "                                 .apply(lambda x: x.astype(float).mean())"
   ]
  },
  {
   "cell_type": "code",
   "execution_count": 125,
   "metadata": {
    "ExecuteTime": {
     "end_time": "2019-02-28T00:06:47.052523Z",
     "start_time": "2019-02-28T00:06:43.228416Z"
    }
   },
   "outputs": [],
   "source": [
    "features_14 = feather.read_dataframe('../Data/features_before_14_v5.feather').set_index('user_id_hash')\n",
    "features_14 = features_14.join(df_clean_14)\n",
    "feather.write_dataframe(features_14.reset_index(), '../Data/features_before_14_v6.feather')"
   ]
  },
  {
   "cell_type": "markdown",
   "metadata": {},
   "source": [
    "## Extract similar features for the entire data"
   ]
  },
  {
   "cell_type": "code",
   "execution_count": 34,
   "metadata": {
    "ExecuteTime": {
     "end_time": "2019-03-06T18:12:40.212437Z",
     "start_time": "2019-03-06T18:12:16.184521Z"
    }
   },
   "outputs": [],
   "source": [
    "attributes['attribute'] = attributes['attribute'].astype(int)"
   ]
  },
  {
   "cell_type": "code",
   "execution_count": 67,
   "metadata": {
    "ExecuteTime": {
     "end_time": "2019-03-06T20:10:52.871081Z",
     "start_time": "2019-03-06T20:09:58.343099Z"
    }
   },
   "outputs": [],
   "source": [
    "# feather.write_dataframe(attributes, './Data/attributes_good.feather')"
   ]
  },
  {
   "cell_type": "code",
   "execution_count": 43,
   "metadata": {
    "ExecuteTime": {
     "end_time": "2019-03-06T19:20:33.968834Z",
     "start_time": "2019-03-06T19:20:33.212374Z"
    }
   },
   "outputs": [],
   "source": [
    "selected_users = pd.read_csv('sample_submission_2.csv')['user_id_hash']"
   ]
  },
  {
   "cell_type": "code",
   "execution_count": 50,
   "metadata": {
    "ExecuteTime": {
     "end_time": "2019-03-06T19:22:45.881206Z",
     "start_time": "2019-03-06T19:22:19.150395Z"
    }
   },
   "outputs": [],
   "source": [
    "attributes = attributes.reset_index()"
   ]
  },
  {
   "cell_type": "code",
   "execution_count": 51,
   "metadata": {
    "ExecuteTime": {
     "end_time": "2019-03-06T19:23:38.238750Z",
     "start_time": "2019-03-06T19:22:45.890749Z"
    }
   },
   "outputs": [],
   "source": [
    "df = attributes[attributes['user_id_hash'].isin(selected_users)]"
   ]
  },
  {
   "cell_type": "code",
   "execution_count": 52,
   "metadata": {
    "ExecuteTime": {
     "end_time": "2019-03-06T19:23:38.263448Z",
     "start_time": "2019-03-06T19:23:38.247100Z"
    }
   },
   "outputs": [
    {
     "data": {
      "text/plain": [
       "(94692247, 4)"
      ]
     },
     "execution_count": 52,
     "metadata": {},
     "output_type": "execute_result"
    }
   ],
   "source": [
    "df.shape"
   ]
  },
  {
   "cell_type": "code",
   "execution_count": 72,
   "metadata": {
    "ExecuteTime": {
     "end_time": "2019-03-06T20:49:02.807492Z",
     "start_time": "2019-03-06T20:36:24.752590Z"
    }
   },
   "outputs": [
    {
     "name": "stdout",
     "output_type": "stream",
     "text": [
      "\n",
      "Extracting feature from attribute 1\n",
      "Time extracting event 1 in minutes is 2.1064974347750347\n",
      "\n",
      "Extracting feature from attribute 3\n",
      "Time extracting event 3 in minutes is 2.203840680917104\n",
      "\n",
      "Extracting feature from attribute 4\n",
      "Time extracting event 4 in minutes is 2.0494138836860656\n",
      "\n",
      "Extracting feature from attribute 6\n",
      "Time extracting event 6 in minutes is 2.064106750488281\n",
      "\n",
      "Extracting feature from attribute 0\n",
      "Time extracting event 0 in minutes is 2.0471148689587912\n",
      "\n",
      "Extracting feature from attribute 8\n",
      "Time extracting event 8 in minutes is 2.1631346503893534\n"
     ]
    }
   ],
   "source": [
    "df_clean_all = pd.DataFrame()\n",
    "\n",
    "for event in [1, 3, 4, 6, 0, 8]:\n",
    "    start = time.time()\n",
    "    print('\\nExtracting feature from attribute '+str(event))\n",
    "    df_clean_all['attribute_'+str(event)] = df[df['attribute']==event]\\\n",
    "                                 .groupby('user_id_hash')['attribute_value']\\\n",
    "                                 .apply(lambda x: x.astype(float).mean())\n",
    "    print(f'Time extracting event {event} in minutes is {(time.time()-start)/60}')"
   ]
  },
  {
   "cell_type": "code",
   "execution_count": 85,
   "metadata": {
    "ExecuteTime": {
     "end_time": "2019-03-06T20:58:41.391498Z",
     "start_time": "2019-03-06T20:58:35.367049Z"
    }
   },
   "outputs": [],
   "source": [
    "features_all = feather.read_dataframe('./Data/features_v5.feather').set_index('user_id_hash')\n",
    "features_all = features_all.join(df_clean_all, how='inner')\n",
    "features_all = features_all.dropna()\n",
    "feather.write_dataframe(features_all.reset_index(), './Data/features_v6.feather')"
   ]
  },
  {
   "cell_type": "code",
   "execution_count": 86,
   "metadata": {
    "ExecuteTime": {
     "end_time": "2019-03-06T20:58:42.876170Z",
     "start_time": "2019-03-06T20:58:42.590800Z"
    }
   },
   "outputs": [
    {
     "data": {
      "text/html": [
       "<div>\n",
       "<style scoped>\n",
       "    .dataframe tbody tr th:only-of-type {\n",
       "        vertical-align: middle;\n",
       "    }\n",
       "\n",
       "    .dataframe tbody tr th {\n",
       "        vertical-align: top;\n",
       "    }\n",
       "\n",
       "    .dataframe thead th {\n",
       "        text-align: right;\n",
       "    }\n",
       "</style>\n",
       "<table border=\"1\" class=\"dataframe\">\n",
       "  <thead>\n",
       "    <tr style=\"text-align: right;\">\n",
       "      <th></th>\n",
       "      <th>user_id_hash</th>\n",
       "      <th>num_session</th>\n",
       "      <th>last_active</th>\n",
       "      <th>receive_message</th>\n",
       "      <th>accept_message</th>\n",
       "      <th>life_time_value</th>\n",
       "      <th>num_purchase</th>\n",
       "      <th>avg_purchase</th>\n",
       "      <th>num_event</th>\n",
       "      <th>event_per_session</th>\n",
       "      <th>...</th>\n",
       "      <th>receive_message_per_day</th>\n",
       "      <th>accept_message_per_day</th>\n",
       "      <th>num_purchase_per_day</th>\n",
       "      <th>life_time_value_per_day</th>\n",
       "      <th>attribute_1</th>\n",
       "      <th>attribute_3</th>\n",
       "      <th>attribute_4</th>\n",
       "      <th>attribute_6</th>\n",
       "      <th>attribute_0</th>\n",
       "      <th>attribute_8</th>\n",
       "    </tr>\n",
       "  </thead>\n",
       "  <tbody>\n",
       "    <tr>\n",
       "      <th>0</th>\n",
       "      <td>00fbbf507c7d3c2f259cd3329d241c29d35712e2d4699f...</td>\n",
       "      <td>3</td>\n",
       "      <td>65</td>\n",
       "      <td>0</td>\n",
       "      <td>0</td>\n",
       "      <td>0.0</td>\n",
       "      <td>0</td>\n",
       "      <td>0.0</td>\n",
       "      <td>47</td>\n",
       "      <td>15.666667</td>\n",
       "      <td>...</td>\n",
       "      <td>0.0</td>\n",
       "      <td>0.0</td>\n",
       "      <td>0.0</td>\n",
       "      <td>0.0</td>\n",
       "      <td>0.0</td>\n",
       "      <td>0.0</td>\n",
       "      <td>0.00</td>\n",
       "      <td>1.0</td>\n",
       "      <td>0.0</td>\n",
       "      <td>1.0</td>\n",
       "    </tr>\n",
       "    <tr>\n",
       "      <th>1</th>\n",
       "      <td>037215beb36f0d10992c8accc1862d0d651f46d6103d94...</td>\n",
       "      <td>1</td>\n",
       "      <td>16</td>\n",
       "      <td>0</td>\n",
       "      <td>0</td>\n",
       "      <td>0.0</td>\n",
       "      <td>0</td>\n",
       "      <td>0.0</td>\n",
       "      <td>5</td>\n",
       "      <td>5.000000</td>\n",
       "      <td>...</td>\n",
       "      <td>0.0</td>\n",
       "      <td>0.0</td>\n",
       "      <td>0.0</td>\n",
       "      <td>0.0</td>\n",
       "      <td>0.0</td>\n",
       "      <td>0.0</td>\n",
       "      <td>0.06</td>\n",
       "      <td>10.0</td>\n",
       "      <td>0.0</td>\n",
       "      <td>1.0</td>\n",
       "    </tr>\n",
       "    <tr>\n",
       "      <th>2</th>\n",
       "      <td>04b6836e16e8565796440451c969cd81187f9c97de9692...</td>\n",
       "      <td>2</td>\n",
       "      <td>61</td>\n",
       "      <td>0</td>\n",
       "      <td>0</td>\n",
       "      <td>0.0</td>\n",
       "      <td>0</td>\n",
       "      <td>0.0</td>\n",
       "      <td>15</td>\n",
       "      <td>7.500000</td>\n",
       "      <td>...</td>\n",
       "      <td>0.0</td>\n",
       "      <td>0.0</td>\n",
       "      <td>0.0</td>\n",
       "      <td>0.0</td>\n",
       "      <td>0.0</td>\n",
       "      <td>0.0</td>\n",
       "      <td>0.00</td>\n",
       "      <td>0.0</td>\n",
       "      <td>0.0</td>\n",
       "      <td>1.0</td>\n",
       "    </tr>\n",
       "    <tr>\n",
       "      <th>3</th>\n",
       "      <td>05cc2a92cad75dabe8739770ea87e8ee14eb4b70bdc2dd...</td>\n",
       "      <td>3</td>\n",
       "      <td>53</td>\n",
       "      <td>0</td>\n",
       "      <td>0</td>\n",
       "      <td>0.0</td>\n",
       "      <td>0</td>\n",
       "      <td>0.0</td>\n",
       "      <td>37</td>\n",
       "      <td>12.333333</td>\n",
       "      <td>...</td>\n",
       "      <td>0.0</td>\n",
       "      <td>0.0</td>\n",
       "      <td>0.0</td>\n",
       "      <td>0.0</td>\n",
       "      <td>0.0</td>\n",
       "      <td>0.0</td>\n",
       "      <td>0.00</td>\n",
       "      <td>0.2</td>\n",
       "      <td>0.0</td>\n",
       "      <td>1.0</td>\n",
       "    </tr>\n",
       "    <tr>\n",
       "      <th>4</th>\n",
       "      <td>07d03d7980cdfbda6c2ace8522d37b47dbc9e88431e60e...</td>\n",
       "      <td>1</td>\n",
       "      <td>59</td>\n",
       "      <td>0</td>\n",
       "      <td>0</td>\n",
       "      <td>0.0</td>\n",
       "      <td>0</td>\n",
       "      <td>0.0</td>\n",
       "      <td>2</td>\n",
       "      <td>2.000000</td>\n",
       "      <td>...</td>\n",
       "      <td>0.0</td>\n",
       "      <td>0.0</td>\n",
       "      <td>0.0</td>\n",
       "      <td>0.0</td>\n",
       "      <td>0.0</td>\n",
       "      <td>0.0</td>\n",
       "      <td>0.00</td>\n",
       "      <td>0.0</td>\n",
       "      <td>0.0</td>\n",
       "      <td>0.0</td>\n",
       "    </tr>\n",
       "  </tbody>\n",
       "</table>\n",
       "<p>5 rows × 61 columns</p>\n",
       "</div>"
      ],
      "text/plain": [
       "                                        user_id_hash  num_session  \\\n",
       "0  00fbbf507c7d3c2f259cd3329d241c29d35712e2d4699f...            3   \n",
       "1  037215beb36f0d10992c8accc1862d0d651f46d6103d94...            1   \n",
       "2  04b6836e16e8565796440451c969cd81187f9c97de9692...            2   \n",
       "3  05cc2a92cad75dabe8739770ea87e8ee14eb4b70bdc2dd...            3   \n",
       "4  07d03d7980cdfbda6c2ace8522d37b47dbc9e88431e60e...            1   \n",
       "\n",
       "   last_active  receive_message  accept_message  life_time_value  \\\n",
       "0           65                0               0              0.0   \n",
       "1           16                0               0              0.0   \n",
       "2           61                0               0              0.0   \n",
       "3           53                0               0              0.0   \n",
       "4           59                0               0              0.0   \n",
       "\n",
       "   num_purchase  avg_purchase  num_event  event_per_session     ...       \\\n",
       "0             0           0.0         47          15.666667     ...        \n",
       "1             0           0.0          5           5.000000     ...        \n",
       "2             0           0.0         15           7.500000     ...        \n",
       "3             0           0.0         37          12.333333     ...        \n",
       "4             0           0.0          2           2.000000     ...        \n",
       "\n",
       "   receive_message_per_day  accept_message_per_day  num_purchase_per_day  \\\n",
       "0                      0.0                     0.0                   0.0   \n",
       "1                      0.0                     0.0                   0.0   \n",
       "2                      0.0                     0.0                   0.0   \n",
       "3                      0.0                     0.0                   0.0   \n",
       "4                      0.0                     0.0                   0.0   \n",
       "\n",
       "   life_time_value_per_day  attribute_1  attribute_3  attribute_4  \\\n",
       "0                      0.0          0.0          0.0         0.00   \n",
       "1                      0.0          0.0          0.0         0.06   \n",
       "2                      0.0          0.0          0.0         0.00   \n",
       "3                      0.0          0.0          0.0         0.00   \n",
       "4                      0.0          0.0          0.0         0.00   \n",
       "\n",
       "   attribute_6  attribute_0  attribute_8  \n",
       "0          1.0          0.0          1.0  \n",
       "1         10.0          0.0          1.0  \n",
       "2          0.0          0.0          1.0  \n",
       "3          0.2          0.0          1.0  \n",
       "4          0.0          0.0          0.0  \n",
       "\n",
       "[5 rows x 61 columns]"
      ]
     },
     "execution_count": 86,
     "metadata": {},
     "output_type": "execute_result"
    }
   ],
   "source": [
    "t = feather.read_dataframe('./Data/features_v6.feather')\n",
    "t.head()"
   ]
  },
  {
   "cell_type": "markdown",
   "metadata": {},
   "source": [
    "# Batch 2: attributes 11, 13, 14, 15"
   ]
  },
  {
   "cell_type": "code",
   "execution_count": 122,
   "metadata": {
    "ExecuteTime": {
     "end_time": "2019-03-06T23:29:47.826773Z",
     "start_time": "2019-03-06T23:29:01.774961Z"
    }
   },
   "outputs": [],
   "source": [
    "selected_users = pd.read_csv('sample_submission_2.csv')['user_id_hash']\n",
    "\n",
    "df = attributes[attributes['user_id_hash'].isin(selected_users)]"
   ]
  },
  {
   "cell_type": "code",
   "execution_count": 123,
   "metadata": {
    "ExecuteTime": {
     "end_time": "2019-03-06T23:29:55.535942Z",
     "start_time": "2019-03-06T23:29:55.522086Z"
    }
   },
   "outputs": [
    {
     "data": {
      "text/plain": [
       "(94692247, 4)"
      ]
     },
     "execution_count": 123,
     "metadata": {},
     "output_type": "execute_result"
    }
   ],
   "source": [
    "df.shape"
   ]
  },
  {
   "cell_type": "code",
   "execution_count": 124,
   "metadata": {
    "ExecuteTime": {
     "end_time": "2019-03-06T23:39:11.435114Z",
     "start_time": "2019-03-06T23:30:04.613349Z"
    }
   },
   "outputs": [
    {
     "name": "stdout",
     "output_type": "stream",
     "text": [
      "\n",
      "Extracting feature from attribute 11\n",
      "Time extracting event 11 in minutes is 2.5877873301506042\n",
      "\n",
      "Extracting feature from attribute 13\n",
      "Time extracting event 13 in minutes is 2.1575803995132445\n",
      "\n",
      "Extracting feature from attribute 14\n",
      "Time extracting event 14 in minutes is 2.15907084941864\n",
      "\n",
      "Extracting feature from attribute 15\n",
      "Time extracting event 15 in minutes is 2.2088744322458904\n"
     ]
    }
   ],
   "source": [
    "# extract max \n",
    "df_clean_all = pd.DataFrame()\n",
    "\n",
    "for event in [11, 13, 14, 15]:\n",
    "    start = time.time()\n",
    "    print('\\nExtracting feature from attribute '+str(event))\n",
    "    df_clean_all['attribute_'+str(event)+'_max'] = df[df['attribute']==event]\\\n",
    "                                 .groupby('user_id_hash')['attribute_value']\\\n",
    "                                 .apply(lambda x: x.astype(float).max())\n",
    "    print(f'Time extracting event {event} in minutes is {(time.time()-start)/60}')"
   ]
  },
  {
   "cell_type": "code",
   "execution_count": 94,
   "metadata": {
    "ExecuteTime": {
     "end_time": "2019-03-06T21:26:25.970786Z",
     "start_time": "2019-03-06T21:22:00.291946Z"
    }
   },
   "outputs": [
    {
     "name": "stdout",
     "output_type": "stream",
     "text": [
      "\n",
      "Extracting feature from attribute 13\n",
      "Time extracting event 13 in minutes is 2.219916749000549\n",
      "\n",
      "Extracting feature from attribute 14\n",
      "Time extracting event 14 in minutes is 2.2079663554827373\n"
     ]
    }
   ],
   "source": [
    "# extract mean \n",
    "\n",
    "for event in [13, 14]:\n",
    "    start = time.time()\n",
    "    print('\\nExtracting feature from attribute '+str(event))\n",
    "    df_clean_all['attribute_'+str(event)+'_mean'] = df[df['attribute']==event]\\\n",
    "                                 .groupby('user_id_hash')['attribute_value']\\\n",
    "                                 .apply(lambda x: x.astype(float).mean())\n",
    "    print(f'Time extracting event {event} in minutes is {(time.time()-start)/60}')"
   ]
  },
  {
   "cell_type": "code",
   "execution_count": 125,
   "metadata": {
    "ExecuteTime": {
     "end_time": "2019-03-06T23:39:15.355382Z",
     "start_time": "2019-03-06T23:39:11.438925Z"
    }
   },
   "outputs": [],
   "source": [
    "df_clean_all = df_clean_all.dropna()\n",
    "\n",
    "features_all = feather.read_dataframe('./Data/features_v7.feather').set_index('user_id_hash')\n",
    "features_all = features_all.join(df_clean_all, how='inner')\n",
    "feather.write_dataframe(features_all.reset_index(), './Data/features_v7.feather')"
   ]
  },
  {
   "cell_type": "code",
   "execution_count": 129,
   "metadata": {
    "ExecuteTime": {
     "end_time": "2019-03-06T23:43:59.987822Z",
     "start_time": "2019-03-06T23:43:59.980840Z"
    }
   },
   "outputs": [
    {
     "data": {
      "text/plain": [
       "Index(['user_id_hash', 'num_session', 'last_active', 'receive_message',\n",
       "       'accept_message', 'life_time_value', 'num_purchase', 'avg_purchase',\n",
       "       'num_event', 'event_per_session', 'did_purchase_binary',\n",
       "       'last_purchase', 'last_date_event_0', 'last_date_event_1',\n",
       "       'last_date_event_10', 'last_date_event_11', 'last_date_event_14',\n",
       "       'last_date_event_3', 'last_date_event_32', 'last_date_event_4',\n",
       "       'last_date_event_40', 'last_date_event_41', 'last_date_event_42',\n",
       "       'last_date_event_43', 'last_date_event_44', 'last_date_event_45',\n",
       "       'last_date_event_47', 'last_date_event_48', 'last_date_event_49',\n",
       "       'last_date_event_5', 'last_date_event_50', 'last_date_event_51',\n",
       "       'last_date_event_52', 'last_date_event_54', 'last_date_event_55',\n",
       "       'last_date_event_56', 'last_date_event_57', 'last_date_event_58',\n",
       "       'last_date_event_59', 'last_date_event_6', 'last_date_event_60',\n",
       "       'last_date_event_61', 'last_date_event_62', 'last_date_event_63',\n",
       "       'last_date_event_64', 'last_date_event_7', 'last_date_event_9',\n",
       "       'num_devices', 'app_age', 'num_event_per_day', 'num_session_per_day',\n",
       "       'receive_message_per_day', 'accept_message_per_day',\n",
       "       'num_purchase_per_day', 'life_time_value_per_day', 'attribute_1',\n",
       "       'attribute_3', 'attribute_4', 'attribute_6', 'attribute_0',\n",
       "       'attribute_8', 'attribute_13_mean', 'attribute_14_mean',\n",
       "       'attribute_11_max', 'attribute_13_max', 'attribute_14_max',\n",
       "       'attribute_15_max'],\n",
       "      dtype='object')"
      ]
     },
     "execution_count": 129,
     "metadata": {},
     "output_type": "execute_result"
    }
   ],
   "source": [
    "t = feather.read_dataframe('./Data/features_v7.feather')\n",
    "t.columns"
   ]
  },
  {
   "cell_type": "markdown",
   "metadata": {},
   "source": [
    "## Extract similar features for before 14"
   ]
  },
  {
   "cell_type": "code",
   "execution_count": 107,
   "metadata": {
    "ExecuteTime": {
     "end_time": "2019-03-06T21:55:00.529461Z",
     "start_time": "2019-03-06T21:50:35.262773Z"
    }
   },
   "outputs": [],
   "source": [
    "selected_session = pd.read_csv('./Data/events_before_14_good.csv', \n",
    "                               usecols=['user_id_hash', 'session_id']).drop_duplicates()\n",
    "\n",
    "\n",
    "attr_b_14 = attributes.merge(selected_session, how='inner', on=['user_id_hash', 'session_id'])\n",
    "\n",
    "attr_b_14['attribute'] = attr_b_14['attribute'].astype(int)"
   ]
  },
  {
   "cell_type": "code",
   "execution_count": 108,
   "metadata": {
    "ExecuteTime": {
     "end_time": "2019-03-06T21:55:17.636226Z",
     "start_time": "2019-03-06T21:55:00.550748Z"
    }
   },
   "outputs": [],
   "source": [
    "attr_b_14['user_id_hash'] = attr_b_14['user_id_hash'].astype('category')"
   ]
  },
  {
   "cell_type": "code",
   "execution_count": 109,
   "metadata": {
    "ExecuteTime": {
     "end_time": "2019-03-06T21:55:27.869616Z",
     "start_time": "2019-03-06T21:55:17.639964Z"
    }
   },
   "outputs": [],
   "source": [
    "feather.write_dataframe(attr_b_14, './Data/attributes_before_14.feather')"
   ]
  },
  {
   "cell_type": "code",
   "execution_count": 115,
   "metadata": {
    "ExecuteTime": {
     "end_time": "2019-03-06T23:26:50.035436Z",
     "start_time": "2019-03-06T23:26:13.661376Z"
    }
   },
   "outputs": [],
   "source": [
    "attr_b_14 = feather.read_dataframe('./Data/attributes_before_14.feather')"
   ]
  },
  {
   "cell_type": "code",
   "execution_count": 131,
   "metadata": {
    "ExecuteTime": {
     "end_time": "2019-03-06T23:44:47.660915Z",
     "start_time": "2019-03-06T23:44:47.655359Z"
    }
   },
   "outputs": [
    {
     "data": {
      "text/plain": [
       "(185590092, 4)"
      ]
     },
     "execution_count": 131,
     "metadata": {},
     "output_type": "execute_result"
    }
   ],
   "source": [
    "attributes.shape"
   ]
  },
  {
   "cell_type": "code",
   "execution_count": 130,
   "metadata": {
    "ExecuteTime": {
     "end_time": "2019-03-06T23:44:25.014470Z",
     "start_time": "2019-03-06T23:44:25.009162Z"
    }
   },
   "outputs": [
    {
     "data": {
      "text/plain": [
       "(121341782, 4)"
      ]
     },
     "execution_count": 130,
     "metadata": {},
     "output_type": "execute_result"
    }
   ],
   "source": [
    "attr_b_14.shape"
   ]
  },
  {
   "cell_type": "code",
   "execution_count": null,
   "metadata": {
    "ExecuteTime": {
     "end_time": "2019-03-07T00:08:01.358381Z",
     "start_time": "2019-03-06T23:59:49.045Z"
    }
   },
   "outputs": [],
   "source": [
    "df = attr_b_14\n",
    "\n",
    "# extract mean \n",
    "\n",
    "for event in [13, 14]:\n",
    "    start = time.time()\n",
    "    print('\\nExtracting feature from attribute '+str(event))\n",
    "    df_clean_14['attribute_'+str(event)+'_mean'] = df[df['attribute']==event]\\\n",
    "                                 .groupby('user_id_hash')['attribute_value']\\\n",
    "                                 .apply(lambda x: x.astype(float).mean())\n",
    "    print(f'Time extracting event {event} in minutes is {(time.time()-start)/60}')"
   ]
  },
  {
   "cell_type": "code",
   "execution_count": 135,
   "metadata": {
    "ExecuteTime": {
     "end_time": "2019-03-06T23:55:35.366974Z",
     "start_time": "2019-03-06T23:46:12.663584Z"
    }
   },
   "outputs": [
    {
     "name": "stdout",
     "output_type": "stream",
     "text": [
      "\n",
      "Extracting feature from attribute 11\n",
      "Time extracting event 11 in minutes is 2.5310774366060893\n",
      "\n",
      "Extracting feature from attribute 13\n",
      "Time extracting event 13 in minutes is 2.4148609320322674\n",
      "\n",
      "Extracting feature from attribute 14\n",
      "Time extracting event 14 in minutes is 2.1486697872479756\n",
      "\n",
      "Extracting feature from attribute 15\n",
      "Time extracting event 15 in minutes is 2.283536847432454\n"
     ]
    }
   ],
   "source": [
    "df = attr_b_14\n",
    "\n",
    "# extract max \n",
    "\n",
    "df_clean_14 = pd.DataFrame()\n",
    "\n",
    "for event in [11, 13, 14, 15]:\n",
    "    start = time.time()\n",
    "    print('\\nExtracting feature from attribute '+str(event))\n",
    "    df_clean_14['attribute_'+str(event)+'_max'] = df[df['attribute']==event]\\\n",
    "                                 .groupby('user_id_hash')['attribute_value']\\\n",
    "                                 .apply(lambda x: x.astype(float).max())\n",
    "    print(f'Time extracting event {event} in minutes is {(time.time()-start)/60}')\n",
    "    "
   ]
  },
  {
   "cell_type": "code",
   "execution_count": 136,
   "metadata": {
    "ExecuteTime": {
     "end_time": "2019-03-06T23:55:40.877112Z",
     "start_time": "2019-03-06T23:55:35.370849Z"
    }
   },
   "outputs": [],
   "source": [
    "features_14 = feather.read_dataframe('./Data/features_before_14_v7.feather').set_index('user_id_hash')\n",
    "features_14 = features_14.join(df_clean_14)\n",
    "features_14 = features_14.dropna()\n",
    "feather.write_dataframe(features_14.reset_index(), './Data/features_before_14_v7.feather')"
   ]
  },
  {
   "cell_type": "code",
   "execution_count": 137,
   "metadata": {
    "ExecuteTime": {
     "end_time": "2019-03-06T23:56:07.886009Z",
     "start_time": "2019-03-06T23:56:07.028509Z"
    }
   },
   "outputs": [
    {
     "data": {
      "text/plain": [
       "Index(['user_id_hash', 'num_session', 'last_active', 'receive_message',\n",
       "       'accept_message', 'life_time_value', 'num_purchase', 'avg_purchase',\n",
       "       'num_event', 'event_per_session', 'last_date_event_0',\n",
       "       'last_date_event_1', 'last_date_event_10', 'last_date_event_11',\n",
       "       'last_date_event_14', 'last_date_event_3', 'last_date_event_32',\n",
       "       'last_date_event_4', 'last_date_event_40', 'last_date_event_41',\n",
       "       'last_date_event_42', 'last_date_event_43', 'last_date_event_44',\n",
       "       'last_date_event_45', 'last_date_event_47', 'last_date_event_48',\n",
       "       'last_date_event_49', 'last_date_event_5', 'last_date_event_50',\n",
       "       'last_date_event_51', 'last_date_event_52', 'last_date_event_54',\n",
       "       'last_date_event_55', 'last_date_event_56', 'last_date_event_57',\n",
       "       'last_date_event_58', 'last_date_event_59', 'last_date_event_6',\n",
       "       'last_date_event_60', 'last_date_event_61', 'last_date_event_63',\n",
       "       'last_date_event_64', 'last_date_event_7', 'last_purchase',\n",
       "       'last_date_event_9', 'num_devices', 'app_age', 'num_event_per_day',\n",
       "       'num_session_per_day', 'receive_message_per_day',\n",
       "       'accept_message_per_day', 'num_purchase_per_day',\n",
       "       'life_time_value_per_day', 'attribute_1', 'attribute_3', 'attribute_4',\n",
       "       'attribute_6', 'attribute_0', 'attribute_8', 'attribute_13_mean',\n",
       "       'attribute_14_mean', 'attribute_11_max', 'attribute_13_max',\n",
       "       'attribute_14_max', 'attribute_15_max'],\n",
       "      dtype='object')"
      ]
     },
     "execution_count": 137,
     "metadata": {},
     "output_type": "execute_result"
    }
   ],
   "source": [
    "t = feather.read_dataframe('./Data/features_before_14_v7.feather')\n",
    "t.columns"
   ]
  },
  {
   "cell_type": "markdown",
   "metadata": {},
   "source": [
    "## Extract similar features for before 7"
   ]
  },
  {
   "cell_type": "code",
   "execution_count": 112,
   "metadata": {
    "ExecuteTime": {
     "end_time": "2019-03-06T22:39:54.219441Z",
     "start_time": "2019-03-06T22:35:10.080220Z"
    }
   },
   "outputs": [],
   "source": [
    "selected_session = pd.read_csv('./Data/events_before_7_good.csv', \n",
    "                               usecols=['user_id_hash', 'session_id']).drop_duplicates()\n",
    "\n",
    "\n",
    "attr_b_7 = attributes.merge(selected_session, how='inner', on=['user_id_hash', 'session_id'])\n",
    "\n",
    "attr_b_7['attribute'] = attr_b_7['attribute'].astype(int)\n",
    "\n",
    "attr_b_7['user_id_hash'] = attr_b_7['user_id_hash'].astype('category')\n",
    "\n",
    "feather.write_dataframe(attr_b_7, './Data/attributes_before_7.feather')"
   ]
  },
  {
   "cell_type": "code",
   "execution_count": 138,
   "metadata": {
    "ExecuteTime": {
     "end_time": "2019-03-06T23:57:01.059179Z",
     "start_time": "2019-03-06T23:56:18.425901Z"
    }
   },
   "outputs": [],
   "source": [
    "attr_b_7 = feather.read_dataframe('./Data/attributes_before_7.feather')"
   ]
  },
  {
   "cell_type": "code",
   "execution_count": 141,
   "metadata": {
    "ExecuteTime": {
     "end_time": "2019-03-07T00:08:01.130636Z",
     "start_time": "2019-03-06T23:57:29.435846Z"
    }
   },
   "outputs": [
    {
     "name": "stdout",
     "output_type": "stream",
     "text": [
      "Extracting max values:\n",
      "\n",
      "Extracting feature from attribute 11\n",
      "Time extracting event 11 in minutes is 2.5838541865348814\n",
      "\n",
      "Extracting feature from attribute 13\n",
      "Time extracting event 13 in minutes is 2.60188988049825\n",
      "\n",
      "Extracting feature from attribute 14\n",
      "Time extracting event 14 in minutes is 2.722315768400828\n",
      "\n",
      "Extracting feature from attribute 15\n",
      "Time extracting event 15 in minutes is 2.619961599508921\n"
     ]
    }
   ],
   "source": [
    "df = attr_b_7\n",
    "\n",
    "# extract max \n",
    "\n",
    "df_clean_7 = pd.DataFrame()\n",
    "\n",
    "print('Extracting max values:')\n",
    "for event in [11, 13, 14, 15]:\n",
    "    start = time.time()\n",
    "    print('\\nExtracting feature from attribute '+str(event))\n",
    "    df_clean_7['attribute_'+str(event)+'_max'] = df[df['attribute']==event]\\\n",
    "                                 .groupby('user_id_hash')['attribute_value']\\\n",
    "                                 .apply(lambda x: x.astype(float).max())\n",
    "    print(f'Time extracting event {event} in minutes is {(time.time()-start)/60}')\n",
    "    "
   ]
  },
  {
   "cell_type": "code",
   "execution_count": 143,
   "metadata": {
    "ExecuteTime": {
     "end_time": "2019-03-07T00:09:02.610406Z",
     "start_time": "2019-03-07T00:09:02.601783Z"
    }
   },
   "outputs": [
    {
     "data": {
      "text/plain": [
       "Index(['attribute_11_max', 'attribute_13_max', 'attribute_14_max',\n",
       "       'attribute_15_max'],\n",
       "      dtype='object')"
      ]
     },
     "execution_count": 143,
     "metadata": {},
     "output_type": "execute_result"
    }
   ],
   "source": [
    "df_clean_7.columns"
   ]
  },
  {
   "cell_type": "code",
   "execution_count": 144,
   "metadata": {
    "ExecuteTime": {
     "end_time": "2019-03-07T00:13:39.374996Z",
     "start_time": "2019-03-07T00:09:33.674361Z"
    }
   },
   "outputs": [
    {
     "name": "stdout",
     "output_type": "stream",
     "text": [
      "\n",
      "Extracting mean values:\n",
      "\n",
      "Extracting feature from attribute 13\n",
      "Time extracting event 13 in minutes is 2.149235796928406\n",
      "\n",
      "Extracting feature from attribute 14\n",
      "Time extracting event 14 in minutes is 1.9455963333447774\n"
     ]
    }
   ],
   "source": [
    "# extract mean \n",
    "df_clean_7_mean = pd.DataFrame()\n",
    "\n",
    "print('\\nExtracting mean values:')\n",
    "\n",
    "for event in [13, 14]:\n",
    "    start = time.time()\n",
    "    print('\\nExtracting feature from attribute '+str(event))\n",
    "    df_clean_7_mean['attribute_'+str(event)+'_mean'] = df[df['attribute']==event]\\\n",
    "                                 .groupby('user_id_hash')['attribute_value']\\\n",
    "                                 .apply(lambda x: x.astype(float).mean())\n",
    "    print(f'Time extracting event {event} in minutes is {(time.time()-start)/60}')"
   ]
  },
  {
   "cell_type": "code",
   "execution_count": 145,
   "metadata": {
    "ExecuteTime": {
     "end_time": "2019-03-07T00:13:45.554570Z",
     "start_time": "2019-03-07T00:13:39.377989Z"
    }
   },
   "outputs": [],
   "source": [
    "features_7 = feather.read_dataframe('./Data/features_before_7_v6.feather').set_index('user_id_hash')\n",
    "features_7 = features_7.join(df_clean_7_mean)\n",
    "features_7 = features_7.join(df_clean_7)  # max\n",
    "features_7 = features_7.dropna()\n",
    "feather.write_dataframe(features_7.reset_index(), './Data/features_before_7_v7.feather')"
   ]
  },
  {
   "cell_type": "code",
   "execution_count": 146,
   "metadata": {
    "ExecuteTime": {
     "end_time": "2019-03-07T00:16:53.576809Z",
     "start_time": "2019-03-07T00:16:52.565908Z"
    }
   },
   "outputs": [
    {
     "data": {
      "text/plain": [
       "Index(['user_id_hash', 'num_session', 'last_active', 'receive_message',\n",
       "       'accept_message', 'life_time_value', 'num_purchase', 'avg_purchase',\n",
       "       'num_event', 'event_per_session', 'did_purchase_binary',\n",
       "       'last_purchase', 'last_date_event_0', 'last_date_event_1',\n",
       "       'last_date_event_10', 'last_date_event_11', 'last_date_event_14',\n",
       "       'last_date_event_3', 'last_date_event_32', 'last_date_event_4',\n",
       "       'last_date_event_40', 'last_date_event_41', 'last_date_event_42',\n",
       "       'last_date_event_43', 'last_date_event_44', 'last_date_event_45',\n",
       "       'last_date_event_47', 'last_date_event_48', 'last_date_event_49',\n",
       "       'last_date_event_5', 'last_date_event_50', 'last_date_event_51',\n",
       "       'last_date_event_52', 'last_date_event_54', 'last_date_event_55',\n",
       "       'last_date_event_56', 'last_date_event_57', 'last_date_event_58',\n",
       "       'last_date_event_59', 'last_date_event_6', 'last_date_event_60',\n",
       "       'last_date_event_61', 'last_date_event_62', 'last_date_event_63',\n",
       "       'last_date_event_64', 'last_date_event_7', 'last_date_event_9',\n",
       "       'num_devices', 'app_age', 'num_event_per_day', 'num_session_per_day',\n",
       "       'receive_message_per_day', 'accept_message_per_day',\n",
       "       'num_purchase_per_day', 'life_time_value_per_day', 'attribute_1',\n",
       "       'attribute_3', 'attribute_4', 'attribute_6', 'attribute_0',\n",
       "       'attribute_8', 'attribute_13_mean', 'attribute_14_mean',\n",
       "       'attribute_11_max', 'attribute_13_max', 'attribute_14_max',\n",
       "       'attribute_15_max'],\n",
       "      dtype='object')"
      ]
     },
     "execution_count": 146,
     "metadata": {},
     "output_type": "execute_result"
    }
   ],
   "source": [
    "t = feather.read_dataframe('./Data/features_before_7_v7.feather')\n",
    "t.columns"
   ]
  }
 ],
 "metadata": {
  "kernelspec": {
   "display_name": "Python 3",
   "language": "python",
   "name": "python3"
  },
  "language_info": {
   "codemirror_mode": {
    "name": "ipython",
    "version": 3
   },
   "file_extension": ".py",
   "mimetype": "text/x-python",
   "name": "python",
   "nbconvert_exporter": "python",
   "pygments_lexer": "ipython3",
   "version": "3.7.0"
  },
  "toc": {
   "base_numbering": 1,
   "nav_menu": {},
   "number_sections": true,
   "sideBar": true,
   "skip_h1_title": false,
   "title_cell": "Table of Contents",
   "title_sidebar": "Contents",
   "toc_cell": false,
   "toc_position": {
    "height": "calc(100% - 180px)",
    "left": "10px",
    "top": "150px",
    "width": "288px"
   },
   "toc_section_display": true,
   "toc_window_display": true
  }
 },
 "nbformat": 4,
 "nbformat_minor": 2
}
