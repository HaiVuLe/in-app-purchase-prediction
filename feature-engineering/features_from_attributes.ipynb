{
 "cells": [
  {
   "cell_type": "code",
   "execution_count": 31,
   "metadata": {
    "ExecuteTime": {
     "end_time": "2019-03-06T18:11:16.765807Z",
     "start_time": "2019-03-06T18:11:16.760226Z"
    }
   },
   "outputs": [],
   "source": [
    "import pandas as pd\n",
    "import numpy as np\n",
    "import feather\n",
    "\n",
    "import time"
   ]
  },
  {
   "cell_type": "code",
   "execution_count": 1,
   "metadata": {
    "ExecuteTime": {
     "end_time": "2019-03-06T17:25:12.192118Z",
     "start_time": "2019-03-06T17:25:12.187744Z"
    }
   },
   "outputs": [],
   "source": [
    "path = './Data/'"
   ]
  },
  {
   "cell_type": "markdown",
   "metadata": {},
   "source": [
    "We next incorporate signals about attributes of users. These attributes can be, for example, age, specified preference, number of products users have used so far, so on and so forth. Features extracted out of these attributes are likely to contribute to the predictive power of the model. \n",
    "\n",
    "These features are custom-defined by LeanPlum's customers who specify what attributes of their users they want to track on LeanPlum's platform. While knowing that each attribute records is highly important to extract meaningful and interpretable features, we don't have access to such information for confidentialily reasons - we only have the encoded names of the attributes (for instance, attribute number 2), not the business-meaningful names. Additionally, keeping in mind that LeanPlum has various customers, each of whom tracks different attributes of their own app users, we desire to build a model with good generalization that can be applied to other apps as well. \n",
    "\n",
    "Because of these contraints and motivation, our approach was to use summary statistics such as mode, mean, max, min to capture signals in the attributes."
   ]
  },
  {
   "cell_type": "markdown",
   "metadata": {},
   "source": [
    "# Reading data in"
   ]
  },
  {
   "cell_type": "markdown",
   "metadata": {},
   "source": [
    "This data set is more than 23GB in size. As it does not fit the memory of our local machine, we look for ways to reduce it to a more managable size:\n",
    "\n",
    "* Only read in relevant information (eg. there's a column of the hashId of the app which is very heavy but not relevant to our use case because all the data concerns one singly app).\n",
    "\n",
    "* Change the type of columns into more memory-efficient datatypes (eg. save user_id_hash which is also a very heavy column in \"category\" type rather than string)\n",
    "\n",
    "* Then save to feather format for faster file-reading in the next time we worked with this dataset."
   ]
  },
  {
   "cell_type": "markdown",
   "metadata": {},
   "source": [
    "Run this in the first time:"
   ]
  },
  {
   "cell_type": "code",
   "execution_count": 5,
   "metadata": {
    "ExecuteTime": {
     "end_time": "2019-03-06T17:45:00.214721Z",
     "start_time": "2019-03-06T17:26:53.451328Z"
    }
   },
   "outputs": [],
   "source": [
    "attrib_types = {'session_id':np.uint64, 'attribute': 'category', \n",
    "                'attribute_value':'object', 'user_id_hash':'category'}\n",
    "attributes = pd.read_csv('./Data/attributes.csv', usecols=attrib_types.keys(), dtype=attrib_types)"
   ]
  },
  {
   "cell_type": "code",
   "execution_count": 6,
   "metadata": {
    "ExecuteTime": {
     "end_time": "2019-03-06T17:48:43.532647Z",
     "start_time": "2019-03-06T17:48:13.388251Z"
    }
   },
   "outputs": [],
   "source": [
    "attributes = attributes.sort_values(by='user_id_hash', kind='mergesort')"
   ]
  },
  {
   "cell_type": "code",
   "execution_count": 10,
   "metadata": {
    "ExecuteTime": {
     "end_time": "2019-03-06T17:49:40.865697Z",
     "start_time": "2019-03-06T17:49:26.348554Z"
    }
   },
   "outputs": [],
   "source": [
    "feather.write_dataframe(attributes, './Data/attributes_good.feather')"
   ]
  },
  {
   "cell_type": "markdown",
   "metadata": {},
   "source": [
    "Then pick up from here:"
   ]
  },
  {
   "cell_type": "code",
   "execution_count": 15,
   "metadata": {
    "ExecuteTime": {
     "end_time": "2019-03-06T17:57:49.851702Z",
     "start_time": "2019-03-06T17:57:49.848773Z"
    }
   },
   "outputs": [],
   "source": [
    "attributes = feather.read_dataframe('./Data/attributes_good.feather')"
   ]
  },
  {
   "cell_type": "code",
   "execution_count": 11,
   "metadata": {
    "ExecuteTime": {
     "end_time": "2019-02-27T21:34:35.377660Z",
     "start_time": "2019-02-27T21:34:35.360553Z"
    }
   },
   "outputs": [],
   "source": [
    "labels = pd.read_csv('../labels.csv')\n",
    "labels = labels.set_index('user_id_hash')"
   ]
  },
  {
   "cell_type": "code",
   "execution_count": 16,
   "metadata": {
    "ExecuteTime": {
     "end_time": "2019-03-06T17:58:05.532181Z",
     "start_time": "2019-03-06T17:57:55.901342Z"
    }
   },
   "outputs": [],
   "source": [
    "attributes = attributes.set_index('user_id_hash')"
   ]
  },
  {
   "cell_type": "code",
   "execution_count": 13,
   "metadata": {
    "ExecuteTime": {
     "end_time": "2019-02-27T21:36:59.967966Z",
     "start_time": "2019-02-27T21:35:15.263255Z"
    }
   },
   "outputs": [],
   "source": [
    "# df = attributes.join(labels)"
   ]
  },
  {
   "cell_type": "markdown",
   "metadata": {},
   "source": [
    "# EDA"
   ]
  },
  {
   "cell_type": "markdown",
   "metadata": {},
   "source": [
    "Number of rows and columns in the dataset:"
   ]
  },
  {
   "cell_type": "code",
   "execution_count": 20,
   "metadata": {
    "ExecuteTime": {
     "end_time": "2019-03-06T17:59:14.057774Z",
     "start_time": "2019-03-06T17:59:14.045292Z"
    }
   },
   "outputs": [
    {
     "data": {
      "text/plain": [
       "(185590092, 3)"
      ]
     },
     "execution_count": 20,
     "metadata": {},
     "output_type": "execute_result"
    }
   ],
   "source": [
    "attributes.shape"
   ]
  },
  {
   "cell_type": "markdown",
   "metadata": {},
   "source": [
    "Number of attributes tracked by this app:"
   ]
  },
  {
   "cell_type": "code",
   "execution_count": 18,
   "metadata": {
    "ExecuteTime": {
     "end_time": "2019-03-06T17:58:43.101601Z",
     "start_time": "2019-03-06T17:58:26.279423Z"
    },
    "scrolled": true
   },
   "outputs": [
    {
     "data": {
      "text/plain": [
       "30"
      ]
     },
     "execution_count": 18,
     "metadata": {},
     "output_type": "execute_result"
    }
   ],
   "source": [
    "len(attributes['attribute'].unique())"
   ]
  },
  {
   "cell_type": "markdown",
   "metadata": {},
   "source": [
    "Seemingly all attributes are tracked/recorded in each and every session."
   ]
  },
  {
   "cell_type": "code",
   "execution_count": 19,
   "metadata": {
    "ExecuteTime": {
     "end_time": "2019-03-06T17:58:55.371259Z",
     "start_time": "2019-03-06T17:58:53.700737Z"
    }
   },
   "outputs": [
    {
     "data": {
      "text/plain": [
       "4     6776351\n",
       "3     6776351\n",
       "1     6776351\n",
       "10    6776351\n",
       "11    6776351\n",
       "13    6776351\n",
       "14    6776351\n",
       "15    6776351\n",
       "16    6776351\n",
       "17    6776351\n",
       "18    6776351\n",
       "19    6776351\n",
       "20    6776351\n",
       "21    6776351\n",
       "0     6776351\n",
       "5     6776351\n",
       "52    6776351\n",
       "6     6776351\n",
       "7     6776351\n",
       "8     6776351\n",
       "9     6776351\n",
       "75    6776297\n",
       "76    6776297\n",
       "77    6776297\n",
       "78    6685459\n",
       "66    6614104\n",
       "48    6183014\n",
       "67    3395545\n",
       "96      79643\n",
       "49         65\n",
       "Name: attribute, dtype: int64"
      ]
     },
     "execution_count": 19,
     "metadata": {},
     "output_type": "execute_result"
    }
   ],
   "source": [
    "attributes['attribute'].value_counts()"
   ]
  },
  {
   "cell_type": "markdown",
   "metadata": {},
   "source": [
    "### Check unique values of each attribute\n",
    "To decide if that attribute should be treated as a discrete/continuous variable, incremental or not --> whether to use mode, mean, min, and/or max or not."
   ]
  },
  {
   "cell_type": "markdown",
   "metadata": {},
   "source": [
    "Attributes that are continuous have a long list of unique values so we comment them out here for a better display."
   ]
  },
  {
   "cell_type": "code",
   "execution_count": 1,
   "metadata": {
    "ExecuteTime": {
     "end_time": "2019-02-27T23:25:00.537066Z",
     "start_time": "2019-02-27T23:24:37.394935Z"
    }
   },
   "outputs": [],
   "source": [
    "\n",
    "# df[df['attribute']=='5']['attribute_value'].unique()"
   ]
  },
  {
   "cell_type": "code",
   "execution_count": 2,
   "metadata": {
    "ExecuteTime": {
     "end_time": "2019-03-06T18:00:26.712439Z",
     "start_time": "2019-03-06T17:59:54.880520Z"
    }
   },
   "outputs": [],
   "source": [
    "# attributes[attributes['attribute']=='4']['attribute_value'].unique()"
   ]
  },
  {
   "cell_type": "code",
   "execution_count": 3,
   "metadata": {
    "ExecuteTime": {
     "end_time": "2019-02-27T21:41:08.263806Z",
     "start_time": "2019-02-27T21:41:01.575544Z"
    }
   },
   "outputs": [],
   "source": [
    "# attribute 7 is the troublesome one\n",
    "# df[df['attribute']=='7']['attribute_value'].unique()"
   ]
  },
  {
   "cell_type": "code",
   "execution_count": 22,
   "metadata": {
    "ExecuteTime": {
     "end_time": "2019-03-06T18:01:29.752413Z",
     "start_time": "2019-03-06T18:01:11.731691Z"
    }
   },
   "outputs": [
    {
     "data": {
      "text/plain": [
       "array(['1', '4', '8', '9', '10', '2', '12', '5', '7', '0', '3', '6', '13',\n",
       "       '11', '22', '19', '18', '28', '16', '14', '15', '17', '21', '20',\n",
       "       '39', '29', '30', '25', '32', '26', '27', '33', '31', '23', '24',\n",
       "       '48', '34', '44', '47', '40', '36', '38', '37', '35', '41', '46',\n",
       "       '43', '42', '51', '50', '49', '45', '56', '54', '62', '61', '52',\n",
       "       '60', '53', '58', '55'], dtype=object)"
      ]
     },
     "execution_count": 22,
     "metadata": {},
     "output_type": "execute_result"
    }
   ],
   "source": [
    "attributes[attributes['attribute']=='8']['attribute_value'].unique()"
   ]
  },
  {
   "cell_type": "code",
   "execution_count": 4,
   "metadata": {
    "ExecuteTime": {
     "end_time": "2019-03-06T18:02:14.036363Z",
     "start_time": "2019-03-06T18:01:55.432086Z"
    }
   },
   "outputs": [],
   "source": [
    "# attributes[attributes['attribute']=='75']['attribute_value'].unique()"
   ]
  },
  {
   "cell_type": "code",
   "execution_count": 24,
   "metadata": {
    "ExecuteTime": {
     "end_time": "2019-03-06T18:03:10.962705Z",
     "start_time": "2019-03-06T18:02:53.230006Z"
    }
   },
   "outputs": [
    {
     "data": {
      "text/plain": [
       "array(['0', '26', '45', '65', '13', '23', '1', '8', '10', '50', '33',\n",
       "       '17', '3', '53', '15', '11', '28', '12', '30', '6', '18', '25',\n",
       "       '35', '38', '5', '2', '14', '27', '36', '16', '40', '21', '20',\n",
       "       '48', '34', '29', '9', '47', '7', '4', '19', '22', '46', '37',\n",
       "       '41', '31', '24', '32', '49', '39', '43', '55', '42', '51', '63',\n",
       "       '9999', '999999', '58', '999'], dtype=object)"
      ]
     },
     "execution_count": 24,
     "metadata": {},
     "output_type": "execute_result"
    }
   ],
   "source": [
    "attributes[attributes['attribute']=='18']['attribute_value'].unique()"
   ]
  },
  {
   "cell_type": "code",
   "execution_count": 5,
   "metadata": {
    "ExecuteTime": {
     "end_time": "2019-03-06T18:03:56.231634Z",
     "start_time": "2019-03-06T18:03:37.866339Z"
    }
   },
   "outputs": [],
   "source": [
    "# attributes[attributes['attribute']=='10']['attribute_value'].unique()"
   ]
  },
  {
   "cell_type": "code",
   "execution_count": 6,
   "metadata": {
    "ExecuteTime": {
     "end_time": "2019-03-06T18:04:56.981473Z",
     "start_time": "2019-03-06T18:04:38.422387Z"
    }
   },
   "outputs": [],
   "source": [
    "# attributes[attributes['attribute']=='11']['attribute_value'].unique()"
   ]
  },
  {
   "cell_type": "code",
   "execution_count": 27,
   "metadata": {
    "ExecuteTime": {
     "end_time": "2019-03-06T18:05:50.045522Z",
     "start_time": "2019-03-06T18:05:30.953351Z"
    }
   },
   "outputs": [
    {
     "data": {
      "text/plain": [
       "array(['0.06', '0.03', '0.00', ..., '270.50', '288.66', '130.43'],\n",
       "      dtype=object)"
      ]
     },
     "execution_count": 27,
     "metadata": {},
     "output_type": "execute_result"
    }
   ],
   "source": [
    "attributes[attributes['attribute']=='13']['attribute_value'].unique()"
   ]
  },
  {
   "cell_type": "code",
   "execution_count": 28,
   "metadata": {
    "ExecuteTime": {
     "end_time": "2019-03-06T18:06:09.735862Z",
     "start_time": "2019-03-06T18:05:50.048468Z"
    }
   },
   "outputs": [
    {
     "data": {
      "text/plain": [
       "array(['0.00', '178.21', '169.83', ..., '268.98', '270.37', '288.53'],\n",
       "      dtype=object)"
      ]
     },
     "execution_count": 28,
     "metadata": {},
     "output_type": "execute_result"
    }
   ],
   "source": [
    "attributes[attributes['attribute']=='14']['attribute_value'].unique()"
   ]
  },
  {
   "cell_type": "code",
   "execution_count": 7,
   "metadata": {
    "ExecuteTime": {
     "end_time": "2019-03-06T18:06:28.825193Z",
     "start_time": "2019-03-06T18:06:09.738487Z"
    }
   },
   "outputs": [],
   "source": [
    "# attributes[attributes['attribute']=='15']['attribute_value'].unique()"
   ]
  },
  {
   "cell_type": "code",
   "execution_count": 37,
   "metadata": {
    "ExecuteTime": {
     "end_time": "2019-02-27T21:49:54.352622Z",
     "start_time": "2019-02-27T21:49:47.635745Z"
    }
   },
   "outputs": [],
   "source": [
    "## Plot the correlation matrix for the numerical values\n",
    "selectedDF = df[df['attribute']=='4'][['attribute_value', 'label_7']]\n",
    "selectedDF['attribute_value'] = selectedDF['attribute_value'].astype(float)"
   ]
  },
  {
   "cell_type": "code",
   "execution_count": 38,
   "metadata": {
    "ExecuteTime": {
     "end_time": "2019-02-27T21:49:55.617635Z",
     "start_time": "2019-02-27T21:49:55.178772Z"
    }
   },
   "outputs": [
    {
     "data": {
      "text/plain": [
       "<matplotlib.axes._subplots.AxesSubplot at 0x1c9c6e198>"
      ]
     },
     "execution_count": 38,
     "metadata": {},
     "output_type": "execute_result"
    },
    {
     "data": {
      "image/png": "[encoded data removed]",
      "text/plain": [
       "<Figure size 432x288 with 2 Axes>"
      ]
     },
     "metadata": {
      "needs_background": "light"
     },
     "output_type": "display_data"
    }
   ],
   "source": [
    "import seaborn as sns\n",
    "sns.heatmap(selectedDF.corr(),\n",
    "       xticklabels=selectedDF.corr().columns,\n",
    "       yticklabels=selectedDF.corr().columns,\n",
    "          cmap=\"Blues\",\n",
    "          fmt='d')"
   ]
  },
  {
   "cell_type": "code",
   "execution_count": 34,
   "metadata": {
    "ExecuteTime": {
     "end_time": "2019-02-27T21:48:16.073050Z",
     "start_time": "2019-02-27T21:48:10.360149Z"
    }
   },
   "outputs": [
    {
     "data": {
      "text/plain": [
       "array(['7', '3', '58', ..., '696', '1642', '1567'], dtype=object)"
      ]
     },
     "execution_count": 34,
     "metadata": {},
     "output_type": "execute_result"
    }
   ],
   "source": [
    "# attribute 1 is continuous\n",
    "df[df['attribute']=='1']['attribute_value'].unique()"
   ]
  },
  {
   "cell_type": "code",
   "execution_count": 8,
   "metadata": {
    "ExecuteTime": {
     "end_time": "2019-02-27T21:50:23.419419Z",
     "start_time": "2019-02-27T21:50:18.462579Z"
    }
   },
   "outputs": [],
   "source": [
    "\n",
    "# df[df['attribute']=='3']['attribute_value'].unique()"
   ]
  },
  {
   "cell_type": "code",
   "execution_count": 9,
   "metadata": {
    "ExecuteTime": {
     "end_time": "2019-02-27T23:26:41.347379Z",
     "start_time": "2019-02-27T23:26:33.331104Z"
    }
   },
   "outputs": [],
   "source": [
    "\n",
    "# df[df['attribute']=='6']['attribute_value'].unique()"
   ]
  },
  {
   "cell_type": "code",
   "execution_count": 81,
   "metadata": {
    "ExecuteTime": {
     "end_time": "2019-02-27T23:29:19.755211Z",
     "start_time": "2019-02-27T23:29:11.249111Z"
    }
   },
   "outputs": [
    {
     "data": {
      "text/plain": [
       "array(['8', '2', '6', '7', '5', '3', '1', '4', '0', '9', '11', '10', '12',\n",
       "       '18', '13', '15', '19', '16', '14', '17', '31', '35', '20', '23',\n",
       "       '50', '25', '24', '26', '27', '28', '21', '32', '22', '34', '47',\n",
       "       '30', '29', '37', '33', '48', '44', '36', '43', '45', '62', '41',\n",
       "       '49', '46', '42', '40', '38', '39', '53', '52', '51', '60', '54',\n",
       "       '61', '56', '58', '55'], dtype=object)"
      ]
     },
     "execution_count": 81,
     "metadata": {},
     "output_type": "execute_result"
    }
   ],
   "source": [
    "\n",
    "df[df['attribute']=='8']['attribute_value'].unique()"
   ]
  },
  {
   "cell_type": "code",
   "execution_count": 79,
   "metadata": {
    "ExecuteTime": {
     "end_time": "2019-02-27T23:26:55.556464Z",
     "start_time": "2019-02-27T23:26:50.638629Z"
    },
    "scrolled": true
   },
   "outputs": [
    {
     "data": {
      "text/plain": [
       "array(['4', '0', '2', '3', '1', '8', '7', '5', '6', '9', '10', '11', '20',\n",
       "       '19', '37', '14', '15', '12', '13', '17', '23', '21', '18', '16',\n",
       "       '22', '27', '41', '28', '39', '29', '107', '48', '26', '30', '40',\n",
       "       '46', '24', '35', '25', '31', '42', '44', '36', '71', '32', '54',\n",
       "       '45', '91', '49', '105', '60', '47', '43', '34', '33', '50', '165',\n",
       "       '38', '73', '74', '53', '66', '69', '62', '52', '85', '170', '59',\n",
       "       '61', '51', '64', '55', '70', '81', '93', '56', '101', '57', '76',\n",
       "       '86', '160', '92', '65', '97', '78', '63', '178', '83', '72', '90',\n",
       "       '88', '187', '117', '58', '100', '67', '167', '94', '68', '87',\n",
       "       '77', '126', '79', '108', '109', '154', '179', '177', '114', '195',\n",
       "       '161', '89', '137', '82', '75', '182', '80', '84', '155', '131',\n",
       "       '166', '181', '112', '102'], dtype=object)"
      ]
     },
     "execution_count": 79,
     "metadata": {},
     "output_type": "execute_result"
    }
   ],
   "source": [
    "\n",
    "df[df['attribute']=='0']['attribute_value'].unique()"
   ]
  },
  {
   "cell_type": "code",
   "execution_count": 114,
   "metadata": {
    "ExecuteTime": {
     "end_time": "2019-02-27T23:40:07.633968Z",
     "start_time": "2019-02-27T23:40:01.604791Z"
    }
   },
   "outputs": [
    {
     "data": {
      "text/plain": [
       "user_id_hash                                                      attribute_value\n",
       "00000db35682058bb7916cb90f85709f54c1a0f7a3b6de247d94b1bc20c36b97  0                  12\n",
       "                                                                  1                   3\n",
       "000059859ec188af6035870faf885c3038cedda05b3a5480a8223649629d951e  0                  12\n",
       "000062e9be78f3da274fec338e78f89d12000e781967f23e248af3904cb5b3b7  0                  17\n",
       "                                                                  1                   3\n",
       "00006ad44c0d33a2a526caf75514643639b7b7070dfffd6d5abdb9e4f8099108  0                   8\n",
       "000081a7d841b0f953bdba6c185fd5cc335fd6015a30c3035fbf5496aab9be7c  0                   4\n",
       "0000a464ad921c3288e73a3a788b5f113cabf84251a74b269e32da9110e8bca3  0                   2\n",
       "0000bc4e8bfc829d327fa69bdc426dd8a789c52550ed87611492c62e2e6a9540  0                   9\n",
       "0000c5de50d243cc39f6ac4268d7511705585ca3f2a20f14d21730961e7e5bc9  0                   3\n",
       "0000c91fb9908357cc11974d0fc67a260ddb46508055f23de76dae9a733c803d  0                  40\n",
       "0000e2a3c14887640e2ccf2902b23e6b627856fab9efd6237d01cdd2adca00a9  0                   2\n",
       "00014a336be98fc4e18e07bd2eb460fa59ac9c19545d8c0761ea943056ab215e  0                   1\n",
       "000161848e5ccdcd4d3b0c7be9ec844730c39e6bcbc2a770a23a570a79754bb8  0                   2\n",
       "000176d36d165ecbd4aee7cd8f21e836d8fa374f0885a4c14b693041031d488d  0                   3\n",
       "0001826f2557818e6253eff29ef61ccec43cbd0139b80bad1b64eb09f424b071  0                   2\n",
       "00019c00abc35927aefa1470979a546446c6e44f24c7e69c2b85043483df8098  0                   3\n",
       "0001c46321a0e86298a5842463975ab449bfe55e764bb58db6c4ebaa2a13b5a5  0                   2\n",
       "0001d3714e6b84e6d0ed33687c71b0b5ed0369d634259debd4d4ed1c663e6c1d  0                   2\n",
       "0001d9d78d70b3301aa8b7d4900299311f708cc3f2acffbe800af3d1095e2320  0                   2\n",
       "00020102f66f89759868c843ae9fe634870f132f9e3d7990ca9c794a564477be  0                   2\n",
       "00020327619fc1b341fccdeb2516829b50421d6bc221f395df3ee7bbb20c5faf  0                   1\n",
       "00022a204a0220b0e0ff944212bea0c12df2a6fadf4d5fa79318a795f2a6bc67  0                   2\n",
       "00025136f0d130dc36256f0b034253ecb71e73c2758b1e846d1a0839a686570c  0                   2\n",
       "0002519419e9c245877a8c032b8ad9a36e31fd53e97ae5194fef20094b02426c  0                   1\n",
       "0002519bee76a3d1e1726b19b996f06e4b7f01118031194defb1f2e9f185d232  0                   1\n",
       "000258b6a7a05a216acbb83af1eecd0067501fc5f451e5e7fd713f6a995f6e45  0                   3\n",
       "00026e5050a70ef12d421f75c6a5c80d0f62d37acab8bd38e5990898285c9036  0                   3\n",
       "00029593bb423a937afc5c802d0d152bb8ae928f2cc970367dc137c3dd8be1d6  0                   3\n",
       "0002a76650166088d16a07052daa5e3355325923e438cd4b8cb31af4ea7322b7  0                   2\n",
       "                                                                                     ..\n",
       "fffdb3fdf921294adb7e5db84d846ed79dd2395bcf006f0f1b127161c2fa9902  0                  21\n",
       "                                                                  1                  20\n",
       "                                                                  2                  18\n",
       "                                                                  3                   8\n",
       "fffdf57e4a7fdebb4cb023319581e789da5e61af8322b79368d85cb32f49870a  0                  17\n",
       "fffe592fc03723bccb939b901e910b2d75ea6b7b5a051b97567b053e8831e4aa  0                   2\n",
       "fffe7499d068cc35475a4cf5bf9e08669f6234c0d98d3caf2c3b27eb1f42ad7f  0                   4\n",
       "fffe9b5522b7345439212f9cf646fe87ff826795a1f7a0ec98dda931a646b8a3  0                   2\n",
       "fffebe0c6f6539b1a7b5cd2ac21745659a1414e8520457deae2b2dd504139dd2  0                  11\n",
       "fffec707449ba18930e7111aaeb9b51a0d6875dded5cf18eed416cb10e6ac0a8  0                   2\n",
       "fffed32bc4aba06377660340a0456d8eda46fa63c373079f03363e2d0312460b  0                   8\n",
       "fffedddd8a94ceb254a7a4e74d0a1a7c20c9f0f884e639cda66149f3f61da5a3  0                   3\n",
       "fffedfc526d94d73ef34bdf5fe2d14dca4b49a3cd529610901e98bea4b0d3a7f  0                   2\n",
       "ffff0782e2d331e04a2efb8b91b2d663ce03df3c9b6d613d8fdbe7f9f72f09cc  0                   2\n",
       "ffff29b42a055c3191b229b41f47dfefaea63c84775fd5ff4ddca674f5878f8e  0                   5\n",
       "ffff381faf4dfe5b167efdf133fa279e8e09d47d96c70ca0431b5503c8658339  0                   4\n",
       "ffff3dd871ed4dd89b31f541673687841b2fdfe0e4d9841bf8320c478c6ee37b  0                   2\n",
       "ffff42651584905f7c57fdd58ebd33d4de9011e3bd7dbfe2bb727790e971883c  0                   5\n",
       "ffff54b12522f4d8b83f6f5d1495f523a6721b681cf149b12d07a0f81999fad6  0                   2\n",
       "ffff7c07b9827bd0a2e914e8113cd841f73a630c2d3a201eff436ddef8c21f7c  0                   1\n",
       "ffff852f96c2fabb3833fafba3074dd1487613fa48ab93879320e4dfb947541e  0                   2\n",
       "ffff9076149fe3a379a13267a888a82a7a8301b6ffc92928a5fd02617454ff10  0                   3\n",
       "ffffa1ee52cf01d3954d944a21ac7b0749360b6f277813b7e10f4f832eed84ae  0                   2\n",
       "ffffcc392f6f5cdadd553070c7125aceb7ff55f341ebf2caa81f5e3df49ab817  0                   3\n",
       "ffffd2399a74d7b74f4d8e0f1e01234ac1bea34297ce8d79792b9c77b27e68be  0                   1\n",
       "ffffd9f4b3ee8635e4f33fcd76ce7da1aae1b79c079044cecc6fc34faa63c099  0                   9\n",
       "fffffe948ca733c16b7d0c0743e66f8f23c7ea2e2a4a8a4a15e1e3be98c2cd11  2                  28\n",
       "                                                                  0                  17\n",
       "                                                                  3                  17\n",
       "                                                                  1                  15\n",
       "Name: attribute_value, Length: 746832, dtype: int64"
      ]
     },
     "execution_count": 114,
     "metadata": {},
     "output_type": "execute_result"
    }
   ],
   "source": [
    "attr_b_7[attr_b_7['attribute']=='0'].groupby('user_id_hash')['attribute_value'].value_counts()"
   ]
  },
  {
   "cell_type": "code",
   "execution_count": 54,
   "metadata": {
    "ExecuteTime": {
     "end_time": "2019-02-27T22:01:32.203359Z",
     "start_time": "2019-02-27T22:01:32.197081Z"
    }
   },
   "outputs": [
    {
     "data": {
      "text/plain": [
       "(185590092, 5)"
      ]
     },
     "execution_count": 54,
     "metadata": {},
     "output_type": "execute_result"
    }
   ],
   "source": [
    "df.shape"
   ]
  },
  {
   "cell_type": "markdown",
   "metadata": {},
   "source": [
    "# Batch 1: attributes 1, 3, 4, 6, 0, 8"
   ]
  },
  {
   "cell_type": "markdown",
   "metadata": {},
   "source": [
    "## Extract features for before 7"
   ]
  },
  {
   "cell_type": "code",
   "execution_count": 65,
   "metadata": {
    "ExecuteTime": {
     "end_time": "2019-02-27T22:54:24.739459Z",
     "start_time": "2019-02-27T22:52:15.676961Z"
    }
   },
   "outputs": [],
   "source": [
    "selected_session = pd.read_csv('../Data/events_before_7_good.csv', \n",
    "                               usecols=['user_id_hash', 'session_id']).drop_duplicates()\n"
   ]
  },
  {
   "cell_type": "code",
   "execution_count": 66,
   "metadata": {
    "ExecuteTime": {
     "end_time": "2019-02-27T23:09:15.704749Z",
     "start_time": "2019-02-27T23:09:15.699979Z"
    }
   },
   "outputs": [
    {
     "data": {
      "text/plain": [
       "(4741260, 2)"
      ]
     },
     "execution_count": 66,
     "metadata": {},
     "output_type": "execute_result"
    }
   ],
   "source": [
    "selected_session.shape"
   ]
  },
  {
   "cell_type": "code",
   "execution_count": 70,
   "metadata": {
    "ExecuteTime": {
     "end_time": "2019-02-27T23:13:19.677543Z",
     "start_time": "2019-02-27T23:11:13.889446Z"
    }
   },
   "outputs": [
    {
     "data": {
      "text/plain": [
       "(131372650, 4)"
      ]
     },
     "execution_count": 70,
     "metadata": {},
     "output_type": "execute_result"
    }
   ],
   "source": [
    "attr_b_7 = attributes.reset_index().merge(selected_session, how='inner', on=['user_id_hash', 'session_id'])\n",
    "attr_b_7.shape"
   ]
  },
  {
   "cell_type": "code",
   "execution_count": 71,
   "metadata": {
    "ExecuteTime": {
     "end_time": "2019-02-27T23:15:16.329289Z",
     "start_time": "2019-02-27T23:15:16.316498Z"
    }
   },
   "outputs": [],
   "source": [
    "df_clean_7 = pd.DataFrame()"
   ]
  },
  {
   "cell_type": "code",
   "execution_count": 72,
   "metadata": {
    "ExecuteTime": {
     "end_time": "2019-02-27T23:18:59.837261Z",
     "start_time": "2019-02-27T23:16:39.816054Z"
    }
   },
   "outputs": [],
   "source": [
    "df_clean_7['attribute_1'] = attr_b_7[attr_b_7['attribute']=='1']\\\n",
    "                                 .groupby('user_id_hash')['attribute_value']\\\n",
    "                                 .apply(lambda x: x.astype(float).mean())"
   ]
  },
  {
   "cell_type": "code",
   "execution_count": 75,
   "metadata": {
    "ExecuteTime": {
     "end_time": "2019-02-27T23:22:29.789734Z",
     "start_time": "2019-02-27T23:20:27.360032Z"
    }
   },
   "outputs": [],
   "source": [
    "df_clean_7['attribute_3'] = attr_b_7[attr_b_7['attribute']=='3']\\\n",
    "                                 .groupby('user_id_hash')['attribute_value']\\\n",
    "                                 .apply(lambda x: x.astype(float).mean())"
   ]
  },
  {
   "cell_type": "code",
   "execution_count": 76,
   "metadata": {
    "ExecuteTime": {
     "end_time": "2019-02-27T23:24:37.391514Z",
     "start_time": "2019-02-27T23:22:29.796395Z"
    }
   },
   "outputs": [],
   "source": [
    "df_clean_7['attribute_4'] = attr_b_7[attr_b_7['attribute']=='4']\\\n",
    "                                 .groupby('user_id_hash')['attribute_value']\\\n",
    "                                 .apply(lambda x: x.astype(float).mean())"
   ]
  },
  {
   "cell_type": "code",
   "execution_count": 80,
   "metadata": {
    "ExecuteTime": {
     "end_time": "2019-02-27T23:29:11.246146Z",
     "start_time": "2019-02-27T23:27:00.864967Z"
    }
   },
   "outputs": [],
   "source": [
    "df_clean_7['attribute_6'] = attr_b_7[attr_b_7['attribute']=='6']\\\n",
    "                                 .groupby('user_id_hash')['attribute_value']\\\n",
    "                                 .apply(lambda x: x.astype(float).mean())"
   ]
  },
  {
   "cell_type": "code",
   "execution_count": 115,
   "metadata": {
    "ExecuteTime": {
     "end_time": "2019-02-27T23:43:25.203235Z",
     "start_time": "2019-02-27T23:41:22.064086Z"
    }
   },
   "outputs": [],
   "source": [
    "df_clean_7['attribute_0'] = attr_b_7[attr_b_7['attribute']=='0']\\\n",
    "                                 .groupby('user_id_hash')['attribute_value']\\\n",
    "                                 .apply(lambda x: x.astype(float).mean())"
   ]
  },
  {
   "cell_type": "code",
   "execution_count": 116,
   "metadata": {
    "ExecuteTime": {
     "end_time": "2019-02-27T23:45:51.301667Z",
     "start_time": "2019-02-27T23:43:52.265106Z"
    }
   },
   "outputs": [],
   "source": [
    "df_clean_7['attribute_8'] = attr_b_7[attr_b_7['attribute']=='8']\\\n",
    "                                 .groupby('user_id_hash')['attribute_value']\\\n",
    "                                 .apply(lambda x: x.astype(float).mean())"
   ]
  },
  {
   "cell_type": "code",
   "execution_count": 117,
   "metadata": {
    "ExecuteTime": {
     "end_time": "2019-02-27T23:46:23.664565Z",
     "start_time": "2019-02-27T23:46:23.645774Z"
    }
   },
   "outputs": [
    {
     "data": {
      "text/html": [
       "<div>\n",
       "<style scoped>\n",
       "    .dataframe tbody tr th:only-of-type {\n",
       "        vertical-align: middle;\n",
       "    }\n",
       "\n",
       "    .dataframe tbody tr th {\n",
       "        vertical-align: top;\n",
       "    }\n",
       "\n",
       "    .dataframe thead th {\n",
       "        text-align: right;\n",
       "    }\n",
       "</style>\n",
       "<table border=\"1\" class=\"dataframe\">\n",
       "  <thead>\n",
       "    <tr style=\"text-align: right;\">\n",
       "      <th></th>\n",
       "      <th>attribute_1</th>\n",
       "      <th>attribute_3</th>\n",
       "      <th>attribute_4</th>\n",
       "      <th>attribute_6</th>\n",
       "      <th>attribute_0</th>\n",
       "      <th>attribute_8</th>\n",
       "    </tr>\n",
       "    <tr>\n",
       "      <th>user_id_hash</th>\n",
       "      <th></th>\n",
       "      <th></th>\n",
       "      <th></th>\n",
       "      <th></th>\n",
       "      <th></th>\n",
       "      <th></th>\n",
       "    </tr>\n",
       "  </thead>\n",
       "  <tbody>\n",
       "    <tr>\n",
       "      <th>00000db35682058bb7916cb90f85709f54c1a0f7a3b6de247d94b1bc20c36b97</th>\n",
       "      <td>14.733333</td>\n",
       "      <td>11.866667</td>\n",
       "      <td>0.101333</td>\n",
       "      <td>9.666667</td>\n",
       "      <td>0.20</td>\n",
       "      <td>1.866667</td>\n",
       "    </tr>\n",
       "    <tr>\n",
       "      <th>000059859ec188af6035870faf885c3038cedda05b3a5480a8223649629d951e</th>\n",
       "      <td>0.000000</td>\n",
       "      <td>0.166667</td>\n",
       "      <td>0.023333</td>\n",
       "      <td>7.833333</td>\n",
       "      <td>0.00</td>\n",
       "      <td>1.000000</td>\n",
       "    </tr>\n",
       "    <tr>\n",
       "      <th>000062e9be78f3da274fec338e78f89d12000e781967f23e248af3904cb5b3b7</th>\n",
       "      <td>0.000000</td>\n",
       "      <td>0.000000</td>\n",
       "      <td>0.099000</td>\n",
       "      <td>12.200000</td>\n",
       "      <td>0.15</td>\n",
       "      <td>3.050000</td>\n",
       "    </tr>\n",
       "    <tr>\n",
       "      <th>00006ad44c0d33a2a526caf75514643639b7b7070dfffd6d5abdb9e4f8099108</th>\n",
       "      <td>0.000000</td>\n",
       "      <td>0.000000</td>\n",
       "      <td>0.056250</td>\n",
       "      <td>5.375000</td>\n",
       "      <td>0.00</td>\n",
       "      <td>1.000000</td>\n",
       "    </tr>\n",
       "    <tr>\n",
       "      <th>000081a7d841b0f953bdba6c185fd5cc335fd6015a30c3035fbf5496aab9be7c</th>\n",
       "      <td>0.000000</td>\n",
       "      <td>0.000000</td>\n",
       "      <td>0.000000</td>\n",
       "      <td>0.500000</td>\n",
       "      <td>0.00</td>\n",
       "      <td>1.000000</td>\n",
       "    </tr>\n",
       "  </tbody>\n",
       "</table>\n",
       "</div>"
      ],
      "text/plain": [
       "                                                    attribute_1  attribute_3  \\\n",
       "user_id_hash                                                                   \n",
       "00000db35682058bb7916cb90f85709f54c1a0f7a3b6de2...    14.733333    11.866667   \n",
       "000059859ec188af6035870faf885c3038cedda05b3a548...     0.000000     0.166667   \n",
       "000062e9be78f3da274fec338e78f89d12000e781967f23...     0.000000     0.000000   \n",
       "00006ad44c0d33a2a526caf75514643639b7b7070dfffd6...     0.000000     0.000000   \n",
       "000081a7d841b0f953bdba6c185fd5cc335fd6015a30c30...     0.000000     0.000000   \n",
       "\n",
       "                                                    attribute_4  attribute_6  \\\n",
       "user_id_hash                                                                   \n",
       "00000db35682058bb7916cb90f85709f54c1a0f7a3b6de2...     0.101333     9.666667   \n",
       "000059859ec188af6035870faf885c3038cedda05b3a548...     0.023333     7.833333   \n",
       "000062e9be78f3da274fec338e78f89d12000e781967f23...     0.099000    12.200000   \n",
       "00006ad44c0d33a2a526caf75514643639b7b7070dfffd6...     0.056250     5.375000   \n",
       "000081a7d841b0f953bdba6c185fd5cc335fd6015a30c30...     0.000000     0.500000   \n",
       "\n",
       "                                                    attribute_0  attribute_8  \n",
       "user_id_hash                                                                  \n",
       "00000db35682058bb7916cb90f85709f54c1a0f7a3b6de2...         0.20     1.866667  \n",
       "000059859ec188af6035870faf885c3038cedda05b3a548...         0.00     1.000000  \n",
       "000062e9be78f3da274fec338e78f89d12000e781967f23...         0.15     3.050000  \n",
       "00006ad44c0d33a2a526caf75514643639b7b7070dfffd6...         0.00     1.000000  \n",
       "000081a7d841b0f953bdba6c185fd5cc335fd6015a30c30...         0.00     1.000000  "
      ]
     },
     "execution_count": 117,
     "metadata": {},
     "output_type": "execute_result"
    }
   ],
   "source": [
    "df_clean_7.head()"
   ]
  },
  {
   "cell_type": "code",
   "execution_count": 118,
   "metadata": {
    "ExecuteTime": {
     "end_time": "2019-02-27T23:47:17.375985Z",
     "start_time": "2019-02-27T23:47:14.323896Z"
    }
   },
   "outputs": [],
   "source": [
    "features_7 = feather.read_dataframe('../Data/features_before_7_v5.feather').set_index('user_id_hash')\n",
    "features_7 = features_7.join(df_clean_7)"
   ]
  },
  {
   "cell_type": "code",
   "execution_count": 120,
   "metadata": {
    "ExecuteTime": {
     "end_time": "2019-02-27T23:47:49.705853Z",
     "start_time": "2019-02-27T23:47:48.606047Z"
    }
   },
   "outputs": [],
   "source": [
    "feather.write_dataframe(features_7.reset_index(), '../Data/features_before_7_v6.feather')"
   ]
  },
  {
   "cell_type": "code",
   "execution_count": 61,
   "metadata": {
    "ExecuteTime": {
     "end_time": "2019-03-06T19:58:17.842962Z",
     "start_time": "2019-03-06T19:58:15.353444Z"
    }
   },
   "outputs": [],
   "source": [
    "f_b_7 = feather.read_dataframe('./Data/features_before_7_v6.feather')"
   ]
  },
  {
   "cell_type": "code",
   "execution_count": 62,
   "metadata": {
    "ExecuteTime": {
     "end_time": "2019-03-06T19:58:23.107836Z",
     "start_time": "2019-03-06T19:58:22.395262Z"
    }
   },
   "outputs": [
    {
     "data": {
      "text/plain": [
       "user_id_hash                 0\n",
       "num_session                  0\n",
       "last_active                  0\n",
       "receive_message              0\n",
       "accept_message               0\n",
       "life_time_value              0\n",
       "num_purchase                 0\n",
       "avg_purchase                 0\n",
       "num_event                    0\n",
       "event_per_session            0\n",
       "did_purchase_binary          0\n",
       "last_purchase                0\n",
       "last_date_event_0            0\n",
       "last_date_event_1            0\n",
       "last_date_event_10           0\n",
       "last_date_event_11           0\n",
       "last_date_event_14           0\n",
       "last_date_event_3            0\n",
       "last_date_event_32           0\n",
       "last_date_event_4            0\n",
       "last_date_event_40           0\n",
       "last_date_event_41           0\n",
       "last_date_event_42           0\n",
       "last_date_event_43           0\n",
       "last_date_event_44           0\n",
       "last_date_event_45           0\n",
       "last_date_event_47           0\n",
       "last_date_event_48           0\n",
       "last_date_event_49           0\n",
       "last_date_event_5            0\n",
       "                          ... \n",
       "last_date_event_51           0\n",
       "last_date_event_52           0\n",
       "last_date_event_54           0\n",
       "last_date_event_55           0\n",
       "last_date_event_56           0\n",
       "last_date_event_57           0\n",
       "last_date_event_58           0\n",
       "last_date_event_59           0\n",
       "last_date_event_6            0\n",
       "last_date_event_60           0\n",
       "last_date_event_61           0\n",
       "last_date_event_62           0\n",
       "last_date_event_63           0\n",
       "last_date_event_64           0\n",
       "last_date_event_7            0\n",
       "last_date_event_9            0\n",
       "num_devices                  0\n",
       "app_age                      0\n",
       "num_event_per_day            0\n",
       "num_session_per_day          0\n",
       "receive_message_per_day      0\n",
       "accept_message_per_day       0\n",
       "num_purchase_per_day         0\n",
       "life_time_value_per_day      0\n",
       "attribute_1                294\n",
       "attribute_3                294\n",
       "attribute_4                294\n",
       "attribute_6                294\n",
       "attribute_0                294\n",
       "attribute_8                294\n",
       "Length: 61, dtype: int64"
      ]
     },
     "execution_count": 62,
     "metadata": {},
     "output_type": "execute_result"
    }
   ],
   "source": [
    "f_b_7.isnull().sum()"
   ]
  },
  {
   "cell_type": "markdown",
   "metadata": {
    "ExecuteTime": {
     "end_time": "2019-02-27T23:48:14.356752Z",
     "start_time": "2019-02-27T23:48:13.519115Z"
    }
   },
   "source": [
    "## Extract similar features for before 14"
   ]
  },
  {
   "cell_type": "code",
   "execution_count": 123,
   "metadata": {
    "ExecuteTime": {
     "end_time": "2019-02-27T23:54:30.480478Z",
     "start_time": "2019-02-27T23:49:58.589846Z"
    }
   },
   "outputs": [],
   "source": [
    "selected_session = pd.read_csv('./Data/events_before_14_good.csv', \n",
    "                               usecols=['user_id_hash', 'session_id']).drop_duplicates()\n",
    "\n",
    "\n",
    "attr_b_14 = attributes.reset_index().merge(selected_session, how='inner', on=['user_id_hash', 'session_id'])"
   ]
  },
  {
   "cell_type": "code",
   "execution_count": 124,
   "metadata": {
    "ExecuteTime": {
     "end_time": "2019-02-28T00:06:43.225619Z",
     "start_time": "2019-02-27T23:54:30.491597Z"
    }
   },
   "outputs": [],
   "source": [
    "df_clean_14 = pd.DataFrame()\n",
    "\n",
    "for event in ['1', '3', '4', '6', '0', '8']:\n",
    "    df_clean_14['attribute_'+event] = attr_b_14[attr_b_14['attribute']==event]\\\n",
    "                                 .groupby('user_id_hash')['attribute_value']\\\n",
    "                                 .apply(lambda x: x.astype(float).mean())"
   ]
  },
  {
   "cell_type": "code",
   "execution_count": 125,
   "metadata": {
    "ExecuteTime": {
     "end_time": "2019-02-28T00:06:47.052523Z",
     "start_time": "2019-02-28T00:06:43.228416Z"
    }
   },
   "outputs": [],
   "source": [
    "features_14 = feather.read_dataframe('../Data/features_before_14_v5.feather').set_index('user_id_hash')\n",
    "features_14 = features_14.join(df_clean_14)\n",
    "feather.write_dataframe(features_14.reset_index(), '../Data/features_before_14_v6.feather')"
   ]
  },
  {
   "cell_type": "markdown",
   "metadata": {},
   "source": [
    "## Extract similar features for the entire data"
   ]
  },
  {
   "cell_type": "code",
   "execution_count": 34,
   "metadata": {
    "ExecuteTime": {
     "end_time": "2019-03-06T18:12:40.212437Z",
     "start_time": "2019-03-06T18:12:16.184521Z"
    }
   },
   "outputs": [],
   "source": [
    "attributes['attribute'] = attributes['attribute'].astype(int)"
   ]
  },
  {
   "cell_type": "code",
   "execution_count": 67,
   "metadata": {
    "ExecuteTime": {
     "end_time": "2019-03-06T20:10:52.871081Z",
     "start_time": "2019-03-06T20:09:58.343099Z"
    }
   },
   "outputs": [],
   "source": [
    "# feather.write_dataframe(attributes, './Data/attributes_good.feather')"
   ]
  },
  {
   "cell_type": "code",
   "execution_count": 43,
   "metadata": {
    "ExecuteTime": {
     "end_time": "2019-03-06T19:20:33.968834Z",
     "start_time": "2019-03-06T19:20:33.212374Z"
    }
   },
   "outputs": [],
   "source": [
    "selected_users = pd.read_csv('sample_submission_2.csv')['user_id_hash']"
   ]
  },
  {
   "cell_type": "code",
   "execution_count": 50,
   "metadata": {
    "ExecuteTime": {
     "end_time": "2019-03-06T19:22:45.881206Z",
     "start_time": "2019-03-06T19:22:19.150395Z"
    }
   },
   "outputs": [],
   "source": [
    "attributes = attributes.reset_index()"
   ]
  },
  {
   "cell_type": "code",
   "execution_count": 51,
   "metadata": {
    "ExecuteTime": {
     "end_time": "2019-03-06T19:23:38.238750Z",
     "start_time": "2019-03-06T19:22:45.890749Z"
    }
   },
   "outputs": [],
   "source": [
    "df = attributes[attributes['user_id_hash'].isin(selected_users)]"
   ]
  },
  {
   "cell_type": "code",
   "execution_count": 52,
   "metadata": {
    "ExecuteTime": {
     "end_time": "2019-03-06T19:23:38.263448Z",
     "start_time": "2019-03-06T19:23:38.247100Z"
    }
   },
   "outputs": [
    {
     "data": {
      "text/plain": [
       "(94692247, 4)"
      ]
     },
     "execution_count": 52,
     "metadata": {},
     "output_type": "execute_result"
    }
   ],
   "source": [
    "df.shape"
   ]
  },
  {
   "cell_type": "code",
   "execution_count": 72,
   "metadata": {
    "ExecuteTime": {
     "end_time": "2019-03-06T20:49:02.807492Z",
     "start_time": "2019-03-06T20:36:24.752590Z"
    }
   },
   "outputs": [
    {
     "name": "stdout",
     "output_type": "stream",
     "text": [
      "\n",
      "Extracting feature from attribute 1\n",
      "Time extracting event 1 in minutes is 2.1064974347750347\n",
      "\n",
      "Extracting feature from attribute 3\n",
      "Time extracting event 3 in minutes is 2.203840680917104\n",
      "\n",
      "Extracting feature from attribute 4\n",
      "Time extracting event 4 in minutes is 2.0494138836860656\n",
      "\n",
      "Extracting feature from attribute 6\n",
      "Time extracting event 6 in minutes is 2.064106750488281\n",
      "\n",
      "Extracting feature from attribute 0\n",
      "Time extracting event 0 in minutes is 2.0471148689587912\n",
      "\n",
      "Extracting feature from attribute 8\n",
      "Time extracting event 8 in minutes is 2.1631346503893534\n"
     ]
    }
   ],
   "source": [
    "df_clean_all = pd.DataFrame()\n",
    "\n",
    "for event in [1, 3, 4, 6, 0, 8]:\n",
    "    start = time.time()\n",
    "    print('\\nExtracting feature from attribute '+str(event))\n",
    "    df_clean_all['attribute_'+str(event)] = df[df['attribute']==event]\\\n",
    "                                 .groupby('user_id_hash')['attribute_value']\\\n",
    "                                 .apply(lambda x: x.astype(float).mean())\n",
    "    print(f'Time extracting event {event} in minutes is {(time.time()-start)/60}')"
   ]
  },
  {
   "cell_type": "code",
   "execution_count": 85,
   "metadata": {
    "ExecuteTime": {
     "end_time": "2019-03-06T20:58:41.391498Z",
     "start_time": "2019-03-06T20:58:35.367049Z"
    }
   },
   "outputs": [],
   "source": [
    "features_all = feather.read_dataframe('./Data/features_v5.feather').set_index('user_id_hash')\n",
    "features_all = features_all.join(df_clean_all, how='inner')\n",
    "features_all = features_all.dropna()\n",
    "feather.write_dataframe(features_all.reset_index(), './Data/features_v6.feather')"
   ]
  },
  {
   "cell_type": "code",
   "execution_count": 86,
   "metadata": {
    "ExecuteTime": {
     "end_time": "2019-03-06T20:58:42.876170Z",
     "start_time": "2019-03-06T20:58:42.590800Z"
    }
   },
   "outputs": [
    {
     "data": {
      "text/html": [
       "<div>\n",
       "<style scoped>\n",
       "    .dataframe tbody tr th:only-of-type {\n",
       "        vertical-align: middle;\n",
       "    }\n",
       "\n",
       "    .dataframe tbody tr th {\n",
       "        vertical-align: top;\n",
       "    }\n",
       "\n",
       "    .dataframe thead th {\n",
       "        text-align: right;\n",
       "    }\n",
       "</style>\n",
       "<table border=\"1\" class=\"dataframe\">\n",
       "  <thead>\n",
       "    <tr style=\"text-align: right;\">\n",
       "      <th></th>\n",
       "      <th>user_id_hash</th>\n",
       "      <th>num_session</th>\n",
       "      <th>last_active</th>\n",
       "      <th>receive_message</th>\n",
       "      <th>accept_message</th>\n",
       "      <th>life_time_value</th>\n",
       "      <th>num_purchase</th>\n",
       "      <th>avg_purchase</th>\n",
       "      <th>num_event</th>\n",
       "      <th>event_per_session</th>\n",
       "      <th>...</th>\n",
       "      <th>receive_message_per_day</th>\n",
       "      <th>accept_message_per_day</th>\n",
       "      <th>num_purchase_per_day</th>\n",
       "      <th>life_time_value_per_day</th>\n",
       "      <th>attribute_1</th>\n",
       "      <th>attribute_3</th>\n",
       "      <th>attribute_4</th>\n",
       "      <th>attribute_6</th>\n",
       "      <th>attribute_0</th>\n",
       "      <th>attribute_8</th>\n",
       "    </tr>\n",
       "  </thead>\n",
       "  <tbody>\n",
       "    <tr>\n",
       "      <th>0</th>\n",
       "      <td>00fbbf507c7d3c2f259cd3329d241c29d35712e2d4699f...</td>\n",
       "      <td>3</td>\n",
       "      <td>65</td>\n",
       "      <td>0</td>\n",
       "      <td>0</td>\n",
       "      <td>0.0</td>\n",
       "      <td>0</td>\n",
       "      <td>0.0</td>\n",
       "      <td>47</td>\n",
       "      <td>15.666667</td>\n",
       "      <td>...</td>\n",
       "      <td>0.0</td>\n",
       "      <td>0.0</td>\n",
       "      <td>0.0</td>\n",
       "      <td>0.0</td>\n",
       "      <td>0.0</td>\n",
       "      <td>0.0</td>\n",
       "      <td>0.00</td>\n",
       "      <td>1.0</td>\n",
       "      <td>0.0</td>\n",
       "      <td>1.0</td>\n",
       "    </tr>\n",
       "    <tr>\n",
       "      <th>1</th>\n",
       "      <td>037215beb36f0d10992c8accc1862d0d651f46d6103d94...</td>\n",
       "      <td>1</td>\n",
       "      <td>16</td>\n",
       "      <td>0</td>\n",
       "      <td>0</td>\n",
       "      <td>0.0</td>\n",
       "      <td>0</td>\n",
       "      <td>0.0</td>\n",
       "      <td>5</td>\n",
       "      <td>5.000000</td>\n",
       "      <td>...</td>\n",
       "      <td>0.0</td>\n",
       "      <td>0.0</td>\n",
       "      <td>0.0</td>\n",
       "      <td>0.0</td>\n",
       "      <td>0.0</td>\n",
       "      <td>0.0</td>\n",
       "      <td>0.06</td>\n",
       "      <td>10.0</td>\n",
       "      <td>0.0</td>\n",
       "      <td>1.0</td>\n",
       "    </tr>\n",
       "    <tr>\n",
       "      <th>2</th>\n",
       "      <td>04b6836e16e8565796440451c969cd81187f9c97de9692...</td>\n",
       "      <td>2</td>\n",
       "      <td>61</td>\n",
       "      <td>0</td>\n",
       "      <td>0</td>\n",
       "      <td>0.0</td>\n",
       "      <td>0</td>\n",
       "      <td>0.0</td>\n",
       "      <td>15</td>\n",
       "      <td>7.500000</td>\n",
       "      <td>...</td>\n",
       "      <td>0.0</td>\n",
       "      <td>0.0</td>\n",
       "      <td>0.0</td>\n",
       "      <td>0.0</td>\n",
       "      <td>0.0</td>\n",
       "      <td>0.0</td>\n",
       "      <td>0.00</td>\n",
       "      <td>0.0</td>\n",
       "      <td>0.0</td>\n",
       "      <td>1.0</td>\n",
       "    </tr>\n",
       "    <tr>\n",
       "      <th>3</th>\n",
       "      <td>05cc2a92cad75dabe8739770ea87e8ee14eb4b70bdc2dd...</td>\n",
       "      <td>3</td>\n",
       "      <td>53</td>\n",
       "      <td>0</td>\n",
       "      <td>0</td>\n",
       "      <td>0.0</td>\n",
       "      <td>0</td>\n",
       "      <td>0.0</td>\n",
       "      <td>37</td>\n",
       "      <td>12.333333</td>\n",
       "      <td>...</td>\n",
       "      <td>0.0</td>\n",
       "      <td>0.0</td>\n",
       "      <td>0.0</td>\n",
       "      <td>0.0</td>\n",
       "      <td>0.0</td>\n",
       "      <td>0.0</td>\n",
       "      <td>0.00</td>\n",
       "      <td>0.2</td>\n",
       "      <td>0.0</td>\n",
       "      <td>1.0</td>\n",
       "    </tr>\n",
       "    <tr>\n",
       "      <th>4</th>\n",
       "      <td>07d03d7980cdfbda6c2ace8522d37b47dbc9e88431e60e...</td>\n",
       "      <td>1</td>\n",
       "      <td>59</td>\n",
       "      <td>0</td>\n",
       "      <td>0</td>\n",
       "      <td>0.0</td>\n",
       "      <td>0</td>\n",
       "      <td>0.0</td>\n",
       "      <td>2</td>\n",
       "      <td>2.000000</td>\n",
       "      <td>...</td>\n",
       "      <td>0.0</td>\n",
       "      <td>0.0</td>\n",
       "      <td>0.0</td>\n",
       "      <td>0.0</td>\n",
       "      <td>0.0</td>\n",
       "      <td>0.0</td>\n",
       "      <td>0.00</td>\n",
       "      <td>0.0</td>\n",
       "      <td>0.0</td>\n",
       "      <td>0.0</td>\n",
       "    </tr>\n",
       "  </tbody>\n",
       "</table>\n",
       "<p>5 rows × 61 columns</p>\n",
       "</div>"
      ],
      "text/plain": [
       "                                        user_id_hash  num_session  \\\n",
       "0  00fbbf507c7d3c2f259cd3329d241c29d35712e2d4699f...            3   \n",
       "1  037215beb36f0d10992c8accc1862d0d651f46d6103d94...            1   \n",
       "2  04b6836e16e8565796440451c969cd81187f9c97de9692...            2   \n",
       "3  05cc2a92cad75dabe8739770ea87e8ee14eb4b70bdc2dd...            3   \n",
       "4  07d03d7980cdfbda6c2ace8522d37b47dbc9e88431e60e...            1   \n",
       "\n",
       "   last_active  receive_message  accept_message  life_time_value  \\\n",
       "0           65                0               0              0.0   \n",
       "1           16                0               0              0.0   \n",
       "2           61                0               0              0.0   \n",
       "3           53                0               0              0.0   \n",
       "4           59                0               0              0.0   \n",
       "\n",
       "   num_purchase  avg_purchase  num_event  event_per_session     ...       \\\n",
       "0             0           0.0         47          15.666667     ...        \n",
       "1             0           0.0          5           5.000000     ...        \n",
       "2             0           0.0         15           7.500000     ...        \n",
       "3             0           0.0         37          12.333333     ...        \n",
       "4             0           0.0          2           2.000000     ...        \n",
       "\n",
       "   receive_message_per_day  accept_message_per_day  num_purchase_per_day  \\\n",
       "0                      0.0                     0.0                   0.0   \n",
       "1                      0.0                     0.0                   0.0   \n",
       "2                      0.0                     0.0                   0.0   \n",
       "3                      0.0                     0.0                   0.0   \n",
       "4                      0.0                     0.0                   0.0   \n",
       "\n",
       "   life_time_value_per_day  attribute_1  attribute_3  attribute_4  \\\n",
       "0                      0.0          0.0          0.0         0.00   \n",
       "1                      0.0          0.0          0.0         0.06   \n",
       "2                      0.0          0.0          0.0         0.00   \n",
       "3                      0.0          0.0          0.0         0.00   \n",
       "4                      0.0          0.0          0.0         0.00   \n",
       "\n",
       "   attribute_6  attribute_0  attribute_8  \n",
       "0          1.0          0.0          1.0  \n",
       "1         10.0          0.0          1.0  \n",
       "2          0.0          0.0          1.0  \n",
       "3          0.2          0.0          1.0  \n",
       "4          0.0          0.0          0.0  \n",
       "\n",
       "[5 rows x 61 columns]"
      ]
     },
     "execution_count": 86,
     "metadata": {},
     "output_type": "execute_result"
    }
   ],
   "source": [
    "t = feather.read_dataframe('./Data/features_v6.feather')\n",
    "t.head()"
   ]
  },
  {
   "cell_type": "markdown",
   "metadata": {},
   "source": [
    "# Batch 2: attributes 11, 13, 14, 15"
   ]
  },
  {
   "cell_type": "code",
   "execution_count": 122,
   "metadata": {
    "ExecuteTime": {
     "end_time": "2019-03-06T23:29:47.826773Z",
     "start_time": "2019-03-06T23:29:01.774961Z"
    }
   },
   "outputs": [],
   "source": [
    "selected_users = pd.read_csv('sample_submission_2.csv')['user_id_hash']\n",
    "\n",
    "df = attributes[attributes['user_id_hash'].isin(selected_users)]"
   ]
  },
  {
   "cell_type": "code",
   "execution_count": 123,
   "metadata": {
    "ExecuteTime": {
     "end_time": "2019-03-06T23:29:55.535942Z",
     "start_time": "2019-03-06T23:29:55.522086Z"
    }
   },
   "outputs": [
    {
     "data": {
      "text/plain": [
       "(94692247, 4)"
      ]
     },
     "execution_count": 123,
     "metadata": {},
     "output_type": "execute_result"
    }
   ],
   "source": [
    "df.shape"
   ]
  },
  {
   "cell_type": "code",
   "execution_count": 124,
   "metadata": {
    "ExecuteTime": {
     "end_time": "2019-03-06T23:39:11.435114Z",
     "start_time": "2019-03-06T23:30:04.613349Z"
    }
   },
   "outputs": [
    {
     "name": "stdout",
     "output_type": "stream",
     "text": [
      "\n",
      "Extracting feature from attribute 11\n",
      "Time extracting event 11 in minutes is 2.5877873301506042\n",
      "\n",
      "Extracting feature from attribute 13\n",
      "Time extracting event 13 in minutes is 2.1575803995132445\n",
      "\n",
      "Extracting feature from attribute 14\n",
      "Time extracting event 14 in minutes is 2.15907084941864\n",
      "\n",
      "Extracting feature from attribute 15\n",
      "Time extracting event 15 in minutes is 2.2088744322458904\n"
     ]
    }
   ],
   "source": [
    "# extract max \n",
    "df_clean_all = pd.DataFrame()\n",
    "\n",
    "for event in [11, 13, 14, 15]:\n",
    "    start = time.time()\n",
    "    print('\\nExtracting feature from attribute '+str(event))\n",
    "    df_clean_all['attribute_'+str(event)+'_max'] = df[df['attribute']==event]\\\n",
    "                                 .groupby('user_id_hash')['attribute_value']\\\n",
    "                                 .apply(lambda x: x.astype(float).max())\n",
    "    print(f'Time extracting event {event} in minutes is {(time.time()-start)/60}')"
   ]
  },
  {
   "cell_type": "code",
   "execution_count": 94,
   "metadata": {
    "ExecuteTime": {
     "end_time": "2019-03-06T21:26:25.970786Z",
     "start_time": "2019-03-06T21:22:00.291946Z"
    }
   },
   "outputs": [
    {
     "name": "stdout",
     "output_type": "stream",
     "text": [
      "\n",
      "Extracting feature from attribute 13\n",
      "Time extracting event 13 in minutes is 2.219916749000549\n",
      "\n",
      "Extracting feature from attribute 14\n",
      "Time extracting event 14 in minutes is 2.2079663554827373\n"
     ]
    }
   ],
   "source": [
    "# extract mean \n",
    "\n",
    "for event in [13, 14]:\n",
    "    start = time.time()\n",
    "    print('\\nExtracting feature from attribute '+str(event))\n",
    "    df_clean_all['attribute_'+str(event)+'_mean'] = df[df['attribute']==event]\\\n",
    "                                 .groupby('user_id_hash')['attribute_value']\\\n",
    "                                 .apply(lambda x: x.astype(float).mean())\n",
    "    print(f'Time extracting event {event} in minutes is {(time.time()-start)/60}')"
   ]
  },
  {
   "cell_type": "code",
   "execution_count": 125,
   "metadata": {
    "ExecuteTime": {
     "end_time": "2019-03-06T23:39:15.355382Z",
     "start_time": "2019-03-06T23:39:11.438925Z"
    }
   },
   "outputs": [],
   "source": [
    "df_clean_all = df_clean_all.dropna()\n",
    "\n",
    "features_all = feather.read_dataframe('./Data/features_v7.feather').set_index('user_id_hash')\n",
    "features_all = features_all.join(df_clean_all, how='inner')\n",
    "feather.write_dataframe(features_all.reset_index(), './Data/features_v7.feather')"
   ]
  },
  {
   "cell_type": "code",
   "execution_count": 129,
   "metadata": {
    "ExecuteTime": {
     "end_time": "2019-03-06T23:43:59.987822Z",
     "start_time": "2019-03-06T23:43:59.980840Z"
    }
   },
   "outputs": [
    {
     "data": {
      "text/plain": [
       "Index(['user_id_hash', 'num_session', 'last_active', 'receive_message',\n",
       "       'accept_message', 'life_time_value', 'num_purchase', 'avg_purchase',\n",
       "       'num_event', 'event_per_session', 'did_purchase_binary',\n",
       "       'last_purchase', 'last_date_event_0', 'last_date_event_1',\n",
       "       'last_date_event_10', 'last_date_event_11', 'last_date_event_14',\n",
       "       'last_date_event_3', 'last_date_event_32', 'last_date_event_4',\n",
       "       'last_date_event_40', 'last_date_event_41', 'last_date_event_42',\n",
       "       'last_date_event_43', 'last_date_event_44', 'last_date_event_45',\n",
       "       'last_date_event_47', 'last_date_event_48', 'last_date_event_49',\n",
       "       'last_date_event_5', 'last_date_event_50', 'last_date_event_51',\n",
       "       'last_date_event_52', 'last_date_event_54', 'last_date_event_55',\n",
       "       'last_date_event_56', 'last_date_event_57', 'last_date_event_58',\n",
       "       'last_date_event_59', 'last_date_event_6', 'last_date_event_60',\n",
       "       'last_date_event_61', 'last_date_event_62', 'last_date_event_63',\n",
       "       'last_date_event_64', 'last_date_event_7', 'last_date_event_9',\n",
       "       'num_devices', 'app_age', 'num_event_per_day', 'num_session_per_day',\n",
       "       'receive_message_per_day', 'accept_message_per_day',\n",
       "       'num_purchase_per_day', 'life_time_value_per_day', 'attribute_1',\n",
       "       'attribute_3', 'attribute_4', 'attribute_6', 'attribute_0',\n",
       "       'attribute_8', 'attribute_13_mean', 'attribute_14_mean',\n",
       "       'attribute_11_max', 'attribute_13_max', 'attribute_14_max',\n",
       "       'attribute_15_max'],\n",
       "      dtype='object')"
      ]
     },
     "execution_count": 129,
     "metadata": {},
     "output_type": "execute_result"
    }
   ],
   "source": [
    "t = feather.read_dataframe('./Data/features_v7.feather')\n",
    "t.columns"
   ]
  },
  {
   "cell_type": "markdown",
   "metadata": {},
   "source": [
    "## Extract similar features for before 14"
   ]
  },
  {
   "cell_type": "code",
   "execution_count": 107,
   "metadata": {
    "ExecuteTime": {
     "end_time": "2019-03-06T21:55:00.529461Z",
     "start_time": "2019-03-06T21:50:35.262773Z"
    }
   },
   "outputs": [],
   "source": [
    "selected_session = pd.read_csv('./Data/events_before_14_good.csv', \n",
    "                               usecols=['user_id_hash', 'session_id']).drop_duplicates()\n",
    "\n",
    "\n",
    "attr_b_14 = attributes.merge(selected_session, how='inner', on=['user_id_hash', 'session_id'])\n",
    "\n",
    "attr_b_14['attribute'] = attr_b_14['attribute'].astype(int)"
   ]
  },
  {
   "cell_type": "code",
   "execution_count": 108,
   "metadata": {
    "ExecuteTime": {
     "end_time": "2019-03-06T21:55:17.636226Z",
     "start_time": "2019-03-06T21:55:00.550748Z"
    }
   },
   "outputs": [],
   "source": [
    "attr_b_14['user_id_hash'] = attr_b_14['user_id_hash'].astype('category')"
   ]
  },
  {
   "cell_type": "code",
   "execution_count": 109,
   "metadata": {
    "ExecuteTime": {
     "end_time": "2019-03-06T21:55:27.869616Z",
     "start_time": "2019-03-06T21:55:17.639964Z"
    }
   },
   "outputs": [],
   "source": [
    "feather.write_dataframe(attr_b_14, './Data/attributes_before_14.feather')"
   ]
  },
  {
   "cell_type": "code",
   "execution_count": 115,
   "metadata": {
    "ExecuteTime": {
     "end_time": "2019-03-06T23:26:50.035436Z",
     "start_time": "2019-03-06T23:26:13.661376Z"
    }
   },
   "outputs": [],
   "source": [
    "attr_b_14 = feather.read_dataframe('./Data/attributes_before_14.feather')"
   ]
  },
  {
   "cell_type": "code",
   "execution_count": 131,
   "metadata": {
    "ExecuteTime": {
     "end_time": "2019-03-06T23:44:47.660915Z",
     "start_time": "2019-03-06T23:44:47.655359Z"
    }
   },
   "outputs": [
    {
     "data": {
      "text/plain": [
       "(185590092, 4)"
      ]
     },
     "execution_count": 131,
     "metadata": {},
     "output_type": "execute_result"
    }
   ],
   "source": [
    "attributes.shape"
   ]
  },
  {
   "cell_type": "code",
   "execution_count": 130,
   "metadata": {
    "ExecuteTime": {
     "end_time": "2019-03-06T23:44:25.014470Z",
     "start_time": "2019-03-06T23:44:25.009162Z"
    }
   },
   "outputs": [
    {
     "data": {
      "text/plain": [
       "(121341782, 4)"
      ]
     },
     "execution_count": 130,
     "metadata": {},
     "output_type": "execute_result"
    }
   ],
   "source": [
    "attr_b_14.shape"
   ]
  },
  {
   "cell_type": "code",
   "execution_count": null,
   "metadata": {
    "ExecuteTime": {
     "end_time": "2019-03-07T00:08:01.358381Z",
     "start_time": "2019-03-06T23:59:49.045Z"
    }
   },
   "outputs": [],
   "source": [
    "df = attr_b_14\n",
    "\n",
    "# extract mean \n",
    "\n",
    "for event in [13, 14]:\n",
    "    start = time.time()\n",
    "    print('\\nExtracting feature from attribute '+str(event))\n",
    "    df_clean_14['attribute_'+str(event)+'_mean'] = df[df['attribute']==event]\\\n",
    "                                 .groupby('user_id_hash')['attribute_value']\\\n",
    "                                 .apply(lambda x: x.astype(float).mean())\n",
    "    print(f'Time extracting event {event} in minutes is {(time.time()-start)/60}')"
   ]
  },
  {
   "cell_type": "code",
   "execution_count": 135,
   "metadata": {
    "ExecuteTime": {
     "end_time": "2019-03-06T23:55:35.366974Z",
     "start_time": "2019-03-06T23:46:12.663584Z"
    }
   },
   "outputs": [
    {
     "name": "stdout",
     "output_type": "stream",
     "text": [
      "\n",
      "Extracting feature from attribute 11\n",
      "Time extracting event 11 in minutes is 2.5310774366060893\n",
      "\n",
      "Extracting feature from attribute 13\n",
      "Time extracting event 13 in minutes is 2.4148609320322674\n",
      "\n",
      "Extracting feature from attribute 14\n",
      "Time extracting event 14 in minutes is 2.1486697872479756\n",
      "\n",
      "Extracting feature from attribute 15\n",
      "Time extracting event 15 in minutes is 2.283536847432454\n"
     ]
    }
   ],
   "source": [
    "df = attr_b_14\n",
    "\n",
    "# extract max \n",
    "\n",
    "df_clean_14 = pd.DataFrame()\n",
    "\n",
    "for event in [11, 13, 14, 15]:\n",
    "    start = time.time()\n",
    "    print('\\nExtracting feature from attribute '+str(event))\n",
    "    df_clean_14['attribute_'+str(event)+'_max'] = df[df['attribute']==event]\\\n",
    "                                 .groupby('user_id_hash')['attribute_value']\\\n",
    "                                 .apply(lambda x: x.astype(float).max())\n",
    "    print(f'Time extracting event {event} in minutes is {(time.time()-start)/60}')\n",
    "    "
   ]
  },
  {
   "cell_type": "code",
   "execution_count": 136,
   "metadata": {
    "ExecuteTime": {
     "end_time": "2019-03-06T23:55:40.877112Z",
     "start_time": "2019-03-06T23:55:35.370849Z"
    }
   },
   "outputs": [],
   "source": [
    "features_14 = feather.read_dataframe('./Data/features_before_14_v7.feather').set_index('user_id_hash')\n",
    "features_14 = features_14.join(df_clean_14)\n",
    "features_14 = features_14.dropna()\n",
    "feather.write_dataframe(features_14.reset_index(), './Data/features_before_14_v7.feather')"
   ]
  },
  {
   "cell_type": "code",
   "execution_count": 137,
   "metadata": {
    "ExecuteTime": {
     "end_time": "2019-03-06T23:56:07.886009Z",
     "start_time": "2019-03-06T23:56:07.028509Z"
    }
   },
   "outputs": [
    {
     "data": {
      "text/plain": [
       "Index(['user_id_hash', 'num_session', 'last_active', 'receive_message',\n",
       "       'accept_message', 'life_time_value', 'num_purchase', 'avg_purchase',\n",
       "       'num_event', 'event_per_session', 'last_date_event_0',\n",
       "       'last_date_event_1', 'last_date_event_10', 'last_date_event_11',\n",
       "       'last_date_event_14', 'last_date_event_3', 'last_date_event_32',\n",
       "       'last_date_event_4', 'last_date_event_40', 'last_date_event_41',\n",
       "       'last_date_event_42', 'last_date_event_43', 'last_date_event_44',\n",
       "       'last_date_event_45', 'last_date_event_47', 'last_date_event_48',\n",
       "       'last_date_event_49', 'last_date_event_5', 'last_date_event_50',\n",
       "       'last_date_event_51', 'last_date_event_52', 'last_date_event_54',\n",
       "       'last_date_event_55', 'last_date_event_56', 'last_date_event_57',\n",
       "       'last_date_event_58', 'last_date_event_59', 'last_date_event_6',\n",
       "       'last_date_event_60', 'last_date_event_61', 'last_date_event_63',\n",
       "       'last_date_event_64', 'last_date_event_7', 'last_purchase',\n",
       "       'last_date_event_9', 'num_devices', 'app_age', 'num_event_per_day',\n",
       "       'num_session_per_day', 'receive_message_per_day',\n",
       "       'accept_message_per_day', 'num_purchase_per_day',\n",
       "       'life_time_value_per_day', 'attribute_1', 'attribute_3', 'attribute_4',\n",
       "       'attribute_6', 'attribute_0', 'attribute_8', 'attribute_13_mean',\n",
       "       'attribute_14_mean', 'attribute_11_max', 'attribute_13_max',\n",
       "       'attribute_14_max', 'attribute_15_max'],\n",
       "      dtype='object')"
      ]
     },
     "execution_count": 137,
     "metadata": {},
     "output_type": "execute_result"
    }
   ],
   "source": [
    "t = feather.read_dataframe('./Data/features_before_14_v7.feather')\n",
    "t.columns"
   ]
  },
  {
   "cell_type": "markdown",
   "metadata": {},
   "source": [
    "## Extract similar features for before 7"
   ]
  },
  {
   "cell_type": "code",
   "execution_count": 112,
   "metadata": {
    "ExecuteTime": {
     "end_time": "2019-03-06T22:39:54.219441Z",
     "start_time": "2019-03-06T22:35:10.080220Z"
    }
   },
   "outputs": [],
   "source": [
    "selected_session = pd.read_csv('./Data/events_before_7_good.csv', \n",
    "                               usecols=['user_id_hash', 'session_id']).drop_duplicates()\n",
    "\n",
    "\n",
    "attr_b_7 = attributes.merge(selected_session, how='inner', on=['user_id_hash', 'session_id'])\n",
    "\n",
    "attr_b_7['attribute'] = attr_b_7['attribute'].astype(int)\n",
    "\n",
    "attr_b_7['user_id_hash'] = attr_b_7['user_id_hash'].astype('category')\n",
    "\n",
    "feather.write_dataframe(attr_b_7, './Data/attributes_before_7.feather')"
   ]
  },
  {
   "cell_type": "code",
   "execution_count": 138,
   "metadata": {
    "ExecuteTime": {
     "end_time": "2019-03-06T23:57:01.059179Z",
     "start_time": "2019-03-06T23:56:18.425901Z"
    }
   },
   "outputs": [],
   "source": [
    "attr_b_7 = feather.read_dataframe('./Data/attributes_before_7.feather')"
   ]
  },
  {
   "cell_type": "code",
   "execution_count": 141,
   "metadata": {
    "ExecuteTime": {
     "end_time": "2019-03-07T00:08:01.130636Z",
     "start_time": "2019-03-06T23:57:29.435846Z"
    }
   },
   "outputs": [
    {
     "name": "stdout",
     "output_type": "stream",
     "text": [
      "Extracting max values:\n",
      "\n",
      "Extracting feature from attribute 11\n",
      "Time extracting event 11 in minutes is 2.5838541865348814\n",
      "\n",
      "Extracting feature from attribute 13\n",
      "Time extracting event 13 in minutes is 2.60188988049825\n",
      "\n",
      "Extracting feature from attribute 14\n",
      "Time extracting event 14 in minutes is 2.722315768400828\n",
      "\n",
      "Extracting feature from attribute 15\n",
      "Time extracting event 15 in minutes is 2.619961599508921\n"
     ]
    }
   ],
   "source": [
    "df = attr_b_7\n",
    "\n",
    "# extract max \n",
    "\n",
    "df_clean_7 = pd.DataFrame()\n",
    "\n",
    "print('Extracting max values:')\n",
    "for event in [11, 13, 14, 15]:\n",
    "    start = time.time()\n",
    "    print('\\nExtracting feature from attribute '+str(event))\n",
    "    df_clean_7['attribute_'+str(event)+'_max'] = df[df['attribute']==event]\\\n",
    "                                 .groupby('user_id_hash')['attribute_value']\\\n",
    "                                 .apply(lambda x: x.astype(float).max())\n",
    "    print(f'Time extracting event {event} in minutes is {(time.time()-start)/60}')\n",
    "    "
   ]
  },
  {
   "cell_type": "code",
   "execution_count": 143,
   "metadata": {
    "ExecuteTime": {
     "end_time": "2019-03-07T00:09:02.610406Z",
     "start_time": "2019-03-07T00:09:02.601783Z"
    }
   },
   "outputs": [
    {
     "data": {
      "text/plain": [
       "Index(['attribute_11_max', 'attribute_13_max', 'attribute_14_max',\n",
       "       'attribute_15_max'],\n",
       "      dtype='object')"
      ]
     },
     "execution_count": 143,
     "metadata": {},
     "output_type": "execute_result"
    }
   ],
   "source": [
    "df_clean_7.columns"
   ]
  },
  {
   "cell_type": "code",
   "execution_count": 144,
   "metadata": {
    "ExecuteTime": {
     "end_time": "2019-03-07T00:13:39.374996Z",
     "start_time": "2019-03-07T00:09:33.674361Z"
    }
   },
   "outputs": [
    {
     "name": "stdout",
     "output_type": "stream",
     "text": [
      "\n",
      "Extracting mean values:\n",
      "\n",
      "Extracting feature from attribute 13\n",
      "Time extracting event 13 in minutes is 2.149235796928406\n",
      "\n",
      "Extracting feature from attribute 14\n",
      "Time extracting event 14 in minutes is 1.9455963333447774\n"
     ]
    }
   ],
   "source": [
    "# extract mean \n",
    "df_clean_7_mean = pd.DataFrame()\n",
    "\n",
    "print('\\nExtracting mean values:')\n",
    "\n",
    "for event in [13, 14]:\n",
    "    start = time.time()\n",
    "    print('\\nExtracting feature from attribute '+str(event))\n",
    "    df_clean_7_mean['attribute_'+str(event)+'_mean'] = df[df['attribute']==event]\\\n",
    "                                 .groupby('user_id_hash')['attribute_value']\\\n",
    "                                 .apply(lambda x: x.astype(float).mean())\n",
    "    print(f'Time extracting event {event} in minutes is {(time.time()-start)/60}')"
   ]
  },
  {
   "cell_type": "code",
   "execution_count": 145,
   "metadata": {
    "ExecuteTime": {
     "end_time": "2019-03-07T00:13:45.554570Z",
     "start_time": "2019-03-07T00:13:39.377989Z"
    }
   },
   "outputs": [],
   "source": [
    "features_7 = feather.read_dataframe('./Data/features_before_7_v6.feather').set_index('user_id_hash')\n",
    "features_7 = features_7.join(df_clean_7_mean)\n",
    "features_7 = features_7.join(df_clean_7)  # max\n",
    "features_7 = features_7.dropna()\n",
    "feather.write_dataframe(features_7.reset_index(), './Data/features_before_7_v7.feather')"
   ]
  },
  {
   "cell_type": "code",
   "execution_count": 146,
   "metadata": {
    "ExecuteTime": {
     "end_time": "2019-03-07T00:16:53.576809Z",
     "start_time": "2019-03-07T00:16:52.565908Z"
    }
   },
   "outputs": [
    {
     "data": {
      "text/plain": [
       "Index(['user_id_hash', 'num_session', 'last_active', 'receive_message',\n",
       "       'accept_message', 'life_time_value', 'num_purchase', 'avg_purchase',\n",
       "       'num_event', 'event_per_session', 'did_purchase_binary',\n",
       "       'last_purchase', 'last_date_event_0', 'last_date_event_1',\n",
       "       'last_date_event_10', 'last_date_event_11', 'last_date_event_14',\n",
       "       'last_date_event_3', 'last_date_event_32', 'last_date_event_4',\n",
       "       'last_date_event_40', 'last_date_event_41', 'last_date_event_42',\n",
       "       'last_date_event_43', 'last_date_event_44', 'last_date_event_45',\n",
       "       'last_date_event_47', 'last_date_event_48', 'last_date_event_49',\n",
       "       'last_date_event_5', 'last_date_event_50', 'last_date_event_51',\n",
       "       'last_date_event_52', 'last_date_event_54', 'last_date_event_55',\n",
       "       'last_date_event_56', 'last_date_event_57', 'last_date_event_58',\n",
       "       'last_date_event_59', 'last_date_event_6', 'last_date_event_60',\n",
       "       'last_date_event_61', 'last_date_event_62', 'last_date_event_63',\n",
       "       'last_date_event_64', 'last_date_event_7', 'last_date_event_9',\n",
       "       'num_devices', 'app_age', 'num_event_per_day', 'num_session_per_day',\n",
       "       'receive_message_per_day', 'accept_message_per_day',\n",
       "       'num_purchase_per_day', 'life_time_value_per_day', 'attribute_1',\n",
       "       'attribute_3', 'attribute_4', 'attribute_6', 'attribute_0',\n",
       "       'attribute_8', 'attribute_13_mean', 'attribute_14_mean',\n",
       "       'attribute_11_max', 'attribute_13_max', 'attribute_14_max',\n",
       "       'attribute_15_max'],\n",
       "      dtype='object')"
      ]
     },
     "execution_count": 146,
     "metadata": {},
     "output_type": "execute_result"
    }
   ],
   "source": [
    "t = feather.read_dataframe('./Data/features_before_7_v7.feather')\n",
    "t.columns"
   ]
  }
 ],
 "metadata": {
  "kernelspec": {
   "display_name": "Python 3",
   "language": "python",
   "name": "python3"
  },
  "language_info": {
   "codemirror_mode": {
    "name": "ipython",
    "version": 3
   },
   "file_extension": ".py",
   "mimetype": "text/x-python",
   "name": "python",
   "nbconvert_exporter": "python",
   "pygments_lexer": "ipython3",
   "version": "3.7.2"
  },
  "toc": {
   "base_numbering": 1,
   "nav_menu": {},
   "number_sections": true,
   "sideBar": true,
   "skip_h1_title": false,
   "title_cell": "Table of Contents",
   "title_sidebar": "Contents",
   "toc_cell": false,
   "toc_position": {
    "height": "calc(100% - 180px)",
    "left": "10px",
    "top": "150px",
    "width": "288px"
   },
   "toc_section_display": true,
   "toc_window_display": true
  }
 },
 "nbformat": 4,
 "nbformat_minor": 2
}
