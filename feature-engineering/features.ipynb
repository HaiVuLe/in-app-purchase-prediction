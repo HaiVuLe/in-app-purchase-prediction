{
 "cells": [
  {
   "cell_type": "markdown",
   "metadata": {},
   "source": [
    "For the first model, we use features extracted out of the `events` dataset, which we think is the most important dataset among the 4. After getting feature importance out of the first model, which hopefully sheds light on what other features might be helpful, we will extract more features from the other datasets and add them to the model."
   ]
  },
  {
   "cell_type": "markdown",
   "metadata": {},
   "source": [
    "# Week 1"
   ]
  },
  {
   "cell_type": "markdown",
   "metadata": {},
   "source": [
    "We run the following code for 3 files:\n",
    "* The entire `events` dataset including all days for all users for prediction.\n",
    "* The `events_before_7` dataset including days except for the last 7 days.\n",
    "* The `events_before_14` dataset including days except for the last 14 days."
   ]
  },
  {
   "cell_type": "markdown",
   "metadata": {},
   "source": [
    "The features that we extract out of `events` data are:\n",
    "\n",
    "<img src=\"./features.png\" width=80%/>"
   ]
  },
  {
   "cell_type": "markdown",
   "metadata": {},
   "source": [
    "As the prediction is on user level, we extract features for each user by grouping the raw data set by `user_id_hash`, aggregating per user, and storing clean data of the features in `df_clean` dataframe."
   ]
  },
  {
   "cell_type": "markdown",
   "metadata": {},
   "source": [
    "__Read data in__"
   ]
  },
  {
   "cell_type": "code",
   "execution_count": 1,
   "metadata": {
    "ExecuteTime": {
     "end_time": "2019-02-25T19:18:28.061092Z",
     "start_time": "2019-02-25T19:18:27.235021Z"
    }
   },
   "outputs": [],
   "source": [
    "import datetime\n",
    "from datetime import timedelta\n",
    "import feather\n",
    "import pandas as pd\n",
    "import numpy as np\n",
    "import time"
   ]
  },
  {
   "cell_type": "code",
   "execution_count": 35,
   "metadata": {
    "ExecuteTime": {
     "end_time": "2019-02-14T17:00:09.870735Z",
     "start_time": "2019-02-14T16:56:03.912142Z"
    }
   },
   "outputs": [
    {
     "data": {
      "text/html": [
       "<div>\n",
       "<style scoped>\n",
       "    .dataframe tbody tr th:only-of-type {\n",
       "        vertical-align: middle;\n",
       "    }\n",
       "\n",
       "    .dataframe tbody tr th {\n",
       "        vertical-align: top;\n",
       "    }\n",
       "\n",
       "    .dataframe thead th {\n",
       "        text-align: right;\n",
       "    }\n",
       "</style>\n",
       "<table border=\"1\" class=\"dataframe\">\n",
       "  <thead>\n",
       "    <tr style=\"text-align: right;\">\n",
       "      <th></th>\n",
       "      <th>session_id</th>\n",
       "      <th>event</th>\n",
       "      <th>event_timestamp</th>\n",
       "      <th>event_value</th>\n",
       "      <th>user_id_hash</th>\n",
       "    </tr>\n",
       "  </thead>\n",
       "  <tbody>\n",
       "    <tr>\n",
       "      <th>0</th>\n",
       "      <td>5558845121177764917</td>\n",
       "      <td>45</td>\n",
       "      <td>1542215397132</td>\n",
       "      <td>0.0</td>\n",
       "      <td>9943447915df3a45fd6720a026af905b6da6b56a37701b...</td>\n",
       "    </tr>\n",
       "    <tr>\n",
       "      <th>1</th>\n",
       "      <td>5558845121177764917</td>\n",
       "      <td>45</td>\n",
       "      <td>1542215484895</td>\n",
       "      <td>0.0</td>\n",
       "      <td>9943447915df3a45fd6720a026af905b6da6b56a37701b...</td>\n",
       "    </tr>\n",
       "    <tr>\n",
       "      <th>2</th>\n",
       "      <td>7689508378645584666</td>\n",
       "      <td>.m5100869650219008</td>\n",
       "      <td>1541124410372</td>\n",
       "      <td>0.0</td>\n",
       "      <td>9943447915df3a45fd6720a026af905b6da6b56a37701b...</td>\n",
       "    </tr>\n",
       "    <tr>\n",
       "      <th>3</th>\n",
       "      <td>2201961907282901522</td>\n",
       "      <td>4</td>\n",
       "      <td>1543713091129</td>\n",
       "      <td>0.0</td>\n",
       "      <td>9943447915df3a45fd6720a026af905b6da6b56a37701b...</td>\n",
       "    </tr>\n",
       "    <tr>\n",
       "      <th>4</th>\n",
       "      <td>2201961907282901522</td>\n",
       "      <td>6</td>\n",
       "      <td>1543713093116</td>\n",
       "      <td>0.0</td>\n",
       "      <td>9943447915df3a45fd6720a026af905b6da6b56a37701b...</td>\n",
       "    </tr>\n",
       "  </tbody>\n",
       "</table>\n",
       "</div>"
      ],
      "text/plain": [
       "            session_id               event event_timestamp event_value  \\\n",
       "0  5558845121177764917                  45   1542215397132         0.0   \n",
       "1  5558845121177764917                  45   1542215484895         0.0   \n",
       "2  7689508378645584666  .m5100869650219008   1541124410372         0.0   \n",
       "3  2201961907282901522                   4   1543713091129         0.0   \n",
       "4  2201961907282901522                   6   1543713093116         0.0   \n",
       "\n",
       "                                        user_id_hash  \n",
       "0  9943447915df3a45fd6720a026af905b6da6b56a37701b...  \n",
       "1  9943447915df3a45fd6720a026af905b6da6b56a37701b...  \n",
       "2  9943447915df3a45fd6720a026af905b6da6b56a37701b...  \n",
       "3  9943447915df3a45fd6720a026af905b6da6b56a37701b...  \n",
       "4  9943447915df3a45fd6720a026af905b6da6b56a37701b...  "
      ]
     },
     "execution_count": 35,
     "metadata": {},
     "output_type": "execute_result"
    }
   ],
   "source": [
    "event_file = './Data/events.csv'\n",
    "# event_file = './Data/events_before_7.csv'\n",
    "# event_file = './Data/events_before_14.csv'\n",
    "event_types = {'session_id': np.uint64, 'event':'category', \n",
    "               'event_timestamp':str, 'event_value':str, 'user_id_hash':'category'}\n",
    "df = pd.read_csv(event_file, usecols=event_types.keys(), dtype=event_types)\n",
    "df['event_timestamp'] = pd.to_datetime(df['event_timestamp'], utc=True, unit='ms')\n",
    "df.head(5)"
   ]
  },
  {
   "cell_type": "code",
   "execution_count": 3,
   "metadata": {
    "ExecuteTime": {
     "end_time": "2019-02-14T04:48:15.526328Z",
     "start_time": "2019-02-14T04:47:56.337427Z"
    }
   },
   "outputs": [
    {
     "name": "stdout",
     "output_type": "stream",
     "text": [
      "<class 'pandas.core.frame.DataFrame'>\n",
      "RangeIndex: 97805216 entries, 0 to 97805215\n",
      "Data columns (total 5 columns):\n",
      "session_id         uint64\n",
      "event              category\n",
      "event_timestamp    object\n",
      "event_value        object\n",
      "user_id_hash       category\n",
      "dtypes: category(2), object(2), uint64(1)\n",
      "memory usage: 13.1 GB\n"
     ]
    }
   ],
   "source": [
    "df.info(memory_usage='deep')"
   ]
  },
  {
   "cell_type": "markdown",
   "metadata": {},
   "source": [
    "__Extract features__"
   ]
  },
  {
   "cell_type": "code",
   "execution_count": 4,
   "metadata": {
    "ExecuteTime": {
     "end_time": "2019-02-14T17:02:40.255004Z",
     "start_time": "2019-02-14T17:02:40.248158Z"
    }
   },
   "outputs": [],
   "source": [
    "df_clean = pd.DataFrame()"
   ]
  },
  {
   "cell_type": "code",
   "execution_count": 6,
   "metadata": {
    "ExecuteTime": {
     "end_time": "2019-02-14T17:04:18.765745Z",
     "start_time": "2019-02-14T17:02:55.978991Z"
    }
   },
   "outputs": [],
   "source": [
    "df_clean['num_session'] = df.groupby('user_id_hash')['session_id'].apply(lambda x: len(x.unique()))"
   ]
  },
  {
   "cell_type": "code",
   "execution_count": 8,
   "metadata": {
    "ExecuteTime": {
     "end_time": "2019-02-14T17:45:29.319234Z",
     "start_time": "2019-02-14T17:38:47.767721Z"
    }
   },
   "outputs": [
    {
     "name": "stdout",
     "output_type": "stream",
     "text": [
      "Done\n"
     ]
    }
   ],
   "source": [
    "last_date = df['event_timestamp'].max()\n",
    "df_clean['last_active'] = df.groupby('user_id_hash')['event_timestamp'].apply(lambda x: (last_date - max(x)).days)\n",
    "print('Done')"
   ]
  },
  {
   "cell_type": "code",
   "execution_count": 11,
   "metadata": {
    "ExecuteTime": {
     "end_time": "2019-02-14T17:55:33.736293Z",
     "start_time": "2019-02-14T17:55:33.732108Z"
    }
   },
   "outputs": [
    {
     "name": "stdout",
     "output_type": "stream",
     "text": [
      "Time extracting this feature: 569.7112472057343\n"
     ]
    }
   ],
   "source": [
    "# number of message\n",
    "def count_messages(x):  # x is the pd.Series of all events an user\n",
    "    message = [e for e in x if e[:2]=='.m']\n",
    "    return len(message)\n",
    "\n",
    "start = time.time()\n",
    "df_clean['receive_message'] = df.groupby('user_id_hash')['event'].apply(count_messages)\n",
    "print(\"Time extracting this feature: {}\".format(time.time()-start))"
   ]
  },
  {
   "cell_type": "code",
   "execution_count": 14,
   "metadata": {
    "ExecuteTime": {
     "end_time": "2019-02-14T17:59:32.239447Z",
     "start_time": "2019-02-14T17:59:32.235473Z"
    }
   },
   "outputs": [
    {
     "name": "stdout",
     "output_type": "stream",
     "text": [
      "Time extracting this feature in minutes: 3.784253803888957\n"
     ]
    }
   ],
   "source": [
    "# How many messages an user accepts (how responsive they are to messages)\n",
    "def accept_message(x):\n",
    "    acc = [e for e in x if 'Accept' in e]\n",
    "    return len(acc)\n",
    "\n",
    "start = time.time()\n",
    "df_clean['accept_message'] = df.groupby('user_id_hash')['event'].apply(accept_message)\n",
    "print(\"Time extracting this feature in minutes: {}\".format((time.time()-start)/60))"
   ]
  },
  {
   "cell_type": "code",
   "execution_count": 15,
   "metadata": {
    "ExecuteTime": {
     "end_time": "2019-02-14T18:45:47.577419Z",
     "start_time": "2019-02-14T17:59:56.071784Z"
    }
   },
   "outputs": [
    {
     "name": "stdout",
     "output_type": "stream",
     "text": [
      "Time extracting this feature in minutes: 45.858204646905264\n"
     ]
    }
   ],
   "source": [
    "# life time value\n",
    "def compute_ltv(df):\n",
    "    return df[df['event']=='8']['event_value'].astype(float).sum()\n",
    "\n",
    "start = time.time()\n",
    "df_clean['life_time_value'] = df.groupby('user_id_hash').apply(compute_ltv)\n",
    "print(\"Time extracting this feature in minutes: {}\".format((time.time()-start)/60))"
   ]
  },
  {
   "cell_type": "code",
   "execution_count": 16,
   "metadata": {
    "ExecuteTime": {
     "end_time": "2019-02-14T19:21:46.094214Z",
     "start_time": "2019-02-14T18:48:52.917423Z"
    }
   },
   "outputs": [],
   "source": [
    "# number of purchases\n",
    "def count_purchase(df):\n",
    "    # df is the DataFrameGroupBy by user_id_hash\n",
    "    return df[df['event']=='8'].shape[0]\n",
    "\n",
    "df_clean['num_purchase'] = df.groupby('user_id_hash').apply(count_purchase)"
   ]
  },
  {
   "cell_type": "code",
   "execution_count": 17,
   "metadata": {
    "ExecuteTime": {
     "end_time": "2019-02-14T19:23:11.836072Z",
     "start_time": "2019-02-14T19:22:53.532505Z"
    }
   },
   "outputs": [
    {
     "name": "stdout",
     "output_type": "stream",
     "text": [
      "Time extracting this feature in minutes: 0.3049905021985372\n"
     ]
    }
   ],
   "source": [
    "def average_purchase(row):\n",
    "    if row['life_time_value'] == 0:\n",
    "        return 0\n",
    "    else:\n",
    "        return row['life_time_value']/row['num_purchase']\n",
    "\n",
    "start = time.time()\n",
    "df_clean['avg_purchase'] = df_clean.apply(average_purchase, axis=1)\n",
    "print(\"Time extracting this feature in minutes: {}\".format((time.time()-start)/60))"
   ]
  },
  {
   "cell_type": "code",
   "execution_count": 19,
   "metadata": {
    "ExecuteTime": {
     "end_time": "2019-02-14T19:25:17.593548Z",
     "start_time": "2019-02-14T19:25:17.585523Z"
    }
   },
   "outputs": [
    {
     "name": "stdout",
     "output_type": "stream",
     "text": [
      "Time extracting this feature: 122.37881588935852\n"
     ]
    }
   ],
   "source": [
    "start = time.time()\n",
    "df_clean['num_event'] = df.groupby('user_id_hash')['event'].apply(len)\n",
    "print(\"Time extracting this feature: {}\".format(time.time()-start))"
   ]
  },
  {
   "cell_type": "code",
   "execution_count": 20,
   "metadata": {
    "ExecuteTime": {
     "end_time": "2019-02-14T19:25:44.747350Z",
     "start_time": "2019-02-14T19:25:44.602517Z"
    }
   },
   "outputs": [
    {
     "name": "stdout",
     "output_type": "stream",
     "text": [
      "Time extracting this feature in minutes: 0.00232311487197876\n"
     ]
    }
   ],
   "source": [
    "start = time.time()\n",
    "df_clean['event_per_session'] = df_clean['num_event']/df_clean['num_session']\n",
    "print(\"Time extracting this feature in minutes: {}\".format((time.time()-start)/60))"
   ]
  },
  {
   "cell_type": "code",
   "execution_count": 21,
   "metadata": {
    "ExecuteTime": {
     "end_time": "2019-02-14T19:25:52.412806Z",
     "start_time": "2019-02-14T19:25:52.084629Z"
    }
   },
   "outputs": [
    {
     "data": {
      "text/html": [
       "<div>\n",
       "<style scoped>\n",
       "    .dataframe tbody tr th:only-of-type {\n",
       "        vertical-align: middle;\n",
       "    }\n",
       "\n",
       "    .dataframe tbody tr th {\n",
       "        vertical-align: top;\n",
       "    }\n",
       "\n",
       "    .dataframe thead th {\n",
       "        text-align: right;\n",
       "    }\n",
       "</style>\n",
       "<table border=\"1\" class=\"dataframe\">\n",
       "  <thead>\n",
       "    <tr style=\"text-align: right;\">\n",
       "      <th></th>\n",
       "      <th>0</th>\n",
       "      <th>1</th>\n",
       "    </tr>\n",
       "  </thead>\n",
       "  <tbody>\n",
       "    <tr>\n",
       "      <th>user_id_hash</th>\n",
       "      <td>002e447aed33ed4c51a68743cc293ef2148058b6a6239e...</td>\n",
       "      <td>005c9d79cf18efc6c8b5fa767964b1def9b8e2f8abd23f...</td>\n",
       "    </tr>\n",
       "    <tr>\n",
       "      <th>num_session</th>\n",
       "      <td>3</td>\n",
       "      <td>2</td>\n",
       "    </tr>\n",
       "    <tr>\n",
       "      <th>last_active</th>\n",
       "      <td>26</td>\n",
       "      <td>42</td>\n",
       "    </tr>\n",
       "    <tr>\n",
       "      <th>receive_message</th>\n",
       "      <td>0</td>\n",
       "      <td>0</td>\n",
       "    </tr>\n",
       "    <tr>\n",
       "      <th>accept_message</th>\n",
       "      <td>0</td>\n",
       "      <td>0</td>\n",
       "    </tr>\n",
       "    <tr>\n",
       "      <th>life_time_value</th>\n",
       "      <td>0</td>\n",
       "      <td>0</td>\n",
       "    </tr>\n",
       "    <tr>\n",
       "      <th>num_purchase</th>\n",
       "      <td>0</td>\n",
       "      <td>0</td>\n",
       "    </tr>\n",
       "    <tr>\n",
       "      <th>avg_purchase</th>\n",
       "      <td>0</td>\n",
       "      <td>0</td>\n",
       "    </tr>\n",
       "    <tr>\n",
       "      <th>num_event</th>\n",
       "      <td>119</td>\n",
       "      <td>24</td>\n",
       "    </tr>\n",
       "    <tr>\n",
       "      <th>event_per_session</th>\n",
       "      <td>39.6667</td>\n",
       "      <td>12</td>\n",
       "    </tr>\n",
       "  </tbody>\n",
       "</table>\n",
       "</div>"
      ],
      "text/plain": [
       "                                                                   0  \\\n",
       "user_id_hash       002e447aed33ed4c51a68743cc293ef2148058b6a6239e...   \n",
       "num_session                                                        3   \n",
       "last_active                                                       26   \n",
       "receive_message                                                    0   \n",
       "accept_message                                                     0   \n",
       "life_time_value                                                    0   \n",
       "num_purchase                                                       0   \n",
       "avg_purchase                                                       0   \n",
       "num_event                                                        119   \n",
       "event_per_session                                            39.6667   \n",
       "\n",
       "                                                                   1  \n",
       "user_id_hash       005c9d79cf18efc6c8b5fa767964b1def9b8e2f8abd23f...  \n",
       "num_session                                                        2  \n",
       "last_active                                                       42  \n",
       "receive_message                                                    0  \n",
       "accept_message                                                     0  \n",
       "life_time_value                                                    0  \n",
       "num_purchase                                                       0  \n",
       "avg_purchase                                                       0  \n",
       "num_event                                                         24  \n",
       "event_per_session                                                 12  "
      ]
     },
     "execution_count": 21,
     "metadata": {},
     "output_type": "execute_result"
    }
   ],
   "source": [
    "df_clean.reset_index().head(2).T"
   ]
  },
  {
   "cell_type": "code",
   "execution_count": 22,
   "metadata": {
    "ExecuteTime": {
     "end_time": "2019-02-14T19:26:25.696441Z",
     "start_time": "2019-02-14T19:26:25.217728Z"
    }
   },
   "outputs": [],
   "source": [
    "feather.write_dataframe(df_clean.reset_index(), 'Data/features_before_14.feather')"
   ]
  },
  {
   "cell_type": "markdown",
   "metadata": {},
   "source": [
    "# Week 2"
   ]
  },
  {
   "cell_type": "markdown",
   "metadata": {},
   "source": [
    "Realizing that using good features is the defining factor to improve the performance of the model, our next step is to finetune features we already have and extract new features:\n",
    "\n",
    "* For last_active, num_session, event_per_session: we will take into account the fact that not all sessions are initiated by users and exclude them when computing these features. \n",
    "\n",
    "* Also, we extract new features: last_time_purchase as well as last time an user had a certain event (the underlying assumption is that there might be an event that has strong correlation with purchase such as checking a promotional code), \"app age\" of users (how much time they have used the app), and the number of devices they have (hinting how involved they are with the app)."
   ]
  },
  {
   "cell_type": "markdown",
   "metadata": {},
   "source": [
    "## Extract features related to last time an user had an event\n",
    "\n",
    "An interesting finding from the initial model we have is that `last_active` is the major feature that drives the performance of our model. This inspires us to extract similar features such last `last_purchase` and the last time an user did an event."
   ]
  },
  {
   "cell_type": "code",
   "execution_count": 27,
   "metadata": {
    "ExecuteTime": {
     "end_time": "2019-02-23T00:41:38.222690Z",
     "start_time": "2019-02-23T00:41:37.370716Z"
    }
   },
   "outputs": [],
   "source": [
    "df_ft = feather.read_dataframe('./Data/features_v1.feather').set_index('user_id_hash')"
   ]
  },
  {
   "cell_type": "code",
   "execution_count": 28,
   "metadata": {
    "ExecuteTime": {
     "end_time": "2019-02-23T00:41:38.965853Z",
     "start_time": "2019-02-23T00:41:38.890854Z"
    }
   },
   "outputs": [
    {
     "data": {
      "text/html": [
       "<div>\n",
       "<style scoped>\n",
       "    .dataframe tbody tr th:only-of-type {\n",
       "        vertical-align: middle;\n",
       "    }\n",
       "\n",
       "    .dataframe tbody tr th {\n",
       "        vertical-align: top;\n",
       "    }\n",
       "\n",
       "    .dataframe thead th {\n",
       "        text-align: right;\n",
       "    }\n",
       "</style>\n",
       "<table border=\"1\" class=\"dataframe\">\n",
       "  <thead>\n",
       "    <tr style=\"text-align: right;\">\n",
       "      <th></th>\n",
       "      <th>num_session</th>\n",
       "      <th>last_active</th>\n",
       "      <th>receive_message</th>\n",
       "      <th>accept_message</th>\n",
       "      <th>life_time_value</th>\n",
       "      <th>num_purchase</th>\n",
       "      <th>avg_purchase</th>\n",
       "      <th>num_event</th>\n",
       "      <th>event_per_session</th>\n",
       "    </tr>\n",
       "    <tr>\n",
       "      <th>user_id_hash</th>\n",
       "      <th></th>\n",
       "      <th></th>\n",
       "      <th></th>\n",
       "      <th></th>\n",
       "      <th></th>\n",
       "      <th></th>\n",
       "      <th></th>\n",
       "      <th></th>\n",
       "      <th></th>\n",
       "    </tr>\n",
       "  </thead>\n",
       "  <tbody>\n",
       "    <tr>\n",
       "      <th>002e447aed33ed4c51a68743cc293ef2148058b6a6239e37d013cc6dc49bdfdf</th>\n",
       "      <td>3</td>\n",
       "      <td>40</td>\n",
       "      <td>0</td>\n",
       "      <td>0</td>\n",
       "      <td>0.0</td>\n",
       "      <td>0</td>\n",
       "      <td>0.0</td>\n",
       "      <td>119</td>\n",
       "      <td>39.666667</td>\n",
       "    </tr>\n",
       "    <tr>\n",
       "      <th>005c9d79cf18efc6c8b5fa767964b1def9b8e2f8abd23f453310f60d69584a9f</th>\n",
       "      <td>2</td>\n",
       "      <td>56</td>\n",
       "      <td>0</td>\n",
       "      <td>0</td>\n",
       "      <td>0.0</td>\n",
       "      <td>0</td>\n",
       "      <td>0.0</td>\n",
       "      <td>24</td>\n",
       "      <td>12.000000</td>\n",
       "    </tr>\n",
       "    <tr>\n",
       "      <th>0061b4d30e8a9935b2ebeec954ff509b4f0cb500cd725c1aa7145841c82d907c</th>\n",
       "      <td>1</td>\n",
       "      <td>68</td>\n",
       "      <td>0</td>\n",
       "      <td>0</td>\n",
       "      <td>0.0</td>\n",
       "      <td>0</td>\n",
       "      <td>0.0</td>\n",
       "      <td>34</td>\n",
       "      <td>34.000000</td>\n",
       "    </tr>\n",
       "    <tr>\n",
       "      <th>00fbbf507c7d3c2f259cd3329d241c29d35712e2d4699f5c6a51d5149219ecee</th>\n",
       "      <td>3</td>\n",
       "      <td>65</td>\n",
       "      <td>0</td>\n",
       "      <td>0</td>\n",
       "      <td>0.0</td>\n",
       "      <td>0</td>\n",
       "      <td>0.0</td>\n",
       "      <td>47</td>\n",
       "      <td>15.666667</td>\n",
       "    </tr>\n",
       "    <tr>\n",
       "      <th>0107a0017873efc2dea9a9155832363ceacf6fe97bd428a73efa67b639962ac0</th>\n",
       "      <td>1</td>\n",
       "      <td>53</td>\n",
       "      <td>0</td>\n",
       "      <td>0</td>\n",
       "      <td>0.0</td>\n",
       "      <td>0</td>\n",
       "      <td>0.0</td>\n",
       "      <td>14</td>\n",
       "      <td>14.000000</td>\n",
       "    </tr>\n",
       "  </tbody>\n",
       "</table>\n",
       "</div>"
      ],
      "text/plain": [
       "                                                    num_session  last_active  \\\n",
       "user_id_hash                                                                   \n",
       "002e447aed33ed4c51a68743cc293ef2148058b6a6239e3...            3           40   \n",
       "005c9d79cf18efc6c8b5fa767964b1def9b8e2f8abd23f4...            2           56   \n",
       "0061b4d30e8a9935b2ebeec954ff509b4f0cb500cd725c1...            1           68   \n",
       "00fbbf507c7d3c2f259cd3329d241c29d35712e2d4699f5...            3           65   \n",
       "0107a0017873efc2dea9a9155832363ceacf6fe97bd428a...            1           53   \n",
       "\n",
       "                                                    receive_message  \\\n",
       "user_id_hash                                                          \n",
       "002e447aed33ed4c51a68743cc293ef2148058b6a6239e3...                0   \n",
       "005c9d79cf18efc6c8b5fa767964b1def9b8e2f8abd23f4...                0   \n",
       "0061b4d30e8a9935b2ebeec954ff509b4f0cb500cd725c1...                0   \n",
       "00fbbf507c7d3c2f259cd3329d241c29d35712e2d4699f5...                0   \n",
       "0107a0017873efc2dea9a9155832363ceacf6fe97bd428a...                0   \n",
       "\n",
       "                                                    accept_message  \\\n",
       "user_id_hash                                                         \n",
       "002e447aed33ed4c51a68743cc293ef2148058b6a6239e3...               0   \n",
       "005c9d79cf18efc6c8b5fa767964b1def9b8e2f8abd23f4...               0   \n",
       "0061b4d30e8a9935b2ebeec954ff509b4f0cb500cd725c1...               0   \n",
       "00fbbf507c7d3c2f259cd3329d241c29d35712e2d4699f5...               0   \n",
       "0107a0017873efc2dea9a9155832363ceacf6fe97bd428a...               0   \n",
       "\n",
       "                                                    life_time_value  \\\n",
       "user_id_hash                                                          \n",
       "002e447aed33ed4c51a68743cc293ef2148058b6a6239e3...              0.0   \n",
       "005c9d79cf18efc6c8b5fa767964b1def9b8e2f8abd23f4...              0.0   \n",
       "0061b4d30e8a9935b2ebeec954ff509b4f0cb500cd725c1...              0.0   \n",
       "00fbbf507c7d3c2f259cd3329d241c29d35712e2d4699f5...              0.0   \n",
       "0107a0017873efc2dea9a9155832363ceacf6fe97bd428a...              0.0   \n",
       "\n",
       "                                                    num_purchase  \\\n",
       "user_id_hash                                                       \n",
       "002e447aed33ed4c51a68743cc293ef2148058b6a6239e3...             0   \n",
       "005c9d79cf18efc6c8b5fa767964b1def9b8e2f8abd23f4...             0   \n",
       "0061b4d30e8a9935b2ebeec954ff509b4f0cb500cd725c1...             0   \n",
       "00fbbf507c7d3c2f259cd3329d241c29d35712e2d4699f5...             0   \n",
       "0107a0017873efc2dea9a9155832363ceacf6fe97bd428a...             0   \n",
       "\n",
       "                                                    avg_purchase  num_event  \\\n",
       "user_id_hash                                                                  \n",
       "002e447aed33ed4c51a68743cc293ef2148058b6a6239e3...           0.0        119   \n",
       "005c9d79cf18efc6c8b5fa767964b1def9b8e2f8abd23f4...           0.0         24   \n",
       "0061b4d30e8a9935b2ebeec954ff509b4f0cb500cd725c1...           0.0         34   \n",
       "00fbbf507c7d3c2f259cd3329d241c29d35712e2d4699f5...           0.0         47   \n",
       "0107a0017873efc2dea9a9155832363ceacf6fe97bd428a...           0.0         14   \n",
       "\n",
       "                                                    event_per_session  \n",
       "user_id_hash                                                           \n",
       "002e447aed33ed4c51a68743cc293ef2148058b6a6239e3...          39.666667  \n",
       "005c9d79cf18efc6c8b5fa767964b1def9b8e2f8abd23f4...          12.000000  \n",
       "0061b4d30e8a9935b2ebeec954ff509b4f0cb500cd725c1...          34.000000  \n",
       "00fbbf507c7d3c2f259cd3329d241c29d35712e2d4699f5...          15.666667  \n",
       "0107a0017873efc2dea9a9155832363ceacf6fe97bd428a...          14.000000  "
      ]
     },
     "execution_count": 28,
     "metadata": {},
     "output_type": "execute_result"
    }
   ],
   "source": [
    "df_ft.head(5)"
   ]
  },
  {
   "cell_type": "code",
   "execution_count": 36,
   "metadata": {
    "ExecuteTime": {
     "end_time": "2019-02-23T01:03:04.596449Z",
     "start_time": "2019-02-23T00:59:13.510902Z"
    }
   },
   "outputs": [],
   "source": [
    "# event_file = './Data/events.csv'\n",
    "# event_file = './Data/events_before_7.csv'\n",
    "event_file = './Data/events_before_14.csv'\n",
    "\n",
    "event_types = {'session_id': np.uint64, \n",
    "               'event':'category', \n",
    "               'event_value': str, \n",
    "               'user_id_hash':'category', \n",
    "               'event_timestamp':str}\n",
    "\n",
    "df_raw = pd.read_csv(event_file, usecols=event_types.keys(), dtype=event_types, index_col=['user_id_hash'])"
   ]
  },
  {
   "cell_type": "code",
   "execution_count": 9,
   "metadata": {
    "ExecuteTime": {
     "end_time": "2019-02-23T00:08:38.407166Z",
     "start_time": "2019-02-23T00:06:58.317678Z"
    }
   },
   "outputs": [],
   "source": [
    "df_raw['event_timestamp'] = pd.to_datetime(df_raw['event_timestamp'], utc=True, unit='ms')"
   ]
  },
  {
   "cell_type": "code",
   "execution_count": 14,
   "metadata": {
    "ExecuteTime": {
     "end_time": "2019-02-23T00:09:58.428095Z",
     "start_time": "2019-02-23T00:09:58.307111Z"
    }
   },
   "outputs": [
    {
     "data": {
      "text/plain": [
       "Timestamp('2018-12-14 23:59:59.977000+0000', tz='UTC')"
      ]
     },
     "execution_count": 14,
     "metadata": {},
     "output_type": "execute_result"
    }
   ],
   "source": [
    "last_date = df_raw['event_timestamp'].max()  # the cut off for this period\n",
    "last_date"
   ]
  },
  {
   "cell_type": "code",
   "execution_count": 15,
   "metadata": {
    "ExecuteTime": {
     "end_time": "2019-02-23T00:10:01.964878Z",
     "start_time": "2019-02-23T00:10:01.959777Z"
    }
   },
   "outputs": [],
   "source": [
    "def extract_last_purchase(x, last_date):  #x is a GroupByDataFrame\n",
    "    last_purchase_date = x[x['event']==\"8\"]['event_timestamp'].max()\n",
    "#     if last_purchase_date == None:\n",
    "#         return -1\n",
    "    return (last_date - last_purchase_date).days"
   ]
  },
  {
   "cell_type": "code",
   "execution_count": 21,
   "metadata": {
    "ExecuteTime": {
     "end_time": "2019-02-23T00:40:55.396493Z",
     "start_time": "2019-02-23T00:40:55.392629Z"
    },
    "scrolled": true
   },
   "outputs": [],
   "source": [
    "df_ft['last_purchase'] = df_raw.groupby('user_id_hash').apply(lambda x: extract_last_purchase(x, last_date))\n"
   ]
  },
  {
   "cell_type": "code",
   "execution_count": 22,
   "metadata": {
    "ExecuteTime": {
     "end_time": "2019-02-23T00:41:10.729262Z",
     "start_time": "2019-02-23T00:41:10.726201Z"
    }
   },
   "outputs": [],
   "source": [
    "df_ft['last_purchase'].fillna(-1, inplace=True)"
   ]
  },
  {
   "cell_type": "code",
   "execution_count": 23,
   "metadata": {
    "ExecuteTime": {
     "end_time": "2019-02-23T00:41:16.320820Z",
     "start_time": "2019-02-23T00:41:16.316983Z"
    }
   },
   "outputs": [],
   "source": [
    "# df_ft.tail(5)"
   ]
  },
  {
   "cell_type": "code",
   "execution_count": 24,
   "metadata": {
    "ExecuteTime": {
     "end_time": "2019-02-23T00:41:20.708290Z",
     "start_time": "2019-02-23T00:41:20.703239Z"
    }
   },
   "outputs": [],
   "source": [
    "feather.write_dataframe(df_ft.reset_index(), './Data/features_v2.feather')"
   ]
  },
  {
   "cell_type": "markdown",
   "metadata": {},
   "source": [
    "### Extraction for similar features for all events\n",
    "\n",
    "We extracted features named in this format `last_date_event_i` where i is the event. Now we're combining with other features."
   ]
  },
  {
   "cell_type": "code",
   "execution_count": 42,
   "metadata": {
    "ExecuteTime": {
     "end_time": "2019-02-23T01:33:08.892232Z",
     "start_time": "2019-02-23T01:33:08.878459Z"
    }
   },
   "outputs": [],
   "source": [
    "cut_off_all = pd.to_datetime('2018-12-14 23:59:59.977000+0000', utc=True)\n",
    "cut_off_7 = pd.to_datetime('2018-12-07 23:59:59.977000+00:00', utc=True)\n",
    "cut_off_14 = pd.to_datetime('2018-11-30 23:59:59.977000+00:00', utc=True)"
   ]
  },
  {
   "cell_type": "code",
   "execution_count": 69,
   "metadata": {
    "ExecuteTime": {
     "end_time": "2019-02-23T01:55:54.559180Z",
     "start_time": "2019-02-23T01:55:53.783798Z"
    }
   },
   "outputs": [
    {
     "data": {
      "text/html": [
       "<div>\n",
       "<style scoped>\n",
       "    .dataframe tbody tr th:only-of-type {\n",
       "        vertical-align: middle;\n",
       "    }\n",
       "\n",
       "    .dataframe tbody tr th {\n",
       "        vertical-align: top;\n",
       "    }\n",
       "\n",
       "    .dataframe thead th {\n",
       "        text-align: right;\n",
       "    }\n",
       "</style>\n",
       "<table border=\"1\" class=\"dataframe\">\n",
       "  <thead>\n",
       "    <tr style=\"text-align: right;\">\n",
       "      <th></th>\n",
       "      <th>num_session</th>\n",
       "      <th>last_active</th>\n",
       "      <th>receive_message</th>\n",
       "      <th>accept_message</th>\n",
       "      <th>life_time_value</th>\n",
       "      <th>num_purchase</th>\n",
       "      <th>avg_purchase</th>\n",
       "      <th>num_event</th>\n",
       "      <th>event_per_session</th>\n",
       "    </tr>\n",
       "    <tr>\n",
       "      <th>user_id_hash</th>\n",
       "      <th></th>\n",
       "      <th></th>\n",
       "      <th></th>\n",
       "      <th></th>\n",
       "      <th></th>\n",
       "      <th></th>\n",
       "      <th></th>\n",
       "      <th></th>\n",
       "      <th></th>\n",
       "    </tr>\n",
       "  </thead>\n",
       "  <tbody>\n",
       "    <tr>\n",
       "      <th>002e447aed33ed4c51a68743cc293ef2148058b6a6239e37d013cc6dc49bdfdf</th>\n",
       "      <td>3</td>\n",
       "      <td>40</td>\n",
       "      <td>0</td>\n",
       "      <td>0</td>\n",
       "      <td>0.0</td>\n",
       "      <td>0</td>\n",
       "      <td>0.0</td>\n",
       "      <td>119</td>\n",
       "      <td>39.666667</td>\n",
       "    </tr>\n",
       "    <tr>\n",
       "      <th>005c9d79cf18efc6c8b5fa767964b1def9b8e2f8abd23f453310f60d69584a9f</th>\n",
       "      <td>2</td>\n",
       "      <td>56</td>\n",
       "      <td>0</td>\n",
       "      <td>0</td>\n",
       "      <td>0.0</td>\n",
       "      <td>0</td>\n",
       "      <td>0.0</td>\n",
       "      <td>24</td>\n",
       "      <td>12.000000</td>\n",
       "    </tr>\n",
       "    <tr>\n",
       "      <th>0061b4d30e8a9935b2ebeec954ff509b4f0cb500cd725c1aa7145841c82d907c</th>\n",
       "      <td>1</td>\n",
       "      <td>68</td>\n",
       "      <td>0</td>\n",
       "      <td>0</td>\n",
       "      <td>0.0</td>\n",
       "      <td>0</td>\n",
       "      <td>0.0</td>\n",
       "      <td>34</td>\n",
       "      <td>34.000000</td>\n",
       "    </tr>\n",
       "    <tr>\n",
       "      <th>00fbbf507c7d3c2f259cd3329d241c29d35712e2d4699f5c6a51d5149219ecee</th>\n",
       "      <td>3</td>\n",
       "      <td>65</td>\n",
       "      <td>0</td>\n",
       "      <td>0</td>\n",
       "      <td>0.0</td>\n",
       "      <td>0</td>\n",
       "      <td>0.0</td>\n",
       "      <td>47</td>\n",
       "      <td>15.666667</td>\n",
       "    </tr>\n",
       "    <tr>\n",
       "      <th>0107a0017873efc2dea9a9155832363ceacf6fe97bd428a73efa67b639962ac0</th>\n",
       "      <td>1</td>\n",
       "      <td>53</td>\n",
       "      <td>0</td>\n",
       "      <td>0</td>\n",
       "      <td>0.0</td>\n",
       "      <td>0</td>\n",
       "      <td>0.0</td>\n",
       "      <td>14</td>\n",
       "      <td>14.000000</td>\n",
       "    </tr>\n",
       "  </tbody>\n",
       "</table>\n",
       "</div>"
      ],
      "text/plain": [
       "                                                    num_session  last_active  \\\n",
       "user_id_hash                                                                   \n",
       "002e447aed33ed4c51a68743cc293ef2148058b6a6239e3...            3           40   \n",
       "005c9d79cf18efc6c8b5fa767964b1def9b8e2f8abd23f4...            2           56   \n",
       "0061b4d30e8a9935b2ebeec954ff509b4f0cb500cd725c1...            1           68   \n",
       "00fbbf507c7d3c2f259cd3329d241c29d35712e2d4699f5...            3           65   \n",
       "0107a0017873efc2dea9a9155832363ceacf6fe97bd428a...            1           53   \n",
       "\n",
       "                                                    receive_message  \\\n",
       "user_id_hash                                                          \n",
       "002e447aed33ed4c51a68743cc293ef2148058b6a6239e3...                0   \n",
       "005c9d79cf18efc6c8b5fa767964b1def9b8e2f8abd23f4...                0   \n",
       "0061b4d30e8a9935b2ebeec954ff509b4f0cb500cd725c1...                0   \n",
       "00fbbf507c7d3c2f259cd3329d241c29d35712e2d4699f5...                0   \n",
       "0107a0017873efc2dea9a9155832363ceacf6fe97bd428a...                0   \n",
       "\n",
       "                                                    accept_message  \\\n",
       "user_id_hash                                                         \n",
       "002e447aed33ed4c51a68743cc293ef2148058b6a6239e3...               0   \n",
       "005c9d79cf18efc6c8b5fa767964b1def9b8e2f8abd23f4...               0   \n",
       "0061b4d30e8a9935b2ebeec954ff509b4f0cb500cd725c1...               0   \n",
       "00fbbf507c7d3c2f259cd3329d241c29d35712e2d4699f5...               0   \n",
       "0107a0017873efc2dea9a9155832363ceacf6fe97bd428a...               0   \n",
       "\n",
       "                                                    life_time_value  \\\n",
       "user_id_hash                                                          \n",
       "002e447aed33ed4c51a68743cc293ef2148058b6a6239e3...              0.0   \n",
       "005c9d79cf18efc6c8b5fa767964b1def9b8e2f8abd23f4...              0.0   \n",
       "0061b4d30e8a9935b2ebeec954ff509b4f0cb500cd725c1...              0.0   \n",
       "00fbbf507c7d3c2f259cd3329d241c29d35712e2d4699f5...              0.0   \n",
       "0107a0017873efc2dea9a9155832363ceacf6fe97bd428a...              0.0   \n",
       "\n",
       "                                                    num_purchase  \\\n",
       "user_id_hash                                                       \n",
       "002e447aed33ed4c51a68743cc293ef2148058b6a6239e3...             0   \n",
       "005c9d79cf18efc6c8b5fa767964b1def9b8e2f8abd23f4...             0   \n",
       "0061b4d30e8a9935b2ebeec954ff509b4f0cb500cd725c1...             0   \n",
       "00fbbf507c7d3c2f259cd3329d241c29d35712e2d4699f5...             0   \n",
       "0107a0017873efc2dea9a9155832363ceacf6fe97bd428a...             0   \n",
       "\n",
       "                                                    avg_purchase  num_event  \\\n",
       "user_id_hash                                                                  \n",
       "002e447aed33ed4c51a68743cc293ef2148058b6a6239e3...           0.0        119   \n",
       "005c9d79cf18efc6c8b5fa767964b1def9b8e2f8abd23f4...           0.0         24   \n",
       "0061b4d30e8a9935b2ebeec954ff509b4f0cb500cd725c1...           0.0         34   \n",
       "00fbbf507c7d3c2f259cd3329d241c29d35712e2d4699f5...           0.0         47   \n",
       "0107a0017873efc2dea9a9155832363ceacf6fe97bd428a...           0.0         14   \n",
       "\n",
       "                                                    event_per_session  \n",
       "user_id_hash                                                           \n",
       "002e447aed33ed4c51a68743cc293ef2148058b6a6239e3...          39.666667  \n",
       "005c9d79cf18efc6c8b5fa767964b1def9b8e2f8abd23f4...          12.000000  \n",
       "0061b4d30e8a9935b2ebeec954ff509b4f0cb500cd725c1...          34.000000  \n",
       "00fbbf507c7d3c2f259cd3329d241c29d35712e2d4699f5...          15.666667  \n",
       "0107a0017873efc2dea9a9155832363ceacf6fe97bd428a...          14.000000  "
      ]
     },
     "execution_count": 69,
     "metadata": {},
     "output_type": "execute_result"
    }
   ],
   "source": [
    "df_ft = feather.read_dataframe('./Data/features_v1.feather').set_index('user_id_hash')\n",
    "df_ft.head(5)"
   ]
  },
  {
   "cell_type": "code",
   "execution_count": 70,
   "metadata": {
    "ExecuteTime": {
     "end_time": "2019-02-23T01:56:09.284635Z",
     "start_time": "2019-02-23T01:56:06.075960Z"
    }
   },
   "outputs": [
    {
     "data": {
      "text/html": [
       "<div>\n",
       "<style scoped>\n",
       "    .dataframe tbody tr th:only-of-type {\n",
       "        vertical-align: middle;\n",
       "    }\n",
       "\n",
       "    .dataframe tbody tr th {\n",
       "        vertical-align: top;\n",
       "    }\n",
       "\n",
       "    .dataframe thead th {\n",
       "        text-align: right;\n",
       "    }\n",
       "</style>\n",
       "<table border=\"1\" class=\"dataframe\">\n",
       "  <thead>\n",
       "    <tr style=\"text-align: right;\">\n",
       "      <th></th>\n",
       "      <th>user_id_hash</th>\n",
       "      <th>last_date_event_0</th>\n",
       "      <th>last_date_event_1</th>\n",
       "      <th>last_date_event_10</th>\n",
       "      <th>last_date_event_11</th>\n",
       "      <th>last_date_event_14</th>\n",
       "      <th>last_date_event_3</th>\n",
       "      <th>last_date_event_32</th>\n",
       "      <th>last_date_event_4</th>\n",
       "      <th>last_date_event_40</th>\n",
       "      <th>...</th>\n",
       "      <th>last_date_event_59</th>\n",
       "      <th>last_date_event_6</th>\n",
       "      <th>last_date_event_60</th>\n",
       "      <th>last_date_event_61</th>\n",
       "      <th>last_date_event_62</th>\n",
       "      <th>last_date_event_63</th>\n",
       "      <th>last_date_event_64</th>\n",
       "      <th>last_date_event_7</th>\n",
       "      <th>last_date_event_8</th>\n",
       "      <th>last_date_event_9</th>\n",
       "    </tr>\n",
       "  </thead>\n",
       "  <tbody>\n",
       "    <tr>\n",
       "      <th>0</th>\n",
       "      <td>2fafe81d1fa7b1a7333e587c4be22b595e76650b0e7089...</td>\n",
       "      <td>1.540540e+12</td>\n",
       "      <td>NaN</td>\n",
       "      <td>NaN</td>\n",
       "      <td>NaN</td>\n",
       "      <td>NaN</td>\n",
       "      <td>NaN</td>\n",
       "      <td>NaN</td>\n",
       "      <td>NaN</td>\n",
       "      <td>NaN</td>\n",
       "      <td>...</td>\n",
       "      <td>NaN</td>\n",
       "      <td>NaN</td>\n",
       "      <td>NaN</td>\n",
       "      <td>NaN</td>\n",
       "      <td>NaN</td>\n",
       "      <td>NaN</td>\n",
       "      <td>NaN</td>\n",
       "      <td>NaN</td>\n",
       "      <td>NaN</td>\n",
       "      <td>NaN</td>\n",
       "    </tr>\n",
       "    <tr>\n",
       "      <th>1</th>\n",
       "      <td>fc695d7339dc3f3b7981fbd3f6c266084980b08f515b2f...</td>\n",
       "      <td>NaN</td>\n",
       "      <td>1.541290e+12</td>\n",
       "      <td>NaN</td>\n",
       "      <td>NaN</td>\n",
       "      <td>NaN</td>\n",
       "      <td>NaN</td>\n",
       "      <td>NaN</td>\n",
       "      <td>NaN</td>\n",
       "      <td>NaN</td>\n",
       "      <td>...</td>\n",
       "      <td>NaN</td>\n",
       "      <td>NaN</td>\n",
       "      <td>NaN</td>\n",
       "      <td>NaN</td>\n",
       "      <td>NaN</td>\n",
       "      <td>NaN</td>\n",
       "      <td>NaN</td>\n",
       "      <td>NaN</td>\n",
       "      <td>NaN</td>\n",
       "      <td>NaN</td>\n",
       "    </tr>\n",
       "    <tr>\n",
       "      <th>2</th>\n",
       "      <td>1ac8de3edd209fa1b205f96a66ae5035456d59ad205638...</td>\n",
       "      <td>1.541063e+12</td>\n",
       "      <td>1.540802e+12</td>\n",
       "      <td>NaN</td>\n",
       "      <td>NaN</td>\n",
       "      <td>NaN</td>\n",
       "      <td>NaN</td>\n",
       "      <td>NaN</td>\n",
       "      <td>NaN</td>\n",
       "      <td>NaN</td>\n",
       "      <td>...</td>\n",
       "      <td>NaN</td>\n",
       "      <td>NaN</td>\n",
       "      <td>NaN</td>\n",
       "      <td>NaN</td>\n",
       "      <td>NaN</td>\n",
       "      <td>NaN</td>\n",
       "      <td>NaN</td>\n",
       "      <td>NaN</td>\n",
       "      <td>NaN</td>\n",
       "      <td>NaN</td>\n",
       "    </tr>\n",
       "    <tr>\n",
       "      <th>3</th>\n",
       "      <td>f5c9fff021057131db3a90a50b077f1abdf3f127130401...</td>\n",
       "      <td>NaN</td>\n",
       "      <td>1.538625e+12</td>\n",
       "      <td>NaN</td>\n",
       "      <td>NaN</td>\n",
       "      <td>1.538625e+12</td>\n",
       "      <td>NaN</td>\n",
       "      <td>NaN</td>\n",
       "      <td>NaN</td>\n",
       "      <td>NaN</td>\n",
       "      <td>...</td>\n",
       "      <td>NaN</td>\n",
       "      <td>NaN</td>\n",
       "      <td>NaN</td>\n",
       "      <td>NaN</td>\n",
       "      <td>NaN</td>\n",
       "      <td>NaN</td>\n",
       "      <td>NaN</td>\n",
       "      <td>1.538625e+12</td>\n",
       "      <td>NaN</td>\n",
       "      <td>NaN</td>\n",
       "    </tr>\n",
       "    <tr>\n",
       "      <th>4</th>\n",
       "      <td>1f4a7a9c1622ab0cdb11aaad4df3b4f1c3e7198d08fd1c...</td>\n",
       "      <td>1.540284e+12</td>\n",
       "      <td>1.539721e+12</td>\n",
       "      <td>NaN</td>\n",
       "      <td>NaN</td>\n",
       "      <td>1.539721e+12</td>\n",
       "      <td>1.539720e+12</td>\n",
       "      <td>NaN</td>\n",
       "      <td>1.539720e+12</td>\n",
       "      <td>1.539720e+12</td>\n",
       "      <td>...</td>\n",
       "      <td>NaN</td>\n",
       "      <td>1.539720e+12</td>\n",
       "      <td>NaN</td>\n",
       "      <td>NaN</td>\n",
       "      <td>NaN</td>\n",
       "      <td>NaN</td>\n",
       "      <td>NaN</td>\n",
       "      <td>1.539719e+12</td>\n",
       "      <td>NaN</td>\n",
       "      <td>NaN</td>\n",
       "    </tr>\n",
       "  </tbody>\n",
       "</table>\n",
       "<p>5 rows × 37 columns</p>\n",
       "</div>"
      ],
      "text/plain": [
       "                                        user_id_hash  last_date_event_0  \\\n",
       "0  2fafe81d1fa7b1a7333e587c4be22b595e76650b0e7089...       1.540540e+12   \n",
       "1  fc695d7339dc3f3b7981fbd3f6c266084980b08f515b2f...                NaN   \n",
       "2  1ac8de3edd209fa1b205f96a66ae5035456d59ad205638...       1.541063e+12   \n",
       "3  f5c9fff021057131db3a90a50b077f1abdf3f127130401...                NaN   \n",
       "4  1f4a7a9c1622ab0cdb11aaad4df3b4f1c3e7198d08fd1c...       1.540284e+12   \n",
       "\n",
       "   last_date_event_1  last_date_event_10  last_date_event_11  \\\n",
       "0                NaN                 NaN                 NaN   \n",
       "1       1.541290e+12                 NaN                 NaN   \n",
       "2       1.540802e+12                 NaN                 NaN   \n",
       "3       1.538625e+12                 NaN                 NaN   \n",
       "4       1.539721e+12                 NaN                 NaN   \n",
       "\n",
       "   last_date_event_14  last_date_event_3  last_date_event_32  \\\n",
       "0                 NaN                NaN                 NaN   \n",
       "1                 NaN                NaN                 NaN   \n",
       "2                 NaN                NaN                 NaN   \n",
       "3        1.538625e+12                NaN                 NaN   \n",
       "4        1.539721e+12       1.539720e+12                 NaN   \n",
       "\n",
       "   last_date_event_4  last_date_event_40        ...          \\\n",
       "0                NaN                 NaN        ...           \n",
       "1                NaN                 NaN        ...           \n",
       "2                NaN                 NaN        ...           \n",
       "3                NaN                 NaN        ...           \n",
       "4       1.539720e+12        1.539720e+12        ...           \n",
       "\n",
       "   last_date_event_59  last_date_event_6  last_date_event_60  \\\n",
       "0                 NaN                NaN                 NaN   \n",
       "1                 NaN                NaN                 NaN   \n",
       "2                 NaN                NaN                 NaN   \n",
       "3                 NaN                NaN                 NaN   \n",
       "4                 NaN       1.539720e+12                 NaN   \n",
       "\n",
       "   last_date_event_61  last_date_event_62  last_date_event_63  \\\n",
       "0                 NaN                 NaN                 NaN   \n",
       "1                 NaN                 NaN                 NaN   \n",
       "2                 NaN                 NaN                 NaN   \n",
       "3                 NaN                 NaN                 NaN   \n",
       "4                 NaN                 NaN                 NaN   \n",
       "\n",
       "   last_date_event_64  last_date_event_7  last_date_event_8  last_date_event_9  \n",
       "0                 NaN                NaN                NaN                NaN  \n",
       "1                 NaN                NaN                NaN                NaN  \n",
       "2                 NaN                NaN                NaN                NaN  \n",
       "3                 NaN       1.538625e+12                NaN                NaN  \n",
       "4                 NaN       1.539719e+12                NaN                NaN  \n",
       "\n",
       "[5 rows x 37 columns]"
      ]
     },
     "execution_count": 70,
     "metadata": {},
     "output_type": "execute_result"
    }
   ],
   "source": [
    "last_date_all_events = pd.read_csv('./Data/testbed/last_date_data_all.csv')\n",
    "last_date_all_events.head(5)"
   ]
  },
  {
   "cell_type": "code",
   "execution_count": 71,
   "metadata": {
    "ExecuteTime": {
     "end_time": "2019-02-23T01:59:13.977575Z",
     "start_time": "2019-02-23T01:56:38.253608Z"
    }
   },
   "outputs": [
    {
     "name": "stdout",
     "output_type": "stream",
     "text": [
      "Processing last_date_event_0\n",
      "Processing last_date_event_1\n",
      "Processing last_date_event_10\n",
      "Processing last_date_event_11\n",
      "Processing last_date_event_14\n",
      "Processing last_date_event_3\n",
      "Processing last_date_event_32\n",
      "Processing last_date_event_4\n",
      "Processing last_date_event_40\n",
      "Processing last_date_event_41\n",
      "Processing last_date_event_42\n",
      "Processing last_date_event_43\n",
      "Processing last_date_event_44\n",
      "Processing last_date_event_45\n",
      "Processing last_date_event_47\n",
      "Processing last_date_event_48\n",
      "Processing last_date_event_49\n",
      "Processing last_date_event_5\n",
      "Processing last_date_event_50\n",
      "Processing last_date_event_51\n",
      "Processing last_date_event_52\n",
      "Processing last_date_event_54\n",
      "Processing last_date_event_55\n",
      "Processing last_date_event_56\n",
      "Processing last_date_event_57\n",
      "Processing last_date_event_58\n",
      "Processing last_date_event_59\n",
      "Processing last_date_event_6\n",
      "Processing last_date_event_60\n",
      "Processing last_date_event_61\n",
      "Processing last_date_event_62\n",
      "Processing last_date_event_63\n",
      "Processing last_date_event_64\n",
      "Processing last_date_event_7\n",
      "Processing last_date_event_8\n",
      "Processing last_date_event_9\n"
     ]
    }
   ],
   "source": [
    "# parse dates and compute timedelta\n",
    "def compute_delta(x, cut_off):\n",
    "    if x == None:\n",
    "        return None\n",
    "    return (cut_off-x).days\n",
    "\n",
    "for col in last_date_all_events.columns[1:]:\n",
    "    print(f'Processing {col}')\n",
    "    last_date_all_events[col] = pd.to_datetime(last_date_all_events[col], utc=True, unit='ms')\n",
    "    last_date_all_events[col] = last_date_all_events[col].apply(lambda x: compute_delta(x, cut_off_all))"
   ]
  },
  {
   "cell_type": "code",
   "execution_count": 72,
   "metadata": {
    "ExecuteTime": {
     "end_time": "2019-02-23T01:59:50.399338Z",
     "start_time": "2019-02-23T01:59:48.748836Z"
    }
   },
   "outputs": [],
   "source": [
    "df_ft = df_ft.join(last_date_all_events.set_index('user_id_hash'))\n",
    "df_ft.fillna(-1, inplace=True)  # some events have NaN because we filter out .m, .a, and .c events"
   ]
  },
  {
   "cell_type": "code",
   "execution_count": 74,
   "metadata": {
    "ExecuteTime": {
     "end_time": "2019-02-23T02:00:05.736790Z",
     "start_time": "2019-02-23T02:00:05.714860Z"
    }
   },
   "outputs": [
    {
     "data": {
      "text/html": [
       "<div>\n",
       "<style scoped>\n",
       "    .dataframe tbody tr th:only-of-type {\n",
       "        vertical-align: middle;\n",
       "    }\n",
       "\n",
       "    .dataframe tbody tr th {\n",
       "        vertical-align: top;\n",
       "    }\n",
       "\n",
       "    .dataframe thead th {\n",
       "        text-align: right;\n",
       "    }\n",
       "</style>\n",
       "<table border=\"1\" class=\"dataframe\">\n",
       "  <thead>\n",
       "    <tr style=\"text-align: right;\">\n",
       "      <th>user_id_hash</th>\n",
       "      <th>002e447aed33ed4c51a68743cc293ef2148058b6a6239e37d013cc6dc49bdfdf</th>\n",
       "      <th>005c9d79cf18efc6c8b5fa767964b1def9b8e2f8abd23f453310f60d69584a9f</th>\n",
       "      <th>0061b4d30e8a9935b2ebeec954ff509b4f0cb500cd725c1aa7145841c82d907c</th>\n",
       "      <th>00fbbf507c7d3c2f259cd3329d241c29d35712e2d4699f5c6a51d5149219ecee</th>\n",
       "      <th>0107a0017873efc2dea9a9155832363ceacf6fe97bd428a73efa67b639962ac0</th>\n",
       "    </tr>\n",
       "  </thead>\n",
       "  <tbody>\n",
       "    <tr>\n",
       "      <th>num_session</th>\n",
       "      <td>3.000000</td>\n",
       "      <td>2.0</td>\n",
       "      <td>1.0</td>\n",
       "      <td>3.000000</td>\n",
       "      <td>1.0</td>\n",
       "    </tr>\n",
       "    <tr>\n",
       "      <th>last_active</th>\n",
       "      <td>40.000000</td>\n",
       "      <td>56.0</td>\n",
       "      <td>68.0</td>\n",
       "      <td>65.000000</td>\n",
       "      <td>53.0</td>\n",
       "    </tr>\n",
       "    <tr>\n",
       "      <th>receive_message</th>\n",
       "      <td>0.000000</td>\n",
       "      <td>0.0</td>\n",
       "      <td>0.0</td>\n",
       "      <td>0.000000</td>\n",
       "      <td>0.0</td>\n",
       "    </tr>\n",
       "    <tr>\n",
       "      <th>accept_message</th>\n",
       "      <td>0.000000</td>\n",
       "      <td>0.0</td>\n",
       "      <td>0.0</td>\n",
       "      <td>0.000000</td>\n",
       "      <td>0.0</td>\n",
       "    </tr>\n",
       "    <tr>\n",
       "      <th>life_time_value</th>\n",
       "      <td>0.000000</td>\n",
       "      <td>0.0</td>\n",
       "      <td>0.0</td>\n",
       "      <td>0.000000</td>\n",
       "      <td>0.0</td>\n",
       "    </tr>\n",
       "    <tr>\n",
       "      <th>num_purchase</th>\n",
       "      <td>0.000000</td>\n",
       "      <td>0.0</td>\n",
       "      <td>0.0</td>\n",
       "      <td>0.000000</td>\n",
       "      <td>0.0</td>\n",
       "    </tr>\n",
       "    <tr>\n",
       "      <th>avg_purchase</th>\n",
       "      <td>0.000000</td>\n",
       "      <td>0.0</td>\n",
       "      <td>0.0</td>\n",
       "      <td>0.000000</td>\n",
       "      <td>0.0</td>\n",
       "    </tr>\n",
       "    <tr>\n",
       "      <th>num_event</th>\n",
       "      <td>119.000000</td>\n",
       "      <td>24.0</td>\n",
       "      <td>34.0</td>\n",
       "      <td>47.000000</td>\n",
       "      <td>14.0</td>\n",
       "    </tr>\n",
       "    <tr>\n",
       "      <th>event_per_session</th>\n",
       "      <td>39.666667</td>\n",
       "      <td>12.0</td>\n",
       "      <td>34.0</td>\n",
       "      <td>15.666667</td>\n",
       "      <td>14.0</td>\n",
       "    </tr>\n",
       "    <tr>\n",
       "      <th>last_date_event_0</th>\n",
       "      <td>-1.000000</td>\n",
       "      <td>56.0</td>\n",
       "      <td>-1.0</td>\n",
       "      <td>65.000000</td>\n",
       "      <td>-1.0</td>\n",
       "    </tr>\n",
       "    <tr>\n",
       "      <th>last_date_event_1</th>\n",
       "      <td>40.000000</td>\n",
       "      <td>-1.0</td>\n",
       "      <td>68.0</td>\n",
       "      <td>-1.000000</td>\n",
       "      <td>-1.0</td>\n",
       "    </tr>\n",
       "    <tr>\n",
       "      <th>last_date_event_10</th>\n",
       "      <td>-1.000000</td>\n",
       "      <td>-1.0</td>\n",
       "      <td>-1.0</td>\n",
       "      <td>-1.000000</td>\n",
       "      <td>-1.0</td>\n",
       "    </tr>\n",
       "    <tr>\n",
       "      <th>last_date_event_11</th>\n",
       "      <td>-1.000000</td>\n",
       "      <td>-1.0</td>\n",
       "      <td>-1.0</td>\n",
       "      <td>-1.000000</td>\n",
       "      <td>-1.0</td>\n",
       "    </tr>\n",
       "    <tr>\n",
       "      <th>last_date_event_14</th>\n",
       "      <td>51.000000</td>\n",
       "      <td>58.0</td>\n",
       "      <td>68.0</td>\n",
       "      <td>67.000000</td>\n",
       "      <td>53.0</td>\n",
       "    </tr>\n",
       "    <tr>\n",
       "      <th>last_date_event_3</th>\n",
       "      <td>40.000000</td>\n",
       "      <td>-1.0</td>\n",
       "      <td>-1.0</td>\n",
       "      <td>-1.000000</td>\n",
       "      <td>-1.0</td>\n",
       "    </tr>\n",
       "    <tr>\n",
       "      <th>last_date_event_32</th>\n",
       "      <td>-1.000000</td>\n",
       "      <td>-1.0</td>\n",
       "      <td>-1.0</td>\n",
       "      <td>-1.000000</td>\n",
       "      <td>-1.0</td>\n",
       "    </tr>\n",
       "    <tr>\n",
       "      <th>last_date_event_4</th>\n",
       "      <td>40.000000</td>\n",
       "      <td>-1.0</td>\n",
       "      <td>-1.0</td>\n",
       "      <td>-1.000000</td>\n",
       "      <td>-1.0</td>\n",
       "    </tr>\n",
       "    <tr>\n",
       "      <th>last_date_event_40</th>\n",
       "      <td>40.000000</td>\n",
       "      <td>-1.0</td>\n",
       "      <td>-1.0</td>\n",
       "      <td>-1.000000</td>\n",
       "      <td>-1.0</td>\n",
       "    </tr>\n",
       "    <tr>\n",
       "      <th>last_date_event_41</th>\n",
       "      <td>40.000000</td>\n",
       "      <td>-1.0</td>\n",
       "      <td>-1.0</td>\n",
       "      <td>-1.000000</td>\n",
       "      <td>-1.0</td>\n",
       "    </tr>\n",
       "    <tr>\n",
       "      <th>last_date_event_42</th>\n",
       "      <td>40.000000</td>\n",
       "      <td>-1.0</td>\n",
       "      <td>-1.0</td>\n",
       "      <td>-1.000000</td>\n",
       "      <td>-1.0</td>\n",
       "    </tr>\n",
       "    <tr>\n",
       "      <th>last_date_event_43</th>\n",
       "      <td>-1.000000</td>\n",
       "      <td>-1.0</td>\n",
       "      <td>-1.0</td>\n",
       "      <td>-1.000000</td>\n",
       "      <td>-1.0</td>\n",
       "    </tr>\n",
       "    <tr>\n",
       "      <th>last_date_event_44</th>\n",
       "      <td>51.000000</td>\n",
       "      <td>58.0</td>\n",
       "      <td>68.0</td>\n",
       "      <td>67.000000</td>\n",
       "      <td>53.0</td>\n",
       "    </tr>\n",
       "    <tr>\n",
       "      <th>last_date_event_45</th>\n",
       "      <td>40.000000</td>\n",
       "      <td>58.0</td>\n",
       "      <td>68.0</td>\n",
       "      <td>67.000000</td>\n",
       "      <td>53.0</td>\n",
       "    </tr>\n",
       "    <tr>\n",
       "      <th>last_date_event_47</th>\n",
       "      <td>-1.000000</td>\n",
       "      <td>-1.0</td>\n",
       "      <td>-1.0</td>\n",
       "      <td>-1.000000</td>\n",
       "      <td>-1.0</td>\n",
       "    </tr>\n",
       "    <tr>\n",
       "      <th>last_date_event_48</th>\n",
       "      <td>-1.000000</td>\n",
       "      <td>-1.0</td>\n",
       "      <td>-1.0</td>\n",
       "      <td>-1.000000</td>\n",
       "      <td>-1.0</td>\n",
       "    </tr>\n",
       "    <tr>\n",
       "      <th>last_date_event_49</th>\n",
       "      <td>-1.000000</td>\n",
       "      <td>-1.0</td>\n",
       "      <td>-1.0</td>\n",
       "      <td>-1.000000</td>\n",
       "      <td>-1.0</td>\n",
       "    </tr>\n",
       "    <tr>\n",
       "      <th>last_date_event_5</th>\n",
       "      <td>40.000000</td>\n",
       "      <td>58.0</td>\n",
       "      <td>68.0</td>\n",
       "      <td>67.000000</td>\n",
       "      <td>53.0</td>\n",
       "    </tr>\n",
       "    <tr>\n",
       "      <th>last_date_event_50</th>\n",
       "      <td>-1.000000</td>\n",
       "      <td>-1.0</td>\n",
       "      <td>-1.0</td>\n",
       "      <td>-1.000000</td>\n",
       "      <td>-1.0</td>\n",
       "    </tr>\n",
       "    <tr>\n",
       "      <th>last_date_event_51</th>\n",
       "      <td>-1.000000</td>\n",
       "      <td>-1.0</td>\n",
       "      <td>-1.0</td>\n",
       "      <td>-1.000000</td>\n",
       "      <td>-1.0</td>\n",
       "    </tr>\n",
       "    <tr>\n",
       "      <th>last_date_event_52</th>\n",
       "      <td>-1.000000</td>\n",
       "      <td>-1.0</td>\n",
       "      <td>-1.0</td>\n",
       "      <td>-1.000000</td>\n",
       "      <td>-1.0</td>\n",
       "    </tr>\n",
       "    <tr>\n",
       "      <th>last_date_event_54</th>\n",
       "      <td>-1.000000</td>\n",
       "      <td>-1.0</td>\n",
       "      <td>-1.0</td>\n",
       "      <td>-1.000000</td>\n",
       "      <td>-1.0</td>\n",
       "    </tr>\n",
       "    <tr>\n",
       "      <th>last_date_event_55</th>\n",
       "      <td>-1.000000</td>\n",
       "      <td>-1.0</td>\n",
       "      <td>-1.0</td>\n",
       "      <td>-1.000000</td>\n",
       "      <td>-1.0</td>\n",
       "    </tr>\n",
       "    <tr>\n",
       "      <th>last_date_event_56</th>\n",
       "      <td>-1.000000</td>\n",
       "      <td>-1.0</td>\n",
       "      <td>-1.0</td>\n",
       "      <td>-1.000000</td>\n",
       "      <td>-1.0</td>\n",
       "    </tr>\n",
       "    <tr>\n",
       "      <th>last_date_event_57</th>\n",
       "      <td>-1.000000</td>\n",
       "      <td>-1.0</td>\n",
       "      <td>-1.0</td>\n",
       "      <td>-1.000000</td>\n",
       "      <td>-1.0</td>\n",
       "    </tr>\n",
       "    <tr>\n",
       "      <th>last_date_event_58</th>\n",
       "      <td>-1.000000</td>\n",
       "      <td>-1.0</td>\n",
       "      <td>-1.0</td>\n",
       "      <td>-1.000000</td>\n",
       "      <td>-1.0</td>\n",
       "    </tr>\n",
       "    <tr>\n",
       "      <th>last_date_event_59</th>\n",
       "      <td>-1.000000</td>\n",
       "      <td>-1.0</td>\n",
       "      <td>-1.0</td>\n",
       "      <td>-1.000000</td>\n",
       "      <td>-1.0</td>\n",
       "    </tr>\n",
       "    <tr>\n",
       "      <th>last_date_event_6</th>\n",
       "      <td>40.000000</td>\n",
       "      <td>-1.0</td>\n",
       "      <td>-1.0</td>\n",
       "      <td>67.000000</td>\n",
       "      <td>-1.0</td>\n",
       "    </tr>\n",
       "    <tr>\n",
       "      <th>last_date_event_60</th>\n",
       "      <td>-1.000000</td>\n",
       "      <td>-1.0</td>\n",
       "      <td>-1.0</td>\n",
       "      <td>-1.000000</td>\n",
       "      <td>-1.0</td>\n",
       "    </tr>\n",
       "    <tr>\n",
       "      <th>last_date_event_61</th>\n",
       "      <td>-1.000000</td>\n",
       "      <td>-1.0</td>\n",
       "      <td>-1.0</td>\n",
       "      <td>-1.000000</td>\n",
       "      <td>-1.0</td>\n",
       "    </tr>\n",
       "    <tr>\n",
       "      <th>last_date_event_62</th>\n",
       "      <td>-1.000000</td>\n",
       "      <td>-1.0</td>\n",
       "      <td>-1.0</td>\n",
       "      <td>-1.000000</td>\n",
       "      <td>-1.0</td>\n",
       "    </tr>\n",
       "    <tr>\n",
       "      <th>last_date_event_63</th>\n",
       "      <td>-1.000000</td>\n",
       "      <td>-1.0</td>\n",
       "      <td>-1.0</td>\n",
       "      <td>-1.000000</td>\n",
       "      <td>-1.0</td>\n",
       "    </tr>\n",
       "    <tr>\n",
       "      <th>last_date_event_64</th>\n",
       "      <td>-1.000000</td>\n",
       "      <td>-1.0</td>\n",
       "      <td>-1.0</td>\n",
       "      <td>-1.000000</td>\n",
       "      <td>-1.0</td>\n",
       "    </tr>\n",
       "    <tr>\n",
       "      <th>last_date_event_7</th>\n",
       "      <td>50.000000</td>\n",
       "      <td>58.0</td>\n",
       "      <td>-1.0</td>\n",
       "      <td>67.000000</td>\n",
       "      <td>-1.0</td>\n",
       "    </tr>\n",
       "    <tr>\n",
       "      <th>last_date_event_8</th>\n",
       "      <td>-1.000000</td>\n",
       "      <td>-1.0</td>\n",
       "      <td>-1.0</td>\n",
       "      <td>-1.000000</td>\n",
       "      <td>-1.0</td>\n",
       "    </tr>\n",
       "    <tr>\n",
       "      <th>last_date_event_9</th>\n",
       "      <td>-1.000000</td>\n",
       "      <td>-1.0</td>\n",
       "      <td>-1.0</td>\n",
       "      <td>-1.000000</td>\n",
       "      <td>-1.0</td>\n",
       "    </tr>\n",
       "  </tbody>\n",
       "</table>\n",
       "</div>"
      ],
      "text/plain": [
       "user_id_hash        002e447aed33ed4c51a68743cc293ef2148058b6a6239e37d013cc6dc49bdfdf  \\\n",
       "num_session                                                  3.000000                  \n",
       "last_active                                                 40.000000                  \n",
       "receive_message                                              0.000000                  \n",
       "accept_message                                               0.000000                  \n",
       "life_time_value                                              0.000000                  \n",
       "num_purchase                                                 0.000000                  \n",
       "avg_purchase                                                 0.000000                  \n",
       "num_event                                                  119.000000                  \n",
       "event_per_session                                           39.666667                  \n",
       "last_date_event_0                                           -1.000000                  \n",
       "last_date_event_1                                           40.000000                  \n",
       "last_date_event_10                                          -1.000000                  \n",
       "last_date_event_11                                          -1.000000                  \n",
       "last_date_event_14                                          51.000000                  \n",
       "last_date_event_3                                           40.000000                  \n",
       "last_date_event_32                                          -1.000000                  \n",
       "last_date_event_4                                           40.000000                  \n",
       "last_date_event_40                                          40.000000                  \n",
       "last_date_event_41                                          40.000000                  \n",
       "last_date_event_42                                          40.000000                  \n",
       "last_date_event_43                                          -1.000000                  \n",
       "last_date_event_44                                          51.000000                  \n",
       "last_date_event_45                                          40.000000                  \n",
       "last_date_event_47                                          -1.000000                  \n",
       "last_date_event_48                                          -1.000000                  \n",
       "last_date_event_49                                          -1.000000                  \n",
       "last_date_event_5                                           40.000000                  \n",
       "last_date_event_50                                          -1.000000                  \n",
       "last_date_event_51                                          -1.000000                  \n",
       "last_date_event_52                                          -1.000000                  \n",
       "last_date_event_54                                          -1.000000                  \n",
       "last_date_event_55                                          -1.000000                  \n",
       "last_date_event_56                                          -1.000000                  \n",
       "last_date_event_57                                          -1.000000                  \n",
       "last_date_event_58                                          -1.000000                  \n",
       "last_date_event_59                                          -1.000000                  \n",
       "last_date_event_6                                           40.000000                  \n",
       "last_date_event_60                                          -1.000000                  \n",
       "last_date_event_61                                          -1.000000                  \n",
       "last_date_event_62                                          -1.000000                  \n",
       "last_date_event_63                                          -1.000000                  \n",
       "last_date_event_64                                          -1.000000                  \n",
       "last_date_event_7                                           50.000000                  \n",
       "last_date_event_8                                           -1.000000                  \n",
       "last_date_event_9                                           -1.000000                  \n",
       "\n",
       "user_id_hash        005c9d79cf18efc6c8b5fa767964b1def9b8e2f8abd23f453310f60d69584a9f  \\\n",
       "num_session                                                       2.0                  \n",
       "last_active                                                      56.0                  \n",
       "receive_message                                                   0.0                  \n",
       "accept_message                                                    0.0                  \n",
       "life_time_value                                                   0.0                  \n",
       "num_purchase                                                      0.0                  \n",
       "avg_purchase                                                      0.0                  \n",
       "num_event                                                        24.0                  \n",
       "event_per_session                                                12.0                  \n",
       "last_date_event_0                                                56.0                  \n",
       "last_date_event_1                                                -1.0                  \n",
       "last_date_event_10                                               -1.0                  \n",
       "last_date_event_11                                               -1.0                  \n",
       "last_date_event_14                                               58.0                  \n",
       "last_date_event_3                                                -1.0                  \n",
       "last_date_event_32                                               -1.0                  \n",
       "last_date_event_4                                                -1.0                  \n",
       "last_date_event_40                                               -1.0                  \n",
       "last_date_event_41                                               -1.0                  \n",
       "last_date_event_42                                               -1.0                  \n",
       "last_date_event_43                                               -1.0                  \n",
       "last_date_event_44                                               58.0                  \n",
       "last_date_event_45                                               58.0                  \n",
       "last_date_event_47                                               -1.0                  \n",
       "last_date_event_48                                               -1.0                  \n",
       "last_date_event_49                                               -1.0                  \n",
       "last_date_event_5                                                58.0                  \n",
       "last_date_event_50                                               -1.0                  \n",
       "last_date_event_51                                               -1.0                  \n",
       "last_date_event_52                                               -1.0                  \n",
       "last_date_event_54                                               -1.0                  \n",
       "last_date_event_55                                               -1.0                  \n",
       "last_date_event_56                                               -1.0                  \n",
       "last_date_event_57                                               -1.0                  \n",
       "last_date_event_58                                               -1.0                  \n",
       "last_date_event_59                                               -1.0                  \n",
       "last_date_event_6                                                -1.0                  \n",
       "last_date_event_60                                               -1.0                  \n",
       "last_date_event_61                                               -1.0                  \n",
       "last_date_event_62                                               -1.0                  \n",
       "last_date_event_63                                               -1.0                  \n",
       "last_date_event_64                                               -1.0                  \n",
       "last_date_event_7                                                58.0                  \n",
       "last_date_event_8                                                -1.0                  \n",
       "last_date_event_9                                                -1.0                  \n",
       "\n",
       "user_id_hash        0061b4d30e8a9935b2ebeec954ff509b4f0cb500cd725c1aa7145841c82d907c  \\\n",
       "num_session                                                       1.0                  \n",
       "last_active                                                      68.0                  \n",
       "receive_message                                                   0.0                  \n",
       "accept_message                                                    0.0                  \n",
       "life_time_value                                                   0.0                  \n",
       "num_purchase                                                      0.0                  \n",
       "avg_purchase                                                      0.0                  \n",
       "num_event                                                        34.0                  \n",
       "event_per_session                                                34.0                  \n",
       "last_date_event_0                                                -1.0                  \n",
       "last_date_event_1                                                68.0                  \n",
       "last_date_event_10                                               -1.0                  \n",
       "last_date_event_11                                               -1.0                  \n",
       "last_date_event_14                                               68.0                  \n",
       "last_date_event_3                                                -1.0                  \n",
       "last_date_event_32                                               -1.0                  \n",
       "last_date_event_4                                                -1.0                  \n",
       "last_date_event_40                                               -1.0                  \n",
       "last_date_event_41                                               -1.0                  \n",
       "last_date_event_42                                               -1.0                  \n",
       "last_date_event_43                                               -1.0                  \n",
       "last_date_event_44                                               68.0                  \n",
       "last_date_event_45                                               68.0                  \n",
       "last_date_event_47                                               -1.0                  \n",
       "last_date_event_48                                               -1.0                  \n",
       "last_date_event_49                                               -1.0                  \n",
       "last_date_event_5                                                68.0                  \n",
       "last_date_event_50                                               -1.0                  \n",
       "last_date_event_51                                               -1.0                  \n",
       "last_date_event_52                                               -1.0                  \n",
       "last_date_event_54                                               -1.0                  \n",
       "last_date_event_55                                               -1.0                  \n",
       "last_date_event_56                                               -1.0                  \n",
       "last_date_event_57                                               -1.0                  \n",
       "last_date_event_58                                               -1.0                  \n",
       "last_date_event_59                                               -1.0                  \n",
       "last_date_event_6                                                -1.0                  \n",
       "last_date_event_60                                               -1.0                  \n",
       "last_date_event_61                                               -1.0                  \n",
       "last_date_event_62                                               -1.0                  \n",
       "last_date_event_63                                               -1.0                  \n",
       "last_date_event_64                                               -1.0                  \n",
       "last_date_event_7                                                -1.0                  \n",
       "last_date_event_8                                                -1.0                  \n",
       "last_date_event_9                                                -1.0                  \n",
       "\n",
       "user_id_hash        00fbbf507c7d3c2f259cd3329d241c29d35712e2d4699f5c6a51d5149219ecee  \\\n",
       "num_session                                                  3.000000                  \n",
       "last_active                                                 65.000000                  \n",
       "receive_message                                              0.000000                  \n",
       "accept_message                                               0.000000                  \n",
       "life_time_value                                              0.000000                  \n",
       "num_purchase                                                 0.000000                  \n",
       "avg_purchase                                                 0.000000                  \n",
       "num_event                                                   47.000000                  \n",
       "event_per_session                                           15.666667                  \n",
       "last_date_event_0                                           65.000000                  \n",
       "last_date_event_1                                           -1.000000                  \n",
       "last_date_event_10                                          -1.000000                  \n",
       "last_date_event_11                                          -1.000000                  \n",
       "last_date_event_14                                          67.000000                  \n",
       "last_date_event_3                                           -1.000000                  \n",
       "last_date_event_32                                          -1.000000                  \n",
       "last_date_event_4                                           -1.000000                  \n",
       "last_date_event_40                                          -1.000000                  \n",
       "last_date_event_41                                          -1.000000                  \n",
       "last_date_event_42                                          -1.000000                  \n",
       "last_date_event_43                                          -1.000000                  \n",
       "last_date_event_44                                          67.000000                  \n",
       "last_date_event_45                                          67.000000                  \n",
       "last_date_event_47                                          -1.000000                  \n",
       "last_date_event_48                                          -1.000000                  \n",
       "last_date_event_49                                          -1.000000                  \n",
       "last_date_event_5                                           67.000000                  \n",
       "last_date_event_50                                          -1.000000                  \n",
       "last_date_event_51                                          -1.000000                  \n",
       "last_date_event_52                                          -1.000000                  \n",
       "last_date_event_54                                          -1.000000                  \n",
       "last_date_event_55                                          -1.000000                  \n",
       "last_date_event_56                                          -1.000000                  \n",
       "last_date_event_57                                          -1.000000                  \n",
       "last_date_event_58                                          -1.000000                  \n",
       "last_date_event_59                                          -1.000000                  \n",
       "last_date_event_6                                           67.000000                  \n",
       "last_date_event_60                                          -1.000000                  \n",
       "last_date_event_61                                          -1.000000                  \n",
       "last_date_event_62                                          -1.000000                  \n",
       "last_date_event_63                                          -1.000000                  \n",
       "last_date_event_64                                          -1.000000                  \n",
       "last_date_event_7                                           67.000000                  \n",
       "last_date_event_8                                           -1.000000                  \n",
       "last_date_event_9                                           -1.000000                  \n",
       "\n",
       "user_id_hash        0107a0017873efc2dea9a9155832363ceacf6fe97bd428a73efa67b639962ac0  \n",
       "num_session                                                       1.0                 \n",
       "last_active                                                      53.0                 \n",
       "receive_message                                                   0.0                 \n",
       "accept_message                                                    0.0                 \n",
       "life_time_value                                                   0.0                 \n",
       "num_purchase                                                      0.0                 \n",
       "avg_purchase                                                      0.0                 \n",
       "num_event                                                        14.0                 \n",
       "event_per_session                                                14.0                 \n",
       "last_date_event_0                                                -1.0                 \n",
       "last_date_event_1                                                -1.0                 \n",
       "last_date_event_10                                               -1.0                 \n",
       "last_date_event_11                                               -1.0                 \n",
       "last_date_event_14                                               53.0                 \n",
       "last_date_event_3                                                -1.0                 \n",
       "last_date_event_32                                               -1.0                 \n",
       "last_date_event_4                                                -1.0                 \n",
       "last_date_event_40                                               -1.0                 \n",
       "last_date_event_41                                               -1.0                 \n",
       "last_date_event_42                                               -1.0                 \n",
       "last_date_event_43                                               -1.0                 \n",
       "last_date_event_44                                               53.0                 \n",
       "last_date_event_45                                               53.0                 \n",
       "last_date_event_47                                               -1.0                 \n",
       "last_date_event_48                                               -1.0                 \n",
       "last_date_event_49                                               -1.0                 \n",
       "last_date_event_5                                                53.0                 \n",
       "last_date_event_50                                               -1.0                 \n",
       "last_date_event_51                                               -1.0                 \n",
       "last_date_event_52                                               -1.0                 \n",
       "last_date_event_54                                               -1.0                 \n",
       "last_date_event_55                                               -1.0                 \n",
       "last_date_event_56                                               -1.0                 \n",
       "last_date_event_57                                               -1.0                 \n",
       "last_date_event_58                                               -1.0                 \n",
       "last_date_event_59                                               -1.0                 \n",
       "last_date_event_6                                                -1.0                 \n",
       "last_date_event_60                                               -1.0                 \n",
       "last_date_event_61                                               -1.0                 \n",
       "last_date_event_62                                               -1.0                 \n",
       "last_date_event_63                                               -1.0                 \n",
       "last_date_event_64                                               -1.0                 \n",
       "last_date_event_7                                                -1.0                 \n",
       "last_date_event_8                                                -1.0                 \n",
       "last_date_event_9                                                -1.0                 "
      ]
     },
     "execution_count": 74,
     "metadata": {},
     "output_type": "execute_result"
    }
   ],
   "source": [
    "df_ft.head(5).T"
   ]
  },
  {
   "cell_type": "code",
   "execution_count": 89,
   "metadata": {
    "ExecuteTime": {
     "end_time": "2019-02-23T02:05:00.681588Z",
     "start_time": "2019-02-23T02:04:59.873716Z"
    }
   },
   "outputs": [],
   "source": [
    "feather.write_dataframe(df_ft.reset_index().rename(columns={'last_date_event_8':'last_purchase'}), \n",
    "                        './Data/features_w_events.feather')"
   ]
  },
  {
   "cell_type": "markdown",
   "metadata": {},
   "source": [
    "## New features from sessions dataset"
   ]
  },
  {
   "cell_type": "markdown",
   "metadata": {},
   "source": [
    "__First we filter out sessions that are initiated by the system rather than users themselves and filter out developers__"
   ]
  },
  {
   "cell_type": "code",
   "execution_count": 2,
   "metadata": {
    "ExecuteTime": {
     "end_time": "2019-02-23T22:38:07.049773Z",
     "start_time": "2019-02-23T22:37:29.704305Z"
    }
   },
   "outputs": [],
   "source": [
    "sessions_types = {\n",
    "    \"session_id\":np.uint64,\n",
    "    \"is_session\": np.bool_,\n",
    "    \"is_developer\": np.bool_,\n",
    "    \"country\": 'category',\n",
    "    \"region\": 'category',\n",
    "    \"city\": 'category',\n",
    "    \"locale\": 'category',\n",
    "    \"start_timestamp\": str,\n",
    "    \"previous_sessions_duration\": np.uint64,\n",
    "    \"user_created_timestamp\": str,\n",
    "    \"is_user_first_session\": np.bool_,\n",
    "    \"session_index\": np.uint16,\n",
    "    \"device_id\": \"category\",\n",
    "    \"user_id_hash\": \"category\"}\n",
    "\n",
    "df_s = pd.read_csv('./Data/sessions.csv', usecols=sessions_types.keys(), dtype=sessions_types)"
   ]
  },
  {
   "cell_type": "code",
   "execution_count": 3,
   "metadata": {
    "ExecuteTime": {
     "end_time": "2019-02-23T22:38:38.959781Z",
     "start_time": "2019-02-23T22:38:38.427063Z"
    }
   },
   "outputs": [
    {
     "data": {
      "text/plain": [
       "(5167542, 14)"
      ]
     },
     "execution_count": 3,
     "metadata": {},
     "output_type": "execute_result"
    }
   ],
   "source": [
    "df_s = df_s[df_s['is_session']==True]\n",
    "df_s.shape"
   ]
  },
  {
   "cell_type": "code",
   "execution_count": 4,
   "metadata": {
    "ExecuteTime": {
     "end_time": "2019-02-23T22:38:52.346134Z",
     "start_time": "2019-02-23T22:38:51.968482Z"
    }
   },
   "outputs": [
    {
     "data": {
      "text/plain": [
       "(5165760, 14)"
      ]
     },
     "execution_count": 4,
     "metadata": {},
     "output_type": "execute_result"
    }
   ],
   "source": [
    "df_s = df_s[df_s['is_developer']==False]\n",
    "df_s.shape"
   ]
  },
  {
   "cell_type": "code",
   "execution_count": 54,
   "metadata": {
    "ExecuteTime": {
     "end_time": "2019-02-23T22:56:58.885163Z",
     "start_time": "2019-02-23T22:56:55.155369Z"
    }
   },
   "outputs": [],
   "source": [
    "# feather.write_dataframe(df_s.drop(['is_session', 'is_developer'], axis=1), './Data/sessions.feather')\n",
    "df_s = feather.read_dataframe('./Data/sessions.feather')"
   ]
  },
  {
   "cell_type": "code",
   "execution_count": 55,
   "metadata": {
    "ExecuteTime": {
     "end_time": "2019-02-23T22:57:05.976970Z",
     "start_time": "2019-02-23T22:57:01.163518Z"
    }
   },
   "outputs": [
    {
     "data": {
      "text/html": [
       "<div>\n",
       "<style scoped>\n",
       "    .dataframe tbody tr th:only-of-type {\n",
       "        vertical-align: middle;\n",
       "    }\n",
       "\n",
       "    .dataframe tbody tr th {\n",
       "        vertical-align: top;\n",
       "    }\n",
       "\n",
       "    .dataframe thead th {\n",
       "        text-align: right;\n",
       "    }\n",
       "</style>\n",
       "<table border=\"1\" class=\"dataframe\">\n",
       "  <thead>\n",
       "    <tr style=\"text-align: right;\">\n",
       "      <th></th>\n",
       "      <th>0</th>\n",
       "      <th>1</th>\n",
       "      <th>2</th>\n",
       "      <th>3</th>\n",
       "      <th>4</th>\n",
       "    </tr>\n",
       "  </thead>\n",
       "  <tbody>\n",
       "    <tr>\n",
       "      <th>session_id</th>\n",
       "      <td>5558845121177764917</td>\n",
       "      <td>2201961907282901522</td>\n",
       "      <td>18781111175537580</td>\n",
       "      <td>1477540082628742048</td>\n",
       "      <td>8184875317380844086</td>\n",
       "    </tr>\n",
       "    <tr>\n",
       "      <th>start_timestamp</th>\n",
       "      <td>1542215364580</td>\n",
       "      <td>1543712977293</td>\n",
       "      <td>1539215568666</td>\n",
       "      <td>1540120743010</td>\n",
       "      <td>1542671625528</td>\n",
       "    </tr>\n",
       "    <tr>\n",
       "      <th>previous_sessions_duration</th>\n",
       "      <td>25837591</td>\n",
       "      <td>35050130</td>\n",
       "      <td>11343848</td>\n",
       "      <td>13499724</td>\n",
       "      <td>32788010</td>\n",
       "    </tr>\n",
       "    <tr>\n",
       "      <th>user_created_timestamp</th>\n",
       "      <td>2018-10-07 01:04:49.458000+00:00</td>\n",
       "      <td>2018-10-07 01:04:49.458000+00:00</td>\n",
       "      <td>2018-10-07 01:04:49.458000+00:00</td>\n",
       "      <td>2018-10-07 01:04:49.458000+00:00</td>\n",
       "      <td>2018-10-07 01:04:49.458000+00:00</td>\n",
       "    </tr>\n",
       "    <tr>\n",
       "      <th>is_user_first_session</th>\n",
       "      <td>False</td>\n",
       "      <td>False</td>\n",
       "      <td>False</td>\n",
       "      <td>False</td>\n",
       "      <td>False</td>\n",
       "    </tr>\n",
       "    <tr>\n",
       "      <th>country</th>\n",
       "      <td>PH</td>\n",
       "      <td>PH</td>\n",
       "      <td>PH</td>\n",
       "      <td>PH</td>\n",
       "      <td>PH</td>\n",
       "    </tr>\n",
       "    <tr>\n",
       "      <th>region</th>\n",
       "      <td>00</td>\n",
       "      <td>00</td>\n",
       "      <td>00</td>\n",
       "      <td>11</td>\n",
       "      <td>00</td>\n",
       "    </tr>\n",
       "    <tr>\n",
       "      <th>city</th>\n",
       "      <td>makati</td>\n",
       "      <td>quezon city</td>\n",
       "      <td>makati</td>\n",
       "      <td>davao city</td>\n",
       "      <td>makati</td>\n",
       "    </tr>\n",
       "    <tr>\n",
       "      <th>locale</th>\n",
       "      <td>en_GB</td>\n",
       "      <td>en_GB</td>\n",
       "      <td>en_GB</td>\n",
       "      <td>en_GB</td>\n",
       "      <td>en_GB</td>\n",
       "    </tr>\n",
       "    <tr>\n",
       "      <th>session_index</th>\n",
       "      <td>30</td>\n",
       "      <td>47</td>\n",
       "      <td>10</td>\n",
       "      <td>13</td>\n",
       "      <td>41</td>\n",
       "    </tr>\n",
       "    <tr>\n",
       "      <th>device_id</th>\n",
       "      <td>546a3d98-d540-4e72-ad82-9ebd64e0839b</td>\n",
       "      <td>546a3d98-d540-4e72-ad82-9ebd64e0839b</td>\n",
       "      <td>546a3d98-d540-4e72-ad82-9ebd64e0839b</td>\n",
       "      <td>546a3d98-d540-4e72-ad82-9ebd64e0839b</td>\n",
       "      <td>546a3d98-d540-4e72-ad82-9ebd64e0839b</td>\n",
       "    </tr>\n",
       "    <tr>\n",
       "      <th>user_id_hash</th>\n",
       "      <td>9943447915df3a45fd6720a026af905b6da6b56a37701b...</td>\n",
       "      <td>9943447915df3a45fd6720a026af905b6da6b56a37701b...</td>\n",
       "      <td>9943447915df3a45fd6720a026af905b6da6b56a37701b...</td>\n",
       "      <td>9943447915df3a45fd6720a026af905b6da6b56a37701b...</td>\n",
       "      <td>9943447915df3a45fd6720a026af905b6da6b56a37701b...</td>\n",
       "    </tr>\n",
       "  </tbody>\n",
       "</table>\n",
       "</div>"
      ],
      "text/plain": [
       "                                                                            0  \\\n",
       "session_id                                                5558845121177764917   \n",
       "start_timestamp                                                 1542215364580   \n",
       "previous_sessions_duration                                           25837591   \n",
       "user_created_timestamp                       2018-10-07 01:04:49.458000+00:00   \n",
       "is_user_first_session                                                   False   \n",
       "country                                                                    PH   \n",
       "region                                                                     00   \n",
       "city                                                                   makati   \n",
       "locale                                                                  en_GB   \n",
       "session_index                                                              30   \n",
       "device_id                                546a3d98-d540-4e72-ad82-9ebd64e0839b   \n",
       "user_id_hash                9943447915df3a45fd6720a026af905b6da6b56a37701b...   \n",
       "\n",
       "                                                                            1  \\\n",
       "session_id                                                2201961907282901522   \n",
       "start_timestamp                                                 1543712977293   \n",
       "previous_sessions_duration                                           35050130   \n",
       "user_created_timestamp                       2018-10-07 01:04:49.458000+00:00   \n",
       "is_user_first_session                                                   False   \n",
       "country                                                                    PH   \n",
       "region                                                                     00   \n",
       "city                                                              quezon city   \n",
       "locale                                                                  en_GB   \n",
       "session_index                                                              47   \n",
       "device_id                                546a3d98-d540-4e72-ad82-9ebd64e0839b   \n",
       "user_id_hash                9943447915df3a45fd6720a026af905b6da6b56a37701b...   \n",
       "\n",
       "                                                                            2  \\\n",
       "session_id                                                  18781111175537580   \n",
       "start_timestamp                                                 1539215568666   \n",
       "previous_sessions_duration                                           11343848   \n",
       "user_created_timestamp                       2018-10-07 01:04:49.458000+00:00   \n",
       "is_user_first_session                                                   False   \n",
       "country                                                                    PH   \n",
       "region                                                                     00   \n",
       "city                                                                   makati   \n",
       "locale                                                                  en_GB   \n",
       "session_index                                                              10   \n",
       "device_id                                546a3d98-d540-4e72-ad82-9ebd64e0839b   \n",
       "user_id_hash                9943447915df3a45fd6720a026af905b6da6b56a37701b...   \n",
       "\n",
       "                                                                            3  \\\n",
       "session_id                                                1477540082628742048   \n",
       "start_timestamp                                                 1540120743010   \n",
       "previous_sessions_duration                                           13499724   \n",
       "user_created_timestamp                       2018-10-07 01:04:49.458000+00:00   \n",
       "is_user_first_session                                                   False   \n",
       "country                                                                    PH   \n",
       "region                                                                     11   \n",
       "city                                                               davao city   \n",
       "locale                                                                  en_GB   \n",
       "session_index                                                              13   \n",
       "device_id                                546a3d98-d540-4e72-ad82-9ebd64e0839b   \n",
       "user_id_hash                9943447915df3a45fd6720a026af905b6da6b56a37701b...   \n",
       "\n",
       "                                                                            4  \n",
       "session_id                                                8184875317380844086  \n",
       "start_timestamp                                                 1542671625528  \n",
       "previous_sessions_duration                                           32788010  \n",
       "user_created_timestamp                       2018-10-07 01:04:49.458000+00:00  \n",
       "is_user_first_session                                                   False  \n",
       "country                                                                    PH  \n",
       "region                                                                     00  \n",
       "city                                                                   makati  \n",
       "locale                                                                  en_GB  \n",
       "session_index                                                              41  \n",
       "device_id                                546a3d98-d540-4e72-ad82-9ebd64e0839b  \n",
       "user_id_hash                9943447915df3a45fd6720a026af905b6da6b56a37701b...  "
      ]
     },
     "execution_count": 55,
     "metadata": {},
     "output_type": "execute_result"
    }
   ],
   "source": [
    "df_s['user_created_timestamp'] = pd.to_datetime(df_s['user_created_timestamp'], utc=True, unit='ms')\n",
    "df_s.head(5).T"
   ]
  },
  {
   "cell_type": "code",
   "execution_count": 56,
   "metadata": {
    "ExecuteTime": {
     "end_time": "2019-02-23T22:57:10.040658Z",
     "start_time": "2019-02-23T22:57:09.522444Z"
    }
   },
   "outputs": [],
   "source": [
    "for col in 'device_id country city region locale'.split():\n",
    "    df_s[col] = df_s[col].astype('category')\n"
   ]
  },
  {
   "cell_type": "markdown",
   "metadata": {},
   "source": [
    "__Now we can start extracting features__"
   ]
  },
  {
   "cell_type": "markdown",
   "metadata": {},
   "source": [
    "### Number of devices"
   ]
  },
  {
   "cell_type": "code",
   "execution_count": 64,
   "metadata": {
    "ExecuteTime": {
     "end_time": "2019-02-23T23:11:40.938189Z",
     "start_time": "2019-02-23T23:11:40.498087Z"
    }
   },
   "outputs": [],
   "source": [
    "df_ft = feather.read_dataframe('./Data/features_w_events.feather').set_index('user_id_hash')"
   ]
  },
  {
   "cell_type": "code",
   "execution_count": 70,
   "metadata": {
    "ExecuteTime": {
     "end_time": "2019-02-23T23:17:46.249719Z",
     "start_time": "2019-02-23T23:17:43.721322Z"
    }
   },
   "outputs": [],
   "source": [
    "dev_inx = {d_id:i for i, d_id in enumerate(df_s['device_id'].unique())}\n",
    "df_s['device_id'] = df_s['device_id'].map(dev_inx)"
   ]
  },
  {
   "cell_type": "code",
   "execution_count": 73,
   "metadata": {
    "ExecuteTime": {
     "end_time": "2019-02-23T23:19:37.204142Z",
     "start_time": "2019-02-23T23:18:22.054516Z"
    }
   },
   "outputs": [
    {
     "name": "stdout",
     "output_type": "stream",
     "text": [
      "Time extracting this feature in minutes: 1.2524206519126893\n"
     ]
    }
   ],
   "source": [
    "start = time.time()\n",
    "\n",
    "num_devices = df_s.groupby('user_id_hash')['device_id'].apply(lambda x: len(x.unique()))\n",
    "\n",
    "print('Time extracting this feature in minutes: {}'.format((time.time()-start)/60))"
   ]
  },
  {
   "cell_type": "code",
   "execution_count": 75,
   "metadata": {
    "ExecuteTime": {
     "end_time": "2019-02-23T23:21:00.165922Z",
     "start_time": "2019-02-23T23:20:57.203110Z"
    }
   },
   "outputs": [],
   "source": [
    "df_ft['num_devices'] = num_devices"
   ]
  },
  {
   "cell_type": "code",
   "execution_count": 77,
   "metadata": {
    "ExecuteTime": {
     "end_time": "2019-02-23T23:21:19.682117Z",
     "start_time": "2019-02-23T23:21:19.162058Z"
    }
   },
   "outputs": [],
   "source": [
    "feather.write_dataframe(df_ft.reset_index(), './Data/features_v4.feather')"
   ]
  },
  {
   "cell_type": "code",
   "execution_count": 78,
   "metadata": {
    "ExecuteTime": {
     "end_time": "2019-02-23T23:21:47.337949Z",
     "start_time": "2019-02-23T23:21:43.512367Z"
    }
   },
   "outputs": [],
   "source": [
    "df_ft_7 = feather.read_dataframe('./Data/features_before_7_v4.feather').set_index('user_id_hash')\n",
    "df_ft_7['num_devices'] = num_devices\n",
    "feather.write_dataframe(df_ft_7.reset_index(), './Data/features_before_7_v4.feather')"
   ]
  },
  {
   "cell_type": "code",
   "execution_count": 80,
   "metadata": {
    "ExecuteTime": {
     "end_time": "2019-02-23T23:22:10.644022Z",
     "start_time": "2019-02-23T23:22:06.121823Z"
    }
   },
   "outputs": [],
   "source": [
    "df_ft_14 = feather.read_dataframe('./Data/features_before_14_v4.feather').set_index('user_id_hash')\n",
    "df_ft_14['num_devices'] = num_devices\n",
    "feather.write_dataframe(df_ft_14.reset_index(), './Data/features_before_14_v4.feather')"
   ]
  },
  {
   "cell_type": "code",
   "execution_count": 81,
   "metadata": {
    "ExecuteTime": {
     "end_time": "2019-02-23T23:22:13.835961Z",
     "start_time": "2019-02-23T23:22:13.409663Z"
    }
   },
   "outputs": [
    {
     "data": {
      "text/html": [
       "<div>\n",
       "<style scoped>\n",
       "    .dataframe tbody tr th:only-of-type {\n",
       "        vertical-align: middle;\n",
       "    }\n",
       "\n",
       "    .dataframe tbody tr th {\n",
       "        vertical-align: top;\n",
       "    }\n",
       "\n",
       "    .dataframe thead th {\n",
       "        text-align: right;\n",
       "    }\n",
       "</style>\n",
       "<table border=\"1\" class=\"dataframe\">\n",
       "  <thead>\n",
       "    <tr style=\"text-align: right;\">\n",
       "      <th></th>\n",
       "      <th>user_id_hash</th>\n",
       "      <th>num_session</th>\n",
       "      <th>last_active</th>\n",
       "      <th>receive_message</th>\n",
       "      <th>accept_message</th>\n",
       "      <th>life_time_value</th>\n",
       "      <th>num_purchase</th>\n",
       "      <th>avg_purchase</th>\n",
       "      <th>num_event</th>\n",
       "      <th>event_per_session</th>\n",
       "      <th>...</th>\n",
       "      <th>last_date_event_59</th>\n",
       "      <th>last_date_event_6</th>\n",
       "      <th>last_date_event_60</th>\n",
       "      <th>last_date_event_61</th>\n",
       "      <th>last_date_event_63</th>\n",
       "      <th>last_date_event_64</th>\n",
       "      <th>last_date_event_7</th>\n",
       "      <th>last_purchase</th>\n",
       "      <th>last_date_event_9</th>\n",
       "      <th>num_devices</th>\n",
       "    </tr>\n",
       "  </thead>\n",
       "  <tbody>\n",
       "    <tr>\n",
       "      <th>0</th>\n",
       "      <td>002e447aed33ed4c51a68743cc293ef2148058b6a6239e...</td>\n",
       "      <td>3</td>\n",
       "      <td>26</td>\n",
       "      <td>0</td>\n",
       "      <td>0</td>\n",
       "      <td>0.0</td>\n",
       "      <td>0</td>\n",
       "      <td>0.0</td>\n",
       "      <td>119</td>\n",
       "      <td>39.666667</td>\n",
       "      <td>...</td>\n",
       "      <td>-1.0</td>\n",
       "      <td>26.0</td>\n",
       "      <td>-1.0</td>\n",
       "      <td>-1.0</td>\n",
       "      <td>-1.0</td>\n",
       "      <td>-1.0</td>\n",
       "      <td>36.0</td>\n",
       "      <td>-1.0</td>\n",
       "      <td>-1.0</td>\n",
       "      <td>1</td>\n",
       "    </tr>\n",
       "    <tr>\n",
       "      <th>1</th>\n",
       "      <td>005c9d79cf18efc6c8b5fa767964b1def9b8e2f8abd23f...</td>\n",
       "      <td>2</td>\n",
       "      <td>42</td>\n",
       "      <td>0</td>\n",
       "      <td>0</td>\n",
       "      <td>0.0</td>\n",
       "      <td>0</td>\n",
       "      <td>0.0</td>\n",
       "      <td>24</td>\n",
       "      <td>12.000000</td>\n",
       "      <td>...</td>\n",
       "      <td>-1.0</td>\n",
       "      <td>-1.0</td>\n",
       "      <td>-1.0</td>\n",
       "      <td>-1.0</td>\n",
       "      <td>-1.0</td>\n",
       "      <td>-1.0</td>\n",
       "      <td>44.0</td>\n",
       "      <td>-1.0</td>\n",
       "      <td>-1.0</td>\n",
       "      <td>1</td>\n",
       "    </tr>\n",
       "    <tr>\n",
       "      <th>2</th>\n",
       "      <td>0061b4d30e8a9935b2ebeec954ff509b4f0cb500cd725c...</td>\n",
       "      <td>1</td>\n",
       "      <td>54</td>\n",
       "      <td>0</td>\n",
       "      <td>0</td>\n",
       "      <td>0.0</td>\n",
       "      <td>0</td>\n",
       "      <td>0.0</td>\n",
       "      <td>34</td>\n",
       "      <td>34.000000</td>\n",
       "      <td>...</td>\n",
       "      <td>-1.0</td>\n",
       "      <td>-1.0</td>\n",
       "      <td>-1.0</td>\n",
       "      <td>-1.0</td>\n",
       "      <td>-1.0</td>\n",
       "      <td>-1.0</td>\n",
       "      <td>-1.0</td>\n",
       "      <td>-1.0</td>\n",
       "      <td>-1.0</td>\n",
       "      <td>1</td>\n",
       "    </tr>\n",
       "    <tr>\n",
       "      <th>3</th>\n",
       "      <td>00fbbf507c7d3c2f259cd3329d241c29d35712e2d4699f...</td>\n",
       "      <td>3</td>\n",
       "      <td>51</td>\n",
       "      <td>0</td>\n",
       "      <td>0</td>\n",
       "      <td>0.0</td>\n",
       "      <td>0</td>\n",
       "      <td>0.0</td>\n",
       "      <td>47</td>\n",
       "      <td>15.666667</td>\n",
       "      <td>...</td>\n",
       "      <td>-1.0</td>\n",
       "      <td>53.0</td>\n",
       "      <td>-1.0</td>\n",
       "      <td>-1.0</td>\n",
       "      <td>-1.0</td>\n",
       "      <td>-1.0</td>\n",
       "      <td>53.0</td>\n",
       "      <td>-1.0</td>\n",
       "      <td>-1.0</td>\n",
       "      <td>1</td>\n",
       "    </tr>\n",
       "    <tr>\n",
       "      <th>4</th>\n",
       "      <td>0107a0017873efc2dea9a9155832363ceacf6fe97bd428...</td>\n",
       "      <td>1</td>\n",
       "      <td>39</td>\n",
       "      <td>0</td>\n",
       "      <td>0</td>\n",
       "      <td>0.0</td>\n",
       "      <td>0</td>\n",
       "      <td>0.0</td>\n",
       "      <td>14</td>\n",
       "      <td>14.000000</td>\n",
       "      <td>...</td>\n",
       "      <td>-1.0</td>\n",
       "      <td>-1.0</td>\n",
       "      <td>-1.0</td>\n",
       "      <td>-1.0</td>\n",
       "      <td>-1.0</td>\n",
       "      <td>-1.0</td>\n",
       "      <td>-1.0</td>\n",
       "      <td>-1.0</td>\n",
       "      <td>-1.0</td>\n",
       "      <td>1</td>\n",
       "    </tr>\n",
       "  </tbody>\n",
       "</table>\n",
       "<p>5 rows × 46 columns</p>\n",
       "</div>"
      ],
      "text/plain": [
       "                                        user_id_hash  num_session  \\\n",
       "0  002e447aed33ed4c51a68743cc293ef2148058b6a6239e...            3   \n",
       "1  005c9d79cf18efc6c8b5fa767964b1def9b8e2f8abd23f...            2   \n",
       "2  0061b4d30e8a9935b2ebeec954ff509b4f0cb500cd725c...            1   \n",
       "3  00fbbf507c7d3c2f259cd3329d241c29d35712e2d4699f...            3   \n",
       "4  0107a0017873efc2dea9a9155832363ceacf6fe97bd428...            1   \n",
       "\n",
       "   last_active  receive_message  accept_message  life_time_value  \\\n",
       "0           26                0               0              0.0   \n",
       "1           42                0               0              0.0   \n",
       "2           54                0               0              0.0   \n",
       "3           51                0               0              0.0   \n",
       "4           39                0               0              0.0   \n",
       "\n",
       "   num_purchase  avg_purchase  num_event  event_per_session     ...       \\\n",
       "0             0           0.0        119          39.666667     ...        \n",
       "1             0           0.0         24          12.000000     ...        \n",
       "2             0           0.0         34          34.000000     ...        \n",
       "3             0           0.0         47          15.666667     ...        \n",
       "4             0           0.0         14          14.000000     ...        \n",
       "\n",
       "   last_date_event_59  last_date_event_6  last_date_event_60  \\\n",
       "0                -1.0               26.0                -1.0   \n",
       "1                -1.0               -1.0                -1.0   \n",
       "2                -1.0               -1.0                -1.0   \n",
       "3                -1.0               53.0                -1.0   \n",
       "4                -1.0               -1.0                -1.0   \n",
       "\n",
       "   last_date_event_61  last_date_event_63  last_date_event_64  \\\n",
       "0                -1.0                -1.0                -1.0   \n",
       "1                -1.0                -1.0                -1.0   \n",
       "2                -1.0                -1.0                -1.0   \n",
       "3                -1.0                -1.0                -1.0   \n",
       "4                -1.0                -1.0                -1.0   \n",
       "\n",
       "   last_date_event_7  last_purchase  last_date_event_9  num_devices  \n",
       "0               36.0           -1.0               -1.0            1  \n",
       "1               44.0           -1.0               -1.0            1  \n",
       "2               -1.0           -1.0               -1.0            1  \n",
       "3               53.0           -1.0               -1.0            1  \n",
       "4               -1.0           -1.0               -1.0            1  \n",
       "\n",
       "[5 rows x 46 columns]"
      ]
     },
     "execution_count": 81,
     "metadata": {},
     "output_type": "execute_result"
    }
   ],
   "source": [
    "t = feather.read_dataframe('./Data/features_before_14_v4.feather')\n",
    "t.head()"
   ]
  },
  {
   "cell_type": "markdown",
   "metadata": {},
   "source": [
    "### App age"
   ]
  },
  {
   "cell_type": "code",
   "execution_count": 126,
   "metadata": {
    "ExecuteTime": {
     "end_time": "2019-02-23T23:55:57.210205Z",
     "start_time": "2019-02-23T23:55:57.203614Z"
    }
   },
   "outputs": [
    {
     "data": {
      "text/plain": [
       "Timestamp('2018-12-14 23:59:59.977000+0000', tz='UTC')"
      ]
     },
     "execution_count": 126,
     "metadata": {},
     "output_type": "execute_result"
    }
   ],
   "source": [
    "cutoff_all = pd.to_datetime('2018-12-14 23:59:59.977000+00:00', utc=True)\n",
    "cutoff_all#, cutoff_7, cutoff_14"
   ]
  },
  {
   "cell_type": "code",
   "execution_count": 127,
   "metadata": {
    "ExecuteTime": {
     "end_time": "2019-02-23T23:55:57.813784Z",
     "start_time": "2019-02-23T23:55:57.807429Z"
    }
   },
   "outputs": [],
   "source": [
    "df_app_age = pd.DataFrame()"
   ]
  },
  {
   "cell_type": "code",
   "execution_count": 128,
   "metadata": {
    "ExecuteTime": {
     "end_time": "2019-02-23T23:57:24.656771Z",
     "start_time": "2019-02-23T23:56:02.070033Z"
    }
   },
   "outputs": [
    {
     "name": "stdout",
     "output_type": "stream",
     "text": [
      "Time extracting this feature in minutes: 1.376366416613261\n"
     ]
    }
   ],
   "source": [
    "start = time.time()\n",
    "\n",
    "df_app_age['app_age_all'] = df_s.groupby('user_id_hash')['user_created_timestamp'].apply(lambda x: (cutoff_all-x.max()).days)\n",
    "\n",
    "print('Time extracting this feature in minutes: {}'.format((time.time()-start)/60))"
   ]
  },
  {
   "cell_type": "code",
   "execution_count": 129,
   "metadata": {
    "ExecuteTime": {
     "end_time": "2019-02-23T23:57:24.708777Z",
     "start_time": "2019-02-23T23:57:24.659419Z"
    }
   },
   "outputs": [],
   "source": [
    "df_app_age['app_age_before_14'] = df_app_age['app_age_all'] - 14\n",
    "df_app_age['app_age_before_7'] = df_app_age['app_age_all'] - 7"
   ]
  },
  {
   "cell_type": "markdown",
   "metadata": {},
   "source": [
    "Note that in sessions table, we have fewer users than in events table. So there will be NaN in our features."
   ]
  },
  {
   "cell_type": "code",
   "execution_count": 141,
   "metadata": {
    "ExecuteTime": {
     "end_time": "2019-02-24T00:01:05.544238Z",
     "start_time": "2019-02-24T00:01:04.931243Z"
    }
   },
   "outputs": [
    {
     "name": "stdout",
     "output_type": "stream",
     "text": [
      "Number of users in sessions table: 619519\n"
     ]
    }
   ],
   "source": [
    "print(\"Number of users in sessions table: %s\" %len(df_s.user_id_hash.unique()))"
   ]
  },
  {
   "cell_type": "code",
   "execution_count": 143,
   "metadata": {
    "ExecuteTime": {
     "end_time": "2019-02-24T00:01:36.202515Z",
     "start_time": "2019-02-24T00:01:36.198676Z"
    }
   },
   "outputs": [
    {
     "name": "stdout",
     "output_type": "stream",
     "text": [
      "Number of users in events table: 621001\n"
     ]
    }
   ],
   "source": [
    "print(\"Number of users in events table: %s\" %df_ft.shape[0])"
   ]
  },
  {
   "cell_type": "markdown",
   "metadata": {},
   "source": [
    "What to impute? Based on the distribution of app_age below, it is reasonable to impute with mean."
   ]
  },
  {
   "cell_type": "code",
   "execution_count": 149,
   "metadata": {
    "ExecuteTime": {
     "end_time": "2019-02-24T00:03:10.665323Z",
     "start_time": "2019-02-24T00:03:10.662137Z"
    }
   },
   "outputs": [],
   "source": [
    "import matplotlib.pyplot as plt\n",
    "import seaborn as sns"
   ]
  },
  {
   "cell_type": "code",
   "execution_count": 150,
   "metadata": {
    "ExecuteTime": {
     "end_time": "2019-02-24T00:03:27.185418Z",
     "start_time": "2019-02-24T00:03:26.870061Z"
    },
    "scrolled": true
   },
   "outputs": [
    {
     "data": {
      "text/plain": [
       "<matplotlib.axes._subplots.AxesSubplot at 0x12c93e978>"
      ]
     },
     "execution_count": 150,
     "metadata": {},
     "output_type": "execute_result"
    },
    {
     "data": {
      "image/png": "[encoded data removed]",
      "text/plain": [
       "<Figure size 432x288 with 1 Axes>"
      ]
     },
     "metadata": {
      "needs_background": "light"
     },
     "output_type": "display_data"
    }
   ],
   "source": [
    "df_app_age.app_age_all.plot(kind='hist')"
   ]
  },
  {
   "cell_type": "code",
   "execution_count": 154,
   "metadata": {
    "ExecuteTime": {
     "end_time": "2019-02-24T00:07:28.044440Z",
     "start_time": "2019-02-24T00:07:27.869684Z"
    }
   },
   "outputs": [
    {
     "data": {
      "text/html": [
       "<div>\n",
       "<style scoped>\n",
       "    .dataframe tbody tr th:only-of-type {\n",
       "        vertical-align: middle;\n",
       "    }\n",
       "\n",
       "    .dataframe tbody tr th {\n",
       "        vertical-align: top;\n",
       "    }\n",
       "\n",
       "    .dataframe thead th {\n",
       "        text-align: right;\n",
       "    }\n",
       "</style>\n",
       "<table border=\"1\" class=\"dataframe\">\n",
       "  <thead>\n",
       "    <tr style=\"text-align: right;\">\n",
       "      <th></th>\n",
       "      <th>app_age_all</th>\n",
       "      <th>app_age_before_14</th>\n",
       "      <th>app_age_before_7</th>\n",
       "    </tr>\n",
       "    <tr>\n",
       "      <th>user_id_hash</th>\n",
       "      <th></th>\n",
       "      <th></th>\n",
       "      <th></th>\n",
       "    </tr>\n",
       "  </thead>\n",
       "  <tbody>\n",
       "    <tr>\n",
       "      <th>0013ae7e9f73194aeb0d350f1de1f441625825efe403c4c7d0a93c304fbf206f</th>\n",
       "      <td>57.0</td>\n",
       "      <td>43.0</td>\n",
       "      <td>50.0</td>\n",
       "    </tr>\n",
       "    <tr>\n",
       "      <th>0025a6c398e0ec7c471342188141853877f94a76b5127031cc673627dfa921de</th>\n",
       "      <td>70.0</td>\n",
       "      <td>56.0</td>\n",
       "      <td>63.0</td>\n",
       "    </tr>\n",
       "    <tr>\n",
       "      <th>002e3b6443aef897fc35486e072c5781d087943cdb9dff9fbe4eb39d525cc061</th>\n",
       "      <td>47.0</td>\n",
       "      <td>33.0</td>\n",
       "      <td>40.0</td>\n",
       "    </tr>\n",
       "    <tr>\n",
       "      <th>002e447aed33ed4c51a68743cc293ef2148058b6a6239e37d013cc6dc49bdfdf</th>\n",
       "      <td>51.0</td>\n",
       "      <td>37.0</td>\n",
       "      <td>44.0</td>\n",
       "    </tr>\n",
       "    <tr>\n",
       "      <th>005c9d79cf18efc6c8b5fa767964b1def9b8e2f8abd23f453310f60d69584a9f</th>\n",
       "      <td>58.0</td>\n",
       "      <td>44.0</td>\n",
       "      <td>51.0</td>\n",
       "    </tr>\n",
       "  </tbody>\n",
       "</table>\n",
       "</div>"
      ],
      "text/plain": [
       "                                                    app_age_all  \\\n",
       "user_id_hash                                                      \n",
       "0013ae7e9f73194aeb0d350f1de1f441625825efe403c4c...         57.0   \n",
       "0025a6c398e0ec7c471342188141853877f94a76b512703...         70.0   \n",
       "002e3b6443aef897fc35486e072c5781d087943cdb9dff9...         47.0   \n",
       "002e447aed33ed4c51a68743cc293ef2148058b6a6239e3...         51.0   \n",
       "005c9d79cf18efc6c8b5fa767964b1def9b8e2f8abd23f4...         58.0   \n",
       "\n",
       "                                                    app_age_before_14  \\\n",
       "user_id_hash                                                            \n",
       "0013ae7e9f73194aeb0d350f1de1f441625825efe403c4c...               43.0   \n",
       "0025a6c398e0ec7c471342188141853877f94a76b512703...               56.0   \n",
       "002e3b6443aef897fc35486e072c5781d087943cdb9dff9...               33.0   \n",
       "002e447aed33ed4c51a68743cc293ef2148058b6a6239e3...               37.0   \n",
       "005c9d79cf18efc6c8b5fa767964b1def9b8e2f8abd23f4...               44.0   \n",
       "\n",
       "                                                    app_age_before_7  \n",
       "user_id_hash                                                          \n",
       "0013ae7e9f73194aeb0d350f1de1f441625825efe403c4c...              50.0  \n",
       "0025a6c398e0ec7c471342188141853877f94a76b512703...              63.0  \n",
       "002e3b6443aef897fc35486e072c5781d087943cdb9dff9...              40.0  \n",
       "002e447aed33ed4c51a68743cc293ef2148058b6a6239e3...              44.0  \n",
       "005c9d79cf18efc6c8b5fa767964b1def9b8e2f8abd23f4...              51.0  "
      ]
     },
     "execution_count": 154,
     "metadata": {},
     "output_type": "execute_result"
    }
   ],
   "source": [
    "df_app_age.head()"
   ]
  },
  {
   "cell_type": "code",
   "execution_count": 151,
   "metadata": {
    "ExecuteTime": {
     "end_time": "2019-02-24T00:06:26.536344Z",
     "start_time": "2019-02-24T00:06:25.236262Z"
    }
   },
   "outputs": [],
   "source": [
    "df_ft_a = feather.read_dataframe('./Data/features_v4.feather').set_index('user_id_hash')\n",
    "df_ft_7 = feather.read_dataframe('./Data/features_before_7_v4.feather').set_index('user_id_hash')\n",
    "df_ft_14 = feather.read_dataframe('./Data/features_before_14_v4.feather').set_index('user_id_hash')"
   ]
  },
  {
   "cell_type": "code",
   "execution_count": 155,
   "metadata": {
    "ExecuteTime": {
     "end_time": "2019-02-24T00:08:34.257160Z",
     "start_time": "2019-02-24T00:08:31.063012Z"
    }
   },
   "outputs": [],
   "source": [
    "df_ft_a['app_age'] = df_app_age['app_age_all']\n",
    "df_ft_a['app_age'].fillna(df_app_age['app_age_all'].mean(), inplace=True)"
   ]
  },
  {
   "cell_type": "code",
   "execution_count": 156,
   "metadata": {
    "ExecuteTime": {
     "end_time": "2019-02-24T00:08:56.002912Z",
     "start_time": "2019-02-24T00:08:52.813589Z"
    }
   },
   "outputs": [],
   "source": [
    "df_ft_7['app_age'] = df_app_age['app_age_before_7']\n",
    "df_ft_7['app_age'].fillna(df_app_age['app_age_before_7'].mean(), inplace=True)"
   ]
  },
  {
   "cell_type": "code",
   "execution_count": 157,
   "metadata": {
    "ExecuteTime": {
     "end_time": "2019-02-24T00:09:15.529084Z",
     "start_time": "2019-02-24T00:09:12.322122Z"
    }
   },
   "outputs": [],
   "source": [
    "df_ft_14['app_age'] = df_app_age['app_age_before_14']\n",
    "df_ft_14['app_age'].fillna(df_app_age['app_age_before_14'].mean(), inplace=True)"
   ]
  },
  {
   "cell_type": "code",
   "execution_count": 160,
   "metadata": {
    "ExecuteTime": {
     "end_time": "2019-02-24T00:09:33.789193Z",
     "start_time": "2019-02-24T00:09:33.761231Z"
    }
   },
   "outputs": [
    {
     "data": {
      "text/html": [
       "<div>\n",
       "<style scoped>\n",
       "    .dataframe tbody tr th:only-of-type {\n",
       "        vertical-align: middle;\n",
       "    }\n",
       "\n",
       "    .dataframe tbody tr th {\n",
       "        vertical-align: top;\n",
       "    }\n",
       "\n",
       "    .dataframe thead th {\n",
       "        text-align: right;\n",
       "    }\n",
       "</style>\n",
       "<table border=\"1\" class=\"dataframe\">\n",
       "  <thead>\n",
       "    <tr style=\"text-align: right;\">\n",
       "      <th></th>\n",
       "      <th>num_session</th>\n",
       "      <th>last_active</th>\n",
       "      <th>receive_message</th>\n",
       "      <th>accept_message</th>\n",
       "      <th>life_time_value</th>\n",
       "      <th>num_purchase</th>\n",
       "      <th>avg_purchase</th>\n",
       "      <th>num_event</th>\n",
       "      <th>event_per_session</th>\n",
       "      <th>did_purchase_binary</th>\n",
       "      <th>...</th>\n",
       "      <th>last_date_event_6</th>\n",
       "      <th>last_date_event_60</th>\n",
       "      <th>last_date_event_61</th>\n",
       "      <th>last_date_event_62</th>\n",
       "      <th>last_date_event_63</th>\n",
       "      <th>last_date_event_64</th>\n",
       "      <th>last_date_event_7</th>\n",
       "      <th>last_date_event_9</th>\n",
       "      <th>num_devices</th>\n",
       "      <th>app_age</th>\n",
       "    </tr>\n",
       "    <tr>\n",
       "      <th>user_id_hash</th>\n",
       "      <th></th>\n",
       "      <th></th>\n",
       "      <th></th>\n",
       "      <th></th>\n",
       "      <th></th>\n",
       "      <th></th>\n",
       "      <th></th>\n",
       "      <th></th>\n",
       "      <th></th>\n",
       "      <th></th>\n",
       "      <th></th>\n",
       "      <th></th>\n",
       "      <th></th>\n",
       "      <th></th>\n",
       "      <th></th>\n",
       "      <th></th>\n",
       "      <th></th>\n",
       "      <th></th>\n",
       "      <th></th>\n",
       "      <th></th>\n",
       "      <th></th>\n",
       "    </tr>\n",
       "  </thead>\n",
       "  <tbody>\n",
       "    <tr>\n",
       "      <th>002e447aed33ed4c51a68743cc293ef2148058b6a6239e37d013cc6dc49bdfdf</th>\n",
       "      <td>3</td>\n",
       "      <td>33.0</td>\n",
       "      <td>0</td>\n",
       "      <td>0</td>\n",
       "      <td>0.0</td>\n",
       "      <td>0</td>\n",
       "      <td>0.0</td>\n",
       "      <td>119</td>\n",
       "      <td>39.666667</td>\n",
       "      <td>0.0</td>\n",
       "      <td>...</td>\n",
       "      <td>33.0</td>\n",
       "      <td>-1.0</td>\n",
       "      <td>-1.0</td>\n",
       "      <td>-1.0</td>\n",
       "      <td>-1.0</td>\n",
       "      <td>-1.0</td>\n",
       "      <td>43.0</td>\n",
       "      <td>-1.0</td>\n",
       "      <td>1</td>\n",
       "      <td>44.0</td>\n",
       "    </tr>\n",
       "    <tr>\n",
       "      <th>005c9d79cf18efc6c8b5fa767964b1def9b8e2f8abd23f453310f60d69584a9f</th>\n",
       "      <td>2</td>\n",
       "      <td>49.0</td>\n",
       "      <td>0</td>\n",
       "      <td>0</td>\n",
       "      <td>0.0</td>\n",
       "      <td>0</td>\n",
       "      <td>0.0</td>\n",
       "      <td>24</td>\n",
       "      <td>12.000000</td>\n",
       "      <td>0.0</td>\n",
       "      <td>...</td>\n",
       "      <td>-1.0</td>\n",
       "      <td>-1.0</td>\n",
       "      <td>-1.0</td>\n",
       "      <td>-1.0</td>\n",
       "      <td>-1.0</td>\n",
       "      <td>-1.0</td>\n",
       "      <td>51.0</td>\n",
       "      <td>-1.0</td>\n",
       "      <td>1</td>\n",
       "      <td>51.0</td>\n",
       "    </tr>\n",
       "    <tr>\n",
       "      <th>0061b4d30e8a9935b2ebeec954ff509b4f0cb500cd725c1aa7145841c82d907c</th>\n",
       "      <td>1</td>\n",
       "      <td>61.0</td>\n",
       "      <td>0</td>\n",
       "      <td>0</td>\n",
       "      <td>0.0</td>\n",
       "      <td>0</td>\n",
       "      <td>0.0</td>\n",
       "      <td>34</td>\n",
       "      <td>34.000000</td>\n",
       "      <td>0.0</td>\n",
       "      <td>...</td>\n",
       "      <td>-1.0</td>\n",
       "      <td>-1.0</td>\n",
       "      <td>-1.0</td>\n",
       "      <td>-1.0</td>\n",
       "      <td>-1.0</td>\n",
       "      <td>-1.0</td>\n",
       "      <td>-1.0</td>\n",
       "      <td>-1.0</td>\n",
       "      <td>1</td>\n",
       "      <td>61.0</td>\n",
       "    </tr>\n",
       "    <tr>\n",
       "      <th>00fbbf507c7d3c2f259cd3329d241c29d35712e2d4699f5c6a51d5149219ecee</th>\n",
       "      <td>3</td>\n",
       "      <td>58.0</td>\n",
       "      <td>0</td>\n",
       "      <td>0</td>\n",
       "      <td>0.0</td>\n",
       "      <td>0</td>\n",
       "      <td>0.0</td>\n",
       "      <td>47</td>\n",
       "      <td>15.666667</td>\n",
       "      <td>0.0</td>\n",
       "      <td>...</td>\n",
       "      <td>60.0</td>\n",
       "      <td>-1.0</td>\n",
       "      <td>-1.0</td>\n",
       "      <td>-1.0</td>\n",
       "      <td>-1.0</td>\n",
       "      <td>-1.0</td>\n",
       "      <td>60.0</td>\n",
       "      <td>-1.0</td>\n",
       "      <td>1</td>\n",
       "      <td>60.0</td>\n",
       "    </tr>\n",
       "    <tr>\n",
       "      <th>0107a0017873efc2dea9a9155832363ceacf6fe97bd428a73efa67b639962ac0</th>\n",
       "      <td>1</td>\n",
       "      <td>46.0</td>\n",
       "      <td>0</td>\n",
       "      <td>0</td>\n",
       "      <td>0.0</td>\n",
       "      <td>0</td>\n",
       "      <td>0.0</td>\n",
       "      <td>14</td>\n",
       "      <td>14.000000</td>\n",
       "      <td>0.0</td>\n",
       "      <td>...</td>\n",
       "      <td>-1.0</td>\n",
       "      <td>-1.0</td>\n",
       "      <td>-1.0</td>\n",
       "      <td>-1.0</td>\n",
       "      <td>-1.0</td>\n",
       "      <td>-1.0</td>\n",
       "      <td>-1.0</td>\n",
       "      <td>-1.0</td>\n",
       "      <td>1</td>\n",
       "      <td>46.0</td>\n",
       "    </tr>\n",
       "  </tbody>\n",
       "</table>\n",
       "<p>5 rows × 48 columns</p>\n",
       "</div>"
      ],
      "text/plain": [
       "                                                    num_session  last_active  \\\n",
       "user_id_hash                                                                   \n",
       "002e447aed33ed4c51a68743cc293ef2148058b6a6239e3...            3         33.0   \n",
       "005c9d79cf18efc6c8b5fa767964b1def9b8e2f8abd23f4...            2         49.0   \n",
       "0061b4d30e8a9935b2ebeec954ff509b4f0cb500cd725c1...            1         61.0   \n",
       "00fbbf507c7d3c2f259cd3329d241c29d35712e2d4699f5...            3         58.0   \n",
       "0107a0017873efc2dea9a9155832363ceacf6fe97bd428a...            1         46.0   \n",
       "\n",
       "                                                    receive_message  \\\n",
       "user_id_hash                                                          \n",
       "002e447aed33ed4c51a68743cc293ef2148058b6a6239e3...                0   \n",
       "005c9d79cf18efc6c8b5fa767964b1def9b8e2f8abd23f4...                0   \n",
       "0061b4d30e8a9935b2ebeec954ff509b4f0cb500cd725c1...                0   \n",
       "00fbbf507c7d3c2f259cd3329d241c29d35712e2d4699f5...                0   \n",
       "0107a0017873efc2dea9a9155832363ceacf6fe97bd428a...                0   \n",
       "\n",
       "                                                    accept_message  \\\n",
       "user_id_hash                                                         \n",
       "002e447aed33ed4c51a68743cc293ef2148058b6a6239e3...               0   \n",
       "005c9d79cf18efc6c8b5fa767964b1def9b8e2f8abd23f4...               0   \n",
       "0061b4d30e8a9935b2ebeec954ff509b4f0cb500cd725c1...               0   \n",
       "00fbbf507c7d3c2f259cd3329d241c29d35712e2d4699f5...               0   \n",
       "0107a0017873efc2dea9a9155832363ceacf6fe97bd428a...               0   \n",
       "\n",
       "                                                    life_time_value  \\\n",
       "user_id_hash                                                          \n",
       "002e447aed33ed4c51a68743cc293ef2148058b6a6239e3...              0.0   \n",
       "005c9d79cf18efc6c8b5fa767964b1def9b8e2f8abd23f4...              0.0   \n",
       "0061b4d30e8a9935b2ebeec954ff509b4f0cb500cd725c1...              0.0   \n",
       "00fbbf507c7d3c2f259cd3329d241c29d35712e2d4699f5...              0.0   \n",
       "0107a0017873efc2dea9a9155832363ceacf6fe97bd428a...              0.0   \n",
       "\n",
       "                                                    num_purchase  \\\n",
       "user_id_hash                                                       \n",
       "002e447aed33ed4c51a68743cc293ef2148058b6a6239e3...             0   \n",
       "005c9d79cf18efc6c8b5fa767964b1def9b8e2f8abd23f4...             0   \n",
       "0061b4d30e8a9935b2ebeec954ff509b4f0cb500cd725c1...             0   \n",
       "00fbbf507c7d3c2f259cd3329d241c29d35712e2d4699f5...             0   \n",
       "0107a0017873efc2dea9a9155832363ceacf6fe97bd428a...             0   \n",
       "\n",
       "                                                    avg_purchase  num_event  \\\n",
       "user_id_hash                                                                  \n",
       "002e447aed33ed4c51a68743cc293ef2148058b6a6239e3...           0.0        119   \n",
       "005c9d79cf18efc6c8b5fa767964b1def9b8e2f8abd23f4...           0.0         24   \n",
       "0061b4d30e8a9935b2ebeec954ff509b4f0cb500cd725c1...           0.0         34   \n",
       "00fbbf507c7d3c2f259cd3329d241c29d35712e2d4699f5...           0.0         47   \n",
       "0107a0017873efc2dea9a9155832363ceacf6fe97bd428a...           0.0         14   \n",
       "\n",
       "                                                    event_per_session  \\\n",
       "user_id_hash                                                            \n",
       "002e447aed33ed4c51a68743cc293ef2148058b6a6239e3...          39.666667   \n",
       "005c9d79cf18efc6c8b5fa767964b1def9b8e2f8abd23f4...          12.000000   \n",
       "0061b4d30e8a9935b2ebeec954ff509b4f0cb500cd725c1...          34.000000   \n",
       "00fbbf507c7d3c2f259cd3329d241c29d35712e2d4699f5...          15.666667   \n",
       "0107a0017873efc2dea9a9155832363ceacf6fe97bd428a...          14.000000   \n",
       "\n",
       "                                                    did_purchase_binary  \\\n",
       "user_id_hash                                                              \n",
       "002e447aed33ed4c51a68743cc293ef2148058b6a6239e3...                  0.0   \n",
       "005c9d79cf18efc6c8b5fa767964b1def9b8e2f8abd23f4...                  0.0   \n",
       "0061b4d30e8a9935b2ebeec954ff509b4f0cb500cd725c1...                  0.0   \n",
       "00fbbf507c7d3c2f259cd3329d241c29d35712e2d4699f5...                  0.0   \n",
       "0107a0017873efc2dea9a9155832363ceacf6fe97bd428a...                  0.0   \n",
       "\n",
       "                                                     ...     \\\n",
       "user_id_hash                                         ...      \n",
       "002e447aed33ed4c51a68743cc293ef2148058b6a6239e3...   ...      \n",
       "005c9d79cf18efc6c8b5fa767964b1def9b8e2f8abd23f4...   ...      \n",
       "0061b4d30e8a9935b2ebeec954ff509b4f0cb500cd725c1...   ...      \n",
       "00fbbf507c7d3c2f259cd3329d241c29d35712e2d4699f5...   ...      \n",
       "0107a0017873efc2dea9a9155832363ceacf6fe97bd428a...   ...      \n",
       "\n",
       "                                                    last_date_event_6  \\\n",
       "user_id_hash                                                            \n",
       "002e447aed33ed4c51a68743cc293ef2148058b6a6239e3...               33.0   \n",
       "005c9d79cf18efc6c8b5fa767964b1def9b8e2f8abd23f4...               -1.0   \n",
       "0061b4d30e8a9935b2ebeec954ff509b4f0cb500cd725c1...               -1.0   \n",
       "00fbbf507c7d3c2f259cd3329d241c29d35712e2d4699f5...               60.0   \n",
       "0107a0017873efc2dea9a9155832363ceacf6fe97bd428a...               -1.0   \n",
       "\n",
       "                                                    last_date_event_60  \\\n",
       "user_id_hash                                                             \n",
       "002e447aed33ed4c51a68743cc293ef2148058b6a6239e3...                -1.0   \n",
       "005c9d79cf18efc6c8b5fa767964b1def9b8e2f8abd23f4...                -1.0   \n",
       "0061b4d30e8a9935b2ebeec954ff509b4f0cb500cd725c1...                -1.0   \n",
       "00fbbf507c7d3c2f259cd3329d241c29d35712e2d4699f5...                -1.0   \n",
       "0107a0017873efc2dea9a9155832363ceacf6fe97bd428a...                -1.0   \n",
       "\n",
       "                                                    last_date_event_61  \\\n",
       "user_id_hash                                                             \n",
       "002e447aed33ed4c51a68743cc293ef2148058b6a6239e3...                -1.0   \n",
       "005c9d79cf18efc6c8b5fa767964b1def9b8e2f8abd23f4...                -1.0   \n",
       "0061b4d30e8a9935b2ebeec954ff509b4f0cb500cd725c1...                -1.0   \n",
       "00fbbf507c7d3c2f259cd3329d241c29d35712e2d4699f5...                -1.0   \n",
       "0107a0017873efc2dea9a9155832363ceacf6fe97bd428a...                -1.0   \n",
       "\n",
       "                                                    last_date_event_62  \\\n",
       "user_id_hash                                                             \n",
       "002e447aed33ed4c51a68743cc293ef2148058b6a6239e3...                -1.0   \n",
       "005c9d79cf18efc6c8b5fa767964b1def9b8e2f8abd23f4...                -1.0   \n",
       "0061b4d30e8a9935b2ebeec954ff509b4f0cb500cd725c1...                -1.0   \n",
       "00fbbf507c7d3c2f259cd3329d241c29d35712e2d4699f5...                -1.0   \n",
       "0107a0017873efc2dea9a9155832363ceacf6fe97bd428a...                -1.0   \n",
       "\n",
       "                                                    last_date_event_63  \\\n",
       "user_id_hash                                                             \n",
       "002e447aed33ed4c51a68743cc293ef2148058b6a6239e3...                -1.0   \n",
       "005c9d79cf18efc6c8b5fa767964b1def9b8e2f8abd23f4...                -1.0   \n",
       "0061b4d30e8a9935b2ebeec954ff509b4f0cb500cd725c1...                -1.0   \n",
       "00fbbf507c7d3c2f259cd3329d241c29d35712e2d4699f5...                -1.0   \n",
       "0107a0017873efc2dea9a9155832363ceacf6fe97bd428a...                -1.0   \n",
       "\n",
       "                                                    last_date_event_64  \\\n",
       "user_id_hash                                                             \n",
       "002e447aed33ed4c51a68743cc293ef2148058b6a6239e3...                -1.0   \n",
       "005c9d79cf18efc6c8b5fa767964b1def9b8e2f8abd23f4...                -1.0   \n",
       "0061b4d30e8a9935b2ebeec954ff509b4f0cb500cd725c1...                -1.0   \n",
       "00fbbf507c7d3c2f259cd3329d241c29d35712e2d4699f5...                -1.0   \n",
       "0107a0017873efc2dea9a9155832363ceacf6fe97bd428a...                -1.0   \n",
       "\n",
       "                                                    last_date_event_7  \\\n",
       "user_id_hash                                                            \n",
       "002e447aed33ed4c51a68743cc293ef2148058b6a6239e3...               43.0   \n",
       "005c9d79cf18efc6c8b5fa767964b1def9b8e2f8abd23f4...               51.0   \n",
       "0061b4d30e8a9935b2ebeec954ff509b4f0cb500cd725c1...               -1.0   \n",
       "00fbbf507c7d3c2f259cd3329d241c29d35712e2d4699f5...               60.0   \n",
       "0107a0017873efc2dea9a9155832363ceacf6fe97bd428a...               -1.0   \n",
       "\n",
       "                                                    last_date_event_9  \\\n",
       "user_id_hash                                                            \n",
       "002e447aed33ed4c51a68743cc293ef2148058b6a6239e3...               -1.0   \n",
       "005c9d79cf18efc6c8b5fa767964b1def9b8e2f8abd23f4...               -1.0   \n",
       "0061b4d30e8a9935b2ebeec954ff509b4f0cb500cd725c1...               -1.0   \n",
       "00fbbf507c7d3c2f259cd3329d241c29d35712e2d4699f5...               -1.0   \n",
       "0107a0017873efc2dea9a9155832363ceacf6fe97bd428a...               -1.0   \n",
       "\n",
       "                                                    num_devices  app_age  \n",
       "user_id_hash                                                              \n",
       "002e447aed33ed4c51a68743cc293ef2148058b6a6239e3...            1     44.0  \n",
       "005c9d79cf18efc6c8b5fa767964b1def9b8e2f8abd23f4...            1     51.0  \n",
       "0061b4d30e8a9935b2ebeec954ff509b4f0cb500cd725c1...            1     61.0  \n",
       "00fbbf507c7d3c2f259cd3329d241c29d35712e2d4699f5...            1     60.0  \n",
       "0107a0017873efc2dea9a9155832363ceacf6fe97bd428a...            1     46.0  \n",
       "\n",
       "[5 rows x 48 columns]"
      ]
     },
     "execution_count": 160,
     "metadata": {},
     "output_type": "execute_result"
    }
   ],
   "source": []
  },
  {
   "cell_type": "code",
   "execution_count": 165,
   "metadata": {
    "ExecuteTime": {
     "end_time": "2019-02-24T00:11:47.349873Z",
     "start_time": "2019-02-24T00:11:45.378842Z"
    }
   },
   "outputs": [],
   "source": [
    "feather.write_dataframe(df_ft_a.reset_index(), './Data/features_v4.feather')\n",
    "feather.write_dataframe(df_ft_7.reset_index(), './Data/features_before_7_v4.feather')\n",
    "feather.write_dataframe(df_ft_14.reset_index(), './Data/features_before_14_v4.feather')"
   ]
  },
  {
   "cell_type": "markdown",
   "metadata": {},
   "source": [
    "## Convert absolute counts to frequency\n",
    "\n",
    "Such as `num_session` to `session_per_day`"
   ]
  },
  {
   "cell_type": "code",
   "execution_count": 6,
   "metadata": {
    "ExecuteTime": {
     "end_time": "2019-02-25T19:24:15.950330Z",
     "start_time": "2019-02-25T19:24:15.944110Z"
    }
   },
   "outputs": [
    {
     "data": {
      "text/plain": [
       "(Timestamp('2018-10-01 07:00:04.526000+0000', tz='UTC'),\n",
       " Timestamp('2018-12-14 23:59:59.977000+0000', tz='UTC'),\n",
       " Timestamp('2018-12-07 23:59:59.977000+0000', tz='UTC'),\n",
       " Timestamp('2018-11-30 23:59:59.977000+0000', tz='UTC'))"
      ]
     },
     "execution_count": 6,
     "metadata": {},
     "output_type": "execute_result"
    }
   ],
   "source": [
    "min_date = pd.to_datetime('2018-10-01 07:00:04.526000+00:00', utc=True)\n",
    "cutoff_all = pd.to_datetime('2018-12-14 23:59:59.977000+00:00', utc=True)\n",
    "cutoff_7 = cutoff_all - timedelta(days=7)\n",
    "cutoff_14 = cutoff_all - timedelta(days=14)\n",
    "min_date, cutoff_all, cutoff_7, cutoff_14"
   ]
  },
  {
   "cell_type": "code",
   "execution_count": 13,
   "metadata": {
    "ExecuteTime": {
     "end_time": "2019-02-25T19:25:53.894850Z",
     "start_time": "2019-02-25T19:25:53.890999Z"
    }
   },
   "outputs": [],
   "source": [
    "before_7_days = (cutoff_7 - min_date).days\n",
    "before_14_days = (cutoff_14 - min_date).days\n",
    "before_all_days = (cutoff_all - min_date).days"
   ]
  },
  {
   "cell_type": "code",
   "execution_count": 33,
   "metadata": {
    "ExecuteTime": {
     "end_time": "2019-02-25T19:31:38.344166Z",
     "start_time": "2019-02-25T19:31:38.338153Z"
    }
   },
   "outputs": [
    {
     "data": {
      "text/plain": [
       "(74, 67, 60)"
      ]
     },
     "execution_count": 33,
     "metadata": {},
     "output_type": "execute_result"
    }
   ],
   "source": [
    "before_all_days, before_7_days, before_14_days"
   ]
  },
  {
   "cell_type": "code",
   "execution_count": 27,
   "metadata": {
    "ExecuteTime": {
     "end_time": "2019-02-25T19:31:09.677684Z",
     "start_time": "2019-02-25T19:31:08.528086Z"
    }
   },
   "outputs": [],
   "source": [
    "features = feather.read_dataframe('./Data/features_v4.feather')\n",
    "features_7 = feather.read_dataframe('./Data/features_before_7_v4.feather')\n",
    "features_14 = feather.read_dataframe('./Data/features_before_14_v4.feather')"
   ]
  },
  {
   "cell_type": "code",
   "execution_count": 28,
   "metadata": {
    "ExecuteTime": {
     "end_time": "2019-02-25T19:31:13.560144Z",
     "start_time": "2019-02-25T19:31:13.551855Z"
    }
   },
   "outputs": [
    {
     "data": {
      "text/plain": [
       "Index(['user_id_hash', 'num_session', 'last_active', 'receive_message',\n",
       "       'accept_message', 'life_time_value', 'num_purchase', 'avg_purchase',\n",
       "       'num_event', 'event_per_session', 'did_purchase_binary',\n",
       "       'last_purchase', 'last_date_event_0', 'last_date_event_1',\n",
       "       'last_date_event_10', 'last_date_event_11', 'last_date_event_14',\n",
       "       'last_date_event_3', 'last_date_event_32', 'last_date_event_4',\n",
       "       'last_date_event_40', 'last_date_event_41', 'last_date_event_42',\n",
       "       'last_date_event_43', 'last_date_event_44', 'last_date_event_45',\n",
       "       'last_date_event_47', 'last_date_event_48', 'last_date_event_49',\n",
       "       'last_date_event_5', 'last_date_event_50', 'last_date_event_51',\n",
       "       'last_date_event_52', 'last_date_event_54', 'last_date_event_55',\n",
       "       'last_date_event_56', 'last_date_event_57', 'last_date_event_58',\n",
       "       'last_date_event_59', 'last_date_event_6', 'last_date_event_60',\n",
       "       'last_date_event_61', 'last_date_event_62', 'last_date_event_63',\n",
       "       'last_date_event_64', 'last_date_event_7', 'last_date_event_9',\n",
       "       'num_devices', 'app_age'],\n",
       "      dtype='object')"
      ]
     },
     "execution_count": 28,
     "metadata": {},
     "output_type": "execute_result"
    }
   ],
   "source": [
    "features.columns"
   ]
  },
  {
   "cell_type": "code",
   "execution_count": 29,
   "metadata": {
    "ExecuteTime": {
     "end_time": "2019-02-25T19:31:14.143167Z",
     "start_time": "2019-02-25T19:31:14.114281Z"
    }
   },
   "outputs": [],
   "source": [
    "for col in ['num_event', 'num_session', 'receive_message', 'accept_message', 'num_purchase', 'life_time_value']:\n",
    "    features[col+'_per_day'] = features[col]/before_all_days"
   ]
  },
  {
   "cell_type": "code",
   "execution_count": 30,
   "metadata": {
    "ExecuteTime": {
     "end_time": "2019-02-25T19:31:14.968707Z",
     "start_time": "2019-02-25T19:31:14.940393Z"
    }
   },
   "outputs": [
    {
     "data": {
      "text/html": [
       "<div>\n",
       "<style scoped>\n",
       "    .dataframe tbody tr th:only-of-type {\n",
       "        vertical-align: middle;\n",
       "    }\n",
       "\n",
       "    .dataframe tbody tr th {\n",
       "        vertical-align: top;\n",
       "    }\n",
       "\n",
       "    .dataframe thead th {\n",
       "        text-align: right;\n",
       "    }\n",
       "</style>\n",
       "<table border=\"1\" class=\"dataframe\">\n",
       "  <thead>\n",
       "    <tr style=\"text-align: right;\">\n",
       "      <th></th>\n",
       "      <th>user_id_hash</th>\n",
       "      <th>num_session</th>\n",
       "      <th>last_active</th>\n",
       "      <th>receive_message</th>\n",
       "      <th>accept_message</th>\n",
       "      <th>life_time_value</th>\n",
       "      <th>num_purchase</th>\n",
       "      <th>avg_purchase</th>\n",
       "      <th>num_event</th>\n",
       "      <th>event_per_session</th>\n",
       "      <th>...</th>\n",
       "      <th>last_date_event_7</th>\n",
       "      <th>last_date_event_9</th>\n",
       "      <th>num_devices</th>\n",
       "      <th>app_age</th>\n",
       "      <th>num_event_per_day</th>\n",
       "      <th>num_session_per_day</th>\n",
       "      <th>receive_message_per_day</th>\n",
       "      <th>accept_message_per_day</th>\n",
       "      <th>num_purchase_per_day</th>\n",
       "      <th>life_time_value_per_day</th>\n",
       "    </tr>\n",
       "  </thead>\n",
       "  <tbody>\n",
       "    <tr>\n",
       "      <th>0</th>\n",
       "      <td>002e447aed33ed4c51a68743cc293ef2148058b6a6239e...</td>\n",
       "      <td>3</td>\n",
       "      <td>40</td>\n",
       "      <td>0</td>\n",
       "      <td>0</td>\n",
       "      <td>0.0</td>\n",
       "      <td>0</td>\n",
       "      <td>0.0</td>\n",
       "      <td>119</td>\n",
       "      <td>39.666667</td>\n",
       "      <td>...</td>\n",
       "      <td>50.0</td>\n",
       "      <td>-1.0</td>\n",
       "      <td>1</td>\n",
       "      <td>51.0</td>\n",
       "      <td>1.608108</td>\n",
       "      <td>0.040541</td>\n",
       "      <td>0.0</td>\n",
       "      <td>0.0</td>\n",
       "      <td>0.0</td>\n",
       "      <td>0.0</td>\n",
       "    </tr>\n",
       "    <tr>\n",
       "      <th>1</th>\n",
       "      <td>005c9d79cf18efc6c8b5fa767964b1def9b8e2f8abd23f...</td>\n",
       "      <td>2</td>\n",
       "      <td>56</td>\n",
       "      <td>0</td>\n",
       "      <td>0</td>\n",
       "      <td>0.0</td>\n",
       "      <td>0</td>\n",
       "      <td>0.0</td>\n",
       "      <td>24</td>\n",
       "      <td>12.000000</td>\n",
       "      <td>...</td>\n",
       "      <td>58.0</td>\n",
       "      <td>-1.0</td>\n",
       "      <td>1</td>\n",
       "      <td>58.0</td>\n",
       "      <td>0.324324</td>\n",
       "      <td>0.027027</td>\n",
       "      <td>0.0</td>\n",
       "      <td>0.0</td>\n",
       "      <td>0.0</td>\n",
       "      <td>0.0</td>\n",
       "    </tr>\n",
       "    <tr>\n",
       "      <th>2</th>\n",
       "      <td>0061b4d30e8a9935b2ebeec954ff509b4f0cb500cd725c...</td>\n",
       "      <td>1</td>\n",
       "      <td>68</td>\n",
       "      <td>0</td>\n",
       "      <td>0</td>\n",
       "      <td>0.0</td>\n",
       "      <td>0</td>\n",
       "      <td>0.0</td>\n",
       "      <td>34</td>\n",
       "      <td>34.000000</td>\n",
       "      <td>...</td>\n",
       "      <td>-1.0</td>\n",
       "      <td>-1.0</td>\n",
       "      <td>1</td>\n",
       "      <td>68.0</td>\n",
       "      <td>0.459459</td>\n",
       "      <td>0.013514</td>\n",
       "      <td>0.0</td>\n",
       "      <td>0.0</td>\n",
       "      <td>0.0</td>\n",
       "      <td>0.0</td>\n",
       "    </tr>\n",
       "    <tr>\n",
       "      <th>3</th>\n",
       "      <td>00fbbf507c7d3c2f259cd3329d241c29d35712e2d4699f...</td>\n",
       "      <td>3</td>\n",
       "      <td>65</td>\n",
       "      <td>0</td>\n",
       "      <td>0</td>\n",
       "      <td>0.0</td>\n",
       "      <td>0</td>\n",
       "      <td>0.0</td>\n",
       "      <td>47</td>\n",
       "      <td>15.666667</td>\n",
       "      <td>...</td>\n",
       "      <td>67.0</td>\n",
       "      <td>-1.0</td>\n",
       "      <td>1</td>\n",
       "      <td>67.0</td>\n",
       "      <td>0.635135</td>\n",
       "      <td>0.040541</td>\n",
       "      <td>0.0</td>\n",
       "      <td>0.0</td>\n",
       "      <td>0.0</td>\n",
       "      <td>0.0</td>\n",
       "    </tr>\n",
       "    <tr>\n",
       "      <th>4</th>\n",
       "      <td>0107a0017873efc2dea9a9155832363ceacf6fe97bd428...</td>\n",
       "      <td>1</td>\n",
       "      <td>53</td>\n",
       "      <td>0</td>\n",
       "      <td>0</td>\n",
       "      <td>0.0</td>\n",
       "      <td>0</td>\n",
       "      <td>0.0</td>\n",
       "      <td>14</td>\n",
       "      <td>14.000000</td>\n",
       "      <td>...</td>\n",
       "      <td>-1.0</td>\n",
       "      <td>-1.0</td>\n",
       "      <td>1</td>\n",
       "      <td>53.0</td>\n",
       "      <td>0.189189</td>\n",
       "      <td>0.013514</td>\n",
       "      <td>0.0</td>\n",
       "      <td>0.0</td>\n",
       "      <td>0.0</td>\n",
       "      <td>0.0</td>\n",
       "    </tr>\n",
       "  </tbody>\n",
       "</table>\n",
       "<p>5 rows × 55 columns</p>\n",
       "</div>"
      ],
      "text/plain": [
       "                                        user_id_hash  num_session  \\\n",
       "0  002e447aed33ed4c51a68743cc293ef2148058b6a6239e...            3   \n",
       "1  005c9d79cf18efc6c8b5fa767964b1def9b8e2f8abd23f...            2   \n",
       "2  0061b4d30e8a9935b2ebeec954ff509b4f0cb500cd725c...            1   \n",
       "3  00fbbf507c7d3c2f259cd3329d241c29d35712e2d4699f...            3   \n",
       "4  0107a0017873efc2dea9a9155832363ceacf6fe97bd428...            1   \n",
       "\n",
       "   last_active  receive_message  accept_message  life_time_value  \\\n",
       "0           40                0               0              0.0   \n",
       "1           56                0               0              0.0   \n",
       "2           68                0               0              0.0   \n",
       "3           65                0               0              0.0   \n",
       "4           53                0               0              0.0   \n",
       "\n",
       "   num_purchase  avg_purchase  num_event  event_per_session  \\\n",
       "0             0           0.0        119          39.666667   \n",
       "1             0           0.0         24          12.000000   \n",
       "2             0           0.0         34          34.000000   \n",
       "3             0           0.0         47          15.666667   \n",
       "4             0           0.0         14          14.000000   \n",
       "\n",
       "            ...             last_date_event_7  last_date_event_9  num_devices  \\\n",
       "0           ...                          50.0               -1.0            1   \n",
       "1           ...                          58.0               -1.0            1   \n",
       "2           ...                          -1.0               -1.0            1   \n",
       "3           ...                          67.0               -1.0            1   \n",
       "4           ...                          -1.0               -1.0            1   \n",
       "\n",
       "   app_age  num_event_per_day  num_session_per_day  receive_message_per_day  \\\n",
       "0     51.0           1.608108             0.040541                      0.0   \n",
       "1     58.0           0.324324             0.027027                      0.0   \n",
       "2     68.0           0.459459             0.013514                      0.0   \n",
       "3     67.0           0.635135             0.040541                      0.0   \n",
       "4     53.0           0.189189             0.013514                      0.0   \n",
       "\n",
       "   accept_message_per_day  num_purchase_per_day  life_time_value_per_day  \n",
       "0                     0.0                   0.0                      0.0  \n",
       "1                     0.0                   0.0                      0.0  \n",
       "2                     0.0                   0.0                      0.0  \n",
       "3                     0.0                   0.0                      0.0  \n",
       "4                     0.0                   0.0                      0.0  \n",
       "\n",
       "[5 rows x 55 columns]"
      ]
     },
     "execution_count": 30,
     "metadata": {},
     "output_type": "execute_result"
    }
   ],
   "source": [
    "features.head()"
   ]
  },
  {
   "cell_type": "code",
   "execution_count": 31,
   "metadata": {
    "ExecuteTime": {
     "end_time": "2019-02-25T19:31:16.001711Z",
     "start_time": "2019-02-25T19:31:15.939740Z"
    }
   },
   "outputs": [
    {
     "data": {
      "text/html": [
       "<div>\n",
       "<style scoped>\n",
       "    .dataframe tbody tr th:only-of-type {\n",
       "        vertical-align: middle;\n",
       "    }\n",
       "\n",
       "    .dataframe tbody tr th {\n",
       "        vertical-align: top;\n",
       "    }\n",
       "\n",
       "    .dataframe thead th {\n",
       "        text-align: right;\n",
       "    }\n",
       "</style>\n",
       "<table border=\"1\" class=\"dataframe\">\n",
       "  <thead>\n",
       "    <tr style=\"text-align: right;\">\n",
       "      <th></th>\n",
       "      <th>user_id_hash</th>\n",
       "      <th>num_session</th>\n",
       "      <th>last_active</th>\n",
       "      <th>receive_message</th>\n",
       "      <th>accept_message</th>\n",
       "      <th>life_time_value</th>\n",
       "      <th>num_purchase</th>\n",
       "      <th>avg_purchase</th>\n",
       "      <th>num_event</th>\n",
       "      <th>event_per_session</th>\n",
       "      <th>...</th>\n",
       "      <th>last_date_event_7</th>\n",
       "      <th>last_date_event_9</th>\n",
       "      <th>num_devices</th>\n",
       "      <th>app_age</th>\n",
       "      <th>num_event_per_day</th>\n",
       "      <th>num_session_per_day</th>\n",
       "      <th>receive_message_per_day</th>\n",
       "      <th>accept_message_per_day</th>\n",
       "      <th>num_purchase_per_day</th>\n",
       "      <th>life_time_value_per_day</th>\n",
       "    </tr>\n",
       "  </thead>\n",
       "  <tbody>\n",
       "    <tr>\n",
       "      <th>0</th>\n",
       "      <td>002e447aed33ed4c51a68743cc293ef2148058b6a6239e...</td>\n",
       "      <td>3</td>\n",
       "      <td>33.0</td>\n",
       "      <td>0</td>\n",
       "      <td>0</td>\n",
       "      <td>0.0</td>\n",
       "      <td>0</td>\n",
       "      <td>0.0</td>\n",
       "      <td>119</td>\n",
       "      <td>39.666667</td>\n",
       "      <td>...</td>\n",
       "      <td>43.0</td>\n",
       "      <td>-1.0</td>\n",
       "      <td>1</td>\n",
       "      <td>44.0</td>\n",
       "      <td>1.776119</td>\n",
       "      <td>0.044776</td>\n",
       "      <td>0.0</td>\n",
       "      <td>0.0</td>\n",
       "      <td>0.0</td>\n",
       "      <td>0.0</td>\n",
       "    </tr>\n",
       "    <tr>\n",
       "      <th>1</th>\n",
       "      <td>005c9d79cf18efc6c8b5fa767964b1def9b8e2f8abd23f...</td>\n",
       "      <td>2</td>\n",
       "      <td>49.0</td>\n",
       "      <td>0</td>\n",
       "      <td>0</td>\n",
       "      <td>0.0</td>\n",
       "      <td>0</td>\n",
       "      <td>0.0</td>\n",
       "      <td>24</td>\n",
       "      <td>12.000000</td>\n",
       "      <td>...</td>\n",
       "      <td>51.0</td>\n",
       "      <td>-1.0</td>\n",
       "      <td>1</td>\n",
       "      <td>51.0</td>\n",
       "      <td>0.358209</td>\n",
       "      <td>0.029851</td>\n",
       "      <td>0.0</td>\n",
       "      <td>0.0</td>\n",
       "      <td>0.0</td>\n",
       "      <td>0.0</td>\n",
       "    </tr>\n",
       "    <tr>\n",
       "      <th>2</th>\n",
       "      <td>0061b4d30e8a9935b2ebeec954ff509b4f0cb500cd725c...</td>\n",
       "      <td>1</td>\n",
       "      <td>61.0</td>\n",
       "      <td>0</td>\n",
       "      <td>0</td>\n",
       "      <td>0.0</td>\n",
       "      <td>0</td>\n",
       "      <td>0.0</td>\n",
       "      <td>34</td>\n",
       "      <td>34.000000</td>\n",
       "      <td>...</td>\n",
       "      <td>-1.0</td>\n",
       "      <td>-1.0</td>\n",
       "      <td>1</td>\n",
       "      <td>61.0</td>\n",
       "      <td>0.507463</td>\n",
       "      <td>0.014925</td>\n",
       "      <td>0.0</td>\n",
       "      <td>0.0</td>\n",
       "      <td>0.0</td>\n",
       "      <td>0.0</td>\n",
       "    </tr>\n",
       "    <tr>\n",
       "      <th>3</th>\n",
       "      <td>00fbbf507c7d3c2f259cd3329d241c29d35712e2d4699f...</td>\n",
       "      <td>3</td>\n",
       "      <td>58.0</td>\n",
       "      <td>0</td>\n",
       "      <td>0</td>\n",
       "      <td>0.0</td>\n",
       "      <td>0</td>\n",
       "      <td>0.0</td>\n",
       "      <td>47</td>\n",
       "      <td>15.666667</td>\n",
       "      <td>...</td>\n",
       "      <td>60.0</td>\n",
       "      <td>-1.0</td>\n",
       "      <td>1</td>\n",
       "      <td>60.0</td>\n",
       "      <td>0.701493</td>\n",
       "      <td>0.044776</td>\n",
       "      <td>0.0</td>\n",
       "      <td>0.0</td>\n",
       "      <td>0.0</td>\n",
       "      <td>0.0</td>\n",
       "    </tr>\n",
       "    <tr>\n",
       "      <th>4</th>\n",
       "      <td>0107a0017873efc2dea9a9155832363ceacf6fe97bd428...</td>\n",
       "      <td>1</td>\n",
       "      <td>46.0</td>\n",
       "      <td>0</td>\n",
       "      <td>0</td>\n",
       "      <td>0.0</td>\n",
       "      <td>0</td>\n",
       "      <td>0.0</td>\n",
       "      <td>14</td>\n",
       "      <td>14.000000</td>\n",
       "      <td>...</td>\n",
       "      <td>-1.0</td>\n",
       "      <td>-1.0</td>\n",
       "      <td>1</td>\n",
       "      <td>46.0</td>\n",
       "      <td>0.208955</td>\n",
       "      <td>0.014925</td>\n",
       "      <td>0.0</td>\n",
       "      <td>0.0</td>\n",
       "      <td>0.0</td>\n",
       "      <td>0.0</td>\n",
       "    </tr>\n",
       "  </tbody>\n",
       "</table>\n",
       "<p>5 rows × 55 columns</p>\n",
       "</div>"
      ],
      "text/plain": [
       "                                        user_id_hash  num_session  \\\n",
       "0  002e447aed33ed4c51a68743cc293ef2148058b6a6239e...            3   \n",
       "1  005c9d79cf18efc6c8b5fa767964b1def9b8e2f8abd23f...            2   \n",
       "2  0061b4d30e8a9935b2ebeec954ff509b4f0cb500cd725c...            1   \n",
       "3  00fbbf507c7d3c2f259cd3329d241c29d35712e2d4699f...            3   \n",
       "4  0107a0017873efc2dea9a9155832363ceacf6fe97bd428...            1   \n",
       "\n",
       "   last_active  receive_message  accept_message  life_time_value  \\\n",
       "0         33.0                0               0              0.0   \n",
       "1         49.0                0               0              0.0   \n",
       "2         61.0                0               0              0.0   \n",
       "3         58.0                0               0              0.0   \n",
       "4         46.0                0               0              0.0   \n",
       "\n",
       "   num_purchase  avg_purchase  num_event  event_per_session  \\\n",
       "0             0           0.0        119          39.666667   \n",
       "1             0           0.0         24          12.000000   \n",
       "2             0           0.0         34          34.000000   \n",
       "3             0           0.0         47          15.666667   \n",
       "4             0           0.0         14          14.000000   \n",
       "\n",
       "            ...             last_date_event_7  last_date_event_9  num_devices  \\\n",
       "0           ...                          43.0               -1.0            1   \n",
       "1           ...                          51.0               -1.0            1   \n",
       "2           ...                          -1.0               -1.0            1   \n",
       "3           ...                          60.0               -1.0            1   \n",
       "4           ...                          -1.0               -1.0            1   \n",
       "\n",
       "   app_age  num_event_per_day  num_session_per_day  receive_message_per_day  \\\n",
       "0     44.0           1.776119             0.044776                      0.0   \n",
       "1     51.0           0.358209             0.029851                      0.0   \n",
       "2     61.0           0.507463             0.014925                      0.0   \n",
       "3     60.0           0.701493             0.044776                      0.0   \n",
       "4     46.0           0.208955             0.014925                      0.0   \n",
       "\n",
       "   accept_message_per_day  num_purchase_per_day  life_time_value_per_day  \n",
       "0                     0.0                   0.0                      0.0  \n",
       "1                     0.0                   0.0                      0.0  \n",
       "2                     0.0                   0.0                      0.0  \n",
       "3                     0.0                   0.0                      0.0  \n",
       "4                     0.0                   0.0                      0.0  \n",
       "\n",
       "[5 rows x 55 columns]"
      ]
     },
     "execution_count": 31,
     "metadata": {},
     "output_type": "execute_result"
    }
   ],
   "source": [
    "for col in ['num_event', 'num_session', 'receive_message', 'accept_message', 'num_purchase', 'life_time_value']:\n",
    "    features_7[col+'_per_day'] = features_7[col]/before_7_days\n",
    "    \n",
    "features_7.head()"
   ]
  },
  {
   "cell_type": "code",
   "execution_count": 32,
   "metadata": {
    "ExecuteTime": {
     "end_time": "2019-02-25T19:31:16.937497Z",
     "start_time": "2019-02-25T19:31:16.912147Z"
    }
   },
   "outputs": [],
   "source": [
    "for col in ['num_event', 'num_session', 'receive_message', 'accept_message', 'num_purchase', 'life_time_value']:\n",
    "    features_14[col+'_per_day'] = features_14[col]/before_14_days"
   ]
  },
  {
   "cell_type": "code",
   "execution_count": 34,
   "metadata": {
    "ExecuteTime": {
     "end_time": "2019-02-25T19:32:42.744078Z",
     "start_time": "2019-02-25T19:32:41.643500Z"
    }
   },
   "outputs": [],
   "source": [
    "feather.write_dataframe(features, './Data/features_v5.feather')\n",
    "feather.write_dataframe(features_7, './Data/features_before_7_v5.feather')\n",
    "feather.write_dataframe(features_14, './Data/features_before_14_v5.feather')"
   ]
  },
  {
   "cell_type": "code",
   "execution_count": null,
   "metadata": {},
   "outputs": [],
   "source": []
  }
 ],
 "metadata": {
  "kernelspec": {
   "display_name": "Python 3",
   "language": "python",
   "name": "python3"
  },
  "language_info": {
   "codemirror_mode": {
    "name": "ipython",
    "version": 3
   },
   "file_extension": ".py",
   "mimetype": "text/x-python",
   "name": "python",
   "nbconvert_exporter": "python",
   "pygments_lexer": "ipython3",
   "version": "3.7.0"
  },
  "toc": {
   "base_numbering": 1,
   "nav_menu": {},
   "number_sections": true,
   "sideBar": true,
   "skip_h1_title": false,
   "title_cell": "Table of Contents",
   "title_sidebar": "Contents",
   "toc_cell": false,
   "toc_position": {
    "height": "calc(100% - 180px)",
    "left": "10px",
    "top": "150px",
    "width": "288px"
   },
   "toc_section_display": true,
   "toc_window_display": true
  }
 },
 "nbformat": 4,
 "nbformat_minor": 2
}
