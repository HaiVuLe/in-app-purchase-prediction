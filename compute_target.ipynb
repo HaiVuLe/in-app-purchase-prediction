{
 "cells": [
  {
   "cell_type": "code",
   "execution_count": 1,
   "metadata": {
    "ExecuteTime": {
     "end_time": "2019-02-12T17:41:06.786447Z",
     "start_time": "2019-02-12T17:41:06.163377Z"
    }
   },
   "outputs": [],
   "source": [
    "import pandas as pd\n",
    "import numpy as np\n",
    "import feather"
   ]
  },
  {
   "cell_type": "markdown",
   "metadata": {},
   "source": [
    "Events:\n",
    "* Info of what users do on the app.\n",
    "* Events: many types. Purchase Event index is '8'."
   ]
  },
  {
   "cell_type": "markdown",
   "metadata": {},
   "source": [
    "## read in the events.csv"
   ]
  },
  {
   "cell_type": "code",
   "execution_count": 2,
   "metadata": {
    "ExecuteTime": {
     "end_time": "2019-02-12T18:10:40.412843Z",
     "start_time": "2019-02-12T18:06:38.895312Z"
    }
   },
   "outputs": [
    {
     "data": {
      "text/html": [
       "<div>\n",
       "<style scoped>\n",
       "    .dataframe tbody tr th:only-of-type {\n",
       "        vertical-align: middle;\n",
       "    }\n",
       "\n",
       "    .dataframe tbody tr th {\n",
       "        vertical-align: top;\n",
       "    }\n",
       "\n",
       "    .dataframe thead th {\n",
       "        text-align: right;\n",
       "    }\n",
       "</style>\n",
       "<table border=\"1\" class=\"dataframe\">\n",
       "  <thead>\n",
       "    <tr style=\"text-align: right;\">\n",
       "      <th></th>\n",
       "      <th>session_id</th>\n",
       "      <th>event</th>\n",
       "      <th>event_timestamp</th>\n",
       "      <th>event_value</th>\n",
       "      <th>user_id_hash</th>\n",
       "    </tr>\n",
       "  </thead>\n",
       "  <tbody>\n",
       "    <tr>\n",
       "      <th>0</th>\n",
       "      <td>5558845121177764917</td>\n",
       "      <td>45</td>\n",
       "      <td>1542215397132</td>\n",
       "      <td>0.0</td>\n",
       "      <td>9943447915df3a45fd6720a026af905b6da6b56a37701b...</td>\n",
       "    </tr>\n",
       "    <tr>\n",
       "      <th>1</th>\n",
       "      <td>5558845121177764917</td>\n",
       "      <td>45</td>\n",
       "      <td>1542215484895</td>\n",
       "      <td>0.0</td>\n",
       "      <td>9943447915df3a45fd6720a026af905b6da6b56a37701b...</td>\n",
       "    </tr>\n",
       "    <tr>\n",
       "      <th>2</th>\n",
       "      <td>7689508378645584666</td>\n",
       "      <td>.m5100869650219008</td>\n",
       "      <td>1541124410372</td>\n",
       "      <td>0.0</td>\n",
       "      <td>9943447915df3a45fd6720a026af905b6da6b56a37701b...</td>\n",
       "    </tr>\n",
       "    <tr>\n",
       "      <th>3</th>\n",
       "      <td>2201961907282901522</td>\n",
       "      <td>4</td>\n",
       "      <td>1543713091129</td>\n",
       "      <td>0.0</td>\n",
       "      <td>9943447915df3a45fd6720a026af905b6da6b56a37701b...</td>\n",
       "    </tr>\n",
       "    <tr>\n",
       "      <th>4</th>\n",
       "      <td>2201961907282901522</td>\n",
       "      <td>6</td>\n",
       "      <td>1543713093116</td>\n",
       "      <td>0.0</td>\n",
       "      <td>9943447915df3a45fd6720a026af905b6da6b56a37701b...</td>\n",
       "    </tr>\n",
       "  </tbody>\n",
       "</table>\n",
       "</div>"
      ],
      "text/plain": [
       "            session_id               event event_timestamp event_value  \\\n",
       "0  5558845121177764917                  45   1542215397132         0.0   \n",
       "1  5558845121177764917                  45   1542215484895         0.0   \n",
       "2  7689508378645584666  .m5100869650219008   1541124410372         0.0   \n",
       "3  2201961907282901522                   4   1543713091129         0.0   \n",
       "4  2201961907282901522                   6   1543713093116         0.0   \n",
       "\n",
       "                                        user_id_hash  \n",
       "0  9943447915df3a45fd6720a026af905b6da6b56a37701b...  \n",
       "1  9943447915df3a45fd6720a026af905b6da6b56a37701b...  \n",
       "2  9943447915df3a45fd6720a026af905b6da6b56a37701b...  \n",
       "3  9943447915df3a45fd6720a026af905b6da6b56a37701b...  \n",
       "4  9943447915df3a45fd6720a026af905b6da6b56a37701b...  "
      ]
     },
     "execution_count": 2,
     "metadata": {},
     "output_type": "execute_result"
    }
   ],
   "source": [
    "datatype = {'session_id': np.uint64, 'event':'object',\n",
    "            'event_timestamp':str, 'event_value':str,'user_id_hash':'category'}\n",
    "events = pd.read_csv('events.csv',dtype=datatype).drop('app_id', axis=1)\n",
    "events.head(5)"
   ]
  },
  {
   "cell_type": "code",
   "execution_count": 3,
   "metadata": {},
   "outputs": [
    {
     "name": "stdout",
     "output_type": "stream",
     "text": [
      "<class 'pandas.core.frame.DataFrame'>\n",
      "RangeIndex: 111946597 entries, 0 to 111946596\n",
      "Data columns (total 5 columns):\n",
      "session_id         uint64\n",
      "event              object\n",
      "event_timestamp    object\n",
      "event_value        object\n",
      "user_id_hash       category\n",
      "dtypes: category(1), object(3), uint64(1)\n",
      "memory usage: 21.2 GB\n"
     ]
    }
   ],
   "source": [
    "events.info(memory_usage=\"deep\")"
   ]
  },
  {
   "cell_type": "markdown",
   "metadata": {},
   "source": [
    "## timestamp convert and split"
   ]
  },
  {
   "cell_type": "code",
   "execution_count": 4,
   "metadata": {},
   "outputs": [],
   "source": [
    "events['timestamp'] = pd.to_datetime(events['event_timestamp'], utc=True, unit='ms')"
   ]
  },
  {
   "cell_type": "code",
   "execution_count": 5,
   "metadata": {},
   "outputs": [],
   "source": [
    "max_time = events['timestamp'].max()\n",
    "min_time = events['timestamp'].min()"
   ]
  },
  {
   "cell_type": "code",
   "execution_count": 11,
   "metadata": {},
   "outputs": [
    {
     "name": "stdout",
     "output_type": "stream",
     "text": [
      "the lastest data in events is: 2018-12-14 23:59:59.977000+00:00\n",
      "the earliest data in events is: 2018-10-01 07:00:04.526000+00:00\n"
     ]
    }
   ],
   "source": [
    "print(\"the lastest data in events is: \"+str(max_time))\n",
    "print(\"the earliest data in events is: \"+str(min_time))"
   ]
  },
  {
   "cell_type": "code",
   "execution_count": 6,
   "metadata": {},
   "outputs": [],
   "source": [
    "from datetime import timedelta"
   ]
  },
  {
   "cell_type": "code",
   "execution_count": 7,
   "metadata": {},
   "outputs": [],
   "source": [
    "cut_off_7 = max_time - timedelta(days=7)"
   ]
  },
  {
   "cell_type": "code",
   "execution_count": 8,
   "metadata": {},
   "outputs": [],
   "source": [
    "cut_off_14 = max_time - timedelta(days=14)"
   ]
  },
  {
   "cell_type": "code",
   "execution_count": 12,
   "metadata": {},
   "outputs": [
    {
     "name": "stdout",
     "output_type": "stream",
     "text": [
      "the split point on 7 days in events is: 2018-12-07 23:59:59.977000+00:00\n",
      "the split point on 14 days in events is: 2018-11-30 23:59:59.977000+00:00\n"
     ]
    }
   ],
   "source": [
    "print(\"the split point on 7 days in events is: \"+str(cut_off_7))\n",
    "print(\"the split point on 14 days in events is: \"+str(cut_off_14))"
   ]
  },
  {
   "cell_type": "markdown",
   "metadata": {},
   "source": [
    "#### write the splitted data into feather format"
   ]
  },
  {
   "cell_type": "code",
   "execution_count": 9,
   "metadata": {},
   "outputs": [],
   "source": [
    "event_7 = events[events['timestamp']>cut_off_7]\n",
    "feather.write_dataframe(event_7, 'lable_7.feather')"
   ]
  },
  {
   "cell_type": "code",
   "execution_count": 10,
   "metadata": {},
   "outputs": [],
   "source": [
    "event_14 = events[events['timestamp']>cut_off_14]\n",
    "feather.write_dataframe(event_14, 'lable_14.feather')"
   ]
  },
  {
   "cell_type": "code",
   "execution_count": 15,
   "metadata": {},
   "outputs": [],
   "source": [
    "event_7_b = events[events['timestamp']<=cut_off_7]\n",
    "feather.write_dataframe(event_7_b, 'lable_7_b.feather')"
   ]
  },
  {
   "cell_type": "code",
   "execution_count": 17,
   "metadata": {},
   "outputs": [],
   "source": [
    "event_14_b = events[events['timestamp']<=cut_off_14]\n",
    "feather.write_dataframe(event_14_b, 'lable_14_b.feather')"
   ]
  },
  {
   "cell_type": "markdown",
   "metadata": {},
   "source": [
    "#### check after split length"
   ]
  },
  {
   "cell_type": "code",
   "execution_count": 21,
   "metadata": {},
   "outputs": [],
   "source": [
    "assert(len(event_7) + len(event_7_b) == len(events))"
   ]
  },
  {
   "cell_type": "code",
   "execution_count": 22,
   "metadata": {},
   "outputs": [],
   "source": [
    "assert(len(event_14) + len(event_14_b) == len(events))"
   ]
  },
  {
   "cell_type": "markdown",
   "metadata": {},
   "source": [
    "## compute the labels"
   ]
  },
  {
   "cell_type": "code",
   "execution_count": 24,
   "metadata": {},
   "outputs": [
    {
     "data": {
      "text/plain": [
       "45                              3749365\n",
       "63                               311509\n",
       "47                               270225\n",
       "1                                267815\n",
       "5                                222263\n",
       "6                                207271\n",
       "57                               206945\n",
       "4                                187849\n",
       "55                               177183\n",
       "40                               153653\n",
       "41                               110903\n",
       "14                               103303\n",
       "3                                 99137\n",
       "42                                90610\n",
       "50                                77536\n",
       "7                                 68704\n",
       "64                                61818\n",
       "54                                43270\n",
       ".a5008055943430144                22306\n",
       "49                                14715\n",
       "0                                 14148\n",
       "8                                 12074\n",
       "48                                10139\n",
       ".m5295687445250048                10035\n",
       "56                                 6678\n",
       "60                                 5726\n",
       "59                                 5646\n",
       "52                                 5615\n",
       "58                                 3115\n",
       "9                                  2949\n",
       ".m5295687445250048 Accept          2190\n",
       ".m5295687445250048 Held Back       1157\n",
       "51                                 1041\n",
       "61                                  925\n",
       ".a5686782234722304                  592\n",
       "62                                  419\n",
       "11                                  390\n",
       "44                                  384\n",
       "43                                  378\n",
       ".a5027911885258752                  226\n",
       ".a5400102822346752                  226\n",
       ".a5516611293544448                  180\n",
       "10                                   48\n",
       ".a6666568788738048                    1\n",
       ".m5488050202738688                    1\n",
       "Name: event, dtype: int64"
      ]
     },
     "execution_count": 24,
     "metadata": {},
     "output_type": "execute_result"
    }
   ],
   "source": [
    "event_7.event.value_counts()"
   ]
  },
  {
   "cell_type": "code",
   "execution_count": 25,
   "metadata": {
    "scrolled": true
   },
   "outputs": [
    {
     "data": {
      "text/plain": [
       "45                              8950574\n",
       "1                                665852\n",
       "5                                533066\n",
       "6                                498105\n",
       "4                                455059\n",
       "40                               370631\n",
       "63                               343904\n",
       "47                               303149\n",
       "41                               270684\n",
       "57                               268814\n",
       "3                                245383\n",
       "14                               224488\n",
       "42                               219093\n",
       "55                               193261\n",
       "7                                160886\n",
       "50                                88038\n",
       "64                                67807\n",
       "54                                50647\n",
       ".a5008055943430144                44016\n",
       "0                                 39979\n",
       "8                                 31009\n",
       ".m5295687445250048                28179\n",
       "49                                17175\n",
       "48                                11621\n",
       "56                                 7903\n",
       "9                                  7331\n",
       ".m5295687445250048 Accept          6564\n",
       "59                                 6405\n",
       "60                                 6248\n",
       "52                                 6231\n",
       "58                                 3855\n",
       ".a5686782234722304                 3562\n",
       ".m5295687445250048 Held Back       3162\n",
       "51                                 1417\n",
       "11                                 1290\n",
       "43                                 1125\n",
       "61                                 1057\n",
       ".a5400102822346752                  617\n",
       ".a5027911885258752                  617\n",
       "44                                  568\n",
       ".a5516611293544448                  526\n",
       ".m4609541589565440                  500\n",
       "62                                  464\n",
       ".a5523274289512448                  217\n",
       "10                                  113\n",
       ".m4609541589565440 Accept            64\n",
       ".m4609541589565440 Held Back         54\n",
       ".a5061295285075968                   51\n",
       ".m5488050202738688                    8\n",
       ".a6035220340277248                    5\n",
       ".a4575955121471488                    1\n",
       ".m5611570240946176                    1\n",
       ".a6666568788738048                    1\n",
       ".c4673994986356736 Enter              1\n",
       ".a5087083622694912                    1\n",
       ".m4728338570018816                    1\n",
       ".m5548385265778688                    1\n",
       "Name: event, dtype: int64"
      ]
     },
     "execution_count": 25,
     "metadata": {},
     "output_type": "execute_result"
    }
   ],
   "source": [
    "event_14.event.value_counts()"
   ]
  },
  {
   "cell_type": "code",
   "execution_count": 26,
   "metadata": {},
   "outputs": [],
   "source": [
    "purchase_7 = event_7[event_7.event == \"8\"].user_id_hash.drop_duplicates().to_frame().reset_index(drop=True)\n",
    "purchase_14 = event_14[event_14.event == \"8\"].user_id_hash.drop_duplicates().to_frame().reset_index(drop=True)"
   ]
  },
  {
   "cell_type": "code",
   "execution_count": 27,
   "metadata": {},
   "outputs": [
    {
     "name": "stdout",
     "output_type": "stream",
     "text": [
      "the number of unique users who purchased in last 7 days: 3286\n",
      "the number of unique users who purchased in last 14 days: 6126\n"
     ]
    }
   ],
   "source": [
    "print(\"the number of unique users who purchased in last 7 days: \"+str(len(purchase_7)))\n",
    "print(\"the number of unique users who purchased in last 14 days: \"+str(len(purchase_14)))"
   ]
  },
  {
   "cell_type": "markdown",
   "metadata": {},
   "source": [
    "#### check if the people purchased in 7 days will automatically have purchase label in 14 days"
   ]
  },
  {
   "cell_type": "code",
   "execution_count": 28,
   "metadata": {},
   "outputs": [],
   "source": [
    "assert(np.where(purchase_7.user_id_hash.isin(purchase_14.user_id_hash) == False))"
   ]
  },
  {
   "cell_type": "code",
   "execution_count": 29,
   "metadata": {},
   "outputs": [],
   "source": [
    "purchase_7['label_7'] = np.ones(3286)\n",
    "purchase_14['label_14'] = np.ones(6126)"
   ]
  },
  {
   "cell_type": "code",
   "execution_count": 30,
   "metadata": {},
   "outputs": [],
   "source": [
    "labels = purchase_14.set_index('user_id_hash').join(purchase_7.set_index('user_id_hash'))"
   ]
  },
  {
   "cell_type": "code",
   "execution_count": 31,
   "metadata": {},
   "outputs": [],
   "source": [
    "labels.fillna(0).to_csv('labels.csv')"
   ]
  },
  {
   "cell_type": "code",
   "execution_count": 33,
   "metadata": {},
   "outputs": [],
   "source": [
    "Labels = pd.read_csv('labels.csv')"
   ]
  },
  {
   "cell_type": "code",
   "execution_count": 34,
   "metadata": {},
   "outputs": [
    {
     "data": {
      "text/html": [
       "<div>\n",
       "<style scoped>\n",
       "    .dataframe tbody tr th:only-of-type {\n",
       "        vertical-align: middle;\n",
       "    }\n",
       "\n",
       "    .dataframe tbody tr th {\n",
       "        vertical-align: top;\n",
       "    }\n",
       "\n",
       "    .dataframe thead th {\n",
       "        text-align: right;\n",
       "    }\n",
       "</style>\n",
       "<table border=\"1\" class=\"dataframe\">\n",
       "  <thead>\n",
       "    <tr style=\"text-align: right;\">\n",
       "      <th></th>\n",
       "      <th>user_id_hash</th>\n",
       "      <th>label_14</th>\n",
       "      <th>label_7</th>\n",
       "    </tr>\n",
       "  </thead>\n",
       "  <tbody>\n",
       "    <tr>\n",
       "      <th>0</th>\n",
       "      <td>280a7625f66e60896e558eaeee6b3eb0419c488eed15ef...</td>\n",
       "      <td>1.0</td>\n",
       "      <td>0.0</td>\n",
       "    </tr>\n",
       "    <tr>\n",
       "      <th>1</th>\n",
       "      <td>0e02d992cae31bf3cc09708fc70db2cf935288bf715aa7...</td>\n",
       "      <td>1.0</td>\n",
       "      <td>0.0</td>\n",
       "    </tr>\n",
       "    <tr>\n",
       "      <th>2</th>\n",
       "      <td>f885fd72310deaa1b7591bb3af277e632c364d36bdda5e...</td>\n",
       "      <td>1.0</td>\n",
       "      <td>0.0</td>\n",
       "    </tr>\n",
       "    <tr>\n",
       "      <th>3</th>\n",
       "      <td>5fb8780d18dfc69e2c968508d624828ecff7b504bf2719...</td>\n",
       "      <td>1.0</td>\n",
       "      <td>1.0</td>\n",
       "    </tr>\n",
       "    <tr>\n",
       "      <th>4</th>\n",
       "      <td>75ce9e8bf0517bc7dec67b715f3caf38871135c5cd462b...</td>\n",
       "      <td>1.0</td>\n",
       "      <td>0.0</td>\n",
       "    </tr>\n",
       "    <tr>\n",
       "      <th>5</th>\n",
       "      <td>965ab5f1063f10193ab6361fdaa395065a2b9b1c4cc36b...</td>\n",
       "      <td>1.0</td>\n",
       "      <td>1.0</td>\n",
       "    </tr>\n",
       "    <tr>\n",
       "      <th>6</th>\n",
       "      <td>7ab6d7a12a41aa35981369dafd3fba4d4fbc2ffaac6fae...</td>\n",
       "      <td>1.0</td>\n",
       "      <td>1.0</td>\n",
       "    </tr>\n",
       "    <tr>\n",
       "      <th>7</th>\n",
       "      <td>b1c50668d9790138db22cc23cbf3fde97269d1b5680c90...</td>\n",
       "      <td>1.0</td>\n",
       "      <td>1.0</td>\n",
       "    </tr>\n",
       "    <tr>\n",
       "      <th>8</th>\n",
       "      <td>e45e7f7c4a4fe840a7efd93dd3450b5b36d05bb25df4a0...</td>\n",
       "      <td>1.0</td>\n",
       "      <td>1.0</td>\n",
       "    </tr>\n",
       "    <tr>\n",
       "      <th>9</th>\n",
       "      <td>684543899327eb0472e13706880bd4e20298d55d9d6834...</td>\n",
       "      <td>1.0</td>\n",
       "      <td>1.0</td>\n",
       "    </tr>\n",
       "    <tr>\n",
       "      <th>10</th>\n",
       "      <td>ba028b806c8d3894d4731646483f9524820c441e90f860...</td>\n",
       "      <td>1.0</td>\n",
       "      <td>0.0</td>\n",
       "    </tr>\n",
       "    <tr>\n",
       "      <th>11</th>\n",
       "      <td>c386786627463789628f4a8907524797ba25fe7b164e81...</td>\n",
       "      <td>1.0</td>\n",
       "      <td>1.0</td>\n",
       "    </tr>\n",
       "    <tr>\n",
       "      <th>12</th>\n",
       "      <td>f53f1bcd83da592a1fabf361959c40ab9fedd509a6fc61...</td>\n",
       "      <td>1.0</td>\n",
       "      <td>0.0</td>\n",
       "    </tr>\n",
       "    <tr>\n",
       "      <th>13</th>\n",
       "      <td>a6de5de73dc86609f0da689c7a4ed897f65d0fb1048f05...</td>\n",
       "      <td>1.0</td>\n",
       "      <td>0.0</td>\n",
       "    </tr>\n",
       "    <tr>\n",
       "      <th>14</th>\n",
       "      <td>2e67e657fa19975fc27cb9fb1848fb4365c34243aa1012...</td>\n",
       "      <td>1.0</td>\n",
       "      <td>1.0</td>\n",
       "    </tr>\n",
       "    <tr>\n",
       "      <th>15</th>\n",
       "      <td>08538fcc9dc4ef78b7780771b40df091a32ada4833bf39...</td>\n",
       "      <td>1.0</td>\n",
       "      <td>0.0</td>\n",
       "    </tr>\n",
       "    <tr>\n",
       "      <th>16</th>\n",
       "      <td>fd5a38cdbaf33452a74f25c6e1cc494ee06166e82deb30...</td>\n",
       "      <td>1.0</td>\n",
       "      <td>1.0</td>\n",
       "    </tr>\n",
       "    <tr>\n",
       "      <th>17</th>\n",
       "      <td>cc89dd4e06d12f11f4d2086fba2dc9bf9ab1f198c1edba...</td>\n",
       "      <td>1.0</td>\n",
       "      <td>1.0</td>\n",
       "    </tr>\n",
       "    <tr>\n",
       "      <th>18</th>\n",
       "      <td>23be5a52dbe0f2792c417244b47f6485cb7103fc268d2b...</td>\n",
       "      <td>1.0</td>\n",
       "      <td>1.0</td>\n",
       "    </tr>\n",
       "    <tr>\n",
       "      <th>19</th>\n",
       "      <td>8da4b018fcef06acc4a349b34eeee45aac827648f93422...</td>\n",
       "      <td>1.0</td>\n",
       "      <td>0.0</td>\n",
       "    </tr>\n",
       "    <tr>\n",
       "      <th>20</th>\n",
       "      <td>12bc01334d34d7c62ae67337bec717c4e8be1eddecd55b...</td>\n",
       "      <td>1.0</td>\n",
       "      <td>1.0</td>\n",
       "    </tr>\n",
       "    <tr>\n",
       "      <th>21</th>\n",
       "      <td>7f4ee0ae0d0693b845d5a570600ffe5630fd07663f71eb...</td>\n",
       "      <td>1.0</td>\n",
       "      <td>1.0</td>\n",
       "    </tr>\n",
       "    <tr>\n",
       "      <th>22</th>\n",
       "      <td>49b0fc7df2bc63e6cfc2a4eba8de047e94196821570c93...</td>\n",
       "      <td>1.0</td>\n",
       "      <td>1.0</td>\n",
       "    </tr>\n",
       "    <tr>\n",
       "      <th>23</th>\n",
       "      <td>ed8e8e0ef004616b7338ccc4f33bb3a3cd503200e9d6d9...</td>\n",
       "      <td>1.0</td>\n",
       "      <td>1.0</td>\n",
       "    </tr>\n",
       "    <tr>\n",
       "      <th>24</th>\n",
       "      <td>523c82c4442bfff8eb7990b91572b8222add403a109df5...</td>\n",
       "      <td>1.0</td>\n",
       "      <td>0.0</td>\n",
       "    </tr>\n",
       "    <tr>\n",
       "      <th>25</th>\n",
       "      <td>4309e5b3cf9a0fd5a29826050abdc095078f48f4741836...</td>\n",
       "      <td>1.0</td>\n",
       "      <td>1.0</td>\n",
       "    </tr>\n",
       "    <tr>\n",
       "      <th>26</th>\n",
       "      <td>d37989192ad5d18364d57f501ffa5438d33c5b4d800101...</td>\n",
       "      <td>1.0</td>\n",
       "      <td>0.0</td>\n",
       "    </tr>\n",
       "    <tr>\n",
       "      <th>27</th>\n",
       "      <td>4b1f162952b116f2c75d0da47076c22a566b41ee6dd8ea...</td>\n",
       "      <td>1.0</td>\n",
       "      <td>1.0</td>\n",
       "    </tr>\n",
       "    <tr>\n",
       "      <th>28</th>\n",
       "      <td>0739901c07bd44a92ce6d9a73a870dffa0e42b37a18702...</td>\n",
       "      <td>1.0</td>\n",
       "      <td>0.0</td>\n",
       "    </tr>\n",
       "    <tr>\n",
       "      <th>29</th>\n",
       "      <td>b7d80ef8742a9a091a26e3aca2b27438f612883066fe5e...</td>\n",
       "      <td>1.0</td>\n",
       "      <td>0.0</td>\n",
       "    </tr>\n",
       "    <tr>\n",
       "      <th>...</th>\n",
       "      <td>...</td>\n",
       "      <td>...</td>\n",
       "      <td>...</td>\n",
       "    </tr>\n",
       "    <tr>\n",
       "      <th>6096</th>\n",
       "      <td>e31b73a5a7a7bc650fb1c0d2c8b9a0c6a47fed4da4ed91...</td>\n",
       "      <td>1.0</td>\n",
       "      <td>1.0</td>\n",
       "    </tr>\n",
       "    <tr>\n",
       "      <th>6097</th>\n",
       "      <td>0e3cb4b9a4a3d52ea7884fddc2368b47886a24a449bd52...</td>\n",
       "      <td>1.0</td>\n",
       "      <td>0.0</td>\n",
       "    </tr>\n",
       "    <tr>\n",
       "      <th>6098</th>\n",
       "      <td>06df43bc2e2adaba6683f0d4c17842ad1c5065078639ab...</td>\n",
       "      <td>1.0</td>\n",
       "      <td>0.0</td>\n",
       "    </tr>\n",
       "    <tr>\n",
       "      <th>6099</th>\n",
       "      <td>20b503888ad88321ae5439bb4464a88c6b6f11ed194da4...</td>\n",
       "      <td>1.0</td>\n",
       "      <td>1.0</td>\n",
       "    </tr>\n",
       "    <tr>\n",
       "      <th>6100</th>\n",
       "      <td>5b7a2709b9cfdb061aa4a55b9b4ff278635a5272a339ad...</td>\n",
       "      <td>1.0</td>\n",
       "      <td>0.0</td>\n",
       "    </tr>\n",
       "    <tr>\n",
       "      <th>6101</th>\n",
       "      <td>daa910211ba27ca84e3167255e8e5c7a7df731909e6676...</td>\n",
       "      <td>1.0</td>\n",
       "      <td>0.0</td>\n",
       "    </tr>\n",
       "    <tr>\n",
       "      <th>6102</th>\n",
       "      <td>0046b29932ae737a6080f30f061f349c9e658c0a343eb8...</td>\n",
       "      <td>1.0</td>\n",
       "      <td>1.0</td>\n",
       "    </tr>\n",
       "    <tr>\n",
       "      <th>6103</th>\n",
       "      <td>22cdaa5b4c41ce5b1e416ee2410c0de4da464fb537ebcf...</td>\n",
       "      <td>1.0</td>\n",
       "      <td>1.0</td>\n",
       "    </tr>\n",
       "    <tr>\n",
       "      <th>6104</th>\n",
       "      <td>bed374d0325b54e0542e77960029f4819a966476064cba...</td>\n",
       "      <td>1.0</td>\n",
       "      <td>0.0</td>\n",
       "    </tr>\n",
       "    <tr>\n",
       "      <th>6105</th>\n",
       "      <td>692a0a02b306293554c4f4637ac0e78800dc308f9c41d6...</td>\n",
       "      <td>1.0</td>\n",
       "      <td>0.0</td>\n",
       "    </tr>\n",
       "    <tr>\n",
       "      <th>6106</th>\n",
       "      <td>21440b990f90b1ec87e8927196f448e4f736e4252d5a44...</td>\n",
       "      <td>1.0</td>\n",
       "      <td>0.0</td>\n",
       "    </tr>\n",
       "    <tr>\n",
       "      <th>6107</th>\n",
       "      <td>1f025ee00c65e2d5f2cff9a5a52680c211fcb838045a2d...</td>\n",
       "      <td>1.0</td>\n",
       "      <td>0.0</td>\n",
       "    </tr>\n",
       "    <tr>\n",
       "      <th>6108</th>\n",
       "      <td>8a305b56c93afb98f8b96f777acb9163fbd149e332dd30...</td>\n",
       "      <td>1.0</td>\n",
       "      <td>0.0</td>\n",
       "    </tr>\n",
       "    <tr>\n",
       "      <th>6109</th>\n",
       "      <td>7d411bfdb51510eb220aebecd9c51c304ad966b56ab0a8...</td>\n",
       "      <td>1.0</td>\n",
       "      <td>0.0</td>\n",
       "    </tr>\n",
       "    <tr>\n",
       "      <th>6110</th>\n",
       "      <td>a776bd8bb6cacd07f54244acedbf2d36616b78db29cb4e...</td>\n",
       "      <td>1.0</td>\n",
       "      <td>1.0</td>\n",
       "    </tr>\n",
       "    <tr>\n",
       "      <th>6111</th>\n",
       "      <td>42d26db02298fda0730c1e2fd637dbef97d191e1451e8c...</td>\n",
       "      <td>1.0</td>\n",
       "      <td>0.0</td>\n",
       "    </tr>\n",
       "    <tr>\n",
       "      <th>6112</th>\n",
       "      <td>1ce05f3b63948b6e7c74f53a91c2d1cfddef9621006900...</td>\n",
       "      <td>1.0</td>\n",
       "      <td>1.0</td>\n",
       "    </tr>\n",
       "    <tr>\n",
       "      <th>6113</th>\n",
       "      <td>61e6d58e51539009036290963f7a283c96db1b86bb3df9...</td>\n",
       "      <td>1.0</td>\n",
       "      <td>1.0</td>\n",
       "    </tr>\n",
       "    <tr>\n",
       "      <th>6114</th>\n",
       "      <td>74c037d9e704c77c868bd04de5bd5165dac897f0dba1ce...</td>\n",
       "      <td>1.0</td>\n",
       "      <td>0.0</td>\n",
       "    </tr>\n",
       "    <tr>\n",
       "      <th>6115</th>\n",
       "      <td>31779912713bd438cac2b17978b1473a95cdd08d84e907...</td>\n",
       "      <td>1.0</td>\n",
       "      <td>1.0</td>\n",
       "    </tr>\n",
       "    <tr>\n",
       "      <th>6116</th>\n",
       "      <td>422258b0d258e3b5c613274a3463ebe12fbe2dfff3fa2c...</td>\n",
       "      <td>1.0</td>\n",
       "      <td>1.0</td>\n",
       "    </tr>\n",
       "    <tr>\n",
       "      <th>6117</th>\n",
       "      <td>01a32cb5644a239accedd7e8494a1082befcba4e39c035...</td>\n",
       "      <td>1.0</td>\n",
       "      <td>1.0</td>\n",
       "    </tr>\n",
       "    <tr>\n",
       "      <th>6118</th>\n",
       "      <td>d7f4685872d6c207e53a27a0dd3f400bd1ed6e184463ac...</td>\n",
       "      <td>1.0</td>\n",
       "      <td>1.0</td>\n",
       "    </tr>\n",
       "    <tr>\n",
       "      <th>6119</th>\n",
       "      <td>015f9867e1b01401039fd690ee71416b38ed0c72b3c785...</td>\n",
       "      <td>1.0</td>\n",
       "      <td>1.0</td>\n",
       "    </tr>\n",
       "    <tr>\n",
       "      <th>6120</th>\n",
       "      <td>666704a3b7800c31bf3bfd6210ea9e9f5c78ae24b3d727...</td>\n",
       "      <td>1.0</td>\n",
       "      <td>0.0</td>\n",
       "    </tr>\n",
       "    <tr>\n",
       "      <th>6121</th>\n",
       "      <td>935bf98415a1892b047e3a765564839b24539ecec83266...</td>\n",
       "      <td>1.0</td>\n",
       "      <td>1.0</td>\n",
       "    </tr>\n",
       "    <tr>\n",
       "      <th>6122</th>\n",
       "      <td>d5b4c419a774ed783ca83b0e2af8f070c808f2beb5e809...</td>\n",
       "      <td>1.0</td>\n",
       "      <td>1.0</td>\n",
       "    </tr>\n",
       "    <tr>\n",
       "      <th>6123</th>\n",
       "      <td>37a6bda2f661e665958aaef74190ebe9124845d2d25d24...</td>\n",
       "      <td>1.0</td>\n",
       "      <td>1.0</td>\n",
       "    </tr>\n",
       "    <tr>\n",
       "      <th>6124</th>\n",
       "      <td>ff191d081c4d4629082688bb95a7afd6a2ac6911ded427...</td>\n",
       "      <td>1.0</td>\n",
       "      <td>1.0</td>\n",
       "    </tr>\n",
       "    <tr>\n",
       "      <th>6125</th>\n",
       "      <td>2820306b1425196413fd71b05faab1c22a0b03c8d20fb1...</td>\n",
       "      <td>1.0</td>\n",
       "      <td>0.0</td>\n",
       "    </tr>\n",
       "  </tbody>\n",
       "</table>\n",
       "<p>6126 rows × 3 columns</p>\n",
       "</div>"
      ],
      "text/plain": [
       "                                           user_id_hash  label_14  label_7\n",
       "0     280a7625f66e60896e558eaeee6b3eb0419c488eed15ef...       1.0      0.0\n",
       "1     0e02d992cae31bf3cc09708fc70db2cf935288bf715aa7...       1.0      0.0\n",
       "2     f885fd72310deaa1b7591bb3af277e632c364d36bdda5e...       1.0      0.0\n",
       "3     5fb8780d18dfc69e2c968508d624828ecff7b504bf2719...       1.0      1.0\n",
       "4     75ce9e8bf0517bc7dec67b715f3caf38871135c5cd462b...       1.0      0.0\n",
       "5     965ab5f1063f10193ab6361fdaa395065a2b9b1c4cc36b...       1.0      1.0\n",
       "6     7ab6d7a12a41aa35981369dafd3fba4d4fbc2ffaac6fae...       1.0      1.0\n",
       "7     b1c50668d9790138db22cc23cbf3fde97269d1b5680c90...       1.0      1.0\n",
       "8     e45e7f7c4a4fe840a7efd93dd3450b5b36d05bb25df4a0...       1.0      1.0\n",
       "9     684543899327eb0472e13706880bd4e20298d55d9d6834...       1.0      1.0\n",
       "10    ba028b806c8d3894d4731646483f9524820c441e90f860...       1.0      0.0\n",
       "11    c386786627463789628f4a8907524797ba25fe7b164e81...       1.0      1.0\n",
       "12    f53f1bcd83da592a1fabf361959c40ab9fedd509a6fc61...       1.0      0.0\n",
       "13    a6de5de73dc86609f0da689c7a4ed897f65d0fb1048f05...       1.0      0.0\n",
       "14    2e67e657fa19975fc27cb9fb1848fb4365c34243aa1012...       1.0      1.0\n",
       "15    08538fcc9dc4ef78b7780771b40df091a32ada4833bf39...       1.0      0.0\n",
       "16    fd5a38cdbaf33452a74f25c6e1cc494ee06166e82deb30...       1.0      1.0\n",
       "17    cc89dd4e06d12f11f4d2086fba2dc9bf9ab1f198c1edba...       1.0      1.0\n",
       "18    23be5a52dbe0f2792c417244b47f6485cb7103fc268d2b...       1.0      1.0\n",
       "19    8da4b018fcef06acc4a349b34eeee45aac827648f93422...       1.0      0.0\n",
       "20    12bc01334d34d7c62ae67337bec717c4e8be1eddecd55b...       1.0      1.0\n",
       "21    7f4ee0ae0d0693b845d5a570600ffe5630fd07663f71eb...       1.0      1.0\n",
       "22    49b0fc7df2bc63e6cfc2a4eba8de047e94196821570c93...       1.0      1.0\n",
       "23    ed8e8e0ef004616b7338ccc4f33bb3a3cd503200e9d6d9...       1.0      1.0\n",
       "24    523c82c4442bfff8eb7990b91572b8222add403a109df5...       1.0      0.0\n",
       "25    4309e5b3cf9a0fd5a29826050abdc095078f48f4741836...       1.0      1.0\n",
       "26    d37989192ad5d18364d57f501ffa5438d33c5b4d800101...       1.0      0.0\n",
       "27    4b1f162952b116f2c75d0da47076c22a566b41ee6dd8ea...       1.0      1.0\n",
       "28    0739901c07bd44a92ce6d9a73a870dffa0e42b37a18702...       1.0      0.0\n",
       "29    b7d80ef8742a9a091a26e3aca2b27438f612883066fe5e...       1.0      0.0\n",
       "...                                                 ...       ...      ...\n",
       "6096  e31b73a5a7a7bc650fb1c0d2c8b9a0c6a47fed4da4ed91...       1.0      1.0\n",
       "6097  0e3cb4b9a4a3d52ea7884fddc2368b47886a24a449bd52...       1.0      0.0\n",
       "6098  06df43bc2e2adaba6683f0d4c17842ad1c5065078639ab...       1.0      0.0\n",
       "6099  20b503888ad88321ae5439bb4464a88c6b6f11ed194da4...       1.0      1.0\n",
       "6100  5b7a2709b9cfdb061aa4a55b9b4ff278635a5272a339ad...       1.0      0.0\n",
       "6101  daa910211ba27ca84e3167255e8e5c7a7df731909e6676...       1.0      0.0\n",
       "6102  0046b29932ae737a6080f30f061f349c9e658c0a343eb8...       1.0      1.0\n",
       "6103  22cdaa5b4c41ce5b1e416ee2410c0de4da464fb537ebcf...       1.0      1.0\n",
       "6104  bed374d0325b54e0542e77960029f4819a966476064cba...       1.0      0.0\n",
       "6105  692a0a02b306293554c4f4637ac0e78800dc308f9c41d6...       1.0      0.0\n",
       "6106  21440b990f90b1ec87e8927196f448e4f736e4252d5a44...       1.0      0.0\n",
       "6107  1f025ee00c65e2d5f2cff9a5a52680c211fcb838045a2d...       1.0      0.0\n",
       "6108  8a305b56c93afb98f8b96f777acb9163fbd149e332dd30...       1.0      0.0\n",
       "6109  7d411bfdb51510eb220aebecd9c51c304ad966b56ab0a8...       1.0      0.0\n",
       "6110  a776bd8bb6cacd07f54244acedbf2d36616b78db29cb4e...       1.0      1.0\n",
       "6111  42d26db02298fda0730c1e2fd637dbef97d191e1451e8c...       1.0      0.0\n",
       "6112  1ce05f3b63948b6e7c74f53a91c2d1cfddef9621006900...       1.0      1.0\n",
       "6113  61e6d58e51539009036290963f7a283c96db1b86bb3df9...       1.0      1.0\n",
       "6114  74c037d9e704c77c868bd04de5bd5165dac897f0dba1ce...       1.0      0.0\n",
       "6115  31779912713bd438cac2b17978b1473a95cdd08d84e907...       1.0      1.0\n",
       "6116  422258b0d258e3b5c613274a3463ebe12fbe2dfff3fa2c...       1.0      1.0\n",
       "6117  01a32cb5644a239accedd7e8494a1082befcba4e39c035...       1.0      1.0\n",
       "6118  d7f4685872d6c207e53a27a0dd3f400bd1ed6e184463ac...       1.0      1.0\n",
       "6119  015f9867e1b01401039fd690ee71416b38ed0c72b3c785...       1.0      1.0\n",
       "6120  666704a3b7800c31bf3bfd6210ea9e9f5c78ae24b3d727...       1.0      0.0\n",
       "6121  935bf98415a1892b047e3a765564839b24539ecec83266...       1.0      1.0\n",
       "6122  d5b4c419a774ed783ca83b0e2af8f070c808f2beb5e809...       1.0      1.0\n",
       "6123  37a6bda2f661e665958aaef74190ebe9124845d2d25d24...       1.0      1.0\n",
       "6124  ff191d081c4d4629082688bb95a7afd6a2ac6911ded427...       1.0      1.0\n",
       "6125  2820306b1425196413fd71b05faab1c22a0b03c8d20fb1...       1.0      0.0\n",
       "\n",
       "[6126 rows x 3 columns]"
      ]
     },
     "execution_count": 34,
     "metadata": {},
     "output_type": "execute_result"
    }
   ],
   "source": [
    "Labels"
   ]
  },
  {
   "cell_type": "code",
   "execution_count": 36,
   "metadata": {},
   "outputs": [
    {
     "name": "stdout",
     "output_type": "stream",
     "text": [
      "number of unique users in events.csv is: 621001\n",
      "number of unique users in lastest 7 days is: 49328\n",
      "number of unique users in lastest 14 days is: 89291\n"
     ]
    }
   ],
   "source": [
    "print(\"number of unique users in events.csv is: \"+str(len(events.user_id_hash.unique())))\n",
    "print(\"number of unique users in lastest 7 days is: \"+str(len(event_7.user_id_hash.unique())))\n",
    "print(\"number of unique users in lastest 14 days is: \"+str(len(event_14.user_id_hash.unique())))"
   ]
  },
  {
   "cell_type": "code",
   "execution_count": null,
   "metadata": {},
   "outputs": [],
   "source": []
  }
 ],
 "metadata": {
  "kernelspec": {
   "display_name": "Python 3",
   "language": "python",
   "name": "python3"
  },
  "language_info": {
   "codemirror_mode": {
    "name": "ipython",
    "version": 3
   },
   "file_extension": ".py",
   "mimetype": "text/x-python",
   "name": "python",
   "nbconvert_exporter": "python",
   "pygments_lexer": "ipython3",
   "version": "3.7.1"
  },
  "toc": {
   "base_numbering": 1,
   "nav_menu": {},
   "number_sections": true,
   "sideBar": true,
   "skip_h1_title": false,
   "title_cell": "Table of Contents",
   "title_sidebar": "Contents",
   "toc_cell": false,
   "toc_position": {},
   "toc_section_display": true,
   "toc_window_display": false
  }
 },
 "nbformat": 4,
 "nbformat_minor": 2
}
