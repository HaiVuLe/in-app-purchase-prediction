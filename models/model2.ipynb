{
 "cells": [
  {
   "cell_type": "code",
   "execution_count": 5,
   "metadata": {
    "ExecuteTime": {
     "end_time": "2019-02-23T18:34:01.200064Z",
     "start_time": "2019-02-23T18:33:57.993710Z"
    }
   },
   "outputs": [
    {
     "name": "stderr",
     "output_type": "stream",
     "text": [
      "/anaconda3/lib/python3.7/site-packages/sklearn/ensemble/weight_boosting.py:29: DeprecationWarning: numpy.core.umath_tests is an internal NumPy module and should not be imported. It will be removed in a future NumPy release.\n",
      "  from numpy.core.umath_tests import inner1d\n"
     ]
    }
   ],
   "source": [
    "import feather\n",
    "import pandas as pd\n",
    "import numpy as np\n",
    "from sklearn.ensemble import RandomForestClassifier\n",
    "from sklearn.model_selection import train_test_split\n",
    "from sklearn.metrics import roc_auc_score"
   ]
  },
  {
   "cell_type": "markdown",
   "metadata": {},
   "source": [
    "# Defining helper functions"
   ]
  },
  {
   "cell_type": "code",
   "execution_count": 2,
   "metadata": {
    "ExecuteTime": {
     "end_time": "2019-02-23T18:33:48.715325Z",
     "start_time": "2019-02-23T18:33:48.710668Z"
    }
   },
   "outputs": [],
   "source": [
    "def load_data(fname, label):\n",
    "    \"\"\"Load features and labels file and join them together using user_id_hash\"\"\"\n",
    "    df = feather.read_dataframe(fname)\n",
    "    df['user_id_hash'] = df['user_id_hash'].astype('category')\n",
    "    labels = pd.read_csv('labels.csv', usecols=['user_id_hash', label])\n",
    "    df = df.merge(labels, how='left', on='user_id_hash')\n",
    "    df[label].fillna(0, inplace=True)\n",
    "    df = df.dropna(axis=0)\n",
    "    return df"
   ]
  },
  {
   "cell_type": "code",
   "execution_count": 3,
   "metadata": {
    "ExecuteTime": {
     "end_time": "2019-02-23T18:33:49.152555Z",
     "start_time": "2019-02-23T18:33:49.148401Z"
    }
   },
   "outputs": [],
   "source": [
    "def stratified_data_split(feature_columns:list, label_column:str):\n",
    "    \"\"\"Splitting train and test set using stratified sampling given that our data is highly skewed\"\"\"\n",
    "    return train_test_split(df[feature_columns],\n",
    "                            df[label_column], \n",
    "                            stratify=df[label_column], random_state=1)"
   ]
  },
  {
   "cell_type": "markdown",
   "metadata": {},
   "source": [
    "# Model for 14 days period"
   ]
  },
  {
   "cell_type": "code",
   "execution_count": 35,
   "metadata": {
    "ExecuteTime": {
     "end_time": "2019-02-23T02:10:58.122873Z",
     "start_time": "2019-02-23T02:10:54.360997Z"
    }
   },
   "outputs": [],
   "source": [
    "df = load_data(fname='Data/features_before_14_w_events.feather', label='label_14')"
   ]
  },
  {
   "cell_type": "code",
   "execution_count": 36,
   "metadata": {
    "ExecuteTime": {
     "end_time": "2019-02-23T02:10:58.151673Z",
     "start_time": "2019-02-23T02:10:58.125480Z"
    }
   },
   "outputs": [
    {
     "data": {
      "text/html": [
       "<div>\n",
       "<style scoped>\n",
       "    .dataframe tbody tr th:only-of-type {\n",
       "        vertical-align: middle;\n",
       "    }\n",
       "\n",
       "    .dataframe tbody tr th {\n",
       "        vertical-align: top;\n",
       "    }\n",
       "\n",
       "    .dataframe thead th {\n",
       "        text-align: right;\n",
       "    }\n",
       "</style>\n",
       "<table border=\"1\" class=\"dataframe\">\n",
       "  <thead>\n",
       "    <tr style=\"text-align: right;\">\n",
       "      <th></th>\n",
       "      <th>620326</th>\n",
       "      <th>620327</th>\n",
       "      <th>620328</th>\n",
       "      <th>620329</th>\n",
       "      <th>620330</th>\n",
       "    </tr>\n",
       "  </thead>\n",
       "  <tbody>\n",
       "    <tr>\n",
       "      <th>user_id_hash</th>\n",
       "      <td>fc17cb069b3f1c91feb326ebd48d8ccc6cc9e8892a632d...</td>\n",
       "      <td>fc836b0fb93fb19124abeadf4d7cfae0deb8b0523303cd...</td>\n",
       "      <td>fe6295a8142f4799d1c122e7855f682e9d4670aa25555f...</td>\n",
       "      <td>feae65e92d95c4610997c27ef1b943bd92b3b6c4a064d1...</td>\n",
       "      <td>ff191d081c4d4629082688bb95a7afd6a2ac6911ded427...</td>\n",
       "    </tr>\n",
       "    <tr>\n",
       "      <th>num_session</th>\n",
       "      <td>3</td>\n",
       "      <td>20</td>\n",
       "      <td>5</td>\n",
       "      <td>2</td>\n",
       "      <td>104</td>\n",
       "    </tr>\n",
       "    <tr>\n",
       "      <th>last_active</th>\n",
       "      <td>15</td>\n",
       "      <td>3</td>\n",
       "      <td>31</td>\n",
       "      <td>0</td>\n",
       "      <td>0</td>\n",
       "    </tr>\n",
       "    <tr>\n",
       "      <th>receive_message</th>\n",
       "      <td>0</td>\n",
       "      <td>3</td>\n",
       "      <td>1</td>\n",
       "      <td>0</td>\n",
       "      <td>6</td>\n",
       "    </tr>\n",
       "    <tr>\n",
       "      <th>accept_message</th>\n",
       "      <td>0</td>\n",
       "      <td>1</td>\n",
       "      <td>0</td>\n",
       "      <td>0</td>\n",
       "      <td>1</td>\n",
       "    </tr>\n",
       "    <tr>\n",
       "      <th>life_time_value</th>\n",
       "      <td>0</td>\n",
       "      <td>31.437</td>\n",
       "      <td>0</td>\n",
       "      <td>0</td>\n",
       "      <td>195.832</td>\n",
       "    </tr>\n",
       "    <tr>\n",
       "      <th>num_purchase</th>\n",
       "      <td>0</td>\n",
       "      <td>9</td>\n",
       "      <td>0</td>\n",
       "      <td>0</td>\n",
       "      <td>124</td>\n",
       "    </tr>\n",
       "    <tr>\n",
       "      <th>avg_purchase</th>\n",
       "      <td>0</td>\n",
       "      <td>3.493</td>\n",
       "      <td>0</td>\n",
       "      <td>0</td>\n",
       "      <td>1.57929</td>\n",
       "    </tr>\n",
       "    <tr>\n",
       "      <th>num_event</th>\n",
       "      <td>29</td>\n",
       "      <td>585</td>\n",
       "      <td>50</td>\n",
       "      <td>5</td>\n",
       "      <td>2781</td>\n",
       "    </tr>\n",
       "    <tr>\n",
       "      <th>event_per_session</th>\n",
       "      <td>9.66667</td>\n",
       "      <td>29.25</td>\n",
       "      <td>10</td>\n",
       "      <td>2.5</td>\n",
       "      <td>26.7404</td>\n",
       "    </tr>\n",
       "    <tr>\n",
       "      <th>last_date_event_0</th>\n",
       "      <td>15</td>\n",
       "      <td>-1</td>\n",
       "      <td>31</td>\n",
       "      <td>0</td>\n",
       "      <td>-1</td>\n",
       "    </tr>\n",
       "    <tr>\n",
       "      <th>last_date_event_1</th>\n",
       "      <td>18</td>\n",
       "      <td>5</td>\n",
       "      <td>36</td>\n",
       "      <td>-1</td>\n",
       "      <td>0</td>\n",
       "    </tr>\n",
       "    <tr>\n",
       "      <th>last_date_event_10</th>\n",
       "      <td>-1</td>\n",
       "      <td>-1</td>\n",
       "      <td>-1</td>\n",
       "      <td>-1</td>\n",
       "      <td>-1</td>\n",
       "    </tr>\n",
       "    <tr>\n",
       "      <th>last_date_event_11</th>\n",
       "      <td>-1</td>\n",
       "      <td>27</td>\n",
       "      <td>-1</td>\n",
       "      <td>-1</td>\n",
       "      <td>58</td>\n",
       "    </tr>\n",
       "    <tr>\n",
       "      <th>last_date_event_14</th>\n",
       "      <td>18</td>\n",
       "      <td>26</td>\n",
       "      <td>37</td>\n",
       "      <td>-1</td>\n",
       "      <td>3</td>\n",
       "    </tr>\n",
       "    <tr>\n",
       "      <th>last_date_event_3</th>\n",
       "      <td>-1</td>\n",
       "      <td>3</td>\n",
       "      <td>-1</td>\n",
       "      <td>-1</td>\n",
       "      <td>3</td>\n",
       "    </tr>\n",
       "    <tr>\n",
       "      <th>last_date_event_32</th>\n",
       "      <td>-1</td>\n",
       "      <td>-1</td>\n",
       "      <td>-1</td>\n",
       "      <td>-1</td>\n",
       "      <td>-1</td>\n",
       "    </tr>\n",
       "    <tr>\n",
       "      <th>last_date_event_4</th>\n",
       "      <td>-1</td>\n",
       "      <td>3</td>\n",
       "      <td>-1</td>\n",
       "      <td>-1</td>\n",
       "      <td>0</td>\n",
       "    </tr>\n",
       "    <tr>\n",
       "      <th>last_date_event_40</th>\n",
       "      <td>-1</td>\n",
       "      <td>3</td>\n",
       "      <td>-1</td>\n",
       "      <td>-1</td>\n",
       "      <td>0</td>\n",
       "    </tr>\n",
       "    <tr>\n",
       "      <th>last_date_event_41</th>\n",
       "      <td>-1</td>\n",
       "      <td>3</td>\n",
       "      <td>-1</td>\n",
       "      <td>-1</td>\n",
       "      <td>3</td>\n",
       "    </tr>\n",
       "    <tr>\n",
       "      <th>last_date_event_42</th>\n",
       "      <td>-1</td>\n",
       "      <td>3</td>\n",
       "      <td>-1</td>\n",
       "      <td>-1</td>\n",
       "      <td>35</td>\n",
       "    </tr>\n",
       "    <tr>\n",
       "      <th>last_date_event_43</th>\n",
       "      <td>-1</td>\n",
       "      <td>-1</td>\n",
       "      <td>-1</td>\n",
       "      <td>-1</td>\n",
       "      <td>-1</td>\n",
       "    </tr>\n",
       "    <tr>\n",
       "      <th>last_date_event_44</th>\n",
       "      <td>18</td>\n",
       "      <td>27</td>\n",
       "      <td>37</td>\n",
       "      <td>-1</td>\n",
       "      <td>58</td>\n",
       "    </tr>\n",
       "    <tr>\n",
       "      <th>last_date_event_45</th>\n",
       "      <td>18</td>\n",
       "      <td>3</td>\n",
       "      <td>36</td>\n",
       "      <td>-1</td>\n",
       "      <td>0</td>\n",
       "    </tr>\n",
       "    <tr>\n",
       "      <th>last_date_event_47</th>\n",
       "      <td>-1</td>\n",
       "      <td>-1</td>\n",
       "      <td>-1</td>\n",
       "      <td>-1</td>\n",
       "      <td>-1</td>\n",
       "    </tr>\n",
       "    <tr>\n",
       "      <th>last_date_event_48</th>\n",
       "      <td>-1</td>\n",
       "      <td>-1</td>\n",
       "      <td>-1</td>\n",
       "      <td>-1</td>\n",
       "      <td>-1</td>\n",
       "    </tr>\n",
       "    <tr>\n",
       "      <th>last_date_event_49</th>\n",
       "      <td>-1</td>\n",
       "      <td>-1</td>\n",
       "      <td>-1</td>\n",
       "      <td>-1</td>\n",
       "      <td>-1</td>\n",
       "    </tr>\n",
       "    <tr>\n",
       "      <th>last_date_event_5</th>\n",
       "      <td>18</td>\n",
       "      <td>3</td>\n",
       "      <td>37</td>\n",
       "      <td>-1</td>\n",
       "      <td>0</td>\n",
       "    </tr>\n",
       "    <tr>\n",
       "      <th>last_date_event_50</th>\n",
       "      <td>-1</td>\n",
       "      <td>-1</td>\n",
       "      <td>-1</td>\n",
       "      <td>-1</td>\n",
       "      <td>-1</td>\n",
       "    </tr>\n",
       "    <tr>\n",
       "      <th>last_date_event_51</th>\n",
       "      <td>-1</td>\n",
       "      <td>-1</td>\n",
       "      <td>-1</td>\n",
       "      <td>-1</td>\n",
       "      <td>-1</td>\n",
       "    </tr>\n",
       "    <tr>\n",
       "      <th>last_date_event_52</th>\n",
       "      <td>-1</td>\n",
       "      <td>-1</td>\n",
       "      <td>-1</td>\n",
       "      <td>-1</td>\n",
       "      <td>-1</td>\n",
       "    </tr>\n",
       "    <tr>\n",
       "      <th>last_date_event_54</th>\n",
       "      <td>-1</td>\n",
       "      <td>-1</td>\n",
       "      <td>-1</td>\n",
       "      <td>-1</td>\n",
       "      <td>-1</td>\n",
       "    </tr>\n",
       "    <tr>\n",
       "      <th>last_date_event_55</th>\n",
       "      <td>-1</td>\n",
       "      <td>-1</td>\n",
       "      <td>-1</td>\n",
       "      <td>-1</td>\n",
       "      <td>-1</td>\n",
       "    </tr>\n",
       "    <tr>\n",
       "      <th>last_date_event_56</th>\n",
       "      <td>-1</td>\n",
       "      <td>-1</td>\n",
       "      <td>-1</td>\n",
       "      <td>-1</td>\n",
       "      <td>-1</td>\n",
       "    </tr>\n",
       "    <tr>\n",
       "      <th>last_date_event_57</th>\n",
       "      <td>-1</td>\n",
       "      <td>-1</td>\n",
       "      <td>-1</td>\n",
       "      <td>-1</td>\n",
       "      <td>-1</td>\n",
       "    </tr>\n",
       "    <tr>\n",
       "      <th>last_date_event_58</th>\n",
       "      <td>-1</td>\n",
       "      <td>-1</td>\n",
       "      <td>-1</td>\n",
       "      <td>-1</td>\n",
       "      <td>-1</td>\n",
       "    </tr>\n",
       "    <tr>\n",
       "      <th>last_date_event_59</th>\n",
       "      <td>-1</td>\n",
       "      <td>-1</td>\n",
       "      <td>-1</td>\n",
       "      <td>-1</td>\n",
       "      <td>-1</td>\n",
       "    </tr>\n",
       "    <tr>\n",
       "      <th>last_date_event_6</th>\n",
       "      <td>-1</td>\n",
       "      <td>3</td>\n",
       "      <td>37</td>\n",
       "      <td>-1</td>\n",
       "      <td>0</td>\n",
       "    </tr>\n",
       "    <tr>\n",
       "      <th>last_date_event_60</th>\n",
       "      <td>-1</td>\n",
       "      <td>-1</td>\n",
       "      <td>-1</td>\n",
       "      <td>-1</td>\n",
       "      <td>-1</td>\n",
       "    </tr>\n",
       "    <tr>\n",
       "      <th>last_date_event_61</th>\n",
       "      <td>-1</td>\n",
       "      <td>-1</td>\n",
       "      <td>-1</td>\n",
       "      <td>-1</td>\n",
       "      <td>-1</td>\n",
       "    </tr>\n",
       "    <tr>\n",
       "      <th>last_date_event_63</th>\n",
       "      <td>-1</td>\n",
       "      <td>-1</td>\n",
       "      <td>-1</td>\n",
       "      <td>-1</td>\n",
       "      <td>-1</td>\n",
       "    </tr>\n",
       "    <tr>\n",
       "      <th>last_date_event_64</th>\n",
       "      <td>-1</td>\n",
       "      <td>-1</td>\n",
       "      <td>-1</td>\n",
       "      <td>-1</td>\n",
       "      <td>-1</td>\n",
       "    </tr>\n",
       "    <tr>\n",
       "      <th>last_date_event_7</th>\n",
       "      <td>18</td>\n",
       "      <td>3</td>\n",
       "      <td>37</td>\n",
       "      <td>-1</td>\n",
       "      <td>0</td>\n",
       "    </tr>\n",
       "    <tr>\n",
       "      <th>last_purchase</th>\n",
       "      <td>-1</td>\n",
       "      <td>3</td>\n",
       "      <td>-1</td>\n",
       "      <td>-1</td>\n",
       "      <td>0</td>\n",
       "    </tr>\n",
       "    <tr>\n",
       "      <th>last_date_event_9</th>\n",
       "      <td>-1</td>\n",
       "      <td>-1</td>\n",
       "      <td>-1</td>\n",
       "      <td>-1</td>\n",
       "      <td>1</td>\n",
       "    </tr>\n",
       "    <tr>\n",
       "      <th>label_14</th>\n",
       "      <td>0</td>\n",
       "      <td>0</td>\n",
       "      <td>0</td>\n",
       "      <td>0</td>\n",
       "      <td>1</td>\n",
       "    </tr>\n",
       "  </tbody>\n",
       "</table>\n",
       "</div>"
      ],
      "text/plain": [
       "                                                               620326  \\\n",
       "user_id_hash        fc17cb069b3f1c91feb326ebd48d8ccc6cc9e8892a632d...   \n",
       "num_session                                                         3   \n",
       "last_active                                                        15   \n",
       "receive_message                                                     0   \n",
       "accept_message                                                      0   \n",
       "life_time_value                                                     0   \n",
       "num_purchase                                                        0   \n",
       "avg_purchase                                                        0   \n",
       "num_event                                                          29   \n",
       "event_per_session                                             9.66667   \n",
       "last_date_event_0                                                  15   \n",
       "last_date_event_1                                                  18   \n",
       "last_date_event_10                                                 -1   \n",
       "last_date_event_11                                                 -1   \n",
       "last_date_event_14                                                 18   \n",
       "last_date_event_3                                                  -1   \n",
       "last_date_event_32                                                 -1   \n",
       "last_date_event_4                                                  -1   \n",
       "last_date_event_40                                                 -1   \n",
       "last_date_event_41                                                 -1   \n",
       "last_date_event_42                                                 -1   \n",
       "last_date_event_43                                                 -1   \n",
       "last_date_event_44                                                 18   \n",
       "last_date_event_45                                                 18   \n",
       "last_date_event_47                                                 -1   \n",
       "last_date_event_48                                                 -1   \n",
       "last_date_event_49                                                 -1   \n",
       "last_date_event_5                                                  18   \n",
       "last_date_event_50                                                 -1   \n",
       "last_date_event_51                                                 -1   \n",
       "last_date_event_52                                                 -1   \n",
       "last_date_event_54                                                 -1   \n",
       "last_date_event_55                                                 -1   \n",
       "last_date_event_56                                                 -1   \n",
       "last_date_event_57                                                 -1   \n",
       "last_date_event_58                                                 -1   \n",
       "last_date_event_59                                                 -1   \n",
       "last_date_event_6                                                  -1   \n",
       "last_date_event_60                                                 -1   \n",
       "last_date_event_61                                                 -1   \n",
       "last_date_event_63                                                 -1   \n",
       "last_date_event_64                                                 -1   \n",
       "last_date_event_7                                                  18   \n",
       "last_purchase                                                      -1   \n",
       "last_date_event_9                                                  -1   \n",
       "label_14                                                            0   \n",
       "\n",
       "                                                               620327  \\\n",
       "user_id_hash        fc836b0fb93fb19124abeadf4d7cfae0deb8b0523303cd...   \n",
       "num_session                                                        20   \n",
       "last_active                                                         3   \n",
       "receive_message                                                     3   \n",
       "accept_message                                                      1   \n",
       "life_time_value                                                31.437   \n",
       "num_purchase                                                        9   \n",
       "avg_purchase                                                    3.493   \n",
       "num_event                                                         585   \n",
       "event_per_session                                               29.25   \n",
       "last_date_event_0                                                  -1   \n",
       "last_date_event_1                                                   5   \n",
       "last_date_event_10                                                 -1   \n",
       "last_date_event_11                                                 27   \n",
       "last_date_event_14                                                 26   \n",
       "last_date_event_3                                                   3   \n",
       "last_date_event_32                                                 -1   \n",
       "last_date_event_4                                                   3   \n",
       "last_date_event_40                                                  3   \n",
       "last_date_event_41                                                  3   \n",
       "last_date_event_42                                                  3   \n",
       "last_date_event_43                                                 -1   \n",
       "last_date_event_44                                                 27   \n",
       "last_date_event_45                                                  3   \n",
       "last_date_event_47                                                 -1   \n",
       "last_date_event_48                                                 -1   \n",
       "last_date_event_49                                                 -1   \n",
       "last_date_event_5                                                   3   \n",
       "last_date_event_50                                                 -1   \n",
       "last_date_event_51                                                 -1   \n",
       "last_date_event_52                                                 -1   \n",
       "last_date_event_54                                                 -1   \n",
       "last_date_event_55                                                 -1   \n",
       "last_date_event_56                                                 -1   \n",
       "last_date_event_57                                                 -1   \n",
       "last_date_event_58                                                 -1   \n",
       "last_date_event_59                                                 -1   \n",
       "last_date_event_6                                                   3   \n",
       "last_date_event_60                                                 -1   \n",
       "last_date_event_61                                                 -1   \n",
       "last_date_event_63                                                 -1   \n",
       "last_date_event_64                                                 -1   \n",
       "last_date_event_7                                                   3   \n",
       "last_purchase                                                       3   \n",
       "last_date_event_9                                                  -1   \n",
       "label_14                                                            0   \n",
       "\n",
       "                                                               620328  \\\n",
       "user_id_hash        fe6295a8142f4799d1c122e7855f682e9d4670aa25555f...   \n",
       "num_session                                                         5   \n",
       "last_active                                                        31   \n",
       "receive_message                                                     1   \n",
       "accept_message                                                      0   \n",
       "life_time_value                                                     0   \n",
       "num_purchase                                                        0   \n",
       "avg_purchase                                                        0   \n",
       "num_event                                                          50   \n",
       "event_per_session                                                  10   \n",
       "last_date_event_0                                                  31   \n",
       "last_date_event_1                                                  36   \n",
       "last_date_event_10                                                 -1   \n",
       "last_date_event_11                                                 -1   \n",
       "last_date_event_14                                                 37   \n",
       "last_date_event_3                                                  -1   \n",
       "last_date_event_32                                                 -1   \n",
       "last_date_event_4                                                  -1   \n",
       "last_date_event_40                                                 -1   \n",
       "last_date_event_41                                                 -1   \n",
       "last_date_event_42                                                 -1   \n",
       "last_date_event_43                                                 -1   \n",
       "last_date_event_44                                                 37   \n",
       "last_date_event_45                                                 36   \n",
       "last_date_event_47                                                 -1   \n",
       "last_date_event_48                                                 -1   \n",
       "last_date_event_49                                                 -1   \n",
       "last_date_event_5                                                  37   \n",
       "last_date_event_50                                                 -1   \n",
       "last_date_event_51                                                 -1   \n",
       "last_date_event_52                                                 -1   \n",
       "last_date_event_54                                                 -1   \n",
       "last_date_event_55                                                 -1   \n",
       "last_date_event_56                                                 -1   \n",
       "last_date_event_57                                                 -1   \n",
       "last_date_event_58                                                 -1   \n",
       "last_date_event_59                                                 -1   \n",
       "last_date_event_6                                                  37   \n",
       "last_date_event_60                                                 -1   \n",
       "last_date_event_61                                                 -1   \n",
       "last_date_event_63                                                 -1   \n",
       "last_date_event_64                                                 -1   \n",
       "last_date_event_7                                                  37   \n",
       "last_purchase                                                      -1   \n",
       "last_date_event_9                                                  -1   \n",
       "label_14                                                            0   \n",
       "\n",
       "                                                               620329  \\\n",
       "user_id_hash        feae65e92d95c4610997c27ef1b943bd92b3b6c4a064d1...   \n",
       "num_session                                                         2   \n",
       "last_active                                                         0   \n",
       "receive_message                                                     0   \n",
       "accept_message                                                      0   \n",
       "life_time_value                                                     0   \n",
       "num_purchase                                                        0   \n",
       "avg_purchase                                                        0   \n",
       "num_event                                                           5   \n",
       "event_per_session                                                 2.5   \n",
       "last_date_event_0                                                   0   \n",
       "last_date_event_1                                                  -1   \n",
       "last_date_event_10                                                 -1   \n",
       "last_date_event_11                                                 -1   \n",
       "last_date_event_14                                                 -1   \n",
       "last_date_event_3                                                  -1   \n",
       "last_date_event_32                                                 -1   \n",
       "last_date_event_4                                                  -1   \n",
       "last_date_event_40                                                 -1   \n",
       "last_date_event_41                                                 -1   \n",
       "last_date_event_42                                                 -1   \n",
       "last_date_event_43                                                 -1   \n",
       "last_date_event_44                                                 -1   \n",
       "last_date_event_45                                                 -1   \n",
       "last_date_event_47                                                 -1   \n",
       "last_date_event_48                                                 -1   \n",
       "last_date_event_49                                                 -1   \n",
       "last_date_event_5                                                  -1   \n",
       "last_date_event_50                                                 -1   \n",
       "last_date_event_51                                                 -1   \n",
       "last_date_event_52                                                 -1   \n",
       "last_date_event_54                                                 -1   \n",
       "last_date_event_55                                                 -1   \n",
       "last_date_event_56                                                 -1   \n",
       "last_date_event_57                                                 -1   \n",
       "last_date_event_58                                                 -1   \n",
       "last_date_event_59                                                 -1   \n",
       "last_date_event_6                                                  -1   \n",
       "last_date_event_60                                                 -1   \n",
       "last_date_event_61                                                 -1   \n",
       "last_date_event_63                                                 -1   \n",
       "last_date_event_64                                                 -1   \n",
       "last_date_event_7                                                  -1   \n",
       "last_purchase                                                      -1   \n",
       "last_date_event_9                                                  -1   \n",
       "label_14                                                            0   \n",
       "\n",
       "                                                               620330  \n",
       "user_id_hash        ff191d081c4d4629082688bb95a7afd6a2ac6911ded427...  \n",
       "num_session                                                       104  \n",
       "last_active                                                         0  \n",
       "receive_message                                                     6  \n",
       "accept_message                                                      1  \n",
       "life_time_value                                               195.832  \n",
       "num_purchase                                                      124  \n",
       "avg_purchase                                                  1.57929  \n",
       "num_event                                                        2781  \n",
       "event_per_session                                             26.7404  \n",
       "last_date_event_0                                                  -1  \n",
       "last_date_event_1                                                   0  \n",
       "last_date_event_10                                                 -1  \n",
       "last_date_event_11                                                 58  \n",
       "last_date_event_14                                                  3  \n",
       "last_date_event_3                                                   3  \n",
       "last_date_event_32                                                 -1  \n",
       "last_date_event_4                                                   0  \n",
       "last_date_event_40                                                  0  \n",
       "last_date_event_41                                                  3  \n",
       "last_date_event_42                                                 35  \n",
       "last_date_event_43                                                 -1  \n",
       "last_date_event_44                                                 58  \n",
       "last_date_event_45                                                  0  \n",
       "last_date_event_47                                                 -1  \n",
       "last_date_event_48                                                 -1  \n",
       "last_date_event_49                                                 -1  \n",
       "last_date_event_5                                                   0  \n",
       "last_date_event_50                                                 -1  \n",
       "last_date_event_51                                                 -1  \n",
       "last_date_event_52                                                 -1  \n",
       "last_date_event_54                                                 -1  \n",
       "last_date_event_55                                                 -1  \n",
       "last_date_event_56                                                 -1  \n",
       "last_date_event_57                                                 -1  \n",
       "last_date_event_58                                                 -1  \n",
       "last_date_event_59                                                 -1  \n",
       "last_date_event_6                                                   0  \n",
       "last_date_event_60                                                 -1  \n",
       "last_date_event_61                                                 -1  \n",
       "last_date_event_63                                                 -1  \n",
       "last_date_event_64                                                 -1  \n",
       "last_date_event_7                                                   0  \n",
       "last_purchase                                                       0  \n",
       "last_date_event_9                                                   1  \n",
       "label_14                                                            1  "
      ]
     },
     "execution_count": 36,
     "metadata": {},
     "output_type": "execute_result"
    }
   ],
   "source": [
    "df.tail(5).T"
   ]
  },
  {
   "cell_type": "markdown",
   "metadata": {},
   "source": [
    "__Splitting train and validation set with stratified sampling__"
   ]
  },
  {
   "cell_type": "code",
   "execution_count": 37,
   "metadata": {
    "ExecuteTime": {
     "end_time": "2019-02-23T02:11:01.546039Z",
     "start_time": "2019-02-23T02:11:01.538257Z"
    }
   },
   "outputs": [
    {
     "data": {
      "text/plain": [
       "Index(['num_session', 'last_active', 'receive_message', 'accept_message',\n",
       "       'life_time_value', 'num_purchase', 'avg_purchase', 'num_event',\n",
       "       'event_per_session', 'last_date_event_0', 'last_date_event_1',\n",
       "       'last_date_event_10', 'last_date_event_11', 'last_date_event_14',\n",
       "       'last_date_event_3', 'last_date_event_32', 'last_date_event_4',\n",
       "       'last_date_event_40', 'last_date_event_41', 'last_date_event_42',\n",
       "       'last_date_event_43', 'last_date_event_44', 'last_date_event_45',\n",
       "       'last_date_event_47', 'last_date_event_48', 'last_date_event_49',\n",
       "       'last_date_event_5', 'last_date_event_50', 'last_date_event_51',\n",
       "       'last_date_event_52', 'last_date_event_54', 'last_date_event_55',\n",
       "       'last_date_event_56', 'last_date_event_57', 'last_date_event_58',\n",
       "       'last_date_event_59', 'last_date_event_6', 'last_date_event_60',\n",
       "       'last_date_event_61', 'last_date_event_63', 'last_date_event_64',\n",
       "       'last_date_event_7', 'last_purchase', 'last_date_event_9'],\n",
       "      dtype='object')"
      ]
     },
     "execution_count": 37,
     "metadata": {},
     "output_type": "execute_result"
    }
   ],
   "source": [
    "df.columns[1:-1] # features"
   ]
  },
  {
   "cell_type": "code",
   "execution_count": 38,
   "metadata": {
    "ExecuteTime": {
     "end_time": "2019-02-23T02:11:05.154860Z",
     "start_time": "2019-02-23T02:11:04.335908Z"
    }
   },
   "outputs": [],
   "source": [
    "X_train, X_val, y_train, y_val = stratified_data_split(feature_columns=df.columns[1:-1], \n",
    "                                                       label_column='label_14')"
   ]
  },
  {
   "cell_type": "code",
   "execution_count": 39,
   "metadata": {
    "ExecuteTime": {
     "end_time": "2019-02-23T02:11:05.938279Z",
     "start_time": "2019-02-23T02:11:05.932043Z"
    }
   },
   "outputs": [
    {
     "data": {
      "text/plain": [
       "(0.00985066029300502, 0.009852788506799584)"
      ]
     },
     "execution_count": 39,
     "metadata": {},
     "output_type": "execute_result"
    }
   ],
   "source": [
    "y_train.mean(), y_val.mean()"
   ]
  },
  {
   "cell_type": "code",
   "execution_count": 40,
   "metadata": {
    "ExecuteTime": {
     "end_time": "2019-02-23T02:11:12.366584Z",
     "start_time": "2019-02-23T02:11:06.490471Z"
    }
   },
   "outputs": [],
   "source": [
    "rf = RandomForestClassifier(max_depth=9, random_state=10)\n",
    "rf_model = rf.fit(X_train, y_train)\n",
    "\n",
    "pred_train = rf_model.predict_proba(X_train) \n",
    "pred_val = rf_model.predict_proba(X_val)"
   ]
  },
  {
   "cell_type": "code",
   "execution_count": 41,
   "metadata": {
    "ExecuteTime": {
     "end_time": "2019-02-23T02:11:14.149935Z",
     "start_time": "2019-02-23T02:11:14.071515Z"
    }
   },
   "outputs": [
    {
     "data": {
      "text/plain": [
       "0.9700209272356837"
      ]
     },
     "execution_count": 41,
     "metadata": {},
     "output_type": "execute_result"
    }
   ],
   "source": [
    "roc_auc_score(y_true=y_val, y_score=pred_val[:,1])"
   ]
  },
  {
   "cell_type": "markdown",
   "metadata": {},
   "source": [
    "As we're quite satisfied with the performance of this, we will use this model as the first model to start with and use it for our very first prediction."
   ]
  },
  {
   "cell_type": "code",
   "execution_count": 43,
   "metadata": {
    "ExecuteTime": {
     "end_time": "2019-02-23T02:11:34.567670Z",
     "start_time": "2019-02-23T02:11:34.186669Z"
    }
   },
   "outputs": [],
   "source": [
    "X_all = feather.read_dataframe('./Data/features_w_events.feather')"
   ]
  },
  {
   "cell_type": "code",
   "execution_count": 96,
   "metadata": {
    "ExecuteTime": {
     "end_time": "2019-02-22T08:44:57.963567Z",
     "start_time": "2019-02-22T08:44:57.389854Z"
    }
   },
   "outputs": [],
   "source": [
    "pred_all = rf_model.predict_proba(X_all[X_all.columns[1:]])\n",
    "X_all['user_purchase_binary_14_days'] = pred_all[:, 1]"
   ]
  },
  {
   "cell_type": "markdown",
   "metadata": {
    "ExecuteTime": {
     "end_time": "2019-02-20T05:53:18.526449Z",
     "start_time": "2019-02-20T05:53:17.425369Z"
    }
   },
   "source": [
    "__Saving results__"
   ]
  },
  {
   "cell_type": "code",
   "execution_count": 104,
   "metadata": {
    "ExecuteTime": {
     "end_time": "2019-02-22T08:47:51.879962Z",
     "start_time": "2019-02-22T08:47:50.865040Z"
    }
   },
   "outputs": [],
   "source": [
    "submission = pd.read_csv('sample_submission_2.csv', usecols=['user_id_hash'])\n",
    "submission = submission.merge(X_all[['user_id_hash', 'user_purchase_binary_14_days']], \n",
    "                                                how='left', on='user_id_hash')"
   ]
  },
  {
   "cell_type": "code",
   "execution_count": 105,
   "metadata": {
    "ExecuteTime": {
     "end_time": "2019-02-22T08:47:52.518900Z",
     "start_time": "2019-02-22T08:47:52.508617Z"
    }
   },
   "outputs": [
    {
     "data": {
      "text/html": [
       "<div>\n",
       "<style scoped>\n",
       "    .dataframe tbody tr th:only-of-type {\n",
       "        vertical-align: middle;\n",
       "    }\n",
       "\n",
       "    .dataframe tbody tr th {\n",
       "        vertical-align: top;\n",
       "    }\n",
       "\n",
       "    .dataframe thead th {\n",
       "        text-align: right;\n",
       "    }\n",
       "</style>\n",
       "<table border=\"1\" class=\"dataframe\">\n",
       "  <thead>\n",
       "    <tr style=\"text-align: right;\">\n",
       "      <th></th>\n",
       "      <th>user_id_hash</th>\n",
       "      <th>user_purchase_binary_14_days</th>\n",
       "    </tr>\n",
       "  </thead>\n",
       "  <tbody>\n",
       "    <tr>\n",
       "      <th>0</th>\n",
       "      <td>e469dfaed039ead9110165d9bc457acb11609ca34057dc...</td>\n",
       "      <td>0.000229</td>\n",
       "    </tr>\n",
       "    <tr>\n",
       "      <th>1</th>\n",
       "      <td>afcc639a324b6c598ef83d360450afa011cb2dd1358bf9...</td>\n",
       "      <td>0.000789</td>\n",
       "    </tr>\n",
       "    <tr>\n",
       "      <th>2</th>\n",
       "      <td>fd5a7cf211d08e3e00f7be6a9df6e6ea3d2e5c22a5d9c3...</td>\n",
       "      <td>0.000216</td>\n",
       "    </tr>\n",
       "    <tr>\n",
       "      <th>3</th>\n",
       "      <td>00bfff98b9d0329f014c2eeac7ce47cd18b2bc6e10d608...</td>\n",
       "      <td>0.000532</td>\n",
       "    </tr>\n",
       "    <tr>\n",
       "      <th>4</th>\n",
       "      <td>0d298f3638c43e915c119d4935e1ce8d168f81b5e3e8c1...</td>\n",
       "      <td>0.000160</td>\n",
       "    </tr>\n",
       "  </tbody>\n",
       "</table>\n",
       "</div>"
      ],
      "text/plain": [
       "                                        user_id_hash  \\\n",
       "0  e469dfaed039ead9110165d9bc457acb11609ca34057dc...   \n",
       "1  afcc639a324b6c598ef83d360450afa011cb2dd1358bf9...   \n",
       "2  fd5a7cf211d08e3e00f7be6a9df6e6ea3d2e5c22a5d9c3...   \n",
       "3  00bfff98b9d0329f014c2eeac7ce47cd18b2bc6e10d608...   \n",
       "4  0d298f3638c43e915c119d4935e1ce8d168f81b5e3e8c1...   \n",
       "\n",
       "   user_purchase_binary_14_days  \n",
       "0                      0.000229  \n",
       "1                      0.000789  \n",
       "2                      0.000216  \n",
       "3                      0.000532  \n",
       "4                      0.000160  "
      ]
     },
     "execution_count": 105,
     "metadata": {},
     "output_type": "execute_result"
    }
   ],
   "source": [
    "submission.head()"
   ]
  },
  {
   "cell_type": "markdown",
   "metadata": {},
   "source": [
    "# Model for 7 day period"
   ]
  },
  {
   "cell_type": "code",
   "execution_count": 106,
   "metadata": {
    "ExecuteTime": {
     "end_time": "2019-02-22T08:48:58.128329Z",
     "start_time": "2019-02-22T08:48:57.277744Z"
    }
   },
   "outputs": [],
   "source": [
    "df = feather.read_dataframe('Data/features_before_7.feather')"
   ]
  },
  {
   "cell_type": "code",
   "execution_count": 107,
   "metadata": {
    "ExecuteTime": {
     "end_time": "2019-02-22T08:48:58.721822Z",
     "start_time": "2019-02-22T08:48:58.705693Z"
    }
   },
   "outputs": [
    {
     "data": {
      "text/html": [
       "<div>\n",
       "<style scoped>\n",
       "    .dataframe tbody tr th:only-of-type {\n",
       "        vertical-align: middle;\n",
       "    }\n",
       "\n",
       "    .dataframe tbody tr th {\n",
       "        vertical-align: top;\n",
       "    }\n",
       "\n",
       "    .dataframe thead th {\n",
       "        text-align: right;\n",
       "    }\n",
       "</style>\n",
       "<table border=\"1\" class=\"dataframe\">\n",
       "  <thead>\n",
       "    <tr style=\"text-align: right;\">\n",
       "      <th></th>\n",
       "      <th>0</th>\n",
       "      <th>1</th>\n",
       "      <th>2</th>\n",
       "      <th>3</th>\n",
       "      <th>4</th>\n",
       "    </tr>\n",
       "  </thead>\n",
       "  <tbody>\n",
       "    <tr>\n",
       "      <th>user_id_hash</th>\n",
       "      <td>002e447aed33ed4c51a68743cc293ef2148058b6a6239e...</td>\n",
       "      <td>005c9d79cf18efc6c8b5fa767964b1def9b8e2f8abd23f...</td>\n",
       "      <td>0061b4d30e8a9935b2ebeec954ff509b4f0cb500cd725c...</td>\n",
       "      <td>00fbbf507c7d3c2f259cd3329d241c29d35712e2d4699f...</td>\n",
       "      <td>0107a0017873efc2dea9a9155832363ceacf6fe97bd428...</td>\n",
       "    </tr>\n",
       "    <tr>\n",
       "      <th>num_session</th>\n",
       "      <td>3</td>\n",
       "      <td>2</td>\n",
       "      <td>1</td>\n",
       "      <td>3</td>\n",
       "      <td>1</td>\n",
       "    </tr>\n",
       "    <tr>\n",
       "      <th>last_active</th>\n",
       "      <td>33</td>\n",
       "      <td>49</td>\n",
       "      <td>61</td>\n",
       "      <td>58</td>\n",
       "      <td>46</td>\n",
       "    </tr>\n",
       "    <tr>\n",
       "      <th>receive_message</th>\n",
       "      <td>0</td>\n",
       "      <td>0</td>\n",
       "      <td>0</td>\n",
       "      <td>0</td>\n",
       "      <td>0</td>\n",
       "    </tr>\n",
       "    <tr>\n",
       "      <th>accept_message</th>\n",
       "      <td>0</td>\n",
       "      <td>0</td>\n",
       "      <td>0</td>\n",
       "      <td>0</td>\n",
       "      <td>0</td>\n",
       "    </tr>\n",
       "    <tr>\n",
       "      <th>life_time_value</th>\n",
       "      <td>0</td>\n",
       "      <td>0</td>\n",
       "      <td>0</td>\n",
       "      <td>0</td>\n",
       "      <td>0</td>\n",
       "    </tr>\n",
       "    <tr>\n",
       "      <th>num_purchase</th>\n",
       "      <td>0</td>\n",
       "      <td>0</td>\n",
       "      <td>0</td>\n",
       "      <td>0</td>\n",
       "      <td>0</td>\n",
       "    </tr>\n",
       "    <tr>\n",
       "      <th>avg_purchase</th>\n",
       "      <td>0</td>\n",
       "      <td>0</td>\n",
       "      <td>0</td>\n",
       "      <td>0</td>\n",
       "      <td>0</td>\n",
       "    </tr>\n",
       "    <tr>\n",
       "      <th>num_event</th>\n",
       "      <td>119</td>\n",
       "      <td>24</td>\n",
       "      <td>34</td>\n",
       "      <td>47</td>\n",
       "      <td>14</td>\n",
       "    </tr>\n",
       "    <tr>\n",
       "      <th>event_per_session</th>\n",
       "      <td>39.6667</td>\n",
       "      <td>12</td>\n",
       "      <td>34</td>\n",
       "      <td>15.6667</td>\n",
       "      <td>14</td>\n",
       "    </tr>\n",
       "  </tbody>\n",
       "</table>\n",
       "</div>"
      ],
      "text/plain": [
       "                                                                   0  \\\n",
       "user_id_hash       002e447aed33ed4c51a68743cc293ef2148058b6a6239e...   \n",
       "num_session                                                        3   \n",
       "last_active                                                       33   \n",
       "receive_message                                                    0   \n",
       "accept_message                                                     0   \n",
       "life_time_value                                                    0   \n",
       "num_purchase                                                       0   \n",
       "avg_purchase                                                       0   \n",
       "num_event                                                        119   \n",
       "event_per_session                                            39.6667   \n",
       "\n",
       "                                                                   1  \\\n",
       "user_id_hash       005c9d79cf18efc6c8b5fa767964b1def9b8e2f8abd23f...   \n",
       "num_session                                                        2   \n",
       "last_active                                                       49   \n",
       "receive_message                                                    0   \n",
       "accept_message                                                     0   \n",
       "life_time_value                                                    0   \n",
       "num_purchase                                                       0   \n",
       "avg_purchase                                                       0   \n",
       "num_event                                                         24   \n",
       "event_per_session                                                 12   \n",
       "\n",
       "                                                                   2  \\\n",
       "user_id_hash       0061b4d30e8a9935b2ebeec954ff509b4f0cb500cd725c...   \n",
       "num_session                                                        1   \n",
       "last_active                                                       61   \n",
       "receive_message                                                    0   \n",
       "accept_message                                                     0   \n",
       "life_time_value                                                    0   \n",
       "num_purchase                                                       0   \n",
       "avg_purchase                                                       0   \n",
       "num_event                                                         34   \n",
       "event_per_session                                                 34   \n",
       "\n",
       "                                                                   3  \\\n",
       "user_id_hash       00fbbf507c7d3c2f259cd3329d241c29d35712e2d4699f...   \n",
       "num_session                                                        3   \n",
       "last_active                                                       58   \n",
       "receive_message                                                    0   \n",
       "accept_message                                                     0   \n",
       "life_time_value                                                    0   \n",
       "num_purchase                                                       0   \n",
       "avg_purchase                                                       0   \n",
       "num_event                                                         47   \n",
       "event_per_session                                            15.6667   \n",
       "\n",
       "                                                                   4  \n",
       "user_id_hash       0107a0017873efc2dea9a9155832363ceacf6fe97bd428...  \n",
       "num_session                                                        1  \n",
       "last_active                                                       46  \n",
       "receive_message                                                    0  \n",
       "accept_message                                                     0  \n",
       "life_time_value                                                    0  \n",
       "num_purchase                                                       0  \n",
       "avg_purchase                                                       0  \n",
       "num_event                                                         14  \n",
       "event_per_session                                                 14  "
      ]
     },
     "execution_count": 107,
     "metadata": {},
     "output_type": "execute_result"
    }
   ],
   "source": [
    "df.head().T"
   ]
  },
  {
   "cell_type": "code",
   "execution_count": 108,
   "metadata": {
    "ExecuteTime": {
     "end_time": "2019-02-22T08:49:10.098291Z",
     "start_time": "2019-02-22T08:49:07.364550Z"
    }
   },
   "outputs": [],
   "source": [
    "df = load_data(fname='Data/features_before_7.feather', label='label_7')\n",
    "\n",
    "X_train, X_val, y_train, y_val = stratified_data_split(feature_columns=df.columns[1:-1], \n",
    "                                                       label_column='label_7')"
   ]
  },
  {
   "cell_type": "code",
   "execution_count": 109,
   "metadata": {
    "ExecuteTime": {
     "end_time": "2019-02-22T08:49:18.730780Z",
     "start_time": "2019-02-22T08:49:10.816917Z"
    }
   },
   "outputs": [
    {
     "data": {
      "text/plain": [
       "0.9685642588237585"
      ]
     },
     "execution_count": 109,
     "metadata": {},
     "output_type": "execute_result"
    }
   ],
   "source": [
    "rf = RandomForestClassifier(max_depth=7, random_state=0, max_features=8)\n",
    "rf_model = rf.fit(X_train, y_train)\n",
    "\n",
    "pred_train = rf_model.predict_proba(X_train) \n",
    "pred_val = rf_model.predict_proba(X_val)\n",
    "\n",
    "roc_auc_score(y_true=y_val, y_score=pred_val[:,1])"
   ]
  },
  {
   "cell_type": "markdown",
   "metadata": {},
   "source": [
    "The model for the 7 day time window performs better, which is not surprising given that the shorter in the future, the more certainty we have about it."
   ]
  },
  {
   "cell_type": "code",
   "execution_count": 114,
   "metadata": {
    "ExecuteTime": {
     "end_time": "2019-02-22T08:51:25.172450Z",
     "start_time": "2019-02-22T08:51:24.668420Z"
    }
   },
   "outputs": [],
   "source": [
    "pred_all = rf_model.predict_proba(X_all[X_all.columns[1:-1]])\n",
    "X_all['user_purchase_binary_7_days'] = pred_all[:, 1]"
   ]
  },
  {
   "cell_type": "markdown",
   "metadata": {},
   "source": [
    "__Saving results__"
   ]
  },
  {
   "cell_type": "code",
   "execution_count": 115,
   "metadata": {
    "ExecuteTime": {
     "end_time": "2019-02-22T08:51:31.701185Z",
     "start_time": "2019-02-22T08:51:31.184171Z"
    }
   },
   "outputs": [],
   "source": [
    "submission = submission.merge(X_all[['user_id_hash', 'user_purchase_binary_7_days']], \n",
    "                                                how='left', on='user_id_hash')"
   ]
  },
  {
   "cell_type": "code",
   "execution_count": 116,
   "metadata": {
    "ExecuteTime": {
     "end_time": "2019-02-22T08:51:32.370698Z",
     "start_time": "2019-02-22T08:51:32.358868Z"
    }
   },
   "outputs": [
    {
     "data": {
      "text/html": [
       "<div>\n",
       "<style scoped>\n",
       "    .dataframe tbody tr th:only-of-type {\n",
       "        vertical-align: middle;\n",
       "    }\n",
       "\n",
       "    .dataframe tbody tr th {\n",
       "        vertical-align: top;\n",
       "    }\n",
       "\n",
       "    .dataframe thead th {\n",
       "        text-align: right;\n",
       "    }\n",
       "</style>\n",
       "<table border=\"1\" class=\"dataframe\">\n",
       "  <thead>\n",
       "    <tr style=\"text-align: right;\">\n",
       "      <th></th>\n",
       "      <th>user_id_hash</th>\n",
       "      <th>user_purchase_binary_14_days</th>\n",
       "      <th>user_purchase_binary_7_days</th>\n",
       "    </tr>\n",
       "  </thead>\n",
       "  <tbody>\n",
       "    <tr>\n",
       "      <th>0</th>\n",
       "      <td>e469dfaed039ead9110165d9bc457acb11609ca34057dc...</td>\n",
       "      <td>0.000229</td>\n",
       "      <td>0.000064</td>\n",
       "    </tr>\n",
       "    <tr>\n",
       "      <th>1</th>\n",
       "      <td>afcc639a324b6c598ef83d360450afa011cb2dd1358bf9...</td>\n",
       "      <td>0.000789</td>\n",
       "      <td>0.000344</td>\n",
       "    </tr>\n",
       "    <tr>\n",
       "      <th>2</th>\n",
       "      <td>fd5a7cf211d08e3e00f7be6a9df6e6ea3d2e5c22a5d9c3...</td>\n",
       "      <td>0.000216</td>\n",
       "      <td>0.000069</td>\n",
       "    </tr>\n",
       "    <tr>\n",
       "      <th>3</th>\n",
       "      <td>00bfff98b9d0329f014c2eeac7ce47cd18b2bc6e10d608...</td>\n",
       "      <td>0.000532</td>\n",
       "      <td>0.000298</td>\n",
       "    </tr>\n",
       "    <tr>\n",
       "      <th>4</th>\n",
       "      <td>0d298f3638c43e915c119d4935e1ce8d168f81b5e3e8c1...</td>\n",
       "      <td>0.000160</td>\n",
       "      <td>0.000063</td>\n",
       "    </tr>\n",
       "  </tbody>\n",
       "</table>\n",
       "</div>"
      ],
      "text/plain": [
       "                                        user_id_hash  \\\n",
       "0  e469dfaed039ead9110165d9bc457acb11609ca34057dc...   \n",
       "1  afcc639a324b6c598ef83d360450afa011cb2dd1358bf9...   \n",
       "2  fd5a7cf211d08e3e00f7be6a9df6e6ea3d2e5c22a5d9c3...   \n",
       "3  00bfff98b9d0329f014c2eeac7ce47cd18b2bc6e10d608...   \n",
       "4  0d298f3638c43e915c119d4935e1ce8d168f81b5e3e8c1...   \n",
       "\n",
       "   user_purchase_binary_14_days  user_purchase_binary_7_days  \n",
       "0                      0.000229                     0.000064  \n",
       "1                      0.000789                     0.000344  \n",
       "2                      0.000216                     0.000069  \n",
       "3                      0.000532                     0.000298  \n",
       "4                      0.000160                     0.000063  "
      ]
     },
     "execution_count": 116,
     "metadata": {},
     "output_type": "execute_result"
    }
   ],
   "source": [
    "submission.head(5)"
   ]
  },
  {
   "cell_type": "code",
   "execution_count": 117,
   "metadata": {
    "ExecuteTime": {
     "end_time": "2019-02-22T08:51:36.041541Z",
     "start_time": "2019-02-22T08:51:35.968049Z"
    }
   },
   "outputs": [],
   "source": [
    "submission.fillna(0.0023675038, inplace=True)"
   ]
  },
  {
   "cell_type": "code",
   "execution_count": 118,
   "metadata": {
    "ExecuteTime": {
     "end_time": "2019-02-22T08:51:42.373002Z",
     "start_time": "2019-02-22T08:51:40.337173Z"
    }
   },
   "outputs": [],
   "source": [
    "submission.to_csv('submission4.csv', index=False)"
   ]
  },
  {
   "cell_type": "markdown",
   "metadata": {},
   "source": [
    "# Features Importance"
   ]
  },
  {
   "cell_type": "code",
   "execution_count": 44,
   "metadata": {
    "ExecuteTime": {
     "end_time": "2019-02-23T02:11:41.638505Z",
     "start_time": "2019-02-23T02:11:41.633534Z"
    }
   },
   "outputs": [],
   "source": [
    "importance = rf_model.feature_importances_"
   ]
  },
  {
   "cell_type": "code",
   "execution_count": 56,
   "metadata": {
    "ExecuteTime": {
     "end_time": "2019-02-23T02:14:24.259067Z",
     "start_time": "2019-02-23T02:14:24.251999Z"
    }
   },
   "outputs": [
    {
     "name": "stdout",
     "output_type": "stream",
     "text": [
      "life_time_value: \t0.20226815144389124\n",
      "last_date_event_5: \t0.10247384890081726\n",
      "last_date_event_1: \t0.1006658543753062\n",
      "num_purchase: \t0.09596257295780874\n",
      "last_purchase: \t0.07436985359681196\n",
      "last_date_event_7: \t0.06842299694631708\n",
      "avg_purchase: \t0.0647769437070023\n",
      "last_active: \t0.046028320771466125\n",
      "last_date_event_45: \t0.04488585367432333\n",
      "last_date_event_3: \t0.025756780177117234\n",
      "last_date_event_42: \t0.024277872919565735\n",
      "num_session: \t0.023527966104820327\n",
      "num_event: \t0.020339309082653627\n",
      "last_date_event_40: \t0.016068843939104356\n",
      "event_per_session: \t0.01239877399469268\n",
      "last_date_event_6: \t0.011645161577498222\n",
      "last_date_event_44: \t0.009982103346948632\n",
      "last_date_event_4: \t0.009480222773823772\n",
      "last_date_event_14: \t0.008915079819776312\n",
      "last_date_event_0: \t0.008365882902563208\n",
      "last_date_event_9: \t0.0074225214015416945\n",
      "last_date_event_41: \t0.0070957016457405524\n",
      "receive_message: \t0.005005683328121162\n",
      "last_date_event_11: \t0.0049199826117361355\n",
      "last_date_event_43: \t0.0025181635270544603\n",
      "accept_message: \t0.001875958778817723\n",
      "last_date_event_10: \t0.000514518118006138\n",
      "last_date_event_54: \t2.3071755674273966e-05\n",
      "last_date_event_60: \t9.66082750995488e-06\n",
      "last_date_event_47: \t2.0912123810040733e-06\n",
      "last_date_event_55: \t7.491396161089996e-08\n",
      "last_date_event_58: \t7.390548583681449e-08\n",
      "last_date_event_57: \t6.61151098978296e-08\n",
      "last_date_event_49: \t2.277414203416054e-08\n",
      "last_date_event_63: \t1.570657612361011e-08\n",
      "last_date_event_50: \t3.2390264414448295e-10\n",
      "last_date_event_52: \t4.193044684550009e-11\n",
      "last_date_event_32: \t0.0\n",
      "last_date_event_48: \t0.0\n",
      "last_date_event_51: \t0.0\n",
      "last_date_event_56: \t0.0\n",
      "last_date_event_59: \t0.0\n",
      "last_date_event_61: \t0.0\n",
      "last_date_event_64: \t0.0\n"
     ]
    }
   ],
   "source": [
    "impt_features = []\n",
    "for ft, score in sorted(zip(df.columns[1:-1], importance), key=lambda x: x[1], reverse=True):\n",
    "    print(f\"{ft}: \\t{score}\")\n",
    "    impt_features.append(ft)"
   ]
  },
  {
   "cell_type": "code",
   "execution_count": 58,
   "metadata": {
    "ExecuteTime": {
     "end_time": "2019-02-23T02:14:59.741905Z",
     "start_time": "2019-02-23T02:14:59.733259Z"
    }
   },
   "outputs": [
    {
     "data": {
      "text/plain": [
       "['life_time_value',\n",
       " 'last_date_event_5',\n",
       " 'last_date_event_1',\n",
       " 'num_purchase',\n",
       " 'last_purchase',\n",
       " 'last_date_event_7',\n",
       " 'avg_purchase',\n",
       " 'last_active',\n",
       " 'last_date_event_45',\n",
       " 'last_date_event_3',\n",
       " 'last_date_event_42',\n",
       " 'num_session',\n",
       " 'num_event',\n",
       " 'last_date_event_40',\n",
       " 'event_per_session',\n",
       " 'last_date_event_6']"
      ]
     },
     "execution_count": 58,
     "metadata": {},
     "output_type": "execute_result"
    }
   ],
   "source": [
    "selected_features = impt_features[:-28]\n",
    "selected_features"
   ]
  },
  {
   "cell_type": "markdown",
   "metadata": {},
   "source": [
    "# Phase 2: XGB"
   ]
  },
  {
   "cell_type": "markdown",
   "metadata": {},
   "source": [
    "## For 14 days"
   ]
  },
  {
   "cell_type": "markdown",
   "metadata": {},
   "source": [
    "XGB is very roburst to overfitting. It actually helps us get better performance with more features."
   ]
  },
  {
   "cell_type": "code",
   "execution_count": 6,
   "metadata": {
    "ExecuteTime": {
     "end_time": "2019-02-23T18:34:07.953261Z",
     "start_time": "2019-02-23T18:34:03.283620Z"
    }
   },
   "outputs": [],
   "source": [
    "df = load_data(fname='Data/features_before_14_w_events.feather', label='label_14')\n",
    "\n",
    "X_train, X_val, y_train, y_val = stratified_data_split(feature_columns=df.columns[1:-1], \n",
    "                                                       label_column='label_14')"
   ]
  },
  {
   "cell_type": "code",
   "execution_count": 8,
   "metadata": {
    "ExecuteTime": {
     "end_time": "2019-02-23T18:40:46.444801Z",
     "start_time": "2019-02-23T18:36:53.148991Z"
    }
   },
   "outputs": [],
   "source": [
    "import xgboost as xgb\n",
    "xgb = xgb.XGBClassifier(n_estimators=100, max_depth=8, learning_rate=0.1, subsample=0.5)\n",
    "gbm = xgb.fit(X_train, y_train)"
   ]
  },
  {
   "cell_type": "code",
   "execution_count": 9,
   "metadata": {
    "ExecuteTime": {
     "end_time": "2019-02-23T18:40:50.162055Z",
     "start_time": "2019-02-23T18:40:46.447190Z"
    }
   },
   "outputs": [
    {
     "data": {
      "text/plain": [
       "0.9715235907252906"
      ]
     },
     "execution_count": 9,
     "metadata": {},
     "output_type": "execute_result"
    }
   ],
   "source": [
    "gbm_pred_train = gbm.predict_proba(X_train)\n",
    "gbm_pred_val = gbm.predict_proba(X_val)\n",
    "roc_auc_score(y_true=y_val, y_score=gbm_pred_val[:,1])"
   ]
  },
  {
   "cell_type": "code",
   "execution_count": 12,
   "metadata": {
    "ExecuteTime": {
     "end_time": "2019-02-23T18:41:27.118963Z",
     "start_time": "2019-02-23T18:41:26.588244Z"
    }
   },
   "outputs": [],
   "source": [
    "X_all = feather.read_dataframe('Data/features_w_events.feather').set_index('user_id_hash')\n",
    "X_all = X_all[X_train.columns]"
   ]
  },
  {
   "cell_type": "code",
   "execution_count": 13,
   "metadata": {
    "ExecuteTime": {
     "end_time": "2019-02-23T18:41:32.660802Z",
     "start_time": "2019-02-23T18:41:29.152333Z"
    }
   },
   "outputs": [],
   "source": [
    "pred_all_14 = gbm.predict_proba(X_all)\n"
   ]
  },
  {
   "cell_type": "markdown",
   "metadata": {},
   "source": [
    "## For 7 days"
   ]
  },
  {
   "cell_type": "code",
   "execution_count": 23,
   "metadata": {
    "ExecuteTime": {
     "end_time": "2019-02-23T18:45:25.236657Z",
     "start_time": "2019-02-23T18:45:20.305478Z"
    }
   },
   "outputs": [],
   "source": [
    "df = load_data(fname='Data/features_before_7_w_events.feather', label='label_7')\n",
    "\n",
    "X_train, X_val, y_train, y_val = stratified_data_split(feature_columns=df.columns[1:-1], \n",
    "                                                       label_column='label_7')"
   ]
  },
  {
   "cell_type": "code",
   "execution_count": 24,
   "metadata": {
    "ExecuteTime": {
     "end_time": "2019-02-23T18:49:29.807538Z",
     "start_time": "2019-02-23T18:45:28.745421Z"
    }
   },
   "outputs": [],
   "source": [
    "import xgboost as xgb\n",
    "xgb = xgb.XGBClassifier(n_estimators=100, max_depth=8, learning_rate=0.1, subsample=0.5, nthread=-1)\n",
    "gbm = xgb.fit(X_train, y_train)"
   ]
  },
  {
   "cell_type": "code",
   "execution_count": 25,
   "metadata": {
    "ExecuteTime": {
     "end_time": "2019-02-23T18:49:33.295458Z",
     "start_time": "2019-02-23T18:49:29.809921Z"
    },
    "scrolled": true
   },
   "outputs": [
    {
     "data": {
      "text/plain": [
       "0.9783239194055413"
      ]
     },
     "execution_count": 25,
     "metadata": {},
     "output_type": "execute_result"
    }
   ],
   "source": [
    "gbm_pred_train = gbm.predict_proba(X_train)\n",
    "gbm_pred_val = gbm.predict_proba(X_val)\n",
    "roc_auc_score(y_true=y_val, y_score=gbm_pred_val[:,1])"
   ]
  },
  {
   "cell_type": "code",
   "execution_count": 33,
   "metadata": {
    "ExecuteTime": {
     "end_time": "2019-02-23T18:52:29.323563Z",
     "start_time": "2019-02-23T18:52:25.369858Z"
    }
   },
   "outputs": [],
   "source": [
    "X_all = feather.read_dataframe('Data/features_w_events.feather').set_index('user_id_hash')\n",
    "X_all = X_all[X_train.columns]\n",
    "pred_all_7 = gbm.predict_proba(X_all)\n"
   ]
  },
  {
   "cell_type": "code",
   "execution_count": 35,
   "metadata": {
    "ExecuteTime": {
     "end_time": "2019-02-23T18:53:40.077699Z",
     "start_time": "2019-02-23T18:53:40.067733Z"
    }
   },
   "outputs": [],
   "source": [
    "X_all['user_purchase_binary_14_days'] = pred_all_14[:, 1]\n",
    "X_all['user_purchase_binary_7_days'] = pred_all_7[:, 1]"
   ]
  },
  {
   "cell_type": "markdown",
   "metadata": {},
   "source": [
    "## Saving prediction"
   ]
  },
  {
   "cell_type": "code",
   "execution_count": 36,
   "metadata": {
    "ExecuteTime": {
     "end_time": "2019-02-23T18:53:44.195664Z",
     "start_time": "2019-02-23T18:53:41.830697Z"
    }
   },
   "outputs": [],
   "source": [
    "submission = pd.read_csv('sample_submission_2.csv', usecols=['user_id_hash'], index_col='user_id_hash')\n",
    "\n",
    "submission = submission.join(X_all[['user_purchase_binary_7_days', 'user_purchase_binary_14_days']], how='left')\n",
    "submission.fillna(0.0023675038, inplace=True)\n",
    "\n",
    "submission.to_csv('submission5.csv')"
   ]
  },
  {
   "cell_type": "code",
   "execution_count": null,
   "metadata": {
    "ExecuteTime": {
     "start_time": "2019-02-23T19:09:03.056Z"
    }
   },
   "outputs": [],
   "source": [
    "plot_importance(gbm)"
   ]
  },
  {
   "cell_type": "code",
   "execution_count": null,
   "metadata": {},
   "outputs": [],
   "source": []
  }
 ],
 "metadata": {
  "kernelspec": {
   "display_name": "Python 3",
   "language": "python",
   "name": "python3"
  },
  "language_info": {
   "codemirror_mode": {
    "name": "ipython",
    "version": 3
   },
   "file_extension": ".py",
   "mimetype": "text/x-python",
   "name": "python",
   "nbconvert_exporter": "python",
   "pygments_lexer": "ipython3",
   "version": "3.7.0"
  },
  "toc": {
   "base_numbering": 1,
   "nav_menu": {},
   "number_sections": true,
   "sideBar": true,
   "skip_h1_title": false,
   "title_cell": "Table of Contents",
   "title_sidebar": "Contents",
   "toc_cell": false,
   "toc_position": {},
   "toc_section_display": true,
   "toc_window_display": true
  }
 },
 "nbformat": 4,
 "nbformat_minor": 2
}
