{
 "cells": [
  {
   "cell_type": "code",
   "execution_count": 1,
   "metadata": {
    "ExecuteTime": {
     "end_time": "2019-02-16T02:03:13.888549Z",
     "start_time": "2019-02-16T02:03:11.492935Z"
    }
   },
   "outputs": [
    {
     "name": "stderr",
     "output_type": "stream",
     "text": [
      "/anaconda3/lib/python3.7/site-packages/sklearn/ensemble/weight_boosting.py:29: DeprecationWarning: numpy.core.umath_tests is an internal NumPy module and should not be imported. It will be removed in a future NumPy release.\n",
      "  from numpy.core.umath_tests import inner1d\n"
     ]
    }
   ],
   "source": [
    "import feather\n",
    "import pandas as pd\n",
    "import numpy as np\n",
    "from sklearn.ensemble import RandomForestClassifier\n",
    "from sklearn.model_selection import train_test_split\n",
    "from sklearn.metrics import roc_auc_score"
   ]
  },
  {
   "cell_type": "markdown",
   "metadata": {},
   "source": [
    "# Defining helper functions"
   ]
  },
  {
   "cell_type": "code",
   "execution_count": 2,
   "metadata": {
    "ExecuteTime": {
     "end_time": "2019-02-16T02:03:13.896372Z",
     "start_time": "2019-02-16T02:03:13.891729Z"
    }
   },
   "outputs": [],
   "source": [
    "def load_data(fname, label):\n",
    "    \"\"\"Load features and labels file and join them together using user_id_hash\"\"\"\n",
    "    df = feather.read_dataframe(fname)\n",
    "    df['user_id_hash'] = df['user_id_hash'].astype('category')\n",
    "    labels = pd.read_csv('labels.csv', usecols=['user_id_hash', label])\n",
    "    df = df.merge(labels, how='left', on='user_id_hash')\n",
    "    df[label].fillna(0, inplace=True)\n",
    "    df = df.dropna(axis=0)\n",
    "    return df"
   ]
  },
  {
   "cell_type": "code",
   "execution_count": 3,
   "metadata": {
    "ExecuteTime": {
     "end_time": "2019-02-16T02:03:13.903190Z",
     "start_time": "2019-02-16T02:03:13.899054Z"
    }
   },
   "outputs": [],
   "source": [
    "def stratified_data_split(feature_columns:list, label_column:str):\n",
    "    \"\"\"Splitting train and test set using stratified sampling given that our data is highly skewed\"\"\"\n",
    "    return train_test_split(df[feature_columns], \n",
    "                            df[label_column], \n",
    "                            stratify=df[label_column])"
   ]
  },
  {
   "cell_type": "markdown",
   "metadata": {},
   "source": [
    "# Model for 14 days period"
   ]
  },
  {
   "cell_type": "code",
   "execution_count": 4,
   "metadata": {
    "ExecuteTime": {
     "end_time": "2019-02-16T02:03:16.221954Z",
     "start_time": "2019-02-16T02:03:13.905691Z"
    }
   },
   "outputs": [],
   "source": [
    "df = load_data(fname='Data/features_before_14.feather', label='label_14')"
   ]
  },
  {
   "cell_type": "code",
   "execution_count": 5,
   "metadata": {
    "ExecuteTime": {
     "end_time": "2019-02-16T02:03:16.245023Z",
     "start_time": "2019-02-16T02:03:16.224311Z"
    }
   },
   "outputs": [
    {
     "data": {
      "text/html": [
       "<div>\n",
       "<style scoped>\n",
       "    .dataframe tbody tr th:only-of-type {\n",
       "        vertical-align: middle;\n",
       "    }\n",
       "\n",
       "    .dataframe tbody tr th {\n",
       "        vertical-align: top;\n",
       "    }\n",
       "\n",
       "    .dataframe thead th {\n",
       "        text-align: right;\n",
       "    }\n",
       "</style>\n",
       "<table border=\"1\" class=\"dataframe\">\n",
       "  <thead>\n",
       "    <tr style=\"text-align: right;\">\n",
       "      <th></th>\n",
       "      <th>620326</th>\n",
       "      <th>620327</th>\n",
       "      <th>620328</th>\n",
       "      <th>620329</th>\n",
       "      <th>620330</th>\n",
       "    </tr>\n",
       "  </thead>\n",
       "  <tbody>\n",
       "    <tr>\n",
       "      <th>user_id_hash</th>\n",
       "      <td>fc17cb069b3f1c91feb326ebd48d8ccc6cc9e8892a632d...</td>\n",
       "      <td>fc836b0fb93fb19124abeadf4d7cfae0deb8b0523303cd...</td>\n",
       "      <td>fe6295a8142f4799d1c122e7855f682e9d4670aa25555f...</td>\n",
       "      <td>feae65e92d95c4610997c27ef1b943bd92b3b6c4a064d1...</td>\n",
       "      <td>ff191d081c4d4629082688bb95a7afd6a2ac6911ded427...</td>\n",
       "    </tr>\n",
       "    <tr>\n",
       "      <th>num_session</th>\n",
       "      <td>3</td>\n",
       "      <td>20</td>\n",
       "      <td>5</td>\n",
       "      <td>2</td>\n",
       "      <td>104</td>\n",
       "    </tr>\n",
       "    <tr>\n",
       "      <th>last_active</th>\n",
       "      <td>15</td>\n",
       "      <td>3</td>\n",
       "      <td>31</td>\n",
       "      <td>0</td>\n",
       "      <td>0</td>\n",
       "    </tr>\n",
       "    <tr>\n",
       "      <th>receive_message</th>\n",
       "      <td>0</td>\n",
       "      <td>3</td>\n",
       "      <td>1</td>\n",
       "      <td>0</td>\n",
       "      <td>6</td>\n",
       "    </tr>\n",
       "    <tr>\n",
       "      <th>accept_message</th>\n",
       "      <td>0</td>\n",
       "      <td>1</td>\n",
       "      <td>0</td>\n",
       "      <td>0</td>\n",
       "      <td>1</td>\n",
       "    </tr>\n",
       "    <tr>\n",
       "      <th>life_time_value</th>\n",
       "      <td>0</td>\n",
       "      <td>31.437</td>\n",
       "      <td>0</td>\n",
       "      <td>0</td>\n",
       "      <td>195.832</td>\n",
       "    </tr>\n",
       "    <tr>\n",
       "      <th>num_purchase</th>\n",
       "      <td>0</td>\n",
       "      <td>9</td>\n",
       "      <td>0</td>\n",
       "      <td>0</td>\n",
       "      <td>124</td>\n",
       "    </tr>\n",
       "    <tr>\n",
       "      <th>avg_purchase</th>\n",
       "      <td>0</td>\n",
       "      <td>3.493</td>\n",
       "      <td>0</td>\n",
       "      <td>0</td>\n",
       "      <td>1.57929</td>\n",
       "    </tr>\n",
       "    <tr>\n",
       "      <th>num_event</th>\n",
       "      <td>29</td>\n",
       "      <td>585</td>\n",
       "      <td>50</td>\n",
       "      <td>5</td>\n",
       "      <td>2781</td>\n",
       "    </tr>\n",
       "    <tr>\n",
       "      <th>event_per_session</th>\n",
       "      <td>9.66667</td>\n",
       "      <td>29.25</td>\n",
       "      <td>10</td>\n",
       "      <td>2.5</td>\n",
       "      <td>26.7404</td>\n",
       "    </tr>\n",
       "    <tr>\n",
       "      <th>label_14</th>\n",
       "      <td>0</td>\n",
       "      <td>0</td>\n",
       "      <td>0</td>\n",
       "      <td>0</td>\n",
       "      <td>1</td>\n",
       "    </tr>\n",
       "  </tbody>\n",
       "</table>\n",
       "</div>"
      ],
      "text/plain": [
       "                                                              620326  \\\n",
       "user_id_hash       fc17cb069b3f1c91feb326ebd48d8ccc6cc9e8892a632d...   \n",
       "num_session                                                        3   \n",
       "last_active                                                       15   \n",
       "receive_message                                                    0   \n",
       "accept_message                                                     0   \n",
       "life_time_value                                                    0   \n",
       "num_purchase                                                       0   \n",
       "avg_purchase                                                       0   \n",
       "num_event                                                         29   \n",
       "event_per_session                                            9.66667   \n",
       "label_14                                                           0   \n",
       "\n",
       "                                                              620327  \\\n",
       "user_id_hash       fc836b0fb93fb19124abeadf4d7cfae0deb8b0523303cd...   \n",
       "num_session                                                       20   \n",
       "last_active                                                        3   \n",
       "receive_message                                                    3   \n",
       "accept_message                                                     1   \n",
       "life_time_value                                               31.437   \n",
       "num_purchase                                                       9   \n",
       "avg_purchase                                                   3.493   \n",
       "num_event                                                        585   \n",
       "event_per_session                                              29.25   \n",
       "label_14                                                           0   \n",
       "\n",
       "                                                              620328  \\\n",
       "user_id_hash       fe6295a8142f4799d1c122e7855f682e9d4670aa25555f...   \n",
       "num_session                                                        5   \n",
       "last_active                                                       31   \n",
       "receive_message                                                    1   \n",
       "accept_message                                                     0   \n",
       "life_time_value                                                    0   \n",
       "num_purchase                                                       0   \n",
       "avg_purchase                                                       0   \n",
       "num_event                                                         50   \n",
       "event_per_session                                                 10   \n",
       "label_14                                                           0   \n",
       "\n",
       "                                                              620329  \\\n",
       "user_id_hash       feae65e92d95c4610997c27ef1b943bd92b3b6c4a064d1...   \n",
       "num_session                                                        2   \n",
       "last_active                                                        0   \n",
       "receive_message                                                    0   \n",
       "accept_message                                                     0   \n",
       "life_time_value                                                    0   \n",
       "num_purchase                                                       0   \n",
       "avg_purchase                                                       0   \n",
       "num_event                                                          5   \n",
       "event_per_session                                                2.5   \n",
       "label_14                                                           0   \n",
       "\n",
       "                                                              620330  \n",
       "user_id_hash       ff191d081c4d4629082688bb95a7afd6a2ac6911ded427...  \n",
       "num_session                                                      104  \n",
       "last_active                                                        0  \n",
       "receive_message                                                    6  \n",
       "accept_message                                                     1  \n",
       "life_time_value                                              195.832  \n",
       "num_purchase                                                     124  \n",
       "avg_purchase                                                 1.57929  \n",
       "num_event                                                       2781  \n",
       "event_per_session                                            26.7404  \n",
       "label_14                                                           1  "
      ]
     },
     "execution_count": 5,
     "metadata": {},
     "output_type": "execute_result"
    }
   ],
   "source": [
    "df.tail(5).T"
   ]
  },
  {
   "cell_type": "markdown",
   "metadata": {},
   "source": [
    "__Splitting train and validation set with stratified sampling__"
   ]
  },
  {
   "cell_type": "code",
   "execution_count": 6,
   "metadata": {
    "ExecuteTime": {
     "end_time": "2019-02-16T02:03:16.252154Z",
     "start_time": "2019-02-16T02:03:16.247334Z"
    }
   },
   "outputs": [
    {
     "data": {
      "text/plain": [
       "Index(['num_session', 'last_active', 'receive_message', 'accept_message',\n",
       "       'life_time_value', 'num_purchase', 'avg_purchase', 'num_event',\n",
       "       'event_per_session'],\n",
       "      dtype='object')"
      ]
     },
     "execution_count": 6,
     "metadata": {},
     "output_type": "execute_result"
    }
   ],
   "source": [
    "df.columns[1:-1] # features"
   ]
  },
  {
   "cell_type": "code",
   "execution_count": 7,
   "metadata": {
    "ExecuteTime": {
     "end_time": "2019-02-16T02:03:16.556505Z",
     "start_time": "2019-02-16T02:03:16.254248Z"
    }
   },
   "outputs": [],
   "source": [
    "X_train, X_val, y_train, y_val = stratified_data_split(feature_columns=df.columns[1:-1], \n",
    "                                                       label_column='label_14')"
   ]
  },
  {
   "cell_type": "code",
   "execution_count": 8,
   "metadata": {
    "ExecuteTime": {
     "end_time": "2019-02-16T02:03:21.188131Z",
     "start_time": "2019-02-16T02:03:16.560122Z"
    }
   },
   "outputs": [],
   "source": [
    "rf = RandomForestClassifier(max_depth=8, random_state=0)\n",
    "rf_model = rf.fit(X_train, y_train)\n",
    "\n",
    "pred_train = rf_model.predict_proba(X_train) \n",
    "pred_val = rf_model.predict_proba(X_val)"
   ]
  },
  {
   "cell_type": "code",
   "execution_count": 9,
   "metadata": {
    "ExecuteTime": {
     "end_time": "2019-02-16T02:03:21.244604Z",
     "start_time": "2019-02-16T02:03:21.190505Z"
    }
   },
   "outputs": [
    {
     "data": {
      "text/plain": [
       "0.9579528673918533"
      ]
     },
     "execution_count": 9,
     "metadata": {},
     "output_type": "execute_result"
    }
   ],
   "source": [
    "roc_auc_score(y_true=y_val, y_score=pred_val[:,1])"
   ]
  },
  {
   "cell_type": "markdown",
   "metadata": {},
   "source": [
    "As we're quite satisfied with the performance of this, we will use this model as the first model to start with and use it for our very first prediction."
   ]
  },
  {
   "cell_type": "code",
   "execution_count": 10,
   "metadata": {
    "ExecuteTime": {
     "end_time": "2019-02-16T02:03:21.808556Z",
     "start_time": "2019-02-16T02:03:21.249233Z"
    }
   },
   "outputs": [],
   "source": [
    "pred_all = rf_model.predict_proba(df[df.columns[1:-1]])"
   ]
  },
  {
   "cell_type": "code",
   "execution_count": 11,
   "metadata": {
    "ExecuteTime": {
     "end_time": "2019-02-16T02:03:21.815866Z",
     "start_time": "2019-02-16T02:03:21.810609Z"
    }
   },
   "outputs": [],
   "source": [
    "df['user_purchase_binary_14_days'] = pred_all[:, 1]"
   ]
  },
  {
   "cell_type": "markdown",
   "metadata": {},
   "source": [
    "__Saving results__"
   ]
  },
  {
   "cell_type": "code",
   "execution_count": 12,
   "metadata": {
    "ExecuteTime": {
     "end_time": "2019-02-16T02:03:23.003079Z",
     "start_time": "2019-02-16T02:03:21.818391Z"
    }
   },
   "outputs": [],
   "source": [
    "submission = pd.read_csv('sample_submission_2.csv')\n",
    "submission = submission[['user_id_hash']].merge(df[['user_id_hash', 'user_purchase_binary_14_days']], \n",
    "                                                how='left', on='user_id_hash')"
   ]
  },
  {
   "cell_type": "markdown",
   "metadata": {},
   "source": [
    "# Model for 7 day period"
   ]
  },
  {
   "cell_type": "code",
   "execution_count": 13,
   "metadata": {
    "ExecuteTime": {
     "end_time": "2019-02-16T02:03:24.248286Z",
     "start_time": "2019-02-16T02:03:23.005754Z"
    }
   },
   "outputs": [],
   "source": [
    "df = feather.read_dataframe('Data/features_before_7.feather')"
   ]
  },
  {
   "cell_type": "code",
   "execution_count": 14,
   "metadata": {
    "ExecuteTime": {
     "end_time": "2019-02-16T02:03:24.265451Z",
     "start_time": "2019-02-16T02:03:24.250371Z"
    }
   },
   "outputs": [
    {
     "data": {
      "text/html": [
       "<div>\n",
       "<style scoped>\n",
       "    .dataframe tbody tr th:only-of-type {\n",
       "        vertical-align: middle;\n",
       "    }\n",
       "\n",
       "    .dataframe tbody tr th {\n",
       "        vertical-align: top;\n",
       "    }\n",
       "\n",
       "    .dataframe thead th {\n",
       "        text-align: right;\n",
       "    }\n",
       "</style>\n",
       "<table border=\"1\" class=\"dataframe\">\n",
       "  <thead>\n",
       "    <tr style=\"text-align: right;\">\n",
       "      <th></th>\n",
       "      <th>0</th>\n",
       "      <th>1</th>\n",
       "      <th>2</th>\n",
       "      <th>3</th>\n",
       "      <th>4</th>\n",
       "    </tr>\n",
       "  </thead>\n",
       "  <tbody>\n",
       "    <tr>\n",
       "      <th>user_id_hash</th>\n",
       "      <td>002e447aed33ed4c51a68743cc293ef2148058b6a6239e...</td>\n",
       "      <td>005c9d79cf18efc6c8b5fa767964b1def9b8e2f8abd23f...</td>\n",
       "      <td>0061b4d30e8a9935b2ebeec954ff509b4f0cb500cd725c...</td>\n",
       "      <td>00fbbf507c7d3c2f259cd3329d241c29d35712e2d4699f...</td>\n",
       "      <td>0107a0017873efc2dea9a9155832363ceacf6fe97bd428...</td>\n",
       "    </tr>\n",
       "    <tr>\n",
       "      <th>num_session</th>\n",
       "      <td>3</td>\n",
       "      <td>2</td>\n",
       "      <td>1</td>\n",
       "      <td>3</td>\n",
       "      <td>1</td>\n",
       "    </tr>\n",
       "    <tr>\n",
       "      <th>last_active</th>\n",
       "      <td>33</td>\n",
       "      <td>49</td>\n",
       "      <td>61</td>\n",
       "      <td>58</td>\n",
       "      <td>46</td>\n",
       "    </tr>\n",
       "    <tr>\n",
       "      <th>receive_message</th>\n",
       "      <td>0</td>\n",
       "      <td>0</td>\n",
       "      <td>0</td>\n",
       "      <td>0</td>\n",
       "      <td>0</td>\n",
       "    </tr>\n",
       "    <tr>\n",
       "      <th>accept_message</th>\n",
       "      <td>0</td>\n",
       "      <td>0</td>\n",
       "      <td>0</td>\n",
       "      <td>0</td>\n",
       "      <td>0</td>\n",
       "    </tr>\n",
       "    <tr>\n",
       "      <th>life_time_value</th>\n",
       "      <td>0</td>\n",
       "      <td>0</td>\n",
       "      <td>0</td>\n",
       "      <td>0</td>\n",
       "      <td>0</td>\n",
       "    </tr>\n",
       "    <tr>\n",
       "      <th>num_purchase</th>\n",
       "      <td>0</td>\n",
       "      <td>0</td>\n",
       "      <td>0</td>\n",
       "      <td>0</td>\n",
       "      <td>0</td>\n",
       "    </tr>\n",
       "    <tr>\n",
       "      <th>avg_purchase</th>\n",
       "      <td>0</td>\n",
       "      <td>0</td>\n",
       "      <td>0</td>\n",
       "      <td>0</td>\n",
       "      <td>0</td>\n",
       "    </tr>\n",
       "    <tr>\n",
       "      <th>num_event</th>\n",
       "      <td>119</td>\n",
       "      <td>24</td>\n",
       "      <td>34</td>\n",
       "      <td>47</td>\n",
       "      <td>14</td>\n",
       "    </tr>\n",
       "    <tr>\n",
       "      <th>event_per_session</th>\n",
       "      <td>39.6667</td>\n",
       "      <td>12</td>\n",
       "      <td>34</td>\n",
       "      <td>15.6667</td>\n",
       "      <td>14</td>\n",
       "    </tr>\n",
       "  </tbody>\n",
       "</table>\n",
       "</div>"
      ],
      "text/plain": [
       "                                                                   0  \\\n",
       "user_id_hash       002e447aed33ed4c51a68743cc293ef2148058b6a6239e...   \n",
       "num_session                                                        3   \n",
       "last_active                                                       33   \n",
       "receive_message                                                    0   \n",
       "accept_message                                                     0   \n",
       "life_time_value                                                    0   \n",
       "num_purchase                                                       0   \n",
       "avg_purchase                                                       0   \n",
       "num_event                                                        119   \n",
       "event_per_session                                            39.6667   \n",
       "\n",
       "                                                                   1  \\\n",
       "user_id_hash       005c9d79cf18efc6c8b5fa767964b1def9b8e2f8abd23f...   \n",
       "num_session                                                        2   \n",
       "last_active                                                       49   \n",
       "receive_message                                                    0   \n",
       "accept_message                                                     0   \n",
       "life_time_value                                                    0   \n",
       "num_purchase                                                       0   \n",
       "avg_purchase                                                       0   \n",
       "num_event                                                         24   \n",
       "event_per_session                                                 12   \n",
       "\n",
       "                                                                   2  \\\n",
       "user_id_hash       0061b4d30e8a9935b2ebeec954ff509b4f0cb500cd725c...   \n",
       "num_session                                                        1   \n",
       "last_active                                                       61   \n",
       "receive_message                                                    0   \n",
       "accept_message                                                     0   \n",
       "life_time_value                                                    0   \n",
       "num_purchase                                                       0   \n",
       "avg_purchase                                                       0   \n",
       "num_event                                                         34   \n",
       "event_per_session                                                 34   \n",
       "\n",
       "                                                                   3  \\\n",
       "user_id_hash       00fbbf507c7d3c2f259cd3329d241c29d35712e2d4699f...   \n",
       "num_session                                                        3   \n",
       "last_active                                                       58   \n",
       "receive_message                                                    0   \n",
       "accept_message                                                     0   \n",
       "life_time_value                                                    0   \n",
       "num_purchase                                                       0   \n",
       "avg_purchase                                                       0   \n",
       "num_event                                                         47   \n",
       "event_per_session                                            15.6667   \n",
       "\n",
       "                                                                   4  \n",
       "user_id_hash       0107a0017873efc2dea9a9155832363ceacf6fe97bd428...  \n",
       "num_session                                                        1  \n",
       "last_active                                                       46  \n",
       "receive_message                                                    0  \n",
       "accept_message                                                     0  \n",
       "life_time_value                                                    0  \n",
       "num_purchase                                                       0  \n",
       "avg_purchase                                                       0  \n",
       "num_event                                                         14  \n",
       "event_per_session                                                 14  "
      ]
     },
     "execution_count": 14,
     "metadata": {},
     "output_type": "execute_result"
    }
   ],
   "source": [
    "df.head().T"
   ]
  },
  {
   "cell_type": "code",
   "execution_count": 15,
   "metadata": {
    "ExecuteTime": {
     "end_time": "2019-02-16T02:03:27.263258Z",
     "start_time": "2019-02-16T02:03:24.269002Z"
    }
   },
   "outputs": [],
   "source": [
    "df = load_data(fname='Data/features_before_7.feather', label='label_7')\n",
    "\n",
    "X_train, X_val, y_train, y_val = stratified_data_split(feature_columns=df.columns[1:-1], \n",
    "                                                       label_column='label_7')"
   ]
  },
  {
   "cell_type": "code",
   "execution_count": 16,
   "metadata": {
    "ExecuteTime": {
     "end_time": "2019-02-16T02:03:31.248149Z",
     "start_time": "2019-02-16T02:03:27.265967Z"
    }
   },
   "outputs": [
    {
     "data": {
      "text/plain": [
       "0.9680182985079531"
      ]
     },
     "execution_count": 16,
     "metadata": {},
     "output_type": "execute_result"
    }
   ],
   "source": [
    "rf = RandomForestClassifier(max_depth=8, random_state=0)\n",
    "rf_model = rf.fit(X_train, y_train)\n",
    "\n",
    "pred_train = rf_model.predict_proba(X_train) \n",
    "pred_val = rf_model.predict_proba(X_val)\n",
    "\n",
    "roc_auc_score(y_true=y_val, y_score=pred_val[:,1])"
   ]
  },
  {
   "cell_type": "markdown",
   "metadata": {},
   "source": [
    "The model for the 7 day time window performs better, which is not surprising given that the shorter in the future, the more certainty we have about it."
   ]
  },
  {
   "cell_type": "code",
   "execution_count": 17,
   "metadata": {
    "ExecuteTime": {
     "end_time": "2019-02-16T02:03:31.866860Z",
     "start_time": "2019-02-16T02:03:31.250542Z"
    }
   },
   "outputs": [],
   "source": [
    "pred_all = rf_model.predict_proba(df[df.columns[1:-1]])\n",
    "df['user_purchase_binary_7_days'] = pred_all[:, 1]"
   ]
  },
  {
   "cell_type": "markdown",
   "metadata": {},
   "source": [
    "__Saving results__"
   ]
  },
  {
   "cell_type": "code",
   "execution_count": 18,
   "metadata": {
    "ExecuteTime": {
     "end_time": "2019-02-16T02:03:32.481689Z",
     "start_time": "2019-02-16T02:03:31.868914Z"
    }
   },
   "outputs": [],
   "source": [
    "submission = submission.merge(df[['user_id_hash', 'user_purchase_binary_7_days']], \n",
    "                                                how='left', on='user_id_hash')"
   ]
  },
  {
   "cell_type": "code",
   "execution_count": 19,
   "metadata": {
    "ExecuteTime": {
     "end_time": "2019-02-16T02:03:32.501171Z",
     "start_time": "2019-02-16T02:03:32.484370Z"
    }
   },
   "outputs": [
    {
     "data": {
      "text/html": [
       "<div>\n",
       "<style scoped>\n",
       "    .dataframe tbody tr th:only-of-type {\n",
       "        vertical-align: middle;\n",
       "    }\n",
       "\n",
       "    .dataframe tbody tr th {\n",
       "        vertical-align: top;\n",
       "    }\n",
       "\n",
       "    .dataframe thead th {\n",
       "        text-align: right;\n",
       "    }\n",
       "</style>\n",
       "<table border=\"1\" class=\"dataframe\">\n",
       "  <thead>\n",
       "    <tr style=\"text-align: right;\">\n",
       "      <th></th>\n",
       "      <th>user_id_hash</th>\n",
       "      <th>user_purchase_binary_14_days</th>\n",
       "      <th>user_purchase_binary_7_days</th>\n",
       "    </tr>\n",
       "  </thead>\n",
       "  <tbody>\n",
       "    <tr>\n",
       "      <th>0</th>\n",
       "      <td>e469dfaed039ead9110165d9bc457acb11609ca34057dc...</td>\n",
       "      <td>0.000271</td>\n",
       "      <td>0.000090</td>\n",
       "    </tr>\n",
       "    <tr>\n",
       "      <th>1</th>\n",
       "      <td>afcc639a324b6c598ef83d360450afa011cb2dd1358bf9...</td>\n",
       "      <td>0.001026</td>\n",
       "      <td>0.000139</td>\n",
       "    </tr>\n",
       "    <tr>\n",
       "      <th>2</th>\n",
       "      <td>fd5a7cf211d08e3e00f7be6a9df6e6ea3d2e5c22a5d9c3...</td>\n",
       "      <td>0.000504</td>\n",
       "      <td>0.000142</td>\n",
       "    </tr>\n",
       "    <tr>\n",
       "      <th>3</th>\n",
       "      <td>00bfff98b9d0329f014c2eeac7ce47cd18b2bc6e10d608...</td>\n",
       "      <td>0.006815</td>\n",
       "      <td>0.000758</td>\n",
       "    </tr>\n",
       "    <tr>\n",
       "      <th>4</th>\n",
       "      <td>0d298f3638c43e915c119d4935e1ce8d168f81b5e3e8c1...</td>\n",
       "      <td>0.000194</td>\n",
       "      <td>0.000088</td>\n",
       "    </tr>\n",
       "  </tbody>\n",
       "</table>\n",
       "</div>"
      ],
      "text/plain": [
       "                                        user_id_hash  \\\n",
       "0  e469dfaed039ead9110165d9bc457acb11609ca34057dc...   \n",
       "1  afcc639a324b6c598ef83d360450afa011cb2dd1358bf9...   \n",
       "2  fd5a7cf211d08e3e00f7be6a9df6e6ea3d2e5c22a5d9c3...   \n",
       "3  00bfff98b9d0329f014c2eeac7ce47cd18b2bc6e10d608...   \n",
       "4  0d298f3638c43e915c119d4935e1ce8d168f81b5e3e8c1...   \n",
       "\n",
       "   user_purchase_binary_14_days  user_purchase_binary_7_days  \n",
       "0                      0.000271                     0.000090  \n",
       "1                      0.001026                     0.000139  \n",
       "2                      0.000504                     0.000142  \n",
       "3                      0.006815                     0.000758  \n",
       "4                      0.000194                     0.000088  "
      ]
     },
     "execution_count": 19,
     "metadata": {},
     "output_type": "execute_result"
    }
   ],
   "source": [
    "submission.head(5)"
   ]
  },
  {
   "cell_type": "code",
   "execution_count": 20,
   "metadata": {
    "ExecuteTime": {
     "end_time": "2019-02-16T02:03:32.546510Z",
     "start_time": "2019-02-16T02:03:32.504775Z"
    }
   },
   "outputs": [],
   "source": [
    "submission.fillna(0.002, inplace=True)"
   ]
  },
  {
   "cell_type": "code",
   "execution_count": 21,
   "metadata": {
    "ExecuteTime": {
     "end_time": "2019-02-16T02:03:34.506485Z",
     "start_time": "2019-02-16T02:03:32.548890Z"
    }
   },
   "outputs": [],
   "source": [
    "submission.to_csv('submission2.csv', index=False)"
   ]
  },
  {
   "cell_type": "markdown",
   "metadata": {},
   "source": [
    "# Features Importance"
   ]
  },
  {
   "cell_type": "code",
   "execution_count": 22,
   "metadata": {
    "ExecuteTime": {
     "end_time": "2019-02-16T02:07:35.274153Z",
     "start_time": "2019-02-16T02:07:35.270166Z"
    }
   },
   "outputs": [],
   "source": [
    "importance = rf_model.feature_importances_"
   ]
  },
  {
   "cell_type": "code",
   "execution_count": 23,
   "metadata": {
    "ExecuteTime": {
     "end_time": "2019-02-16T02:09:20.619489Z",
     "start_time": "2019-02-16T02:09:20.614921Z"
    }
   },
   "outputs": [
    {
     "name": "stdout",
     "output_type": "stream",
     "text": [
      "last_active: \t0.41751337972687946\n",
      "life_time_value: \t0.2218124052169821\n",
      "num_purchase: \t0.09457659725295062\n",
      "avg_purchase: \t0.08052729317126536\n",
      "num_event: \t0.07667720409905306\n",
      "num_session: \t0.04273161798313839\n",
      "event_per_session: \t0.038988030277003136\n",
      "receive_message: \t0.018665915405842965\n",
      "accept_message: \t0.008507556866884966\n"
     ]
    }
   ],
   "source": [
    "for ft, score in sorted(zip(df.columns[1:-1], importance), key=lambda x: x[1], reverse=True):\n",
    "    print(f\"{ft}: \\t{score}\")"
   ]
  },
  {
   "cell_type": "markdown",
   "metadata": {},
   "source": [
    "`last_active` is the most important feature in the model. Other features regarding the level of activeness of users - how much they often engage with the app are also very important with `num_session` ranking second and `num_event` ranking forth.\n",
    "\n",
    "Features related to user purchase behaviors are highly important, all of which rank only after `last_active`. It's interesting that `num_purchase` is not as important as `life_time_value` although we are predicting the binary outcome: whether an user will make a purchase or not.\n",
    "\n",
    "It is also interesting that how many messages are sent to the user is a more important feature than how responsive he or she is to those messages (`accept_message`). Maybe this is because we don't know exactly what 'Accept' is as defined by this app or whether this action is only relevant to only a few certain kinds of messages. "
   ]
  }
 ],
 "metadata": {
  "kernelspec": {
   "display_name": "Python 3",
   "language": "python",
   "name": "python3"
  },
  "language_info": {
   "codemirror_mode": {
    "name": "ipython",
    "version": 3
   },
   "file_extension": ".py",
   "mimetype": "text/x-python",
   "name": "python",
   "nbconvert_exporter": "python",
   "pygments_lexer": "ipython3",
   "version": "3.7.0"
  },
  "toc": {
   "base_numbering": 1,
   "nav_menu": {},
   "number_sections": true,
   "sideBar": true,
   "skip_h1_title": false,
   "title_cell": "Table of Contents",
   "title_sidebar": "Contents",
   "toc_cell": false,
   "toc_position": {},
   "toc_section_display": true,
   "toc_window_display": false
  }
 },
 "nbformat": 4,
 "nbformat_minor": 2
}
