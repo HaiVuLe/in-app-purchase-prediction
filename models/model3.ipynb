{
 "cells": [
  {
   "cell_type": "code",
   "execution_count": 1,
   "metadata": {
    "ExecuteTime": {
     "end_time": "2019-03-07T00:35:31.649934Z",
     "start_time": "2019-03-07T00:35:29.443788Z"
    }
   },
   "outputs": [
    {
     "name": "stderr",
     "output_type": "stream",
     "text": [
      "/anaconda3/lib/python3.7/site-packages/sklearn/ensemble/weight_boosting.py:29: DeprecationWarning: numpy.core.umath_tests is an internal NumPy module and should not be imported. It will be removed in a future NumPy release.\n",
      "  from numpy.core.umath_tests import inner1d\n"
     ]
    }
   ],
   "source": [
    "import feather\n",
    "import pandas as pd\n",
    "import numpy as np\n",
    "from sklearn.ensemble import RandomForestClassifier\n",
    "from sklearn.model_selection import train_test_split\n",
    "from sklearn.metrics import roc_auc_score"
   ]
  },
  {
   "cell_type": "markdown",
   "metadata": {},
   "source": [
    "# Defining helper functions"
   ]
  },
  {
   "cell_type": "code",
   "execution_count": 2,
   "metadata": {
    "ExecuteTime": {
     "end_time": "2019-03-07T00:35:32.632281Z",
     "start_time": "2019-03-07T00:35:32.627197Z"
    }
   },
   "outputs": [],
   "source": [
    "def load_data(fname, label):\n",
    "    \"\"\"Load features and labels file and join them together using user_id_hash\"\"\"\n",
    "    df = feather.read_dataframe(fname)\n",
    "    df['user_id_hash'] = df['user_id_hash'].astype('category')\n",
    "    labels = pd.read_csv('labels.csv', usecols=['user_id_hash', label])\n",
    "    df = df.merge(labels, how='left', on='user_id_hash')\n",
    "    df[label].fillna(0, inplace=True)\n",
    "    df = df.dropna(axis=0)\n",
    "    return df"
   ]
  },
  {
   "cell_type": "code",
   "execution_count": 3,
   "metadata": {
    "ExecuteTime": {
     "end_time": "2019-03-07T00:35:33.831047Z",
     "start_time": "2019-03-07T00:35:33.825256Z"
    }
   },
   "outputs": [],
   "source": [
    "def stratified_data_split(feature_columns:list, label_column:str):\n",
    "    \"\"\"Splitting train and test set using stratified sampling given that our data is highly skewed\"\"\"\n",
    "    return train_test_split(df[feature_columns],\n",
    "                            df[label_column], \n",
    "                            stratify=df[label_column], random_state=1)"
   ]
  },
  {
   "cell_type": "markdown",
   "metadata": {},
   "source": [
    "## For 14 days"
   ]
  },
  {
   "cell_type": "code",
   "execution_count": 4,
   "metadata": {
    "ExecuteTime": {
     "end_time": "2019-03-07T00:36:37.894855Z",
     "start_time": "2019-03-07T00:36:29.598022Z"
    }
   },
   "outputs": [],
   "source": [
    "df = load_data(fname='Data/features_before_14_v7.feather', label='label_14')\n",
    "\n",
    "X_train, X_val, y_train, y_val = stratified_data_split(feature_columns=df.columns[1:-1], \n",
    "                                                       label_column='label_14')"
   ]
  },
  {
   "cell_type": "code",
   "execution_count": 6,
   "metadata": {
    "ExecuteTime": {
     "end_time": "2019-03-07T00:50:46.292338Z",
     "start_time": "2019-03-07T00:43:49.873950Z"
    }
   },
   "outputs": [],
   "source": [
    "import xgboost as xgb\n",
    "xgb = xgb.XGBClassifier(n_estimators=100, max_depth=10, learning_rate=0.1, subsample=0.5)\n",
    "gbm = xgb.fit(X_train, y_train)"
   ]
  },
  {
   "cell_type": "code",
   "execution_count": 7,
   "metadata": {
    "ExecuteTime": {
     "end_time": "2019-03-07T00:50:51.598806Z",
     "start_time": "2019-03-07T00:50:46.294865Z"
    }
   },
   "outputs": [
    {
     "data": {
      "text/plain": [
       "0.9726315865072896"
      ]
     },
     "execution_count": 7,
     "metadata": {},
     "output_type": "execute_result"
    }
   ],
   "source": [
    "gbm_pred_train = gbm.predict_proba(X_train)\n",
    "gbm_pred_val = gbm.predict_proba(X_val)\n",
    "roc_auc_score(y_true=y_val, y_score=gbm_pred_val[:,1])"
   ]
  },
  {
   "cell_type": "code",
   "execution_count": 8,
   "metadata": {
    "ExecuteTime": {
     "end_time": "2019-03-07T00:51:02.761320Z",
     "start_time": "2019-03-07T00:51:01.463198Z"
    }
   },
   "outputs": [],
   "source": [
    "X_all = feather.read_dataframe('Data/features_v7.feather').set_index('user_id_hash')\n",
    "X_all = X_all[X_train.columns]"
   ]
  },
  {
   "cell_type": "code",
   "execution_count": 9,
   "metadata": {
    "ExecuteTime": {
     "end_time": "2019-03-07T00:51:09.875670Z",
     "start_time": "2019-03-07T00:51:07.283760Z"
    }
   },
   "outputs": [],
   "source": [
    "pred_all_14 = gbm.predict_proba(X_all)\n"
   ]
  },
  {
   "cell_type": "markdown",
   "metadata": {},
   "source": [
    "## For 7 days"
   ]
  },
  {
   "cell_type": "code",
   "execution_count": 13,
   "metadata": {
    "ExecuteTime": {
     "end_time": "2019-03-07T00:53:37.709857Z",
     "start_time": "2019-03-07T00:53:29.861128Z"
    }
   },
   "outputs": [],
   "source": [
    "df = load_data(fname='Data/features_before_7_v7.feather', label='label_7')\n",
    "\n",
    "X_train, X_val, y_train, y_val = stratified_data_split(feature_columns=df.columns[1:-1], \n",
    "                                                       label_column='label_7')"
   ]
  },
  {
   "cell_type": "code",
   "execution_count": 14,
   "metadata": {
    "ExecuteTime": {
     "end_time": "2019-03-07T01:01:08.044757Z",
     "start_time": "2019-03-07T00:53:37.712016Z"
    }
   },
   "outputs": [],
   "source": [
    "import xgboost as xgb\n",
    "xgb = xgb.XGBClassifier(n_estimators=100, max_depth=12, learning_rate=0.1, subsample=0.5, nthread=-1)\n",
    "gbm = xgb.fit(X_train, y_train)"
   ]
  },
  {
   "cell_type": "code",
   "execution_count": 15,
   "metadata": {
    "ExecuteTime": {
     "end_time": "2019-03-07T01:01:12.783603Z",
     "start_time": "2019-03-07T01:01:08.047389Z"
    },
    "scrolled": true
   },
   "outputs": [
    {
     "data": {
      "text/plain": [
       "0.9766617619222078"
      ]
     },
     "execution_count": 15,
     "metadata": {},
     "output_type": "execute_result"
    }
   ],
   "source": [
    "gbm_pred_train = gbm.predict_proba(X_train)\n",
    "gbm_pred_val = gbm.predict_proba(X_val)\n",
    "\n",
    "# validation AUC\n",
    "roc_auc_score(y_true=y_val, y_score=gbm_pred_val[:,1])"
   ]
  },
  {
   "cell_type": "code",
   "execution_count": 18,
   "metadata": {
    "ExecuteTime": {
     "end_time": "2019-03-07T01:01:17.714000Z",
     "start_time": "2019-03-07T01:01:17.418266Z"
    }
   },
   "outputs": [
    {
     "data": {
      "text/plain": [
       "0.9976292211015328"
      ]
     },
     "execution_count": 18,
     "metadata": {},
     "output_type": "execute_result"
    }
   ],
   "source": [
    "# training AUC\n",
    "roc_auc_score(y_true=y_train, y_score=gbm_pred_train[:,1])"
   ]
  },
  {
   "cell_type": "code",
   "execution_count": 16,
   "metadata": {
    "ExecuteTime": {
     "end_time": "2019-03-07T01:01:17.395901Z",
     "start_time": "2019-03-07T01:01:12.787252Z"
    }
   },
   "outputs": [],
   "source": [
    "X_all = feather.read_dataframe('Data/features_v7.feather').set_index('user_id_hash')\n",
    "X_all = X_all[X_train.columns]\n",
    "pred_all_7 = gbm.predict_proba(X_all)\n"
   ]
  },
  {
   "cell_type": "code",
   "execution_count": 19,
   "metadata": {
    "ExecuteTime": {
     "end_time": "2019-03-07T01:02:19.522217Z",
     "start_time": "2019-03-07T01:02:19.517294Z"
    }
   },
   "outputs": [],
   "source": [
    "X_all['user_purchase_binary_14_days'] = pred_all_14[:, 1]\n",
    "X_all['user_purchase_binary_7_days'] = pred_all_7[:, 1]"
   ]
  },
  {
   "cell_type": "code",
   "execution_count": 20,
   "metadata": {
    "ExecuteTime": {
     "end_time": "2019-03-07T01:02:24.294140Z",
     "start_time": "2019-03-07T01:02:24.291080Z"
    }
   },
   "outputs": [],
   "source": [
    "# for ft, score in sorted(zip(X_train.columns, gbm.feature_importances_), key=lambda x: x[1], reverse=True):\n",
    "#     print(ft, score)\n",
    "    "
   ]
  },
  {
   "cell_type": "code",
   "execution_count": 21,
   "metadata": {
    "ExecuteTime": {
     "end_time": "2019-03-07T01:02:25.735926Z",
     "start_time": "2019-03-07T01:02:25.418374Z"
    }
   },
   "outputs": [
    {
     "data": {
      "text/plain": [
       "<matplotlib.axes._subplots.AxesSubplot at 0x1a39303278>"
      ]
     },
     "execution_count": 21,
     "metadata": {},
     "output_type": "execute_result"
    },
    {
     "data": {
      "image/png": "[encoded data removed]",
      "text/plain": [
       "<Figure size 432x288 with 1 Axes>"
      ]
     },
     "metadata": {
      "needs_background": "light"
     },
     "output_type": "display_data"
    }
   ],
   "source": [
    "%matplotlib inline\n",
    "from xgboost import plot_importance\n",
    "plot_importance(gbm, ax=None, show_values=True, max_num_features=15)"
   ]
  },
  {
   "cell_type": "markdown",
   "metadata": {},
   "source": [
    "## Saving prediction"
   ]
  },
  {
   "cell_type": "code",
   "execution_count": 22,
   "metadata": {
    "ExecuteTime": {
     "end_time": "2019-03-07T01:02:35.751007Z",
     "start_time": "2019-03-07T01:02:33.097031Z"
    }
   },
   "outputs": [],
   "source": [
    "submission = pd.read_csv('sample_submission_2.csv', usecols=['user_id_hash'], index_col='user_id_hash')\n",
    "\n",
    "submission = submission.join(X_all[['user_purchase_binary_7_days', 'user_purchase_binary_14_days']], how='left')\n",
    "submission.fillna(0.0023675038, inplace=True)\n",
    "\n",
    "submission.to_csv('submission7.csv')"
   ]
  },
  {
   "cell_type": "code",
   "execution_count": null,
   "metadata": {},
   "outputs": [],
   "source": []
  }
 ],
 "metadata": {
  "kernelspec": {
   "display_name": "Python 3",
   "language": "python",
   "name": "python3"
  },
  "language_info": {
   "codemirror_mode": {
    "name": "ipython",
    "version": 3
   },
   "file_extension": ".py",
   "mimetype": "text/x-python",
   "name": "python",
   "nbconvert_exporter": "python",
   "pygments_lexer": "ipython3",
   "version": "3.7.3"
  },
  "toc": {
   "base_numbering": 1,
   "nav_menu": {},
   "number_sections": true,
   "sideBar": true,
   "skip_h1_title": false,
   "title_cell": "Table of Contents",
   "title_sidebar": "Contents",
   "toc_cell": false,
   "toc_position": {},
   "toc_section_display": true,
   "toc_window_display": true
  }
 },
 "nbformat": 4,
 "nbformat_minor": 2
}
